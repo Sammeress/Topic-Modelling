{
  "nbformat": 4,
  "nbformat_minor": 0,
  "metadata": {
    "colab": {
      "provenance": [],
      "collapsed_sections": [
        "S0BJKa8m-Lzl",
        "Gl7QCjUS96El"
      ]
    },
    "kernelspec": {
      "display_name": "Python 3",
      "name": "python3"
    }
  },
  "cells": [
    {
      "cell_type": "code",
      "metadata": {
        "colab": {
          "base_uri": "https://localhost:8080/"
        },
        "id": "8KqxN_SWOI5P",
        "outputId": "bec08cb9-c96e-450e-9003-2c99e9cc3815"
      },
      "source": [
        "from google.colab import drive\n",
        "drive.mount('/content/drive')"
      ],
      "execution_count": null,
      "outputs": [
        {
          "output_type": "stream",
          "text": [
            "Mounted at /content/drive\n"
          ],
          "name": "stdout"
        }
      ]
    },
    {
      "cell_type": "code",
      "metadata": {
        "id": "SJHPjEAoy6Ye"
      },
      "source": [
        "path = \"/content/drive/My Drive/prep_ab.csv\""
      ],
      "execution_count": null,
      "outputs": []
    },
    {
      "cell_type": "code",
      "metadata": {
        "id": "yB5m8040P5gR",
        "colab": {
          "base_uri": "https://localhost:8080/"
        },
        "outputId": "ef57e875-d72e-4978-907d-4e52d117bdf9"
      },
      "source": [
        "!pip install contractions\n",
        "!pip install pyLDAvis\n",
        "!pip install -U gensim\n",
        "\n",
        "import numpy as np\n",
        "import pandas as pd\n",
        "import matplotlib.pyplot as plt\n",
        "\n",
        "pd.set_option('mode.chained_assignment', None)\n",
        "\n",
        "import gensim\n",
        "import re, string\n",
        "import contractions\n",
        "from bs4 import BeautifulSoup\n",
        "from html import unescape\n",
        "\n",
        "import nltk\n",
        "nltk.download('punkt')\n",
        "nltk.download('stopwords')\n",
        "nltk.download('wordnet')\n",
        "from nltk.corpus import stopwords\n",
        "from nltk.corpus import wordnet as wn\n",
        "from nltk.tokenize import sent_tokenize, word_tokenize\n",
        "from nltk.stem import WordNetLemmatizer\n",
        "\n",
        "from nltk.util import ngrams\n",
        "\n",
        "import gensim\n",
        "from gensim.parsing.preprocessing import remove_stopwords\n",
        "from gensim import corpora\n",
        "from gensim.models import Phrases\n",
        "from gensim.models.phrases import Phraser\n",
        "import pyLDAvis.gensim_models\n",
        "import pyLDAvis\n",
        "\n",
        "from heapq import nlargest\n",
        "from collections import Counter\n",
        "from tqdm import tqdm\n",
        "import pickle"
      ],
      "execution_count": null,
      "outputs": [
        {
          "output_type": "stream",
          "text": [
            "Requirement already satisfied: contractions in /usr/local/lib/python3.7/dist-packages (0.0.52)\n",
            "Requirement already satisfied: textsearch>=0.0.21 in /usr/local/lib/python3.7/dist-packages (from contractions) (0.0.21)\n",
            "Requirement already satisfied: anyascii in /usr/local/lib/python3.7/dist-packages (from textsearch>=0.0.21->contractions) (0.2.0)\n",
            "Requirement already satisfied: pyahocorasick in /usr/local/lib/python3.7/dist-packages (from textsearch>=0.0.21->contractions) (1.4.2)\n",
            "Requirement already satisfied: pyLDAvis in /usr/local/lib/python3.7/dist-packages (3.3.1)\n",
            "Requirement already satisfied: joblib in /usr/local/lib/python3.7/dist-packages (from pyLDAvis) (1.0.1)\n",
            "Requirement already satisfied: jinja2 in /usr/local/lib/python3.7/dist-packages (from pyLDAvis) (2.11.3)\n",
            "Requirement already satisfied: setuptools in /usr/local/lib/python3.7/dist-packages (from pyLDAvis) (57.4.0)\n",
            "Requirement already satisfied: gensim in /usr/local/lib/python3.7/dist-packages (from pyLDAvis) (4.0.1)\n",
            "Requirement already satisfied: future in /usr/local/lib/python3.7/dist-packages (from pyLDAvis) (0.16.0)\n",
            "Requirement already satisfied: scikit-learn in /usr/local/lib/python3.7/dist-packages (from pyLDAvis) (0.22.2.post1)\n",
            "Requirement already satisfied: pandas>=1.2.0 in /usr/local/lib/python3.7/dist-packages (from pyLDAvis) (1.3.2)\n",
            "Requirement already satisfied: funcy in /usr/local/lib/python3.7/dist-packages (from pyLDAvis) (1.16)\n",
            "Requirement already satisfied: numexpr in /usr/local/lib/python3.7/dist-packages (from pyLDAvis) (2.7.3)\n",
            "Requirement already satisfied: sklearn in /usr/local/lib/python3.7/dist-packages (from pyLDAvis) (0.0)\n",
            "Requirement already satisfied: scipy in /usr/local/lib/python3.7/dist-packages (from pyLDAvis) (1.4.1)\n",
            "Requirement already satisfied: numpy>=1.20.0 in /usr/local/lib/python3.7/dist-packages (from pyLDAvis) (1.21.2)\n",
            "Requirement already satisfied: pytz>=2017.3 in /usr/local/lib/python3.7/dist-packages (from pandas>=1.2.0->pyLDAvis) (2018.9)\n",
            "Requirement already satisfied: python-dateutil>=2.7.3 in /usr/local/lib/python3.7/dist-packages (from pandas>=1.2.0->pyLDAvis) (2.8.2)\n",
            "Requirement already satisfied: six>=1.5 in /usr/local/lib/python3.7/dist-packages (from python-dateutil>=2.7.3->pandas>=1.2.0->pyLDAvis) (1.15.0)\n",
            "Requirement already satisfied: smart-open>=1.8.1 in /usr/local/lib/python3.7/dist-packages (from gensim->pyLDAvis) (5.1.0)\n",
            "Requirement already satisfied: MarkupSafe>=0.23 in /usr/local/lib/python3.7/dist-packages (from jinja2->pyLDAvis) (2.0.1)\n",
            "Requirement already satisfied: gensim in /usr/local/lib/python3.7/dist-packages (4.0.1)\n",
            "Requirement already satisfied: numpy>=1.11.3 in /usr/local/lib/python3.7/dist-packages (from gensim) (1.21.2)\n",
            "Requirement already satisfied: smart-open>=1.8.1 in /usr/local/lib/python3.7/dist-packages (from gensim) (5.1.0)\n",
            "Requirement already satisfied: scipy>=0.18.1 in /usr/local/lib/python3.7/dist-packages (from gensim) (1.4.1)\n",
            "[nltk_data] Downloading package punkt to /root/nltk_data...\n",
            "[nltk_data]   Package punkt is already up-to-date!\n",
            "[nltk_data] Downloading package stopwords to /root/nltk_data...\n",
            "[nltk_data]   Package stopwords is already up-to-date!\n",
            "[nltk_data] Downloading package wordnet to /root/nltk_data...\n",
            "[nltk_data]   Package wordnet is already up-to-date!\n"
          ],
          "name": "stdout"
        }
      ]
    },
    {
      "cell_type": "markdown",
      "metadata": {
        "id": "S0BJKa8m-Lzl"
      },
      "source": [
        "#### Text normalization functions"
      ]
    },
    {
      "cell_type": "code",
      "metadata": {
        "id": "hua0m_DCyf_w"
      },
      "source": [
        "lemmatizer = WordNetLemmatizer()\n",
        "table = str.maketrans(dict.fromkeys(string.punctuation))\n",
        "\n",
        "def remove_URL(text):\n",
        "    return re.sub(r\"https?://\\S+|www\\.\\S+|pic\\.twitter\\S+|bit.ly/\\S+\", \"\", text)\n",
        "\n",
        "def remove_html_chars(text):\n",
        "    soup = BeautifulSoup(unescape(text), 'lxml')\n",
        "    return soup.text\n",
        "\n",
        "def fix_contractions(text):\n",
        "    return contractions.fix(text).lower()\n",
        "\n",
        "def remove_mentions(text):\n",
        "    return \" \".join(re.sub(r\"(@[A-Za-z0-9]+)|([^0-9A-Za-z \\t])|(\\w+:\\/\\/\\S+)\", \"\", text).split())\n",
        "\n",
        "def remove_hashtags(text):\n",
        "    return re.sub(r\"#(\\w+)\", \" \", text)\n",
        "\n",
        "def remove_punctuations(text):\n",
        "    return text.translate(table)\n",
        "\n",
        "def remove_digits(text):\n",
        "    return re.sub(r\"^\\d+\\s|\\s\\d+\\s|\\s\\d+$\", \" \", text)\n",
        "\n",
        "def lemmatize_text(text):\n",
        "    return \" \".join([lemmatizer.lemmatize(word, pos='v') for word in text.split()])\n",
        ""
      ],
      "execution_count": null,
      "outputs": []
    },
    {
      "cell_type": "markdown",
      "metadata": {
        "id": "0xTGkclveM3x"
      },
      "source": [
        "Function to preprocess text in the passed column of the dataframe\n"
      ]
    },
    {
      "cell_type": "code",
      "metadata": {
        "id": "1XmLywfceLNV"
      },
      "source": [
        "def normalize_text(df, col):\n",
        "\n",
        "    print(\"Normalizing text and adding column 'processed_text'\")\n",
        "    df['processed_text'] = df[col]\n",
        "\n",
        "    # Converting to lower case\n",
        "    df['processed_text'] = df['processed_text'].str.lower()\n",
        "    # Removing \\n characters\n",
        "    df['processed_text'] = df['processed_text'].apply(lambda text: text.replace('\\n', ' '))\n",
        "    # Removing urls\n",
        "    df['processed_text'] = df['processed_text'].apply(lambda text: remove_URL(text))\n",
        "    # Removing HTML chars\n",
        "    df['processed_text'] = df['processed_text'].apply(lambda text: remove_html_chars(text))\n",
        "    # Fix contractions\n",
        "    df['processed_text'] = df['processed_text'].apply(lambda text: fix_contractions(text))\n",
        "    # Removing the mentions\n",
        "    df['processed_text'] = df['processed_text'].apply(lambda text: remove_mentions(text))\n",
        "    # Removing punctuations\n",
        "    df['processed_text'] = df['processed_text'].apply(lambda text: remove_punctuations(text))\n",
        "    # Removing the stopwords\n",
        "    df['processed_text'] = df['processed_text'].apply(lambda text: remove_stopwords(text))\n",
        "    # Remove the digits\n",
        "    df['processed_text'] = df['processed_text'].apply(lambda text: remove_digits(text))\n",
        "    # Lemmatization of text\n",
        "    df['processed_text'] = df['processed_text'].apply(lambda text: lemmatize_text(text))\n",
        "\n",
        "    print('DONE! \\n')"
      ],
      "execution_count": null,
      "outputs": []
    },
    {
      "cell_type": "code",
      "metadata": {
        "id": "mkWgbww6dnTM"
      },
      "source": [
        "def normalize_text_NER(df, col):\n",
        "\n",
        "    print(\"Normalizing text for NER and adding column 'processed_text_NER'\")\n",
        "    df['processed_text_NER'] = df[col]\n",
        "\n",
        "    # Converting to lower case\n",
        "    df['processed_text_NER'] = df['processed_text_NER'].str.lower()\n",
        "    # Removing \\n characters\n",
        "    df['processed_text_NER'] = df['processed_text_NER'].apply(lambda text: text.replace('\\n', ' '))\n",
        "    # Removing urls\n",
        "    df['processed_text_NER'] = df['processed_text_NER'].apply(lambda text: remove_URL(text))\n",
        "    # Removing HTML chars\n",
        "    df['processed_text_NER'] = df['processed_text_NER'].apply(lambda text: remove_html_chars(text))\n",
        "    # Fix contractions\n",
        "    df['processed_text_NER'] = df['processed_text_NER'].apply(lambda text: fix_contractions(text))\n",
        "    # Removing the mentions\n",
        "    df['processed_text_NER'] = df['processed_text_NER'].apply(lambda text: remove_mentions(text))\n",
        "    # Removing Hashtags\n",
        "    df['processed_text_NER'] = df['processed_text_NER'].apply(lambda text: remove_hashtags(text))\n",
        "    # Removing punctuations\n",
        "    df['processed_text_NER'] = df['processed_text_NER'].apply(lambda text: remove_punctuations(text))\n",
        "    # Remove the digits\n",
        "    df['processed_text_NER'] = df['processed_text_NER'].apply(lambda text: remove_digits(text))\n",
        "    # Lemmatization of text\n",
        "    df['processed_text_NER'] = df['processed_text_NER'].apply(lambda text: lemmatize_text(text))\n",
        "\n",
        "    df['processed_text_NER'] = df['processed_text_NER'].str.strip()\n",
        "\n",
        "    print('DONE! \\n')"
      ],
      "execution_count": null,
      "outputs": []
    },
    {
      "cell_type": "markdown",
      "metadata": {
        "id": "R-4TDQqG-CUX"
      },
      "source": [
        "### Processing tweets"
      ]
    },
    {
      "cell_type": "markdown",
      "metadata": {
        "id": "RZhrDuGg4v0Y"
      },
      "source": [
        "Original / old -"
      ]
    },
    {
      "cell_type": "code",
      "metadata": {
        "colab": {
          "base_uri": "https://localhost:8080/",
          "height": 238
        },
        "id": "XEHAWwkkP68f",
        "outputId": "971dd825-a260-4d4d-bc67-65ab246b1cd8"
      },
      "source": [
        "df = pd.read_csv(path + \"Dataset_JUN_14FEB.csv\")\n",
        "df = df[pd.isna(df.text)==False]\n",
        "df.reset_index(drop=True, inplace=True)\n",
        "df.tail()"
      ],
      "execution_count": null,
      "outputs": [
        {
          "output_type": "stream",
          "text": [
            "/usr/local/lib/python3.6/dist-packages/IPython/core/interactiveshell.py:2718: DtypeWarning: Columns (0,1,2,3,4) have mixed types.Specify dtype option on import or set low_memory=False.\n",
            "  interactivity=interactivity, compiler=compiler, result=result)\n"
          ],
          "name": "stderr"
        },
        {
          "output_type": "execute_result",
          "data": {
            "text/html": [
              "<div>\n",
              "<style scoped>\n",
              "    .dataframe tbody tr th:only-of-type {\n",
              "        vertical-align: middle;\n",
              "    }\n",
              "\n",
              "    .dataframe tbody tr th {\n",
              "        vertical-align: top;\n",
              "    }\n",
              "\n",
              "    .dataframe thead th {\n",
              "        text-align: right;\n",
              "    }\n",
              "</style>\n",
              "<table border=\"1\" class=\"dataframe\">\n",
              "  <thead>\n",
              "    <tr style=\"text-align: right;\">\n",
              "      <th></th>\n",
              "      <th>username</th>\n",
              "      <th>location</th>\n",
              "      <th>tweetcreatedts</th>\n",
              "      <th>text</th>\n",
              "      <th>Country</th>\n",
              "    </tr>\n",
              "  </thead>\n",
              "  <tbody>\n",
              "    <tr>\n",
              "      <th>1084739</th>\n",
              "      <td>DBean48</td>\n",
              "      <td>West Palm</td>\n",
              "      <td>2020-06-01 01:12:22+00:00</td>\n",
              "      <td>@JudicialWatch @realDonaldTrump You bet he was...</td>\n",
              "      <td>USA</td>\n",
              "    </tr>\n",
              "    <tr>\n",
              "      <th>1084740</th>\n",
              "      <td>TheSunsRay</td>\n",
              "      <td>Chestermere, Alberta</td>\n",
              "      <td>2020-06-01 01:08:23+00:00</td>\n",
              "      <td>Big Pharma is poison, they can vaccinate thems...</td>\n",
              "      <td>USA</td>\n",
              "    </tr>\n",
              "    <tr>\n",
              "      <th>1084741</th>\n",
              "      <td>Masc4FemFatale</td>\n",
              "      <td>New York, NY</td>\n",
              "      <td>2020-06-01 00:51:27+00:00</td>\n",
              "      <td>The way I see people partying and having bbqs ...</td>\n",
              "      <td>USA</td>\n",
              "    </tr>\n",
              "    <tr>\n",
              "      <th>1084742</th>\n",
              "      <td>ADNInfoDrive</td>\n",
              "      <td>NaN</td>\n",
              "      <td>2020-06-01 00:40:08+00:00</td>\n",
              "      <td>Para hindi malito sa ECQ, MECQ, GCQ, MGCQ at k...</td>\n",
              "      <td>India</td>\n",
              "    </tr>\n",
              "    <tr>\n",
              "      <th>1084743</th>\n",
              "      <td>bob_wray</td>\n",
              "      <td>Gtr Manchester</td>\n",
              "      <td>2020-06-01 00:39:12+00:00</td>\n",
              "      <td>Someone knows the truth about Covid19 I don’t ...</td>\n",
              "      <td>UK</td>\n",
              "    </tr>\n",
              "  </tbody>\n",
              "</table>\n",
              "</div>"
            ],
            "text/plain": [
              "               username  ... Country\n",
              "1084739         DBean48  ...     USA\n",
              "1084740      TheSunsRay  ...     USA\n",
              "1084741  Masc4FemFatale  ...     USA\n",
              "1084742    ADNInfoDrive  ...   India\n",
              "1084743        bob_wray  ...      UK\n",
              "\n",
              "[5 rows x 5 columns]"
            ]
          },
          "metadata": {
            "tags": []
          },
          "execution_count": 23
        }
      ]
    },
    {
      "cell_type": "code",
      "metadata": {
        "id": "wxd4lSMO4a5O"
      },
      "source": [
        "# Drop duplicates\n",
        "df.drop_duplicates(inplace=True)\n",
        "df.reset_index(drop=True, inplace=True)"
      ],
      "execution_count": null,
      "outputs": []
    },
    {
      "cell_type": "code",
      "metadata": {
        "id": "t12ZKFtk2RM5"
      },
      "source": [
        "# Keep texts greater than 1 word\n",
        "df = df[df['text'].apply(lambda txt: len(word_tokenize(txt)) > 1)]\n",
        "df.reset_index(drop=True, inplace=True)"
      ],
      "execution_count": null,
      "outputs": []
    },
    {
      "cell_type": "code",
      "metadata": {
        "id": "bU8KI6boP6lM",
        "colab": {
          "base_uri": "https://localhost:8080/"
        },
        "outputId": "54af42b0-1a3a-49e6-8a9b-17942397fa4a"
      },
      "source": [
        "normalize_text(df, \"text\")"
      ],
      "execution_count": null,
      "outputs": [
        {
          "output_type": "stream",
          "text": [
            "Normalizing text and adding column 'processed_text'\n",
            "DONE! \n",
            "\n"
          ],
          "name": "stdout"
        }
      ]
    },
    {
      "cell_type": "code",
      "metadata": {
        "colab": {
          "base_uri": "https://localhost:8080/"
        },
        "id": "wmizzZt2eZ87",
        "outputId": "b51dfb4f-50fc-4ded-e643-124dff96e0fb"
      },
      "source": [
        "normalize_text_NER(df, \"text\")"
      ],
      "execution_count": null,
      "outputs": [
        {
          "output_type": "stream",
          "text": [
            "Normalizing text for NER and adding column 'processed_text_NER'\n",
            "DONE! \n",
            "\n"
          ],
          "name": "stdout"
        }
      ]
    },
    {
      "cell_type": "code",
      "metadata": {
        "colab": {
          "base_uri": "https://localhost:8080/",
          "height": 204
        },
        "id": "N_mEhHQ6Hjmz",
        "outputId": "7f72dd0c-7ffd-471c-b7c7-e5633817dcdf"
      },
      "source": [
        "df.tail()"
      ],
      "execution_count": null,
      "outputs": [
        {
          "output_type": "execute_result",
          "data": {
            "text/html": [
              "<div>\n",
              "<style scoped>\n",
              "    .dataframe tbody tr th:only-of-type {\n",
              "        vertical-align: middle;\n",
              "    }\n",
              "\n",
              "    .dataframe tbody tr th {\n",
              "        vertical-align: top;\n",
              "    }\n",
              "\n",
              "    .dataframe thead th {\n",
              "        text-align: right;\n",
              "    }\n",
              "</style>\n",
              "<table border=\"1\" class=\"dataframe\">\n",
              "  <thead>\n",
              "    <tr style=\"text-align: right;\">\n",
              "      <th></th>\n",
              "      <th>username</th>\n",
              "      <th>location</th>\n",
              "      <th>tweetcreatedts</th>\n",
              "      <th>text</th>\n",
              "      <th>Country</th>\n",
              "      <th>processed_text</th>\n",
              "      <th>processed_text_NER</th>\n",
              "    </tr>\n",
              "  </thead>\n",
              "  <tbody>\n",
              "    <tr>\n",
              "      <th>986773</th>\n",
              "      <td>DBean48</td>\n",
              "      <td>West Palm</td>\n",
              "      <td>2020-06-01 01:12:22+00:00</td>\n",
              "      <td>@JudicialWatch @realDonaldTrump You bet he was...</td>\n",
              "      <td>USA</td>\n",
              "      <td>bet will doctor care big pharma try squash use...</td>\n",
              "      <td>you bet he be he be will to take under doctor ...</td>\n",
              "    </tr>\n",
              "    <tr>\n",
              "      <th>986774</th>\n",
              "      <td>TheSunsRay</td>\n",
              "      <td>Chestermere, Alberta</td>\n",
              "      <td>2020-06-01 01:08:23+00:00</td>\n",
              "      <td>Big Pharma is poison, they can vaccinate thems...</td>\n",
              "      <td>USA</td>\n",
              "      <td>big pharma poison vaccinate read mad fear wart...</td>\n",
              "      <td>big pharma be poison they can vaccinate themse...</td>\n",
              "    </tr>\n",
              "    <tr>\n",
              "      <th>986775</th>\n",
              "      <td>Masc4FemFatale</td>\n",
              "      <td>New York, NY</td>\n",
              "      <td>2020-06-01 00:51:27+00:00</td>\n",
              "      <td>The way I see people partying and having bbqs ...</td>\n",
              "      <td>USA</td>\n",
              "      <td>way people party have bbqs make think vaccine ...</td>\n",
              "      <td>the way i see people party and have bbqs make ...</td>\n",
              "    </tr>\n",
              "    <tr>\n",
              "      <th>986776</th>\n",
              "      <td>ADNInfoDrive</td>\n",
              "      <td>NaN</td>\n",
              "      <td>2020-06-01 00:40:08+00:00</td>\n",
              "      <td>Para hindi malito sa ECQ, MECQ, GCQ, MGCQ at k...</td>\n",
              "      <td>India</td>\n",
              "      <td>para hindi malito sa ecq mecq gcq mgcq kung an...</td>\n",
              "      <td>para hindi malito sa ecq mecq gcq mgcq at kung...</td>\n",
              "    </tr>\n",
              "    <tr>\n",
              "      <th>986777</th>\n",
              "      <td>bob_wray</td>\n",
              "      <td>Gtr Manchester</td>\n",
              "      <td>2020-06-01 00:39:12+00:00</td>\n",
              "      <td>Someone knows the truth about Covid19 I don’t ...</td>\n",
              "      <td>UK</td>\n",
              "      <td>know truth covid19 know search search vaccine ...</td>\n",
              "      <td>someone know the truth about covid19 i do not ...</td>\n",
              "    </tr>\n",
              "  </tbody>\n",
              "</table>\n",
              "</div>"
            ],
            "text/plain": [
              "              username  ...                                 processed_text_NER\n",
              "986773         DBean48  ...  you bet he be he be will to take under doctor ...\n",
              "986774      TheSunsRay  ...  big pharma be poison they can vaccinate themse...\n",
              "986775  Masc4FemFatale  ...  the way i see people party and have bbqs make ...\n",
              "986776    ADNInfoDrive  ...  para hindi malito sa ecq mecq gcq mgcq at kung...\n",
              "986777        bob_wray  ...  someone know the truth about covid19 i do not ...\n",
              "\n",
              "[5 rows x 7 columns]"
            ]
          },
          "metadata": {
            "tags": []
          },
          "execution_count": 28
        }
      ]
    },
    {
      "cell_type": "markdown",
      "metadata": {
        "id": "oeFS-HCVWfQB"
      },
      "source": [
        "#### Update Data / Append new\n",
        "Replace name of file"
      ]
    },
    {
      "cell_type": "code",
      "metadata": {
        "colab": {
          "base_uri": "https://localhost:8080/",
          "height": 204
        },
        "id": "Y4hRHZF9We-2",
        "outputId": "4dba2537-3919-44e2-c9cb-827b79cb7875"
      },
      "source": [
        "df = pd.read_csv(path + \"Brazil-missing-Feb-Mar.csv\")\n",
        "df = df[pd.isna(df.text)==False]\n",
        "df.reset_index(drop=True, inplace=True)\n",
        "df.tail()"
      ],
      "execution_count": null,
      "outputs": [
        {
          "output_type": "execute_result",
          "data": {
            "text/html": [
              "<div>\n",
              "<style scoped>\n",
              "    .dataframe tbody tr th:only-of-type {\n",
              "        vertical-align: middle;\n",
              "    }\n",
              "\n",
              "    .dataframe tbody tr th {\n",
              "        vertical-align: top;\n",
              "    }\n",
              "\n",
              "    .dataframe thead th {\n",
              "        text-align: right;\n",
              "    }\n",
              "</style>\n",
              "<table border=\"1\" class=\"dataframe\">\n",
              "  <thead>\n",
              "    <tr style=\"text-align: right;\">\n",
              "      <th></th>\n",
              "      <th>username</th>\n",
              "      <th>location</th>\n",
              "      <th>tweetcreatedts</th>\n",
              "      <th>text</th>\n",
              "      <th>Country</th>\n",
              "    </tr>\n",
              "  </thead>\n",
              "  <tbody>\n",
              "    <tr>\n",
              "      <th>132</th>\n",
              "      <td>luisa_braghieri</td>\n",
              "      <td>Capivari SP</td>\n",
              "      <td>2021-03-15 21:42:52+00:00</td>\n",
              "      <td>@BrainAblaze Which vaccine do you have with Ep...</td>\n",
              "      <td>Brazil</td>\n",
              "    </tr>\n",
              "    <tr>\n",
              "      <th>133</th>\n",
              "      <td>cgisaopaulo</td>\n",
              "      <td>Sao Paulo, Brazil</td>\n",
              "      <td>2021-03-15 15:41:22+00:00</td>\n",
              "      <td>#LargestVaccineDrive\\n\\nMore than 30 million #...</td>\n",
              "      <td>Brazil</td>\n",
              "    </tr>\n",
              "    <tr>\n",
              "      <th>134</th>\n",
              "      <td>AlbertoJabur1</td>\n",
              "      <td>NaN</td>\n",
              "      <td>2021-03-15 14:54:00+00:00</td>\n",
              "      <td>Fauci disse: \"The best way that we can avoid a...</td>\n",
              "      <td>Brazil</td>\n",
              "    </tr>\n",
              "    <tr>\n",
              "      <th>135</th>\n",
              "      <td>luisa_braghieri</td>\n",
              "      <td>Capivari SP</td>\n",
              "      <td>2021-03-15 03:53:46+00:00</td>\n",
              "      <td>What vaccine are you getting? my neurologist d...</td>\n",
              "      <td>Brazil</td>\n",
              "    </tr>\n",
              "    <tr>\n",
              "      <th>136</th>\n",
              "      <td>Sylvana404</td>\n",
              "      <td>Piriapolis, Uruguay</td>\n",
              "      <td>2021-03-15 03:40:59+00:00</td>\n",
              "      <td>Benz.. my soon to be adopted puppy... picking ...</td>\n",
              "      <td>Brazil</td>\n",
              "    </tr>\n",
              "  </tbody>\n",
              "</table>\n",
              "</div>"
            ],
            "text/plain": [
              "            username  ... Country\n",
              "132  luisa_braghieri  ...  Brazil\n",
              "133      cgisaopaulo  ...  Brazil\n",
              "134    AlbertoJabur1  ...  Brazil\n",
              "135  luisa_braghieri  ...  Brazil\n",
              "136       Sylvana404  ...  Brazil\n",
              "\n",
              "[5 rows x 5 columns]"
            ]
          },
          "metadata": {
            "tags": []
          },
          "execution_count": 6
        }
      ]
    },
    {
      "cell_type": "code",
      "metadata": {
        "id": "ONFTDB2MWe94"
      },
      "source": [
        "# Drop duplicates\n",
        "df.drop_duplicates(inplace=True)\n",
        "df.reset_index(drop=True, inplace=True)\n",
        "\n",
        "# Keep texts greater than 1 word\n",
        "df = df[df['text'].apply(lambda txt: len(word_tokenize(txt)) > 1)]\n",
        "df.reset_index(drop=True, inplace=True)"
      ],
      "execution_count": null,
      "outputs": []
    },
    {
      "cell_type": "code",
      "metadata": {
        "colab": {
          "base_uri": "https://localhost:8080/"
        },
        "id": "aPZorNzyWe5J",
        "outputId": "d07e3664-fa31-41d7-83d9-d61ad9ba9f79"
      },
      "source": [
        "df.Country.value_counts()"
      ],
      "execution_count": null,
      "outputs": [
        {
          "output_type": "execute_result",
          "data": {
            "text/plain": [
              "Brazil    137\n",
              "Name: Country, dtype: int64"
            ]
          },
          "metadata": {
            "tags": []
          },
          "execution_count": 9
        }
      ]
    },
    {
      "cell_type": "code",
      "metadata": {
        "colab": {
          "base_uri": "https://localhost:8080/"
        },
        "id": "114Tg_lvWe4E",
        "outputId": "7616fbea-77d2-498b-c34d-9feb5ccdf248"
      },
      "source": [
        "normalize_text(df, \"text\")\n",
        "\n",
        "normalize_text_NER(df, \"text\")"
      ],
      "execution_count": null,
      "outputs": [
        {
          "output_type": "stream",
          "text": [
            "Normalizing text and adding column 'processed_text'\n",
            "DONE! \n",
            "\n",
            "Normalizing text for NER and adding column 'processed_text_NER'\n",
            "DONE! \n",
            "\n"
          ],
          "name": "stdout"
        }
      ]
    },
    {
      "cell_type": "code",
      "metadata": {
        "colab": {
          "base_uri": "https://localhost:8080/"
        },
        "id": "F9NFE174dljz",
        "outputId": "52e5096a-af47-4f14-e716-44b5c1f14b93"
      },
      "source": [
        "print(min(df.tweetcreatedts))\n",
        "print(max(df.tweetcreatedts))"
      ],
      "execution_count": null,
      "outputs": [
        {
          "output_type": "stream",
          "text": [
            "2021-02-15 00:17:00+00:00\n",
            "2021-03-22 15:58:46+00:00\n"
          ],
          "name": "stdout"
        }
      ]
    },
    {
      "cell_type": "code",
      "metadata": {
        "id": "d7fQuVp9blXn"
      },
      "source": [
        "old_df = pd.read_csv(path + \"tweets_processed.csv\")\n",
        "new_df = old_df.append(df, ignore_index=True)\n",
        "new_df.drop_duplicates(subset=[\"username\",\"tweetcreatedts\",\"text\"], ignore_index=True, inplace=True)"
      ],
      "execution_count": null,
      "outputs": []
    },
    {
      "cell_type": "markdown",
      "metadata": {
        "id": "40IIaUK0YkfQ"
      },
      "source": [
        "Save new dataframe"
      ]
    },
    {
      "cell_type": "code",
      "metadata": {
        "colab": {
          "base_uri": "https://localhost:8080/",
          "height": 419
        },
        "id": "qfV2a0FzbamB",
        "outputId": "d6f028bc-331e-4ade-858c-530a4923edcb"
      },
      "source": [
        "new_df"
      ],
      "execution_count": null,
      "outputs": [
        {
          "output_type": "execute_result",
          "data": {
            "text/html": [
              "<div>\n",
              "<style scoped>\n",
              "    .dataframe tbody tr th:only-of-type {\n",
              "        vertical-align: middle;\n",
              "    }\n",
              "\n",
              "    .dataframe tbody tr th {\n",
              "        vertical-align: top;\n",
              "    }\n",
              "\n",
              "    .dataframe thead th {\n",
              "        text-align: right;\n",
              "    }\n",
              "</style>\n",
              "<table border=\"1\" class=\"dataframe\">\n",
              "  <thead>\n",
              "    <tr style=\"text-align: right;\">\n",
              "      <th></th>\n",
              "      <th>username</th>\n",
              "      <th>location</th>\n",
              "      <th>tweetcreatedts</th>\n",
              "      <th>text</th>\n",
              "      <th>Country</th>\n",
              "      <th>processed_text</th>\n",
              "      <th>processed_text_NER</th>\n",
              "    </tr>\n",
              "  </thead>\n",
              "  <tbody>\n",
              "    <tr>\n",
              "      <th>0</th>\n",
              "      <td>Glen_Maney</td>\n",
              "      <td>London</td>\n",
              "      <td>2021-02-14 23:59:59+00:00</td>\n",
              "      <td>If you don't agree, don't sign. No need to tel...</td>\n",
              "      <td>UK</td>\n",
              "      <td>agree sign need tell agree feel free sign rt p...</td>\n",
              "      <td>if you do not agree do not sign no need to tel...</td>\n",
              "    </tr>\n",
              "    <tr>\n",
              "      <th>1</th>\n",
              "      <td>edinburgh1965</td>\n",
              "      <td>Scotland, United Kingdom</td>\n",
              "      <td>2021-02-14 23:59:58+00:00</td>\n",
              "      <td>@JuliaHB1 @naomirwolf So why do they “pretend ...</td>\n",
              "      <td>UK</td>\n",
              "      <td>pretend vaccine celebs obvious actually get ja...</td>\n",
              "      <td>so why do they pretend to give this vaccine to...</td>\n",
              "    </tr>\n",
              "    <tr>\n",
              "      <th>2</th>\n",
              "      <td>AndrewCrystall</td>\n",
              "      <td>London, London</td>\n",
              "      <td>2021-02-14 23:59:56+00:00</td>\n",
              "      <td>@mikekatz Yes, your ignoring your shorting Lon...</td>\n",
              "      <td>UK</td>\n",
              "      <td>yes ignore short london vaccine excuse socalle...</td>\n",
              "      <td>yes your ignore your short london of vaccine a...</td>\n",
              "    </tr>\n",
              "    <tr>\n",
              "      <th>3</th>\n",
              "      <td>tmj_mgm_pharm</td>\n",
              "      <td>Montgomery, AL</td>\n",
              "      <td>2021-02-14 23:59:52+00:00</td>\n",
              "      <td>Want to work at CVS Health? We're hiring in Tr...</td>\n",
              "      <td>USA</td>\n",
              "      <td>want work cvs health hire troy al click link b...</td>\n",
              "      <td>want to work at cvs health we be hire in troy ...</td>\n",
              "    </tr>\n",
              "    <tr>\n",
              "      <th>4</th>\n",
              "      <td>MarilenaMelas</td>\n",
              "      <td>Columbus, OH</td>\n",
              "      <td>2021-02-14 23:59:50+00:00</td>\n",
              "      <td>Love yourself and others on this #ValentinesDa...</td>\n",
              "      <td>USA</td>\n",
              "      <td>love valentinesday lead example hours 2nd dose...</td>\n",
              "      <td>love yourself and others on this valentinesday...</td>\n",
              "    </tr>\n",
              "    <tr>\n",
              "      <th>...</th>\n",
              "      <td>...</td>\n",
              "      <td>...</td>\n",
              "      <td>...</td>\n",
              "      <td>...</td>\n",
              "      <td>...</td>\n",
              "      <td>...</td>\n",
              "      <td>...</td>\n",
              "    </tr>\n",
              "    <tr>\n",
              "      <th>1865779</th>\n",
              "      <td>luisa_braghieri</td>\n",
              "      <td>Capivari SP</td>\n",
              "      <td>2021-03-15 21:42:52+00:00</td>\n",
              "      <td>@BrainAblaze Which vaccine do you have with Ep...</td>\n",
              "      <td>Brazil</td>\n",
              "      <td>vaccine epilepsy take</td>\n",
              "      <td>which vaccine do you have with epilepsy take i...</td>\n",
              "    </tr>\n",
              "    <tr>\n",
              "      <th>1865780</th>\n",
              "      <td>cgisaopaulo</td>\n",
              "      <td>Sao Paulo, Brazil</td>\n",
              "      <td>2021-03-15 15:41:22+00:00</td>\n",
              "      <td>#LargestVaccineDrive\\n\\nMore than 30 million #...</td>\n",
              "      <td>Brazil</td>\n",
              "      <td>largestvaccinedrive million covid19 vaccine do...</td>\n",
              "      <td>largestvaccinedrive more than million covid19 ...</td>\n",
              "    </tr>\n",
              "    <tr>\n",
              "      <th>1865781</th>\n",
              "      <td>AlbertoJabur1</td>\n",
              "      <td>NaN</td>\n",
              "      <td>2021-03-15 14:54:00+00:00</td>\n",
              "      <td>Fauci disse: \"The best way that we can avoid a...</td>\n",
              "      <td>Brazil</td>\n",
              "      <td>fauci disse best way avoid threat variants thi...</td>\n",
              "      <td>fauci disse the best way that we can avoid any...</td>\n",
              "    </tr>\n",
              "    <tr>\n",
              "      <th>1865782</th>\n",
              "      <td>luisa_braghieri</td>\n",
              "      <td>Capivari SP</td>\n",
              "      <td>2021-03-15 03:53:46+00:00</td>\n",
              "      <td>What vaccine are you getting? my neurologist d...</td>\n",
              "      <td>Brazil</td>\n",
              "      <td>vaccine get neurologist allow refractory epile...</td>\n",
              "      <td>what vaccine be you get my neurologist do not ...</td>\n",
              "    </tr>\n",
              "    <tr>\n",
              "      <th>1865783</th>\n",
              "      <td>Sylvana404</td>\n",
              "      <td>Piriapolis, Uruguay</td>\n",
              "      <td>2021-03-15 03:40:59+00:00</td>\n",
              "      <td>Benz.. my soon to be adopted puppy... picking ...</td>\n",
              "      <td>Brazil</td>\n",
              "      <td>benz soon adopt puppy pick thursday vaccinatio...</td>\n",
              "      <td>benz my soon to be adopt puppy pick him up on ...</td>\n",
              "    </tr>\n",
              "  </tbody>\n",
              "</table>\n",
              "<p>1865784 rows × 7 columns</p>\n",
              "</div>"
            ],
            "text/plain": [
              "                username  ...                                 processed_text_NER\n",
              "0             Glen_Maney  ...  if you do not agree do not sign no need to tel...\n",
              "1          edinburgh1965  ...  so why do they pretend to give this vaccine to...\n",
              "2         AndrewCrystall  ...  yes your ignore your short london of vaccine a...\n",
              "3          tmj_mgm_pharm  ...  want to work at cvs health we be hire in troy ...\n",
              "4          MarilenaMelas  ...  love yourself and others on this valentinesday...\n",
              "...                  ...  ...                                                ...\n",
              "1865779  luisa_braghieri  ...  which vaccine do you have with epilepsy take i...\n",
              "1865780      cgisaopaulo  ...  largestvaccinedrive more than million covid19 ...\n",
              "1865781    AlbertoJabur1  ...  fauci disse the best way that we can avoid any...\n",
              "1865782  luisa_braghieri  ...  what vaccine be you get my neurologist do not ...\n",
              "1865783       Sylvana404  ...  benz my soon to be adopt puppy pick him up on ...\n",
              "\n",
              "[1865784 rows x 7 columns]"
            ]
          },
          "metadata": {
            "tags": []
          },
          "execution_count": 13
        }
      ]
    },
    {
      "cell_type": "code",
      "metadata": {
        "id": "E5w14uuIRiSc"
      },
      "source": [
        "new_df.to_csv(path + \"tweets_processed.csv\", index=False)"
      ],
      "execution_count": null,
      "outputs": []
    },
    {
      "cell_type": "code",
      "metadata": {
        "id": "Atfyvb44nzE5"
      },
      "source": [
        "df = new_df[new_df.Country.isin([\"USA\",\"UK\",\"India\",\"Brazil\",\"Australia\"])]\n",
        "df.reset_index(drop=True,inplace=True)\n",
        "df.Country.value_counts()\n",
        "df.to_pickle(path+'empath_df_customized.pkl')"
      ],
      "execution_count": null,
      "outputs": []
    },
    {
      "cell_type": "markdown",
      "metadata": {
        "id": "RlCpN6CEnuoG"
      },
      "source": [
        "### Save for 5 required countries"
      ]
    },
    {
      "cell_type": "code",
      "metadata": {
        "id": "A1jMZJ26nuCq"
      },
      "source": [],
      "execution_count": null,
      "outputs": []
    },
    {
      "cell_type": "markdown",
      "metadata": {
        "id": "bmKSpyppY3eK"
      },
      "source": [
        "## Topic Modeling"
      ]
    },
    {
      "cell_type": "markdown",
      "metadata": {
        "id": "Gl7QCjUS96El"
      },
      "source": [
        "### Read processed dataframe"
      ]
    },
    {
      "cell_type": "code",
      "metadata": {
        "id": "qoJfPwvBR6h3",
        "colab": {
          "base_uri": "https://localhost:8080/",
          "height": 419
        },
        "outputId": "30ccd734-98e3-4326-d298-5aaec574c1ec"
      },
      "source": [
        "df = pd.read_csv(path + \"tweets_processed.csv\")\n",
        "df"
      ],
      "execution_count": null,
      "outputs": [
        {
          "output_type": "execute_result",
          "data": {
            "text/html": [
              "<div>\n",
              "<style scoped>\n",
              "    .dataframe tbody tr th:only-of-type {\n",
              "        vertical-align: middle;\n",
              "    }\n",
              "\n",
              "    .dataframe tbody tr th {\n",
              "        vertical-align: top;\n",
              "    }\n",
              "\n",
              "    .dataframe thead th {\n",
              "        text-align: right;\n",
              "    }\n",
              "</style>\n",
              "<table border=\"1\" class=\"dataframe\">\n",
              "  <thead>\n",
              "    <tr style=\"text-align: right;\">\n",
              "      <th></th>\n",
              "      <th>username</th>\n",
              "      <th>location</th>\n",
              "      <th>tweetcreatedts</th>\n",
              "      <th>text</th>\n",
              "      <th>Country</th>\n",
              "      <th>processed_text</th>\n",
              "    </tr>\n",
              "  </thead>\n",
              "  <tbody>\n",
              "    <tr>\n",
              "      <th>0</th>\n",
              "      <td>julianexcalibur</td>\n",
              "      <td>new york city</td>\n",
              "      <td>2021-01-25 23:59:57+00:00</td>\n",
              "      <td>@FibbyGibby i will be getting the vaccine so i...</td>\n",
              "      <td>USA</td>\n",
              "      <td>get vaccine problem wirh</td>\n",
              "    </tr>\n",
              "    <tr>\n",
              "      <th>1</th>\n",
              "      <td>e_preese</td>\n",
              "      <td>Minnesota, USA</td>\n",
              "      <td>2021-01-25 23:59:57+00:00</td>\n",
              "      <td>The world’s 10 richest billionaires could pay ...</td>\n",
              "      <td>USA</td>\n",
              "      <td>worlds richest billionaires pay world vaccinat...</td>\n",
              "    </tr>\n",
              "    <tr>\n",
              "      <th>2</th>\n",
              "      <td>MediaGirlOttawa</td>\n",
              "      <td>Ottawa, Canada</td>\n",
              "      <td>2021-01-25 23:59:56+00:00</td>\n",
              "      <td>@jonpole Hopefully they didn’t get vaccinated.</td>\n",
              "      <td>USA</td>\n",
              "      <td>hopefully vaccinate</td>\n",
              "    </tr>\n",
              "    <tr>\n",
              "      <th>3</th>\n",
              "      <td>JeanneMcNichol4</td>\n",
              "      <td>Washington, USA</td>\n",
              "      <td>2021-01-25 23:59:56+00:00</td>\n",
              "      <td>@JackPosobiec Went to the doctor today couldn’...</td>\n",
              "      <td>USA</td>\n",
              "      <td>go doctor today vaccine young tho caregiver yr...</td>\n",
              "    </tr>\n",
              "    <tr>\n",
              "      <th>4</th>\n",
              "      <td>SteveB231</td>\n",
              "      <td>Saint Charles, IL</td>\n",
              "      <td>2021-01-25 23:59:56+00:00</td>\n",
              "      <td>It will be very interesting to see where thing...</td>\n",
              "      <td>USA</td>\n",
              "      <td>interest things stand month play vaccine soon</td>\n",
              "    </tr>\n",
              "    <tr>\n",
              "      <th>...</th>\n",
              "      <td>...</td>\n",
              "      <td>...</td>\n",
              "      <td>...</td>\n",
              "      <td>...</td>\n",
              "      <td>...</td>\n",
              "      <td>...</td>\n",
              "    </tr>\n",
              "    <tr>\n",
              "      <th>842295</th>\n",
              "      <td>DBean48</td>\n",
              "      <td>West Palm</td>\n",
              "      <td>2020-06-01 01:12:22+00:00</td>\n",
              "      <td>@JudicialWatch @realDonaldTrump You bet he was...</td>\n",
              "      <td>USA</td>\n",
              "      <td>bet will doctor care big pharma try squash use...</td>\n",
              "    </tr>\n",
              "    <tr>\n",
              "      <th>842296</th>\n",
              "      <td>TheSunsRay</td>\n",
              "      <td>Chestermere, Alberta</td>\n",
              "      <td>2020-06-01 01:08:23+00:00</td>\n",
              "      <td>Big Pharma is poison, they can vaccinate thems...</td>\n",
              "      <td>USA</td>\n",
              "      <td>big pharma poison vaccinate read mad fear wart...</td>\n",
              "    </tr>\n",
              "    <tr>\n",
              "      <th>842297</th>\n",
              "      <td>Masc4FemFatale</td>\n",
              "      <td>New York, NY</td>\n",
              "      <td>2020-06-01 00:51:27+00:00</td>\n",
              "      <td>The way I see people partying and having bbqs ...</td>\n",
              "      <td>USA</td>\n",
              "      <td>way people party have bbqs make think vaccine ...</td>\n",
              "    </tr>\n",
              "    <tr>\n",
              "      <th>842298</th>\n",
              "      <td>ADNInfoDrive</td>\n",
              "      <td>NaN</td>\n",
              "      <td>2020-06-01 00:40:08+00:00</td>\n",
              "      <td>Para hindi malito sa ECQ, MECQ, GCQ, MGCQ at k...</td>\n",
              "      <td>India</td>\n",
              "      <td>para hindi malito sa ecq mecq gcq mgcq kung an...</td>\n",
              "    </tr>\n",
              "    <tr>\n",
              "      <th>842299</th>\n",
              "      <td>bob_wray</td>\n",
              "      <td>Gtr Manchester</td>\n",
              "      <td>2020-06-01 00:39:12+00:00</td>\n",
              "      <td>Someone knows the truth about Covid19 I don’t ...</td>\n",
              "      <td>UK</td>\n",
              "      <td>know truth covid19 know search search vaccine ...</td>\n",
              "    </tr>\n",
              "  </tbody>\n",
              "</table>\n",
              "<p>842300 rows × 6 columns</p>\n",
              "</div>"
            ],
            "text/plain": [
              "               username  ...                                     processed_text\n",
              "0       julianexcalibur  ...                           get vaccine problem wirh\n",
              "1              e_preese  ...  worlds richest billionaires pay world vaccinat...\n",
              "2       MediaGirlOttawa  ...                                hopefully vaccinate\n",
              "3       JeanneMcNichol4  ...  go doctor today vaccine young tho caregiver yr...\n",
              "4             SteveB231  ...      interest things stand month play vaccine soon\n",
              "...                 ...  ...                                                ...\n",
              "842295          DBean48  ...  bet will doctor care big pharma try squash use...\n",
              "842296       TheSunsRay  ...  big pharma poison vaccinate read mad fear wart...\n",
              "842297   Masc4FemFatale  ...  way people party have bbqs make think vaccine ...\n",
              "842298     ADNInfoDrive  ...  para hindi malito sa ecq mecq gcq mgcq kung an...\n",
              "842299         bob_wray  ...  know truth covid19 know search search vaccine ...\n",
              "\n",
              "[842300 rows x 6 columns]"
            ]
          },
          "metadata": {
            "tags": []
          },
          "execution_count": 4
        }
      ]
    },
    {
      "cell_type": "code",
      "metadata": {
        "id": "SWW-rin7T733"
      },
      "source": [
        "# Remove columns with NaN processed text\n",
        "df = df[pd.isna(df.processed_text)==False]\n",
        "df.reset_index(drop=True, inplace=True)"
      ],
      "execution_count": null,
      "outputs": []
    },
    {
      "cell_type": "code",
      "metadata": {
        "colab": {
          "base_uri": "https://localhost:8080/"
        },
        "id": "CAtMTSYPP67t",
        "outputId": "225ba202-aed3-4807-ce92-a8dd7b0f94e1"
      },
      "source": [
        "df.Country.value_counts()"
      ],
      "execution_count": null,
      "outputs": [
        {
          "output_type": "execute_result",
          "data": {
            "text/plain": [
              "USA          506088\n",
              "UK           232624\n",
              "India         70394\n",
              "Australia     15686\n",
              "Brazil         7708\n",
              "Germany        7038\n",
              "Italy          2498\n",
              "Russia          183\n",
              "Name: Country, dtype: int64"
            ]
          },
          "metadata": {
            "tags": []
          },
          "execution_count": 6
        }
      ]
    },
    {
      "cell_type": "code",
      "metadata": {
        "colab": {
          "base_uri": "https://localhost:8080/"
        },
        "id": "Ft-YlPeVAle0",
        "outputId": "57393619-3188-4415-9ec0-ee5030e2e68a"
      },
      "source": [
        "# Number of unique tokens\n",
        "all_texts = list(df.processed_text)\n",
        "items = Counter(\" \".join(all_texts).split(\" \")).items()\n",
        "len(items)"
      ],
      "execution_count": null,
      "outputs": [
        {
          "output_type": "execute_result",
          "data": {
            "text/plain": [
              "238252"
            ]
          },
          "metadata": {
            "tags": []
          },
          "execution_count": 28
        }
      ]
    },
    {
      "cell_type": "markdown",
      "metadata": {
        "id": "oRxDKKqTY2d8"
      },
      "source": [
        "### Tokenization\n"
      ]
    },
    {
      "cell_type": "code",
      "metadata": {
        "id": "bsciNkpm05Ig"
      },
      "source": [
        "df = pd.read_csv(path)"
      ],
      "execution_count": null,
      "outputs": []
    },
    {
      "cell_type": "code",
      "metadata": {
        "colab": {
          "base_uri": "https://localhost:8080/",
          "height": 417
        },
        "id": "QU-vBGOL1MXA",
        "outputId": "4f8573d4-67db-4104-b862-90218f7adabb"
      },
      "source": [
        "df"
      ],
      "execution_count": null,
      "outputs": [
        {
          "output_type": "execute_result",
          "data": {
            "text/html": [
              "<div>\n",
              "<style scoped>\n",
              "    .dataframe tbody tr th:only-of-type {\n",
              "        vertical-align: middle;\n",
              "    }\n",
              "\n",
              "    .dataframe tbody tr th {\n",
              "        vertical-align: top;\n",
              "    }\n",
              "\n",
              "    .dataframe thead th {\n",
              "        text-align: right;\n",
              "    }\n",
              "</style>\n",
              "<table border=\"1\" class=\"dataframe\">\n",
              "  <thead>\n",
              "    <tr style=\"text-align: right;\">\n",
              "      <th></th>\n",
              "      <th>Abstract</th>\n",
              "    </tr>\n",
              "  </thead>\n",
              "  <tbody>\n",
              "    <tr>\n",
              "      <th>0</th>\n",
              "      <td>covid 19 affects multiple vital organs leads d...</td>\n",
              "    </tr>\n",
              "    <tr>\n",
              "      <th>1</th>\n",
              "      <td>concomitantly first pandemic wave covid19 unex...</td>\n",
              "    </tr>\n",
              "    <tr>\n",
              "      <th>2</th>\n",
              "      <td>workshop two phases phase 1 consisted introduc...</td>\n",
              "    </tr>\n",
              "    <tr>\n",
              "      <th>3</th>\n",
              "      <td>dataset part outputs research project virginia...</td>\n",
              "    </tr>\n",
              "    <tr>\n",
              "      <th>4</th>\n",
              "      <td>raw data study comparing vitro cytokine oxidat...</td>\n",
              "    </tr>\n",
              "    <tr>\n",
              "      <th>...</th>\n",
              "      <td>...</td>\n",
              "    </tr>\n",
              "    <tr>\n",
              "      <th>7866</th>\n",
              "      <td>seasonal water table depth measurements collec...</td>\n",
              "    </tr>\n",
              "    <tr>\n",
              "      <th>7867</th>\n",
              "      <td>datos de casos en la pandemia de covid 19 en per</td>\n",
              "    </tr>\n",
              "    <tr>\n",
              "      <th>7868</th>\n",
              "      <td>survey wp1 household covid 19 ucc ipsos study ...</td>\n",
              "    </tr>\n",
              "    <tr>\n",
              "      <th>7869</th>\n",
              "      <td>paper projects aggregate populations six pacif...</td>\n",
              "    </tr>\n",
              "    <tr>\n",
              "      <th>7870</th>\n",
              "      <td>seasonal soil moisture measurements collected ...</td>\n",
              "    </tr>\n",
              "  </tbody>\n",
              "</table>\n",
              "<p>7871 rows × 1 columns</p>\n",
              "</div>"
            ],
            "text/plain": [
              "                                               Abstract\n",
              "0     covid 19 affects multiple vital organs leads d...\n",
              "1     concomitantly first pandemic wave covid19 unex...\n",
              "2     workshop two phases phase 1 consisted introduc...\n",
              "3     dataset part outputs research project virginia...\n",
              "4     raw data study comparing vitro cytokine oxidat...\n",
              "...                                                 ...\n",
              "7866  seasonal water table depth measurements collec...\n",
              "7867   datos de casos en la pandemia de covid 19 en per\n",
              "7868  survey wp1 household covid 19 ucc ipsos study ...\n",
              "7869  paper projects aggregate populations six pacif...\n",
              "7870  seasonal soil moisture measurements collected ...\n",
              "\n",
              "[7871 rows x 1 columns]"
            ]
          },
          "metadata": {
            "tags": []
          },
          "execution_count": 7
        }
      ]
    },
    {
      "cell_type": "code",
      "metadata": {
        "id": "_D75dL8m4L49"
      },
      "source": [
        "df.dropna(subset = [\"Abstract\"], inplace=True)"
      ],
      "execution_count": null,
      "outputs": []
    },
    {
      "cell_type": "code",
      "metadata": {
        "id": "Bbs6-DKz4Syo"
      },
      "source": [
        "df.reset_index(inplace = True)"
      ],
      "execution_count": null,
      "outputs": []
    },
    {
      "cell_type": "code",
      "metadata": {
        "colab": {
          "base_uri": "https://localhost:8080/",
          "height": 52
        },
        "id": "wz974hc231hQ",
        "outputId": "d1b9ae0c-3be1-433c-b5e9-4aebdb2acf36"
      },
      "source": [
        "df[\"Abstract\"][290]"
      ],
      "execution_count": null,
      "outputs": [
        {
          "output_type": "execute_result",
          "data": {
            "application/vnd.google.colaboratory.intrinsic+json": {
              "type": "string"
            },
            "text/plain": [
              "'current covid 19 cases alberta local geographic area mirror data presented map view https www alberta ca stats covid 19 alberta statistics htm geospatial tab vaccination progress data joined https www alberta ca data stats lga coverage csv updated 2021 06 23 16 08 data end day 2021 06 22'"
            ]
          },
          "metadata": {
            "tags": []
          },
          "execution_count": 51
        }
      ]
    },
    {
      "cell_type": "code",
      "metadata": {
        "id": "EJtqPhB7Z_CJ"
      },
      "source": [
        "def get_tokenized_sentences(dataframe, col):\n",
        "  \"\"\"\n",
        "  Input parameters\n",
        "  dataframe: (pandas dataframe object)\n",
        "  col      : (str) Name of column containing text\n",
        "  country  : (str) Name of \"Country\" to filter\n",
        "\n",
        "  Output\n",
        "  (list) tokenized sentences\n",
        "\n",
        "  \"\"\"\n",
        "  print(\"token\")\n",
        "  df_country = dataframe             #added\n",
        "  print(\"t1\")\n",
        "  # if country==\"all\":\n",
        "  #   df_country = dataframe\n",
        "  # else:\n",
        "  #   df_country =  dataframe[dataframe.Country==country]\n",
        "  #   df_country.reset_index(drop=True, inplace=True)\n",
        "  i = 0\n",
        "  sentences = []\n",
        "  for Abstract in df_country[col]:\n",
        "    i += 1\n",
        "    text = Abstract\n",
        "    # Removed wide spaces\n",
        "    text = re.sub(' +', \" \", text)\n",
        "    sentences.append(sent_tokenize(text))\n",
        "    # print(i,text)\n",
        "\n",
        "  # print(\"t3\")\n",
        "  tokenized_sents = []\n",
        "  for sent in tqdm(sentences):\n",
        "    # print(\"t4\")\n",
        "    if len(sent):\n",
        "      text = sent[0]\n",
        "      tokens = word_tokenize(text)\n",
        "      tokenized_sents.append(tokens)\n",
        "\n",
        "  return tokenized_sents"
      ],
      "execution_count": null,
      "outputs": []
    },
    {
      "cell_type": "markdown",
      "metadata": {
        "id": "4sGgul5JTNxq"
      },
      "source": [
        "### Topic Modeling using Gensim"
      ]
    },
    {
      "cell_type": "code",
      "metadata": {
        "id": "NpFU-5QqGOSY"
      },
      "source": [
        "def get_topic_model(num_topics):\n",
        "\n",
        "  tokenized_sents = get_tokenized_sentences(df, col=\"Abstract\")\n",
        "  print(\"x\")\n",
        "  # Bigram model\n",
        "  bigram = Phrases(tokenized_sents, min_count=5, threshold=100) # higher threshold fewer phrases.\n",
        "  bigram_phraser = Phraser(bigram)\n",
        "\n",
        "  tokenized_sents = [bigram_phraser[sent] for sent in tokenized_sents]\n",
        "\n",
        "  # Prepare BOW\n",
        "  dictionary = corpora.Dictionary(tokenized_sents)\n",
        "  corpus = [dictionary.doc2bow(text) for text in tokenized_sents]\n",
        "\n",
        "  # Topic Modelling\n",
        "  ldamodel = gensim.models.ldamodel.LdaModel(corpus, num_topics = num_topics, id2word=dictionary, passes=10, chunksize=10000)\n",
        "\n",
        "  print(\"\\n\")\n",
        "  pyLDAvis.enable_notebook()\n",
        "  show(pyLDAvis.gensim_models.prepare(ldamodel, corpus, dictionary))\n",
        "\n",
        "  return ldamodel"
      ],
      "execution_count": null,
      "outputs": []
    },
    {
      "cell_type": "markdown",
      "metadata": {
        "id": "4yZ1R_sgldGJ"
      },
      "source": [
        "USA"
      ]
    },
    {
      "cell_type": "code",
      "metadata": {
        "id": "Td83XZ5h1X0E"
      },
      "source": [
        "key_topics = get_topic_model(num_topics=5)"
      ],
      "execution_count": null,
      "outputs": []
    },
    {
      "cell_type": "code",
      "metadata": {
        "colab": {
          "base_uri": "https://localhost:8080/",
          "height": 912
        },
        "id": "5RQN3klwlei2",
        "outputId": "89e867e7-93e5-4cb8-9f65-3080c44f53bf"
      },
      "source": [
        "usa_topics = get_topic_model(country_name=\"USA\", num_topics=5)"
      ],
      "execution_count": null,
      "outputs": [
        {
          "output_type": "stream",
          "text": [
            "100%|██████████| 506088/506088 [01:05<00:00, 7752.63it/s]\n"
          ],
          "name": "stderr"
        },
        {
          "output_type": "stream",
          "text": [
            "\n",
            "\n"
          ],
          "name": "stdout"
        },
        {
          "output_type": "display_data",
          "data": {
            "text/html": [
              "\n",
              "<link rel=\"stylesheet\" type=\"text/css\" href=\"https://cdn.rawgit.com/bmabey/pyLDAvis/files/ldavis.v1.0.0.css\">\n",
              "\n",
              "\n",
              "<div id=\"ldavis_el62139870706079088558847777\"></div>\n",
              "<script type=\"text/javascript\">\n",
              "\n",
              "var ldavis_el62139870706079088558847777_data = {\"mdsDat\": {\"x\": [-0.0425075590889761, 0.07988090046403902, -0.10054253106606942, 0.2577227414269913, -0.19455355173598485], \"y\": [-0.15262825507158015, 0.2213503800571975, 0.13455009537614243, -0.11096944125343629, -0.0923027791083236], \"topics\": [1, 2, 3, 4, 5], \"cluster\": [1, 1, 1, 1, 1], \"Freq\": [28.45896309145114, 19.62951435314921, 17.844041581054697, 17.735163793180448, 16.332317181164512]}, \"tinfo\": {\"Term\": [\"covid19\", \"trump\", \"receive\", \"dose\", \"go\", \"people\", \"mask\", \"vaccinate\", \"plan\", \"health\", \"get\", \"think\", \"care\", \"week\", \"test\", \"school\", \"virus\", \"like\", \"pfizer\", \"biden\", \"president\", \"effective\", \"state\", \"vaccination\", \"distribution\", \"second\", \"wear\", \"government\", \"election\", \"new\", \"mask\", \"wear\", \"die\", \"thing\", \"feel\", \"worry\", \"fuck\", \"life\", \"shit\", \"normal\", \"probably\", \"sick\", \"lol\", \"stupid\", \"social_distance\", \"yeah\", \"ppl\", \"damn\", \"hell\", \"hopefully\", \"till\", \"ok\", \"kind\", \"sorry\", \"eat\", \"pretty\", \"sound\", \"definitely\", \"fine\", \"scar\", \"oh\", \"go\", \"stay\", \"think\", \"like\", \"people\", \"year\", \"know\", \"want\", \"get\", \"flu\", \"away\", \"take\", \"vaccine\", \"wait\", \"come\", \"covid\", \"let\", \"right\", \"need\", \"virus\", \"vaccinate\", \"good\", \"way\", \"time\", \"tell\", \"work\", \"say\", \"live\", \"years\", \"receive\", \"week\", \"second\", \"update\", \"county\", \"january\", \"schedule\", \"york\", \"2nd\", \"residents\", \"visit\", \"appointment\", \"center\", \"city\", \"california\", \"clinic\", \"monday\", \"site\", \"appointments\", \"eligible\", \"register\", \"pause\", \"friday\", \"department\", \"february\", \"email\", \"website\", \"la\", \"clinics\", \"tuesday\", \"sign\", \"dose\", \"administer\", \"covid19\", \"morning\", \"today\", \"arrive\", \"vaccination\", \"health\", \"new\", \"available\", \"1st\", \"state\", \"vaccine\", \"begin\", \"covidvaccine\", \"moderna\", \"covid\", \"get\", \"say\", \"coronavirus\", \"open\", \"start\", \"public\", \"day\", \"pfizer\", \"people\", \"vaccines\", \"effective\", \"fda\", \"approve\", \"trial\", \"question\", \"trials\", \"research\", \"scientists\", \"study\", \"treatment\", \"immunity\", \"corona\", \"answer\", \"experts\", \"uk\", \"efficacy\", \"mrna\", \"infection\", \"antibodies\", \"article\", \"russian\", \"hiv\", \"race\", \"immune_response\", \"potential\", \"anti\", \"strain\", \"suggest\", \"reduce\", \"protection\", \"fauci\", \"test\", \"data\", \"dr\", \"news\", \"result\", \"prevent\", \"safety\", \"develop\", \"virus\", \"covid19\", \"vaccine\", \"vaccines\", \"coronavirus\", \"show\", \"moderna\", \"case\", \"pfizer\", \"new\", \"say\", \"covid\", \"work\", \"know\", \"flu\", \"vaccination\", \"safe\", \"care\", \"school\", \"workers\", \"nurse\", \"black\", \"pence\", \"parent\", \"teachers\", \"racism\", \"reopen\", \"child\", \"vulnerable\", \"students\", \"putin\", \"essential\", \"frontline\", \"white\", \"shingle\", \"dog\", \"relief\", \"employees\", \"elect\", \"families\", \"attend\", \"rally\", \"daughter\", \"worker\", \"prioritize\", \"stimulus\", \"communities\", \"healthcare\", \"safely\", \"children\", \"access\", \"vaccinate\", \"staff\", \"home\", \"risk\", \"high\", \"family\", \"thank\", \"kid\", \"health\", \"work\", \"support\", \"medical\", \"vaccine\", \"public\", \"vaccination\", \"line\", \"need\", \"help\", \"get\", \"covid\", \"people\", \"live\", \"open\", \"covidvaccine\", \"trump\", \"plan\", \"biden\", \"president\", \"distribution\", \"government\", \"election\", \"million\", \"administration\", \"credit\", \"speed\", \"fund\", \"operation_warp\", \"warp_speed\", \"joe\", \"november\", \"sell\", \"federal\", \"deliver\", \"donald\", \"fail\", \"democrats\", \"billion\", \"blame\", \"white_house\", \"charge\", \"production\", \"profit\", \"idiot\", \"ship\", \"money\", \"lie\", \"china\", \"vote\", \"distribute\", \"pfizer\", \"americans\", \"vaccine\", \"company\", \"state\", \"country\", \"say\", \"america\", \"pandemic\", \"create\", \"develop\", \"coronavirus\", \"need\", \"time\", \"vaccines\", \"covid\", \"come\"], \"Freq\": [97587.0, 52776.0, 24227.0, 28454.0, 35254.0, 54345.0, 22281.0, 41124.0, 13935.0, 23806.0, 49908.0, 25198.0, 12933.0, 13624.0, 18225.0, 12502.0, 24862.0, 27367.0, 27555.0, 10872.0, 10789.0, 11226.0, 18384.0, 33810.0, 9208.0, 10078.0, 12823.0, 8744.0, 8534.0, 20387.0, 22280.51745886534, 12821.971286126492, 9883.98880383587, 7061.801013233622, 6958.698318968289, 6289.363173739366, 5568.447757410743, 5440.569275050557, 4625.423993065918, 4396.812573128331, 4141.1439871961165, 4022.07767345883, 3736.005177513144, 3123.693633290937, 3093.822607197883, 3049.236914598256, 3016.035414217814, 2889.2944070333997, 2708.5676188243256, 2634.6881743070235, 2600.8260424850987, 2570.3845714866598, 2140.0674485009504, 2083.7452536947994, 2057.39712661426, 2032.0016826978888, 1981.3654577444236, 1841.573916462279, 1623.2345220392585, 1605.1178747712424, 3484.6703659747955, 32455.895144476373, 6260.262047407699, 22758.884522085595, 24121.60991179304, 42981.95986149907, 12904.292913521722, 19368.151970044128, 18908.79438071317, 33799.88583798134, 13996.46994314523, 5674.377367731846, 13172.648676215807, 174013.7845280727, 10837.29463673937, 14441.556768519229, 29062.34893319736, 9336.436414914804, 9234.812860185828, 16664.76857058881, 13072.54684353021, 17052.362583935326, 8771.526431999473, 8258.211182167359, 11050.543011242715, 8099.727928911523, 10465.94866187397, 10076.02707262478, 8070.879485569636, 7209.023201991048, 24226.51283505305, 13624.158669569524, 10077.371097364221, 6983.372734740504, 6262.713182052365, 5342.73622418565, 4832.0558227355705, 4216.849966063821, 3943.8626609405155, 3889.542009633444, 3893.6517611162208, 3819.5102594304108, 3750.4799009384583, 3448.493245040852, 3387.5130894769677, 3253.9372995089893, 2967.16575712748, 2884.3780387973493, 2721.6748839514403, 2329.1686795338846, 2281.752892848918, 2215.8998887429548, 2076.92991141043, 2055.541858066037, 2041.1966585723364, 1775.9395211180238, 1767.5156666342298, 1589.3046560633816, 1579.1167284394112, 1545.1562769758323, 7682.5370014909495, 25453.810092715157, 5514.835392568571, 66636.22875073591, 4412.867821575668, 12723.040239609887, 2976.260023134506, 18777.72496152713, 12920.831450669857, 11392.228893562151, 9797.559975509097, 4219.102404696742, 10205.023879801467, 87496.43173275785, 4621.079159001692, 6060.991217585256, 6795.861998297171, 11031.341064394031, 9049.723749045963, 8020.548544088274, 6605.740549982835, 5224.404641848229, 5403.404380007786, 5248.60096995516, 5133.217037042886, 5810.350686149548, 6431.711194920504, 5223.381083192797, 11225.18593435867, 8539.157972280447, 6601.13448755375, 6091.604632094596, 5618.238177533162, 5625.260686218899, 5222.563640800391, 4407.567755447586, 4351.868783221016, 3735.02250162808, 3590.0817509818976, 3319.2814233975387, 2941.9137708569942, 2685.358204165907, 2385.7164737105727, 2321.2381062099244, 2243.8345948534707, 2202.594988161502, 2166.614202715616, 1895.4437325016415, 1884.8196692806478, 1724.223484861191, 1718.3119078310663, 1686.1385915850938, 1678.1624524157066, 1664.8423554171743, 1601.0167437005678, 1467.8959985723613, 1414.8773174119654, 1345.322996000451, 6154.647012435366, 13908.295071808116, 3970.3082799063413, 6092.253987452983, 9089.432483586252, 3214.777275222015, 2701.1855483472877, 3468.7857971559224, 6491.968229863725, 11789.182044773663, 30950.58967769865, 87210.75606394345, 10294.231000274343, 9636.114130333472, 3705.762468576484, 6725.392589950178, 4736.766741345089, 8670.381153951552, 7350.665881965998, 8663.856366828335, 8848.337770755967, 5108.657441630877, 4761.980267867405, 4395.173077993939, 4387.611035104299, 3993.8576129248313, 12932.543765964943, 12501.13869716686, 8387.166920339008, 5834.343287679446, 5670.1285128388545, 4724.6384454181525, 3530.384085805059, 3119.6598895350744, 2945.0236913435197, 2835.732931872738, 2306.857212749537, 2238.812287913807, 2199.9980686580175, 2411.3766186206744, 2164.505446524852, 2086.028208266193, 2062.6452209850763, 1945.001901490236, 1707.6441460553135, 1616.760236843762, 1596.7322679406104, 1584.3034413240644, 1524.8223689431657, 1362.416097088241, 1302.620339179521, 1250.8227758496475, 1231.6981822266428, 1218.1220176832815, 1230.6225685669087, 1202.9978356687304, 6514.470089767989, 1375.1935311809143, 4268.319395428536, 3032.245156697261, 20265.629828176025, 3280.6426912935835, 5421.14792128605, 5420.454461531026, 3442.357756511821, 4091.7287422523323, 7252.471490862703, 5196.64420596728, 10884.89780409992, 10562.592730753366, 3307.099307506944, 4263.551797026121, 37410.448423346446, 5347.472954417558, 8145.702230867559, 4628.636077209721, 7784.1122868791335, 4847.042854306877, 7058.244679071978, 6797.2529640077755, 4931.080663449554, 3851.066663602041, 3660.4395838753953, 3544.153893352215, 52775.75222075273, 13934.68192167578, 10871.641075631664, 10788.933825198834, 9207.233163877998, 8743.502840766456, 8533.785132910998, 7026.293403801136, 6238.7518426898505, 5221.309817214663, 4812.007277703821, 3889.5678829286244, 3303.8375182675927, 3266.716914072054, 2806.2434880773303, 2816.9935309498546, 2667.8951002159656, 2449.9829313199325, 2332.693598256885, 2325.008870317837, 2314.846945555669, 2147.2159932933155, 1997.008184140361, 1926.0299822859079, 1837.785753155928, 1822.932255071238, 1786.230895400859, 1637.3332686160563, 1523.9871625853636, 1428.2134769970592, 6741.158712422175, 8500.682682594488, 4084.7364109689606, 5125.733592685363, 4869.979908056713, 13073.949972380002, 5450.969593492633, 72178.20717637251, 4748.280265526351, 8178.484331423461, 4396.334803504956, 10659.515564740313, 3497.513734066323, 4643.155363656893, 3417.2112895955192, 3973.194543406182, 4404.710933330698, 4437.835976973282, 4088.8981938494603, 3999.055141083525, 4134.423745888694, 3974.409511043022], \"Total\": [97587.0, 52776.0, 24227.0, 28454.0, 35254.0, 54345.0, 22281.0, 41124.0, 13935.0, 23806.0, 49908.0, 25198.0, 12933.0, 13624.0, 18225.0, 12502.0, 24862.0, 27367.0, 27555.0, 10872.0, 10789.0, 11226.0, 18384.0, 33810.0, 9208.0, 10078.0, 12823.0, 8744.0, 8534.0, 20387.0, 22281.570753254455, 12823.020046115877, 9885.043873341618, 7062.857339135305, 6959.776373438827, 6290.411462990383, 5569.497071626833, 5441.624570239729, 4626.474022040663, 4397.868136964318, 4142.20024304133, 4023.1301740790655, 3737.054560544513, 3124.7490098961803, 3094.8752919142667, 3050.289007072804, 3017.088585848956, 2890.344805134666, 2709.622784569078, 2635.747825432667, 2601.8901635858, 2571.440945600156, 2141.123268610656, 2084.80070392062, 2058.443892661051, 2033.055271745341, 1982.4223448264934, 1842.6296904011979, 1624.2871644011184, 1606.1656561854109, 3502.69074918272, 35254.79194429183, 6555.988690628862, 25198.011915598865, 27367.644230016347, 54345.93802621213, 14838.267052819521, 25913.602647506214, 25349.055659516074, 49908.23670920378, 18392.53481019715, 6515.126950899737, 18327.885692020314, 458309.62792449293, 15549.307715803378, 23292.147092212766, 59873.704478243824, 13602.683188171668, 13649.641323565937, 32962.68787853685, 24862.61196546894, 41124.148704436004, 13794.279422887741, 12792.166933928647, 21866.64650123238, 12782.745221420875, 27969.91262585883, 37644.78234682286, 16473.701361065596, 10669.560586415915, 24227.309672138563, 13624.956735091959, 10078.169635490054, 6984.168320008603, 6263.503653892579, 5343.541809761196, 4832.849480300033, 4217.6467887101435, 3944.659992762315, 3890.3353140984104, 3894.4541923638462, 3820.3005775295032, 3751.275167795656, 3449.2901184562197, 3388.308610626908, 3254.7296820320666, 2967.9620334309293, 2885.169659672997, 2722.4643670073183, 2329.9595656173756, 2282.547092526037, 2216.7036997313035, 2077.7253444956086, 2056.3356094418896, 2041.9987094975627, 1776.7341790414491, 1768.3081287541272, 1590.09993607261, 1579.9098875392963, 1545.9521648693571, 7748.04949832052, 28454.733393434894, 6115.295696255828, 97587.44838963596, 5030.753304817084, 17998.629938547678, 3277.2574915088217, 33810.957259913586, 23806.27750687476, 20387.828833579224, 16647.168218925326, 5283.423296179508, 18384.101498595042, 458309.62792449293, 6544.476898150619, 10750.76919785121, 13521.879037458015, 59873.704478243824, 49908.23670920378, 37644.78234682286, 20646.987887691852, 11012.896926864902, 12715.44341810395, 12943.865190065151, 12977.072312207914, 27555.098175742845, 54345.93802621213, 21339.827032056262, 11226.230058545172, 8540.203390762077, 6602.177961914992, 6092.649265911371, 5619.280368384461, 5626.307118664368, 5223.6113911104885, 4408.617365330092, 4352.910468590466, 3736.081643837266, 3591.120879872561, 3320.3382327897866, 2942.95743521441, 2686.4057105747183, 2386.7573278161626, 2322.2752704319428, 2244.8702897480375, 2203.6354521806416, 2167.6534649923915, 1896.4846202414624, 1885.8823142563963, 1725.2677280872297, 1719.3629289611656, 1687.174776087383, 1679.2118745401278, 1665.8978272163984, 1602.0513721792006, 1468.9408538159362, 1415.921444813655, 1346.3631927449146, 6641.361410707924, 18225.078508828938, 4503.598675086364, 7896.826625144644, 13004.535185632907, 3763.5719999701237, 3058.887726763485, 4425.69758133389, 10466.002198198448, 24862.61196546894, 97587.44838963596, 458309.62792449293, 21339.827032056262, 20646.987887691852, 5050.342429151388, 13521.879037458015, 8424.284311550717, 27555.098175742845, 20387.828833579224, 37644.78234682286, 59873.704478243824, 27969.91262585883, 25913.602647506214, 18392.53481019715, 33810.957259913586, 11770.12892726615, 12933.50852105008, 12502.101640403771, 8388.122706968796, 5835.301996221318, 5671.091604115992, 4725.700306493999, 3531.3430064592444, 3120.6140854919277, 2946.003113614245, 2836.7134330850613, 2307.820866359454, 2239.7746314278857, 2200.9582883231274, 2412.4409137584685, 2165.4617897537246, 2086.9846834478353, 2063.608408240249, 1945.976087289569, 1708.6155669929346, 1617.7229853921824, 1597.6902051802397, 1585.2921792024686, 1525.7846810824763, 1363.3821823103242, 1303.6093550292064, 1251.7914853172028, 1232.655247512956, 1219.0791934862875, 1231.593306797661, 1203.9571774264898, 6520.010582348915, 1377.5224263521404, 5060.859738623635, 3683.7519834565874, 41124.148704436004, 4200.880664956135, 8075.561531724804, 8290.159445899584, 4607.187580805439, 5846.900485772975, 12955.436656904216, 8267.987814670636, 23806.27750687476, 27969.91262585883, 4605.85720710155, 7351.449684260637, 458309.62792449293, 12943.865190065151, 33810.957259913586, 10380.368077750418, 32962.68787853685, 13167.03502568105, 49908.23670920378, 59873.704478243824, 54345.93802621213, 16473.701361065596, 11012.896926864902, 10750.76919785121, 52776.75799923311, 13935.68963056483, 10872.6420459789, 10789.940735175149, 9208.2371054205, 8744.511627146787, 8534.798000620916, 7027.300500992843, 6239.755149427167, 5222.312727853538, 4813.009656331436, 3890.578141735537, 3304.837782360429, 3267.7204982645244, 2807.2475690281944, 2818.0397693663053, 2668.9053722098333, 2450.984098074192, 2333.6993295692655, 2326.0136019989195, 2315.853228706003, 2148.2224731682454, 1998.0190193576989, 1927.0356872856298, 1838.794371947427, 1823.9384431557376, 1787.2368140794126, 1638.343504884963, 1525.0031257034084, 1429.2199108322475, 7292.375559130669, 9664.420241760874, 4799.598895383376, 6397.391938792659, 6053.856488038342, 27555.098175742845, 8189.139646881851, 458309.62792449293, 7533.407068920769, 18384.101498595042, 7071.6376391616795, 37644.78234682286, 4998.811052333268, 12003.737958663181, 5755.818801208507, 10466.002198198448, 20646.987887691852, 32962.68787853685, 21866.64650123238, 21339.827032056262, 59873.704478243824, 23292.147092212766], \"Category\": [\"Default\", \"Default\", \"Default\", \"Default\", \"Default\", \"Default\", \"Default\", \"Default\", \"Default\", \"Default\", \"Default\", \"Default\", \"Default\", \"Default\", \"Default\", \"Default\", \"Default\", \"Default\", \"Default\", \"Default\", \"Default\", \"Default\", \"Default\", \"Default\", \"Default\", \"Default\", \"Default\", \"Default\", \"Default\", \"Default\", \"Topic1\", \"Topic1\", \"Topic1\", \"Topic1\", \"Topic1\", \"Topic1\", \"Topic1\", \"Topic1\", \"Topic1\", \"Topic1\", \"Topic1\", \"Topic1\", \"Topic1\", \"Topic1\", \"Topic1\", \"Topic1\", \"Topic1\", \"Topic1\", \"Topic1\", \"Topic1\", \"Topic1\", \"Topic1\", \"Topic1\", \"Topic1\", \"Topic1\", \"Topic1\", \"Topic1\", \"Topic1\", \"Topic1\", \"Topic1\", \"Topic1\", \"Topic1\", \"Topic1\", \"Topic1\", \"Topic1\", \"Topic1\", \"Topic1\", \"Topic1\", \"Topic1\", \"Topic1\", \"Topic1\", \"Topic1\", \"Topic1\", \"Topic1\", \"Topic1\", \"Topic1\", \"Topic1\", \"Topic1\", \"Topic1\", \"Topic1\", \"Topic1\", \"Topic1\", \"Topic1\", \"Topic1\", \"Topic1\", \"Topic1\", \"Topic1\", \"Topic1\", \"Topic1\", \"Topic1\", \"Topic2\", \"Topic2\", \"Topic2\", \"Topic2\", \"Topic2\", \"Topic2\", \"Topic2\", \"Topic2\", \"Topic2\", \"Topic2\", \"Topic2\", \"Topic2\", \"Topic2\", \"Topic2\", \"Topic2\", \"Topic2\", \"Topic2\", \"Topic2\", \"Topic2\", \"Topic2\", \"Topic2\", \"Topic2\", \"Topic2\", \"Topic2\", \"Topic2\", \"Topic2\", \"Topic2\", \"Topic2\", \"Topic2\", \"Topic2\", \"Topic2\", \"Topic2\", \"Topic2\", \"Topic2\", \"Topic2\", \"Topic2\", \"Topic2\", \"Topic2\", \"Topic2\", \"Topic2\", \"Topic2\", \"Topic2\", \"Topic2\", \"Topic2\", \"Topic2\", \"Topic2\", \"Topic2\", \"Topic2\", \"Topic2\", \"Topic2\", \"Topic2\", \"Topic2\", \"Topic2\", \"Topic2\", \"Topic2\", \"Topic2\", \"Topic2\", \"Topic2\", \"Topic3\", \"Topic3\", \"Topic3\", \"Topic3\", \"Topic3\", \"Topic3\", \"Topic3\", \"Topic3\", \"Topic3\", \"Topic3\", \"Topic3\", \"Topic3\", \"Topic3\", \"Topic3\", \"Topic3\", \"Topic3\", \"Topic3\", \"Topic3\", \"Topic3\", \"Topic3\", \"Topic3\", \"Topic3\", \"Topic3\", \"Topic3\", \"Topic3\", \"Topic3\", \"Topic3\", \"Topic3\", \"Topic3\", \"Topic3\", \"Topic3\", \"Topic3\", \"Topic3\", \"Topic3\", \"Topic3\", \"Topic3\", \"Topic3\", \"Topic3\", \"Topic3\", \"Topic3\", \"Topic3\", \"Topic3\", \"Topic3\", \"Topic3\", \"Topic3\", \"Topic3\", \"Topic3\", \"Topic3\", \"Topic3\", \"Topic3\", \"Topic3\", \"Topic3\", \"Topic3\", \"Topic3\", \"Topic3\", \"Topic3\", \"Topic4\", \"Topic4\", \"Topic4\", \"Topic4\", \"Topic4\", \"Topic4\", \"Topic4\", \"Topic4\", \"Topic4\", \"Topic4\", \"Topic4\", \"Topic4\", \"Topic4\", \"Topic4\", \"Topic4\", \"Topic4\", \"Topic4\", \"Topic4\", \"Topic4\", \"Topic4\", \"Topic4\", \"Topic4\", \"Topic4\", \"Topic4\", \"Topic4\", \"Topic4\", \"Topic4\", \"Topic4\", \"Topic4\", \"Topic4\", \"Topic4\", \"Topic4\", \"Topic4\", \"Topic4\", \"Topic4\", \"Topic4\", \"Topic4\", \"Topic4\", \"Topic4\", \"Topic4\", \"Topic4\", \"Topic4\", \"Topic4\", \"Topic4\", \"Topic4\", \"Topic4\", \"Topic4\", \"Topic4\", \"Topic4\", \"Topic4\", \"Topic4\", \"Topic4\", \"Topic4\", \"Topic4\", \"Topic4\", \"Topic4\", \"Topic4\", \"Topic4\", \"Topic5\", \"Topic5\", \"Topic5\", \"Topic5\", \"Topic5\", \"Topic5\", \"Topic5\", \"Topic5\", \"Topic5\", \"Topic5\", \"Topic5\", \"Topic5\", \"Topic5\", \"Topic5\", \"Topic5\", \"Topic5\", \"Topic5\", \"Topic5\", \"Topic5\", \"Topic5\", \"Topic5\", \"Topic5\", \"Topic5\", \"Topic5\", \"Topic5\", \"Topic5\", \"Topic5\", \"Topic5\", \"Topic5\", \"Topic5\", \"Topic5\", \"Topic5\", \"Topic5\", \"Topic5\", \"Topic5\", \"Topic5\", \"Topic5\", \"Topic5\", \"Topic5\", \"Topic5\", \"Topic5\", \"Topic5\", \"Topic5\", \"Topic5\", \"Topic5\", \"Topic5\", \"Topic5\", \"Topic5\", \"Topic5\", \"Topic5\", \"Topic5\", \"Topic5\"], \"logprob\": [30.0, 29.0, 28.0, 27.0, 26.0, 25.0, 24.0, 23.0, 22.0, 21.0, 20.0, 19.0, 18.0, 17.0, 16.0, 15.0, 14.0, 13.0, 12.0, 11.0, 10.0, 9.0, 8.0, 7.0, 6.0, 5.0, 4.0, 3.0, 2.0, 1.0, -4.3495001792907715, -4.9019999504089355, -5.162300109863281, -5.498499870300293, -5.513199806213379, -5.614299774169922, -5.736100196838379, -5.759300231933594, -5.921599864959717, -5.972300052642822, -6.032199859619141, -6.061399936676025, -6.135200023651123, -6.314199924468994, -6.323800086975098, -6.3383002281188965, -6.349299907684326, -6.392199993133545, -6.4567999839782715, -6.484399795532227, -6.497399806976318, -6.509099960327148, -6.692399978637695, -6.718999862670898, -6.731800079345703, -6.744200229644775, -6.769400119781494, -6.842599868774414, -6.968800067901611, -6.980000019073486, -6.204800128936768, -3.973299980163574, -5.61899995803833, -4.328199863433838, -4.270100116729736, -3.6923999786376953, -4.895599842071533, -4.48960018157959, -4.513599872589111, -3.9326999187469482, -4.8144001960754395, -5.717199802398682, -4.875100135803223, -2.294100046157837, -5.070199966430664, -4.783100128173828, -4.083799839019775, -5.219299793243408, -5.230199813842773, -4.639900207519531, -4.882699966430664, -4.6168999671936035, -5.281700134277344, -5.3420000076293945, -5.0507001876831055, -5.361400127410889, -5.105100154876709, -5.14300012588501, -5.3649001121521, -5.47790002822876, -3.8942999839782715, -4.469900131225586, -4.771500110626221, -5.138199806213379, -5.247200012207031, -5.406000137329102, -5.506499767303467, -5.6427001953125, -5.70959997177124, -5.723499774932861, -5.722400188446045, -5.741700172424316, -5.759900093078613, -5.843800067901611, -5.861700057983398, -5.901899814605713, -5.994200229644775, -6.022500038146973, -6.08050012588501, -6.236299991607666, -6.256800174713135, -6.286099910736084, -6.350900173187256, -6.361199855804443, -6.368199825286865, -6.507400035858154, -6.512199878692627, -6.618500232696533, -6.624899864196777, -6.646599769592285, -5.042799949645996, -3.844899892807007, -5.374300003051758, -2.882499933242798, -5.5971999168396, -4.538400173187256, -5.991099834442139, -4.149099826812744, -4.522900104522705, -4.648799896240234, -4.799600124359131, -5.642199993133545, -4.758900165557861, -2.6101999282836914, -5.55109977722168, -5.279900074005127, -5.165500164031982, -4.681000232696533, -4.879000186920166, -4.999800205230713, -5.19379997253418, -5.428400039672852, -5.394700050354004, -5.423799991607666, -5.446000099182129, -5.3221001625061035, -5.2204999923706055, -5.428599834442139, -4.56820011138916, -4.841700077056885, -5.0991997718811035, -5.179500102996826, -5.26039981842041, -5.259099960327148, -5.333399772644043, -5.5030999183654785, -5.5157999992370605, -5.668700218200684, -5.708199977874756, -5.7866997718811035, -5.907400131225586, -5.998600006103516, -6.1168999671936035, -6.1442999839782715, -6.178199768066406, -6.196800231933594, -6.213200092315674, -6.3470001220703125, -6.35260009765625, -6.4415998458862305, -6.445099830627441, -6.464000225067139, -6.468699932098389, -6.4766998291015625, -6.5157999992370605, -6.60260009765625, -6.639400005340576, -6.689799785614014, -5.1691999435424805, -4.353899955749512, -5.607600212097168, -5.1793999671936035, -4.779300212860107, -5.818699836730957, -5.992700099945068, -5.742599964141846, -5.115799903869629, -4.519199848175049, -3.553999900817871, -2.5181000232696533, -4.654799938201904, -4.720900058746338, -5.676499843597412, -5.08050012588501, -5.431099891662598, -4.826499938964844, -4.991600036621094, -4.827199935913086, -4.80620002746582, -5.355500221252441, -5.4257001876831055, -5.505899906158447, -5.507599830627441, -5.6016998291015625, -4.420499801635742, -4.454500198364258, -4.853600025177002, -5.2164998054504395, -5.245100021362305, -5.427499771118164, -5.718900203704834, -5.842599868774414, -5.900199890136719, -5.938000202178955, -6.144400119781494, -6.174300193786621, -6.191800117492676, -6.100100040435791, -6.208099842071533, -6.244999885559082, -6.25629997253418, -6.315000057220459, -6.445199966430664, -6.499899864196777, -6.51230001449585, -6.520100116729736, -6.5584001541137695, -6.671000003814697, -6.71589994430542, -6.756499767303467, -6.771900177001953, -6.7829999923706055, -6.772799968719482, -6.795499801635742, -5.106299877166748, -6.6616997718811035, -5.529099941253662, -5.870999813079834, -3.971400022506714, -5.792300224304199, -5.289999961853027, -5.29010009765625, -5.744100093841553, -5.571300029754639, -4.998899936676025, -5.332300186157227, -4.592899799346924, -4.623000144958496, -5.784200191497803, -5.530200004577637, -3.358299970626831, -5.303699970245361, -4.882800102233887, -5.447999954223633, -4.928199768066406, -5.401899814605713, -5.026100158691406, -5.063799858093262, -5.384699821472168, -5.631899833679199, -5.682700157165527, -5.715000152587891, -2.93179988861084, -4.263500213623047, -4.51170015335083, -4.519400119781494, -4.6778998374938965, -4.729599952697754, -4.753900051116943, -4.948200225830078, -5.0671000480651855, -5.245100021362305, -5.3267998695373535, -5.539599895477295, -5.7027997970581055, -5.714099884033203, -5.866000175476074, -5.862199783325195, -5.916600227355957, -6.001800060272217, -6.050899982452393, -6.054200172424316, -6.058499813079834, -6.133699893951416, -6.206200122833252, -6.242400169372559, -6.289299964904785, -6.297399997711182, -6.317800045013428, -6.404799938201904, -6.476600170135498, -6.541500091552734, -4.989699840545654, -4.757699966430664, -5.490600109100342, -5.263599872589111, -5.314799785614014, -4.327300071716309, -5.202099800109863, -2.6187000274658203, -5.340099811553955, -4.79640007019043, -5.417099952697754, -4.531400203704834, -5.6458001136779785, -5.362500190734863, -5.669099807739258, -5.5183000564575195, -5.415200233459473, -5.407700061798096, -5.48960018157959, -5.5117998123168945, -5.478499889373779, -5.51800012588501], \"loglift\": [30.0, 29.0, 28.0, 27.0, 26.0, 25.0, 24.0, 23.0, 22.0, 21.0, 20.0, 19.0, 18.0, 17.0, 16.0, 15.0, 14.0, 13.0, 12.0, 11.0, 10.0, 9.0, 8.0, 7.0, 6.0, 5.0, 4.0, 3.0, 2.0, 1.0, 1.2567, 1.2566, 1.2566, 1.2566, 1.2566, 1.2565, 1.2565, 1.2565, 1.2565, 1.2565, 1.2565, 1.2564, 1.2564, 1.2564, 1.2564, 1.2564, 1.2564, 1.2563, 1.2563, 1.2563, 1.2563, 1.2563, 1.2562, 1.2562, 1.2562, 1.2562, 1.2562, 1.2561, 1.2561, 1.2561, 1.2515, 1.174, 1.2106, 1.1549, 1.1305, 1.0221, 1.1171, 0.9656, 0.9636, 0.867, 0.9836, 1.1185, 0.9264, 0.2883, 0.8957, 0.7787, 0.5339, 0.8804, 0.866, 0.5746, 0.6139, 0.3764, 0.804, 0.8191, 0.5742, 0.8004, 0.2737, -0.0613, 0.5432, 0.8646, 1.6281, 1.6281, 1.6281, 1.628, 1.628, 1.628, 1.628, 1.6279, 1.6279, 1.6279, 1.6279, 1.6279, 1.6279, 1.6279, 1.6279, 1.6279, 1.6279, 1.6279, 1.6278, 1.6278, 1.6278, 1.6278, 1.6278, 1.6277, 1.6277, 1.6277, 1.6277, 1.6276, 1.6276, 1.6276, 1.6196, 1.5167, 1.5248, 1.2466, 1.4971, 1.2813, 1.5318, 1.04, 1.017, 1.0461, 1.098, 1.4032, 1.0395, -0.0278, 1.2801, 1.055, 0.9401, -0.0634, -0.0793, 0.0819, 0.4885, 0.8824, 0.7723, 0.7255, 0.7007, 0.0716, -0.506, 0.2207, 1.7234, 1.7234, 1.7233, 1.7233, 1.7233, 1.7233, 1.7233, 1.7233, 1.7233, 1.7232, 1.7232, 1.7232, 1.7231, 1.7231, 1.7231, 1.7231, 1.723, 1.723, 1.723, 1.723, 1.7229, 1.7229, 1.7229, 1.7229, 1.7229, 1.7229, 1.7229, 1.7228, 1.7228, 1.7227, 1.6474, 1.4532, 1.5975, 1.4641, 1.3653, 1.5659, 1.5991, 1.4799, 1.2459, 0.9773, 0.5751, 0.0643, 0.9945, 0.9614, 1.4139, 1.0251, 1.1477, 0.5672, 0.7034, 0.2545, -0.1885, 0.0233, 0.0294, 0.2921, -0.3185, 0.6427, 1.7295, 1.7295, 1.7295, 1.7295, 1.7295, 1.7294, 1.7293, 1.7293, 1.7293, 1.7293, 1.7292, 1.7292, 1.7292, 1.7292, 1.7292, 1.7292, 1.7292, 1.7291, 1.7291, 1.729, 1.729, 1.729, 1.729, 1.7289, 1.7289, 1.7288, 1.7288, 1.7288, 1.7288, 1.7288, 1.7288, 1.7279, 1.5593, 1.535, 1.022, 1.4824, 1.3311, 1.3047, 1.4382, 1.3727, 1.1494, 1.2652, 0.947, 0.7558, 1.3984, 1.1848, -0.776, 0.8456, 0.3063, 0.922, 0.2863, 0.7303, -0.2264, -0.4461, -0.6702, 0.2762, 0.6281, 0.6199, 1.812, 1.812, 1.8119, 1.8119, 1.8119, 1.8119, 1.8119, 1.8119, 1.8119, 1.8118, 1.8118, 1.8118, 1.8117, 1.8117, 1.8117, 1.8117, 1.8116, 1.8116, 1.8116, 1.8116, 1.8116, 1.8116, 1.8115, 1.8115, 1.8115, 1.8115, 1.8115, 1.8114, 1.8114, 1.8113, 1.7334, 1.6837, 1.6507, 1.5904, 1.5944, 1.0665, 1.405, -0.0364, 1.3505, 1.002, 1.3367, 0.5503, 1.4549, 0.8622, 1.2906, 0.8435, 0.2671, -0.1932, 0.1353, 0.1375, -0.8609, 0.0438]}, \"token.table\": {\"Topic\": [2, 4, 2, 2, 4, 2, 5, 5, 1, 5, 1, 3, 4, 5, 3, 3, 3, 2, 2, 3, 2, 5, 3, 4, 1, 2, 3, 4, 5, 1, 2, 5, 1, 2, 3, 4, 5, 5, 5, 4, 5, 2, 4, 1, 2, 3, 2, 5, 4, 3, 4, 3, 5, 2, 2, 2, 1, 2, 3, 4, 5, 4, 3, 5, 3, 2, 3, 5, 1, 4, 5, 2, 1, 2, 3, 4, 5, 2, 3, 2, 3, 4, 3, 5, 5, 1, 2, 3, 4, 1, 2, 4, 5, 1, 5, 5, 2, 3, 5, 1, 2, 5, 5, 4, 5, 2, 5, 2, 3, 4, 1, 3, 3, 4, 5, 2, 2, 4, 4, 3, 5, 4, 1, 4, 3, 5, 3, 2, 5, 1, 1, 1, 3, 2, 4, 1, 5, 1, 2, 4, 1, 5, 1, 2, 3, 4, 5, 5, 2, 4, 2, 4, 1, 1, 2, 3, 4, 5, 2, 3, 4, 3, 1, 2, 4, 1, 5, 3, 3, 3, 2, 5, 1, 4, 1, 1, 2, 3, 4, 5, 2, 1, 4, 5, 1, 5, 1, 1, 3, 4, 5, 1, 2, 4, 1, 2, 3, 4, 5, 1, 1, 2, 3, 4, 5, 2, 3, 2, 1, 5, 1, 2, 3, 1, 2, 3, 4, 5, 2, 3, 5, 2, 3, 1, 5, 4, 1, 5, 1, 1, 2, 4, 5, 1, 3, 4, 5, 4, 2, 4, 1, 2, 3, 4, 2, 3, 5, 5, 3, 1, 5, 1, 1, 3, 4, 1, 5, 5, 3, 1, 2, 3, 4, 5, 4, 3, 3, 4, 4, 2, 3, 2, 4, 4, 3, 2, 3, 5, 1, 4, 5, 1, 3, 4, 3, 1, 3, 4, 1, 4, 3, 4, 1, 2, 3, 4, 5, 1, 2, 4, 3, 2, 5, 4, 5, 1, 1, 2, 3, 4, 1, 2, 4, 5, 2, 1, 1, 1, 5, 2, 4, 1, 2, 3, 4, 5, 2, 5, 1, 2, 4, 3, 4, 3, 1, 3, 3, 4, 5, 1, 2, 3, 4, 5, 4, 1, 2, 4, 5, 1, 3, 1, 2, 4, 5, 1, 1, 3, 5, 1, 1, 2, 3, 4, 5, 1, 2, 4, 3, 3, 3, 5, 2, 3, 2, 1, 2, 4, 1, 2, 3, 4, 5, 1, 2, 3, 4, 5, 1, 2, 3, 4, 5, 1, 3, 2, 1, 4, 5, 4, 1, 2, 4, 1, 4, 5, 5, 1, 2, 3, 4, 5, 1, 2, 2, 4, 5, 1, 2, 3, 4, 5, 4, 4, 1, 1, 1, 3, 4, 5, 1, 2, 3, 4, 5, 2], \"Freq\": [0.7985352987050646, 0.20138458350845903, 0.9998326870342371, 0.17672199510813563, 0.8230738696895042, 0.9018370122930658, 0.09811463415699719, 0.9998789777148168, 0.3000713538271972, 0.6997663971250239, 0.11600730247184489, 0.10794784777380094, 0.11026799382323783, 0.665637690288449, 0.999674669024107, 0.9994610550528789, 0.999698538072185, 0.9999213209737288, 0.999829431373668, 0.9998215797996075, 0.9080763436228731, 0.09153995399424124, 0.9992171725382759, 0.9989862106691302, 0.2968072368237876, 0.588568570410741, 0.08301712230124965, 0.02198572124620649, 0.009671314537265696, 0.8708963068196887, 0.03960014930551281, 0.08933056936359866, 0.05531381738123277, 0.7060915749134713, 0.11078043536296618, 0.026587304487111885, 0.1013067981319263, 0.9999409484855488, 0.9994899851563843, 0.9998075142861034, 0.9994625489852299, 0.9999089189733367, 0.9999606818946883, 0.25295917388236056, 0.18470411757904884, 0.5623029594935439, 0.9996600708456145, 0.9994854852918644, 0.9996443110592249, 0.15649514922446645, 0.8433349708207358, 0.14876243110372833, 0.8511127885976614, 0.9996259756611029, 0.9997758087142858, 0.999424088964521, 0.6200373002465013, 0.1552025232233141, 0.016615041905234457, 0.03752337629244164, 0.1706154432335962, 0.9992049738608346, 0.36955390496359225, 0.6302593178042873, 0.9995969588951599, 0.3199498171807419, 0.4667024581219541, 0.21334831133532667, 0.3225561201507499, 0.05571552448022598, 0.6216381868402878, 0.9999195891117161, 0.48538837296363035, 0.18423780683235175, 0.14777772775384357, 0.11352228927925799, 0.06904533527739481, 0.6828337158068057, 0.3171616894461919, 0.5637736136323558, 0.10650400719502515, 0.3296508310036411, 0.4061976376860765, 0.5936601060621571, 0.999748630937681, 0.999534725015411, 0.11834979945005399, 0.8815172679488074, 0.99936771792548, 0.4260591192667322, 0.39554376183688483, 0.006318836639513843, 0.17207270995163917, 0.9996582653560409, 0.9997003343316748, 0.9994309373523859, 0.9998367924767005, 0.6202941559784396, 0.3796100865222336, 0.9998943987143615, 0.19541262703162174, 0.8044458948808098, 0.9998656523060455, 0.9996397276222773, 0.9995642321274267, 0.8945436124125757, 0.10543061354748673, 0.1688019837937855, 0.7714491262353648, 0.059644211828111755, 0.999298551363873, 0.9998904299538885, 0.9994508530284157, 0.9991848952392368, 0.9999065003505815, 0.9995881621159716, 0.9995867817200178, 0.9995679981150277, 0.9997867476785277, 0.9994767318394295, 0.9996315704745764, 0.9994857196482537, 0.29998800292016886, 0.699857986288102, 0.9267678145140905, 0.07317776731987782, 0.9998590910886995, 0.9995109157058143, 0.9995984885928206, 0.9998884485079449, 0.9992075512081061, 0.7609609085660323, 0.2389556439802595, 0.99965089490893, 0.9995281788814049, 0.9997312016493447, 0.9998513995312586, 0.6772429207815872, 0.18133279387791018, 0.14141954245196575, 0.9206124390490131, 0.07936509749997346, 0.6359157829908334, 0.06024236384694284, 0.23683730768707853, 0.012686418379320092, 0.05429787066349, 0.9999414916271369, 0.5427560019103651, 0.4572323412115412, 0.0007668699209685466, 0.9990781330378226, 0.9997701582033395, 0.18690616339973679, 0.10290851337124883, 0.05779585142104823, 0.3681162836239432, 0.28419458083779564, 0.05100725678699558, 0.20185850558257826, 0.74709352281208, 0.9992651992113507, 0.30140318916994724, 0.027242687599584384, 0.6712845885333952, 0.9997162758039858, 0.9993422140017282, 0.9993037021984721, 0.9996878746469261, 0.9997116346172354, 0.9998986047493431, 0.9995555899515388, 0.37143257450752987, 0.6285688992887114, 0.9994753834928034, 0.7474066907429359, 0.01462552332670243, 0.18376449098088912, 0.0015050010811118596, 0.05271362761022565, 0.9993082597843964, 0.6863351789386818, 0.17158379473467045, 0.14195728690344842, 0.12033831010106194, 0.8796182065082782, 0.9998852235703387, 0.8814057869673495, 3.653949867205661e-05, 0.040631922523326945, 0.07790221116882469, 0.3774432631534478, 0.17658333368051807, 0.44593794413918064, 0.48993239728596916, 0.21215632864756068, 0.0054025502860179965, 0.23376652979163265, 0.05876032221197102, 0.9997178097008144, 0.9999743845144143, 0.17792409064574188, 0.24212911418151417, 0.5800216532977396, 0.999814935907087, 0.5025928705007543, 0.4973421209708023, 0.9996758606006098, 0.07542123901056544, 0.9243901312185848, 0.12264564819928768, 0.8772046118370447, 0.9996123206975424, 0.5055716348560021, 0.03567670222566207, 0.08797826229117348, 0.23614579092223945, 0.13463707863731997, 0.5587647460153832, 0.36055825561438565, 0.08063634501837165, 0.30097192588044913, 0.6989100241000006, 0.9998026005015882, 0.9996310309820293, 0.9997768759488093, 0.9949493830744699, 0.004853411624753511, 0.9994396349631823, 0.19322799569738539, 0.47435293680598745, 0.33233762417877377, 0.9997464981897445, 0.26783323753578875, 0.16753114795784485, 0.17786126349577264, 0.386796180988699, 0.9996196896034206, 0.9996825467781785, 0.9998518089492394, 0.7908962759878931, 0.11835291161774995, 1.8400639244053165e-05, 0.09073355211242615, 0.21085027398358638, 0.314642319352443, 0.4744675528505006, 0.9999505133521833, 0.9992783075450442, 0.9996391932759079, 0.9999128136846867, 0.9994809429138465, 0.11670908901835725, 0.8830006987075152, 0.9991147470221345, 0.9997102402175397, 0.9993079741477631, 0.999179961417763, 0.9989874999908936, 0.06852667166842885, 0.405520292657929, 0.10120624564333912, 0.41309144691216354, 0.011665758085606263, 0.9994027154197846, 0.9997721472678841, 0.999207305835081, 0.9996595001513714, 0.9995325631663692, 0.9999872180550481, 0.9993492260343749, 0.9997603149009155, 0.9995530845523548, 0.9997485001210413, 0.999882956241437, 0.999913808432606, 0.8542416619173279, 0.14560635481514642, 0.6765745546775568, 0.14417961273475166, 0.179198847941668, 0.10783869789647815, 0.2382342598943449, 0.6537871841151136, 0.9995321477646159, 0.5192806330133918, 0.33933358119363327, 0.1413748320245883, 0.001451881988808169, 0.9981688673056162, 0.7838312347936017, 0.2160111445554002, 0.2676599351052004, 0.21307069665331604, 0.23015141700590078, 0.005976923918089528, 0.28317337318593055, 0.9992742615427482, 0.9998242278590518, 0.9999118835828201, 0.9998599639571928, 0.9998839436591804, 0.999660770209667, 0.9994984073566245, 0.9991464498759067, 0.9996813940738366, 0.14434664782175854, 0.12117990187505655, 0.7338116280211758, 0.0007920255024513501, 0.9997190809071138, 0.9916044033618241, 0.00012906474077337292, 0.008260143409495867, 0.9995945958778973, 0.9997171802312832, 0.9996159326312993, 0.9992825217945079, 0.9997902234976594, 0.2190016983045165, 0.781026708844694, 0.3434406380026329, 0.4249163652686571, 0.014785170584954198, 0.08619439872930745, 0.1306285550085581, 0.5550991981185424, 0.44484088605717187, 0.9548521657683838, 0.04499702698109796, 0.9995182607810661, 0.9993437337919006, 0.9995646040507848, 0.9997908368212405, 0.9997602975810831, 0.9993595019067704, 0.13417697775066398, 0.7179988113615627, 0.14763809849587622, 0.718740842307595, 0.03295524700172986, 0.08680761254925862, 0.035519645361135985, 0.12598288961422888, 0.9998032164583303, 0.6336667014552011, 0.14449165402317982, 0.056482389932179654, 0.1653791860341105, 0.23681653815149062, 0.7631242846642566, 0.1560734735191218, 0.15761722696639305, 0.5597649999805496, 0.12651059500387765, 0.9998786129898796, 0.9032061765916941, 0.00023811402344348014, 0.0965552365063312, 0.9996578781079009, 0.5053815636237216, 0.14373488864983774, 0.10527448732800715, 0.05862810284730893, 0.1869971236682108, 0.1717908535570178, 0.7068871377121401, 0.12128700948090873, 0.999710487098415, 0.9998934345498922, 0.9997676773349197, 0.9999856376317561, 0.9993840916355665, 0.9996826959291855, 0.9998327188070116, 0.41464688114408615, 0.09254902824503823, 0.4928004746226865, 2.957621082162037e-05, 0.5553820868083873, 0.1297804130852702, 0.24092781335291952, 0.07391095084322931, 0.3796865468177968, 0.19091023768415152, 0.19028838733967884, 0.08162603995341626, 0.15748741811701894, 0.057451262288036695, 0.24475362392366692, 0.4823844159812804, 0.027975859368644298, 0.187396083107552, 0.5258095978876541, 0.47416578822745764, 0.9998833745779481, 0.00015631369932740498, 0.1985183981458043, 0.8012640227522778, 0.9996541476017202, 0.6969442111551968, 0.2216818949757279, 0.08135410419039624, 0.7459449477717144, 0.13341719886635667, 0.12063565763847389, 0.999779510437044, 0.6455513004678917, 0.021419357753475695, 0.08677185075313147, 0.12343491201729243, 0.12280952930916175, 0.9999204519596625, 0.9998257493990347, 0.9999297806877071, 0.9997051726297395, 0.999567993050476, 0.37418779743787767, 0.0199142559882379, 0.18266056345405282, 0.37765580970153845, 0.045620449983826854, 0.9994684259737034, 0.9998661551567596, 0.9997756167464262, 0.9995774147728903, 0.8696433319380124, 0.052701572037780975, 0.03120310467198541, 0.046433993777533364, 0.67566043996022, 0.06991853075465725, 0.16795443312646888, 0.0017807668690864448, 0.0847270131396919, 0.9998466470184572], \"Term\": [\"1st\", \"1st\", \"2nd\", \"access\", \"access\", \"administer\", \"administer\", \"administration\", \"america\", \"america\", \"americans\", \"americans\", \"americans\", \"americans\", \"answer\", \"anti\", \"antibodies\", \"appointment\", \"appointments\", \"approve\", \"arrive\", \"arrive\", \"article\", \"attend\", \"available\", \"available\", \"available\", \"available\", \"available\", \"away\", \"away\", \"away\", \"begin\", \"begin\", \"begin\", \"begin\", \"begin\", \"biden\", \"billion\", \"black\", \"blame\", \"california\", \"care\", \"case\", \"case\", \"case\", \"center\", \"charge\", \"child\", \"children\", \"children\", \"china\", \"china\", \"city\", \"clinic\", \"clinics\", \"come\", \"come\", \"come\", \"come\", \"come\", \"communities\", \"company\", \"company\", \"corona\", \"coronavirus\", \"coronavirus\", \"coronavirus\", \"country\", \"country\", \"country\", \"county\", \"covid\", \"covid\", \"covid\", \"covid\", \"covid\", \"covid19\", \"covid19\", \"covidvaccine\", \"covidvaccine\", \"covidvaccine\", \"create\", \"create\", \"credit\", \"damn\", \"data\", \"data\", \"daughter\", \"day\", \"day\", \"day\", \"day\", \"definitely\", \"deliver\", \"democrats\", \"department\", \"develop\", \"develop\", \"die\", \"distribute\", \"distribute\", \"distribution\", \"dog\", \"donald\", \"dose\", \"dose\", \"dr\", \"dr\", \"dr\", \"eat\", \"effective\", \"efficacy\", \"elect\", \"election\", \"eligible\", \"email\", \"employees\", \"essential\", \"experts\", \"fail\", \"families\", \"family\", \"family\", \"fauci\", \"fauci\", \"fda\", \"february\", \"federal\", \"feel\", \"fine\", \"flu\", \"flu\", \"friday\", \"frontline\", \"fuck\", \"fund\", \"get\", \"get\", \"get\", \"go\", \"go\", \"good\", \"good\", \"good\", \"good\", \"good\", \"government\", \"health\", \"health\", \"healthcare\", \"healthcare\", \"hell\", \"help\", \"help\", \"help\", \"help\", \"help\", \"high\", \"high\", \"high\", \"hiv\", \"home\", \"home\", \"home\", \"hopefully\", \"idiot\", \"immune_response\", \"immunity\", \"infection\", \"january\", \"joe\", \"kid\", \"kid\", \"kind\", \"know\", \"know\", \"know\", \"know\", \"know\", \"la\", \"let\", \"let\", \"let\", \"lie\", \"lie\", \"life\", \"like\", \"like\", \"like\", \"like\", \"line\", \"line\", \"line\", \"live\", \"live\", \"live\", \"live\", \"live\", \"lol\", \"mask\", \"medical\", \"medical\", \"medical\", \"million\", \"moderna\", \"moderna\", \"monday\", \"money\", \"money\", \"morning\", \"morning\", \"mrna\", \"need\", \"need\", \"need\", \"need\", \"need\", \"new\", \"new\", \"new\", \"news\", \"news\", \"normal\", \"november\", \"nurse\", \"oh\", \"oh\", \"ok\", \"open\", \"open\", \"open\", \"operation_warp\", \"pandemic\", \"pandemic\", \"pandemic\", \"pandemic\", \"parent\", \"pause\", \"pence\", \"people\", \"people\", \"people\", \"people\", \"pfizer\", \"pfizer\", \"pfizer\", \"plan\", \"potential\", \"ppl\", \"president\", \"pretty\", \"prevent\", \"prevent\", \"prioritize\", \"probably\", \"production\", \"profit\", \"protection\", \"public\", \"public\", \"public\", \"public\", \"public\", \"putin\", \"question\", \"race\", \"racism\", \"rally\", \"receive\", \"reduce\", \"register\", \"relief\", \"reopen\", \"research\", \"residents\", \"result\", \"result\", \"right\", \"right\", \"right\", \"risk\", \"risk\", \"risk\", \"russian\", \"safe\", \"safe\", \"safe\", \"safely\", \"safely\", \"safety\", \"safety\", \"say\", \"say\", \"say\", \"say\", \"say\", \"scar\", \"schedule\", \"school\", \"scientists\", \"second\", \"sell\", \"shingle\", \"ship\", \"shit\", \"show\", \"show\", \"show\", \"show\", \"sick\", \"sign\", \"sign\", \"sign\", \"site\", \"social_distance\", \"sorry\", \"sound\", \"speed\", \"staff\", \"staff\", \"start\", \"start\", \"start\", \"start\", \"start\", \"state\", \"state\", \"stay\", \"stay\", \"stimulus\", \"strain\", \"students\", \"study\", \"stupid\", \"suggest\", \"support\", \"support\", \"support\", \"take\", \"take\", \"take\", \"take\", \"take\", \"teachers\", \"tell\", \"tell\", \"tell\", \"tell\", \"test\", \"test\", \"thank\", \"thank\", \"thank\", \"thank\", \"thing\", \"think\", \"think\", \"think\", \"till\", \"time\", \"time\", \"time\", \"time\", \"time\", \"today\", \"today\", \"today\", \"treatment\", \"trial\", \"trials\", \"trump\", \"tuesday\", \"uk\", \"update\", \"vaccinate\", \"vaccinate\", \"vaccinate\", \"vaccination\", \"vaccination\", \"vaccination\", \"vaccination\", \"vaccination\", \"vaccine\", \"vaccine\", \"vaccine\", \"vaccine\", \"vaccine\", \"vaccines\", \"vaccines\", \"vaccines\", \"vaccines\", \"vaccines\", \"virus\", \"virus\", \"visit\", \"vote\", \"vote\", \"vote\", \"vulnerable\", \"wait\", \"wait\", \"wait\", \"want\", \"want\", \"want\", \"warp_speed\", \"way\", \"way\", \"way\", \"way\", \"way\", \"wear\", \"website\", \"week\", \"white\", \"white_house\", \"work\", \"work\", \"work\", \"work\", \"work\", \"worker\", \"workers\", \"worry\", \"yeah\", \"year\", \"year\", \"year\", \"year\", \"years\", \"years\", \"years\", \"years\", \"years\", \"york\"]}, \"R\": 30, \"lambda.step\": 0.01, \"plot.opts\": {\"xlab\": \"PC1\", \"ylab\": \"PC2\"}, \"topic.order\": [5, 3, 4, 1, 2]};\n",
              "\n",
              "function LDAvis_load_lib(url, callback){\n",
              "  var s = document.createElement('script');\n",
              "  s.src = url;\n",
              "  s.async = true;\n",
              "  s.onreadystatechange = s.onload = callback;\n",
              "  s.onerror = function(){console.warn(\"failed to load library \" + url);};\n",
              "  document.getElementsByTagName(\"head\")[0].appendChild(s);\n",
              "}\n",
              "\n",
              "if(typeof(LDAvis) !== \"undefined\"){\n",
              "   // already loaded: just create the visualization\n",
              "   !function(LDAvis){\n",
              "       new LDAvis(\"#\" + \"ldavis_el62139870706079088558847777\", ldavis_el62139870706079088558847777_data);\n",
              "   }(LDAvis);\n",
              "}else if(typeof define === \"function\" && define.amd){\n",
              "   // require.js is available: use it to load d3/LDAvis\n",
              "   require.config({paths: {d3: \"https://cdnjs.cloudflare.com/ajax/libs/d3/3.5.5/d3.min\"}});\n",
              "   require([\"d3\"], function(d3){\n",
              "      window.d3 = d3;\n",
              "      LDAvis_load_lib(\"https://cdn.rawgit.com/bmabey/pyLDAvis/files/ldavis.v1.0.0.js\", function(){\n",
              "        new LDAvis(\"#\" + \"ldavis_el62139870706079088558847777\", ldavis_el62139870706079088558847777_data);\n",
              "      });\n",
              "    });\n",
              "}else{\n",
              "    // require.js not available: dynamically load d3 & LDAvis\n",
              "    LDAvis_load_lib(\"https://cdnjs.cloudflare.com/ajax/libs/d3/3.5.5/d3.min.js\", function(){\n",
              "         LDAvis_load_lib(\"https://cdn.rawgit.com/bmabey/pyLDAvis/files/ldavis.v1.0.0.js\", function(){\n",
              "                 new LDAvis(\"#\" + \"ldavis_el62139870706079088558847777\", ldavis_el62139870706079088558847777_data);\n",
              "            })\n",
              "         });\n",
              "}\n",
              "</script>"
            ],
            "text/plain": [
              "PreparedData(topic_coordinates=              x         y  topics  cluster       Freq\n",
              "topic                                                \n",
              "4     -0.042508 -0.152628       1        1  28.458963\n",
              "2      0.079881  0.221350       2        1  19.629514\n",
              "3     -0.100543  0.134550       3        1  17.844042\n",
              "0      0.257723 -0.110969       4        1  17.735164\n",
              "1     -0.194554 -0.092303       5        1  16.332317, topic_info=         Term          Freq         Total Category  logprob  loglift\n",
              "96    covid19  97587.000000  97587.000000  Default  30.0000  30.0000\n",
              "284     trump  52776.000000  52776.000000  Default  29.0000  29.0000\n",
              "114   receive  24227.000000  24227.000000  Default  28.0000  28.0000\n",
              "182      dose  28454.000000  28454.000000  Default  27.0000  27.0000\n",
              "19         go  35254.000000  35254.000000  Default  26.0000  26.0000\n",
              "..        ...           ...           ...      ...      ...      ...\n",
              "300      need   4437.835977  32962.687879   Topic5  -5.4077  -0.1932\n",
              "218      time   4088.898194  21866.646501   Topic5  -5.4896   0.1353\n",
              "9    vaccines   3999.055141  21339.827032   Topic5  -5.5118   0.1375\n",
              "61      covid   4134.423746  59873.704478   Topic5  -5.4785  -0.8609\n",
              "467      come   3974.409511  23292.147092   Topic5  -5.5180   0.0438\n",
              "\n",
              "[314 rows x 6 columns], token_table=      Topic      Freq    Term\n",
              "term                         \n",
              "115       2  0.798535     1st\n",
              "115       4  0.201385     1st\n",
              "179       2  0.999833     2nd\n",
              "1273      2  0.176722  access\n",
              "1273      4  0.823074  access\n",
              "...     ...       ...     ...\n",
              "144       2  0.069919   years\n",
              "144       3  0.167954   years\n",
              "144       4  0.001781   years\n",
              "144       5  0.084727   years\n",
              "3505      2  0.999847    york\n",
              "\n",
              "[436 rows x 3 columns], R=30, lambda_step=0.01, plot_opts={'xlab': 'PC1', 'ylab': 'PC2'}, topic_order=[5, 3, 4, 1, 2])"
            ]
          },
          "metadata": {
            "tags": []
          }
        }
      ]
    },
    {
      "cell_type": "markdown",
      "metadata": {
        "id": "rCzoHCDx-Dgv"
      },
      "source": [
        "UK"
      ]
    },
    {
      "cell_type": "code",
      "metadata": {
        "colab": {
          "base_uri": "https://localhost:8080/",
          "height": 912
        },
        "id": "aKrmAFzcF9Of",
        "outputId": "c241d392-1735-40c7-e2ba-5cee223a5d45"
      },
      "source": [
        "uk_topics = get_topic_model(country_name=\"UK\", num_topics=3)"
      ],
      "execution_count": null,
      "outputs": [
        {
          "output_type": "stream",
          "text": [
            "100%|██████████| 232624/232624 [00:30<00:00, 7595.83it/s]\n"
          ],
          "name": "stderr"
        },
        {
          "output_type": "stream",
          "text": [
            "\n",
            "\n"
          ],
          "name": "stdout"
        },
        {
          "output_type": "display_data",
          "data": {
            "text/html": [
              "\n",
              "<link rel=\"stylesheet\" type=\"text/css\" href=\"https://cdn.rawgit.com/bmabey/pyLDAvis/files/ldavis.v1.0.0.css\">\n",
              "\n",
              "\n",
              "<div id=\"ldavis_el621398707264616246142560425\"></div>\n",
              "<script type=\"text/javascript\">\n",
              "\n",
              "var ldavis_el621398707264616246142560425_data = {\"mdsDat\": {\"x\": [-0.10211681139464912, -0.1213074298719718, 0.22342424126662086], \"y\": [0.15843514706837722, -0.14961533526882442, -0.008819811799552896], \"topics\": [1, 2, 3], \"cluster\": [1, 1, 1], \"Freq\": [40.643736562512395, 30.481123518920295, 28.87513991856731]}, \"tinfo\": {\"Term\": [\"vaccinate\", \"vaccination\", \"dose\", \"uk\", \"nhs\", \"today\", \"thank\", \"help\", \"virus\", \"staff\", \"weeks\", \"care\", \"home\", \"number\", \"government\", \"covidvaccine\", \"second\", \"pfizer\", \"school\", \"population\", \"centre\", \"million\", \"great\", \"day\", \"patients\", \"think\", \"vulnerable\", \"bivalent\", \"supply\", \"team\", \"virus\", \"develop\", \"effect\", \"eu\", \"drug\", \"kill\", \"trump\", \"fuck\", \"dexamethasone\", \"company\", \"research\", \"money\", \"cure\", \"brexit\", \"immune\", \"refuse\", \"produce\", \"treatment\", \"gate\", \"rush\", \"wear_mask\", \"anti\", \"create\", \"strain\", \"global\", \"mrna\", \"buy\", \"choice\", \"human\", \"china\", \"spread\", \"fund\", \"approve\", \"prevent\", \"years\", \"vaccine\", \"life\", \"mask\", \"die\", \"world\", \"stop\", \"flu\", \"like\", \"think\", \"know\", \"test\", \"want\", \"normal\", \"people\", \"take\", \"go\", \"covid\", \"vaccines\", \"oxford\", \"new\", \"live\", \"work\", \"need\", \"say\", \"get\", \"come\", \"covid19\", \"way\", \"time\", \"good\", \"year\", \"dose\", \"weeks\", \"number\", \"second\", \"million\", \"population\", \"school\", \"supply\", \"2nd\", \"rate\", \"delay\", \"restrictions\", \"scotland\", \"protection\", \"half\", \"figure\", \"level\", \"fully\", \"strategy\", \"increase\", \"single\", \"rat\", \"target\", \"israel\", \"slow\", \"raise_232k\", \"rtdonate_thank\", \"summer\", \"sign_petition\", \"ny_bivalent\", \"children\", \"efficacy\", \"data\", \"teachers\", \"vaccinate\", \"uk\", \"government\", \"days\", \"pfizer\", \"vulnerable\", \"high\", \"lockdown\", \"group\", \"risk\", \"people\", \"case\", \"vaccine\", \"give\", \"vaccination\", \"need\", \"say\", \"jab\", \"covid19\", \"time\", \"think\", \"covid\", \"rollout\", \"go\", \"nhs\", \"today\", \"thank\", \"staff\", \"care\", \"home\", \"covidvaccine\", \"centre\", \"team\", \"patients\", \"bivalent\", \"nurse\", \"book\", \"volunteer\", \"workers\", \"morning\", \"mum\", \"local\", \"amaze\", \"community\", \"thank_childhoodcancer\", \"list\", \"contact\", \"spread_liams\", \"plea_far\", \"tomorrow\", \"gp\", \"pls\", \"service\", \"proud\", \"mass\", \"happy\", \"sit\", \"help\", \"great\", \"vaccination\", \"day\", \"covid19\", \"get\", \"vaccine\", \"support\", \"work\", \"covid\", \"offer\", \"year\", \"news\", \"need\", \"receive\", \"vaccinate\", \"week\", \"good\", \"people\", \"wait\"], \"Freq\": [35892.0, 34632.0, 15237.0, 17577.0, 8630.0, 7866.0, 7729.0, 10968.0, 10155.0, 6346.0, 6621.0, 6054.0, 6013.0, 5743.0, 9965.0, 5098.0, 5305.0, 10843.0, 4841.0, 4530.0, 4281.0, 4341.0, 5937.0, 7224.0, 3611.0, 14243.0, 6687.0, 3449.0, 3598.0, 3404.0, 10154.612376471232, 3331.9626302222205, 3258.270533105223, 2905.158968099898, 2652.162614932942, 2188.611479366249, 2172.6130983085295, 2187.603299617538, 3829.464031921699, 1954.4040690552852, 2162.4137583047113, 1839.793192856878, 1816.0771556727982, 1681.7691164657556, 1617.2841011461746, 2018.1033908739137, 1532.390852893572, 2010.8669806698992, 1500.2300296682417, 1490.5495934955375, 1466.7509027396393, 1307.2403080895342, 1342.788820173861, 1278.7371477015015, 1317.6258609142826, 1226.1316796681274, 1326.2763809718176, 1245.823858541779, 1171.439382006585, 1141.1439405231195, 2716.5421327286945, 1398.8062055001817, 2939.8850979118624, 1412.2304192868514, 3927.7165617579853, 98656.11850523856, 2869.2648893233463, 1923.855059704508, 3611.4189253301515, 4929.293439200859, 4175.164741998568, 7327.746138974966, 7993.5191370408975, 9787.123243415352, 8571.826657857891, 6315.421805128227, 6285.317629824774, 2678.9659083950373, 15505.916401318118, 4641.456044220918, 8122.860762632757, 11511.373665280005, 5336.617440427321, 4039.2266137553647, 4637.829532227271, 4685.394793758059, 6657.77151511751, 8497.53812592114, 5997.479957948444, 6409.058195280151, 4593.492328787796, 6882.757029674299, 4000.467488052168, 4592.376436344153, 3843.966203346856, 3694.7171119396753, 15237.056945494473, 6620.811936679207, 5742.811882378706, 5304.58020038464, 4340.41875091312, 4529.883114028762, 4840.29206519671, 3597.838076764012, 3311.9688239194516, 2987.5026866278454, 2715.848234494388, 2811.6207969258526, 2632.1247777378544, 2391.756302059929, 2170.5993625385363, 2042.0581251609588, 1995.42144312829, 1824.672722052163, 1690.3657810904126, 1767.4885299727703, 1624.2719001120854, 1520.5261992288183, 1485.359664412853, 1379.7421086004401, 1478.4118514228494, 1879.0053152978492, 1413.820085224861, 1248.8662440827559, 1062.4974813031215, 1205.92561374261, 3273.4865682632744, 1796.0695161568299, 3315.8192714561965, 2390.717167151404, 29522.558701261016, 14293.31644898749, 7538.761785884195, 4118.271061461957, 7599.581496517455, 5136.2764781920005, 2721.5572466656854, 4992.909086552021, 3977.415120178433, 4851.34294515116, 13365.859055287716, 3767.5779814161556, 34954.810455370774, 5181.5731247401145, 11872.529990318413, 7979.272753401038, 5548.060473945109, 4400.109201827642, 6438.0384062479525, 4835.83607861255, 4357.120082678316, 4599.745208846038, 3447.1296663088306, 3688.4762246044925, 8630.159844162466, 7865.348437469931, 7728.6400785095175, 6345.87006339598, 6053.524586566629, 6012.578963562142, 5097.959635899271, 4281.041519699847, 3403.407848330852, 3610.9049892558514, 3448.664779354703, 2627.554763968173, 2415.6023162343336, 2407.2248128891697, 2412.190410490227, 2391.861794497118, 1952.4412261829693, 2003.0302435302754, 2053.0590032922946, 1960.2116526643006, 1908.3437608219278, 1895.672260787283, 1735.599311355624, 1705.300352948507, 1688.821147218352, 1499.1414958552168, 1435.7849792802813, 1614.5688205994993, 1444.8100837387753, 1394.6514890026378, 2998.964035165582, 2669.221561237991, 1446.0477454655422, 9229.714148282521, 4996.995632192297, 22747.603657933727, 5066.330655886071, 12584.493290655599, 8766.795023410195, 40365.822501520415, 3134.2699796858587, 7165.4372065067355, 9810.285792307828, 3000.767560987882, 4844.974221632901, 4956.037025690398, 6712.081017637207, 3642.3030203908465, 6370.096089248535, 3334.1526928181265, 3217.4902637026275, 3648.118840352722, 3081.4483909426885], \"Total\": [35892.0, 34632.0, 15237.0, 17577.0, 8630.0, 7866.0, 7729.0, 10968.0, 10155.0, 6346.0, 6621.0, 6054.0, 6013.0, 5743.0, 9965.0, 5098.0, 5305.0, 10843.0, 4841.0, 4530.0, 4281.0, 4341.0, 5937.0, 7224.0, 3611.0, 14243.0, 6687.0, 3449.0, 3598.0, 3404.0, 10155.488111359282, 3332.855975602553, 3259.158106898709, 2906.0250981654394, 2653.0558622046374, 2189.476434997098, 2173.4757508710286, 2188.4894261559375, 3831.0873915425154, 1955.2752583631907, 2163.3962674638983, 1840.6664270216802, 1816.9513917584459, 1682.6506788792465, 1618.135057762622, 2019.1793123532889, 1533.2678725819378, 2012.0227998594676, 1501.1050879146417, 1491.4343736195217, 1467.651853999003, 1308.084675783035, 1343.6681531411698, 1279.5851967843234, 1318.5167588459985, 1226.964449280861, 1327.1821169969276, 1246.6932926729305, 1172.308817850817, 1142.0124308748332, 2745.53436524433, 1403.1416235025201, 3008.955076208296, 1422.3175156865857, 4473.6988913722935, 173976.75146212976, 3197.8966992883684, 2035.0920912837323, 4210.500969927766, 6057.719980239087, 4997.212010062208, 9663.352205409303, 10766.159029218978, 14243.046684029643, 12370.900858977257, 8564.105798280933, 8665.066071530586, 3047.797594329668, 32519.89429695856, 6392.350792488857, 14452.737667596866, 25921.40466643387, 8841.012293420725, 5929.639250258183, 7705.861305137281, 7903.305328782451, 14499.94496739472, 23188.891896959387, 12633.990101533538, 17031.03422730347, 8496.169189864135, 25905.288726577848, 6599.73755978324, 12119.442284625718, 9033.4211632029, 9268.070133898684, 15237.714609605724, 6621.50366883118, 5743.505378616043, 5305.253325195238, 4341.085721048768, 4530.579945006343, 4841.193002295628, 3598.5188973378145, 3312.63304363909, 2988.1707448342145, 2716.52059258752, 2812.3249377862244, 2632.8173541702963, 2392.4464746705944, 2171.29097886456, 2042.736509656934, 1996.1393605237254, 1825.3797906413977, 1691.0402911455903, 1768.1972425944036, 1624.9545187067333, 1521.214047940159, 1486.0536854111372, 1380.3886812763612, 1479.1115740376467, 1879.9467106477166, 1414.5677461322352, 1249.5816001410924, 1063.1576336921294, 1206.7388020203152, 3292.6831999188494, 1800.205057809828, 3466.3196164395, 2468.360715862624, 35892.97586491855, 17577.775388252263, 9965.5177018828, 4952.118955141301, 10843.068763426862, 6687.329519837553, 3084.571010816119, 6879.432148932704, 5346.85168880932, 7381.406492731958, 32519.89429695856, 5156.62951165202, 173976.75146212976, 8810.161431149549, 34632.47702835542, 23188.891896959387, 12633.990101533538, 7729.075146397013, 25905.288726577848, 12119.442284625718, 14243.046684029643, 25921.40466643387, 4972.35143874901, 14452.737667596866, 8630.957844227025, 7866.140550955649, 7729.435924993533, 6346.642874180877, 6054.319834677719, 6013.372007311548, 5098.753480557101, 4281.787709475023, 3404.1709961945876, 3611.7784400706437, 3449.5655982496096, 2628.3322498616735, 2416.3617975583334, 2407.990506738818, 2412.9578832284406, 2392.662100869284, 1953.1895782417332, 2003.8035373149055, 2053.855770552311, 1961.041447942081, 1909.1797799796964, 1896.5176901721743, 1736.384450914532, 1706.1591619088651, 1689.6809445794056, 1499.912757705841, 1436.5458312102269, 1615.4344376678148, 1445.6003798931717, 1395.4283631033397, 3001.929151267945, 2673.391126834694, 1446.876222811075, 10968.285826558531, 5937.719402578131, 34632.47702835542, 7224.406539219096, 25905.288726577848, 17031.03422730347, 173976.75146212976, 4013.2801780474774, 14499.94496739472, 25921.40466643387, 3969.256503986354, 9268.070133898684, 10186.732201567294, 23188.891896959387, 6008.782619063728, 35892.97586491855, 6690.809505436997, 9033.4211632029, 32519.89429695856, 6822.606961480013], \"Category\": [\"Default\", \"Default\", \"Default\", \"Default\", \"Default\", \"Default\", \"Default\", \"Default\", \"Default\", \"Default\", \"Default\", \"Default\", \"Default\", \"Default\", \"Default\", \"Default\", \"Default\", \"Default\", \"Default\", \"Default\", \"Default\", \"Default\", \"Default\", \"Default\", \"Default\", \"Default\", \"Default\", \"Default\", \"Default\", \"Default\", \"Topic1\", \"Topic1\", \"Topic1\", \"Topic1\", \"Topic1\", \"Topic1\", \"Topic1\", \"Topic1\", \"Topic1\", \"Topic1\", \"Topic1\", \"Topic1\", \"Topic1\", \"Topic1\", \"Topic1\", \"Topic1\", \"Topic1\", \"Topic1\", \"Topic1\", \"Topic1\", \"Topic1\", \"Topic1\", \"Topic1\", \"Topic1\", \"Topic1\", \"Topic1\", \"Topic1\", \"Topic1\", \"Topic1\", \"Topic1\", \"Topic1\", \"Topic1\", \"Topic1\", \"Topic1\", \"Topic1\", \"Topic1\", \"Topic1\", \"Topic1\", \"Topic1\", \"Topic1\", \"Topic1\", \"Topic1\", \"Topic1\", \"Topic1\", \"Topic1\", \"Topic1\", \"Topic1\", \"Topic1\", \"Topic1\", \"Topic1\", \"Topic1\", \"Topic1\", \"Topic1\", \"Topic1\", \"Topic1\", \"Topic1\", \"Topic1\", \"Topic1\", \"Topic1\", \"Topic1\", \"Topic1\", \"Topic1\", \"Topic1\", \"Topic1\", \"Topic1\", \"Topic1\", \"Topic2\", \"Topic2\", \"Topic2\", \"Topic2\", \"Topic2\", \"Topic2\", \"Topic2\", \"Topic2\", \"Topic2\", \"Topic2\", \"Topic2\", \"Topic2\", \"Topic2\", \"Topic2\", \"Topic2\", \"Topic2\", \"Topic2\", \"Topic2\", \"Topic2\", \"Topic2\", \"Topic2\", \"Topic2\", \"Topic2\", \"Topic2\", \"Topic2\", \"Topic2\", \"Topic2\", \"Topic2\", \"Topic2\", \"Topic2\", \"Topic2\", \"Topic2\", \"Topic2\", \"Topic2\", \"Topic2\", \"Topic2\", \"Topic2\", \"Topic2\", \"Topic2\", \"Topic2\", \"Topic2\", \"Topic2\", \"Topic2\", \"Topic2\", \"Topic2\", \"Topic2\", \"Topic2\", \"Topic2\", \"Topic2\", \"Topic2\", \"Topic2\", \"Topic2\", \"Topic2\", \"Topic2\", \"Topic2\", \"Topic2\", \"Topic2\", \"Topic2\", \"Topic3\", \"Topic3\", \"Topic3\", \"Topic3\", \"Topic3\", \"Topic3\", \"Topic3\", \"Topic3\", \"Topic3\", \"Topic3\", \"Topic3\", \"Topic3\", \"Topic3\", \"Topic3\", \"Topic3\", \"Topic3\", \"Topic3\", \"Topic3\", \"Topic3\", \"Topic3\", \"Topic3\", \"Topic3\", \"Topic3\", \"Topic3\", \"Topic3\", \"Topic3\", \"Topic3\", \"Topic3\", \"Topic3\", \"Topic3\", \"Topic3\", \"Topic3\", \"Topic3\", \"Topic3\", \"Topic3\", \"Topic3\", \"Topic3\", \"Topic3\", \"Topic3\", \"Topic3\", \"Topic3\", \"Topic3\", \"Topic3\", \"Topic3\", \"Topic3\", \"Topic3\", \"Topic3\", \"Topic3\", \"Topic3\", \"Topic3\", \"Topic3\", \"Topic3\", \"Topic3\"], \"logprob\": [30.0, 29.0, 28.0, 27.0, 26.0, 25.0, 24.0, 23.0, 22.0, 21.0, 20.0, 19.0, 18.0, 17.0, 16.0, 15.0, 14.0, 13.0, 12.0, 11.0, 10.0, 9.0, 8.0, 7.0, 6.0, 5.0, 4.0, 3.0, 2.0, 1.0, -4.763199806213379, -5.877500057220459, -5.899899959564209, -6.014599800109863, -6.1057000160217285, -6.297800064086914, -6.305200099945068, -6.298299789428711, -5.738399982452393, -6.410999774932861, -6.309899806976318, -6.471399784088135, -6.484399795532227, -6.561200141906738, -6.600299835205078, -6.378900051116943, -6.654300212860107, -6.382500171661377, -6.67549991607666, -6.6819000244140625, -6.697999954223633, -6.813199996948242, -6.786300182342529, -6.83519983291626, -6.805300235748291, -6.877200126647949, -6.798699855804443, -6.861299991607666, -6.922900199890137, -6.949100017547607, -6.081699848175049, -6.745500087738037, -6.002699851989746, -6.735899925231934, -5.7129998207092285, -2.4893999099731445, -6.0269999504089355, -6.426799774169922, -5.796999931335449, -5.485899925231934, -5.651899814605713, -5.089399814605713, -5.002500057220459, -4.800000190734863, -4.932600021362305, -5.238100051879883, -5.2428998947143555, -6.095699787139893, -4.339900016784668, -5.54610013961792, -4.986400127410889, -4.637800216674805, -5.406499862670898, -5.684999942779541, -5.546800136566162, -5.536600112915039, -5.185299873352051, -4.941299915313721, -5.289700031280518, -5.223400115966797, -5.556399822235107, -5.152100086212158, -5.694699764251709, -5.556700229644775, -5.734600067138672, -5.774199962615967, -4.0696001052856445, -4.90310001373291, -5.045400142669678, -5.124800205230713, -5.325399875640869, -5.282700061798096, -5.216400146484375, -5.513000011444092, -5.595799922943115, -5.69890022277832, -5.7941999435424805, -5.7596001625061035, -5.8256001472473145, -5.921299934387207, -6.0183000564575195, -6.079400062561035, -6.102499961853027, -6.19189977645874, -6.268400192260742, -6.223800182342529, -6.308300018310547, -6.374300003051758, -6.39769983291626, -6.471499919891357, -6.402400016784668, -6.162600040435791, -6.4471001625061035, -6.571100234985352, -6.732699871063232, -6.606100082397461, -5.607500076293945, -6.207699775695801, -5.594600200653076, -5.921800136566162, -3.4082000255584717, -4.133600234985352, -4.7733001708984375, -5.377900123596191, -4.7652997970581055, -5.1570000648498535, -5.792099952697754, -5.185299873352051, -5.412700176239014, -5.214099884033203, -4.2006001472473145, -5.466899871826172, -3.239300012588501, -5.148200035095215, -4.3190999031066895, -4.7164998054504395, -5.079899787902832, -5.311699867248535, -4.931099891662598, -5.217299938201904, -5.321499824523926, -5.267300128936768, -5.555799961090088, -5.488100051879883, -4.584000110626221, -4.676799774169922, -4.694300174713135, -4.89139986038208, -4.938600063323975, -4.945400238037109, -5.110400199890137, -5.284999847412109, -5.514400005340576, -5.4552998542785645, -5.501200199127197, -5.773200035095215, -5.8572998046875, -5.8607001304626465, -5.858699798583984, -5.867199897766113, -6.070099830627441, -6.044600009918213, -6.019899845123291, -6.066199779510498, -6.0929999351501465, -6.099599838256836, -6.187900066375732, -6.20550012588501, -6.215199947357178, -6.3343000411987305, -6.377500057220459, -6.260200023651123, -6.371200084686279, -6.406599998474121, -5.640999794006348, -5.757400035858154, -6.3703999519348145, -4.5167999267578125, -5.13040018081665, -3.614799976348877, -5.116600036621094, -4.2067999839782715, -4.568299770355225, -3.0411999225616455, -5.596799850463867, -4.769999980926514, -4.4558000564575195, -5.640399932861328, -5.161300182342529, -5.138599872589111, -4.835299968719482, -5.446599960327148, -4.887599945068359, -5.534999847412109, -5.5706000328063965, -5.445000171661377, -5.613800048828125], \"loglift\": [30.0, 29.0, 28.0, 27.0, 26.0, 25.0, 24.0, 23.0, 22.0, 21.0, 20.0, 19.0, 18.0, 17.0, 16.0, 15.0, 14.0, 13.0, 12.0, 11.0, 10.0, 9.0, 8.0, 7.0, 6.0, 5.0, 4.0, 3.0, 2.0, 1.0, 0.9002, 0.9001, 0.9001, 0.9, 0.9, 0.8999, 0.8999, 0.8999, 0.8999, 0.8999, 0.8999, 0.8999, 0.8998, 0.8998, 0.8998, 0.8998, 0.8998, 0.8998, 0.8997, 0.8997, 0.8997, 0.8997, 0.8997, 0.8997, 0.8996, 0.8996, 0.8996, 0.8996, 0.8996, 0.8996, 0.8897, 0.8972, 0.8771, 0.8932, 0.7702, 0.333, 0.7919, 0.8441, 0.7468, 0.6942, 0.7206, 0.6237, 0.6025, 0.5251, 0.5335, 0.5957, 0.5792, 0.7713, 0.1597, 0.5803, 0.3241, 0.0886, 0.3955, 0.5164, 0.3926, 0.3775, 0.122, -0.1036, 0.1553, -0.077, 0.2854, -0.4251, 0.3997, -0.0701, 0.0459, -0.0193, 1.188, 1.188, 1.1879, 1.1879, 1.1879, 1.1879, 1.1879, 1.1879, 1.1879, 1.1878, 1.1878, 1.1878, 1.1878, 1.1878, 1.1877, 1.1877, 1.1877, 1.1877, 1.1877, 1.1877, 1.1876, 1.1876, 1.1876, 1.1876, 1.1876, 1.1876, 1.1875, 1.1875, 1.1874, 1.1874, 1.1822, 1.1858, 1.1437, 1.1561, 0.9927, 0.9812, 0.909, 1.0037, 0.8326, 0.9242, 1.0629, 0.8675, 0.8922, 0.7684, 0.2989, 0.8742, -0.4168, 0.6573, 0.1175, 0.1212, 0.3651, 0.6247, -0.2042, 0.2693, 0.0036, -0.541, 0.8217, -0.1776, 1.2421, 1.2421, 1.2421, 1.2421, 1.2421, 1.2421, 1.242, 1.242, 1.242, 1.2419, 1.2419, 1.2419, 1.2419, 1.2419, 1.2419, 1.2419, 1.2418, 1.2418, 1.2418, 1.2418, 1.2418, 1.2417, 1.2417, 1.2417, 1.2417, 1.2417, 1.2417, 1.2417, 1.2416, 1.2416, 1.2412, 1.2406, 1.2416, 1.0696, 1.0697, 0.8219, 0.8873, 0.5202, 0.5781, -0.2187, 0.995, 0.5373, 0.2706, 0.9625, 0.5936, 0.5217, 0.0024, 0.7416, -0.4867, 0.5457, 0.2099, -0.9455, 0.4473]}, \"token.table\": {\"Topic\": [2, 3, 1, 1, 2, 2, 3, 3, 1, 2, 1, 2, 3, 1, 2, 3, 1, 2, 1, 1, 1, 2, 3, 3, 1, 3, 1, 2, 3, 1, 2, 3, 3, 1, 1, 1, 2, 2, 3, 1, 2, 3, 2, 1, 2, 1, 2, 3, 1, 2, 2, 1, 2, 1, 2, 1, 2, 1, 2, 2, 1, 2, 3, 1, 2, 2, 1, 2, 3, 1, 1, 2, 3, 1, 2, 3, 1, 1, 2, 3, 1, 2, 3, 1, 2, 3, 1, 2, 3, 2, 3, 2, 1, 3, 1, 2, 3, 1, 2, 3, 3, 1, 1, 2, 2, 1, 2, 3, 1, 1, 2, 3, 2, 1, 2, 3, 1, 2, 3, 2, 3, 1, 2, 3, 3, 1, 2, 1, 2, 3, 1, 2, 3, 2, 1, 3, 1, 3, 1, 2, 3, 1, 2, 3, 1, 2, 3, 3, 1, 2, 2, 3, 2, 3, 1, 2, 3, 1, 2, 2, 3, 1, 2, 3, 1, 2, 2, 3, 2, 3, 2, 1, 2, 1, 2, 3, 2, 3, 2, 2, 2, 3, 1, 2, 3, 1, 2, 2, 1, 2, 3, 1, 2, 3, 2, 1, 2, 1, 2, 3, 2, 3, 2, 2, 3, 2, 2, 2, 3, 2, 1, 2, 2, 3, 3, 1, 2, 1, 2, 2, 2, 1, 2, 3, 1, 2, 3, 2, 2, 3, 3, 1, 2, 3, 3, 2, 3, 1, 2, 3, 1, 2, 3, 3, 3, 1, 2, 3, 1, 1, 2, 2, 3, 1, 2, 3, 1, 2, 3, 1, 2, 3, 1, 3, 2, 3, 1, 2, 3, 1, 2, 3, 1, 2, 3, 1, 2, 3, 2, 1, 2, 3, 3, 1, 2, 1, 2, 3, 1, 2, 3], \"Freq\": [0.9998089001616688, 0.9995833346408347, 0.9991707908493113, 0.9770833812862407, 0.022931548744472997, 0.00028989157374117585, 0.9998360378333154, 0.9998502717768925, 0.9996133012707784, 0.000594300416926741, 0.9991093031003142, 0.000753476095852424, 0.9999471724840358, 0.2693619925304676, 0.7307098544671, 0.99981603257133, 0.005770369891785602, 0.9940221397796987, 0.9991134677281424, 0.9994438947598377, 0.5405965791593951, 0.18431836337113272, 0.2749474437004892, 0.9994689311930791, 0.999347785761756, 0.9997785911326668, 0.4440731568419136, 0.17745951884917058, 0.37845171302399205, 0.2656986406385157, 0.24852068116094206, 0.48576953273210544, 0.9998522225951942, 0.9995027394676224, 0.9994763801812413, 0.04327356291341521, 0.956634230805899, 0.29870965708876945, 0.7012340698849426, 0.0002019337598830896, 0.831563223198563, 0.16821082198261364, 0.9998083605223018, 0.9997431705393756, 0.0003000429683491523, 0.9994551438458116, 0.00026102249773983066, 0.00026102249773983066, 0.8576176625514348, 0.14226335637449722, 0.9999531025731855, 0.9996020203646372, 0.00037692383874986317, 0.9996446607188962, 0.00030682770433360844, 0.002221969093269016, 0.9976641228777882, 0.9996472507528973, 0.00034411265086158255, 0.9996394495063596, 0.7583289777948866, 0.0001034837578868568, 0.24163457466581062, 0.9997763634815466, 0.00045693618075024985, 0.9997919388374162, 0.9970483211151688, 0.000712686433963666, 0.002850745735854664, 0.9992638170881315, 0.37631302447418896, 0.10891881110931823, 0.5147661547144975, 0.25005217182638534, 0.5881844550178524, 0.16174504986500188, 0.9996080756330691, 0.5620388459836104, 0.255176568261425, 0.18273354576421458, 0.42553091797139975, 0.2183004605201874, 0.3561219987289264, 0.2434394351175205, 0.7565086155610005, 0.9996200391255411, 0.1559521319916086, 0.002526222440468822, 0.8415689023348468, 0.7438021907964367, 0.25603852129754134, 0.9998659880838668, 0.0014962270054124163, 0.9983574693614349, 0.15845684799639512, 9.117194936501444e-05, 0.8415170926390834, 0.07261949853465487, 0.8824565848720113, 0.04506299239427244, 0.9999381366542606, 0.9988835553986395, 0.9992985395395911, 0.9993229021256436, 0.9997184262073188, 0.13429808616673553, 0.5692789779707479, 0.2964132133024962, 0.9997823977506758, 0.6929163928898122, 0.1694298599506587, 0.1376617612099102, 0.9994292179462728, 0.8971521815068141, 0.0003127055355548324, 0.10256741566198502, 0.7425117888658865, 0.14285503268397967, 0.1146184072379915, 0.000527282189447553, 0.9997270311925605, 0.5927899537093743, 0.1615779660377526, 0.2455934472038197, 0.9995989939632594, 0.2741505344002266, 0.7257866480701651, 0.9454117620723219, 0.0004913782547153441, 0.05454298627340319, 0.00033311912094181943, 0.0006662382418836389, 0.9990242437045165, 0.9997498964271763, 0.9996379425343469, 0.9997232785736676, 0.9992139549915842, 0.9993909560776972, 0.3664685676987562, 0.34408716188142807, 0.28944893226571566, 0.6018795065657327, 0.1432675668927488, 0.25487092516065096, 0.3459401828054153, 0.16757091147810552, 0.4865151946605102, 0.9998890222563576, 0.8789953784937017, 0.12074292619846295, 0.9999120086806352, 0.9998735890937339, 0.999387769731877, 0.0008286797427295829, 0.013604562956757115, 0.23052176121171777, 0.7560609895042241, 0.6811544226445374, 0.3187377714281197, 0.00027687191132921233, 0.9997844718097857, 0.47681581798530653, 0.4110099460332521, 0.11217748639303483, 0.2990850718330294, 0.7009085864727177, 0.0005918277075965483, 0.9995969981305701, 0.0006190285267433627, 0.9997310706905308, 0.9998719932076284, 0.9927459828253573, 0.007030778915193749, 0.9991730912747798, 0.9998133815425668, 0.9996930239382643, 0.9994964162322503, 0.0005319299713849124, 0.9998592913729342, 0.9999428597463818, 0.39375696376392855, 0.6061127903754132, 0.9994159447127484, 0.0004952507159131558, 0.0004952507159131558, 0.9993545946783318, 0.0004622361677513098, 0.9998844593731476, 0.31674180283962045, 0.6571918244546616, 0.026011302885032988, 0.04404354814773471, 0.6932333811198245, 0.26285350424241677, 0.9995986433779593, 0.9997087544532935, 0.0006704954758238052, 0.4746718931869412, 0.43913284365535266, 0.08611689507877139, 0.9997535726637914, 0.00020656065550904781, 0.9996895515106653, 0.999952250122716, 0.999584684743085, 0.9989111363588585, 0.9994125874319898, 0.000691144124310193, 0.999394403752539, 0.9992484853359559, 0.9896069903165133, 0.010562606816039339, 0.0005861117897589294, 0.9993206015389747, 0.9998987064195006, 0.8354658540789082, 0.16449172025218264, 0.9995426668065603, 0.9993848217863067, 0.999534564096473, 0.9998558025252561, 0.0012458636771361866, 0.21777697076340544, 0.7809073528289617, 0.7260239856444158, 0.08181653619737761, 0.19210460124355583, 0.9992909506423077, 0.9686590718425088, 0.0311947923596291, 0.9996560113472864, 0.7373799610541484, 0.2217394372196085, 0.040751481616452534, 0.9999436019655557, 0.0005237851408685225, 0.9993820487771409, 0.6871423100068828, 0.3059036522632051, 0.006950760058310145, 0.37889532308142954, 0.39902826272251596, 0.22203992038591613, 0.9998550050118911, 0.9993914594691247, 0.9994916559297743, 0.0004970122605319614, 0.0004970122605319614, 0.999781110568711, 0.1868268269143314, 0.8131290612321982, 0.8225286226226646, 0.1774720497952909, 0.0003464955737984024, 0.3428284956423693, 0.6568401093971714, 0.5670642725012305, 0.2009176496642932, 0.23201950640391533, 0.6036639044119044, 0.30810951388758245, 0.08822519120129013, 0.9999519361990354, 0.9995886583705185, 0.7680195786321538, 0.23193114611730342, 0.27306277651906, 0.2752613495989237, 0.451586910603985, 0.7253262638873135, 0.16191451841430402, 0.11275159265201357, 0.6060847062123748, 0.24137323424907825, 0.15258182478896534, 0.9995558524337861, 0.5015835523747749, 0.49829545995753866, 0.9999239343725579, 0.45917415652069726, 0.046689832376766605, 0.49413980646902916, 0.9996030253013952, 0.8136724734848938, 0.18620867317730985, 0.3986806256984668, 0.07854925453544893, 0.522762552505838, 0.8780206480984459, 0.00044705735646560383, 0.12159960095864424], \"Term\": [\"2nd\", \"amaze\", \"anti\", \"approve\", \"approve\", \"bivalent\", \"bivalent\", \"book\", \"brexit\", \"brexit\", \"buy\", \"buy\", \"care\", \"case\", \"case\", \"centre\", \"children\", \"children\", \"china\", \"choice\", \"come\", \"come\", \"come\", \"community\", \"company\", \"contact\", \"covid\", \"covid\", \"covid\", \"covid19\", \"covid19\", \"covid19\", \"covidvaccine\", \"create\", \"cure\", \"data\", \"data\", \"day\", \"day\", \"days\", \"days\", \"days\", \"delay\", \"develop\", \"develop\", \"dexamethasone\", \"dexamethasone\", \"dexamethasone\", \"die\", \"die\", \"dose\", \"drug\", \"drug\", \"effect\", \"effect\", \"efficacy\", \"efficacy\", \"eu\", \"eu\", \"figure\", \"flu\", \"flu\", \"flu\", \"fuck\", \"fuck\", \"fully\", \"fund\", \"fund\", \"fund\", \"gate\", \"get\", \"get\", \"get\", \"give\", \"give\", \"give\", \"global\", \"go\", \"go\", \"go\", \"good\", \"good\", \"good\", \"government\", \"government\", \"gp\", \"great\", \"great\", \"great\", \"group\", \"group\", \"half\", \"happy\", \"happy\", \"help\", \"help\", \"help\", \"high\", \"high\", \"high\", \"home\", \"human\", \"immune\", \"increase\", \"israel\", \"jab\", \"jab\", \"jab\", \"kill\", \"know\", \"know\", \"know\", \"level\", \"life\", \"life\", \"life\", \"like\", \"like\", \"like\", \"list\", \"list\", \"live\", \"live\", \"live\", \"local\", \"lockdown\", \"lockdown\", \"mask\", \"mask\", \"mask\", \"mass\", \"mass\", \"mass\", \"million\", \"money\", \"morning\", \"mrna\", \"mum\", \"need\", \"need\", \"need\", \"new\", \"new\", \"new\", \"news\", \"news\", \"news\", \"nhs\", \"normal\", \"normal\", \"number\", \"nurse\", \"ny_bivalent\", \"ny_bivalent\", \"offer\", \"offer\", \"offer\", \"oxford\", \"oxford\", \"patients\", \"patients\", \"people\", \"people\", \"people\", \"pfizer\", \"pfizer\", \"plea_far\", \"plea_far\", \"pls\", \"pls\", \"population\", \"prevent\", \"prevent\", \"produce\", \"protection\", \"proud\", \"raise_232k\", \"raise_232k\", \"rat\", \"rate\", \"receive\", \"receive\", \"refuse\", \"refuse\", \"refuse\", \"research\", \"research\", \"restrictions\", \"risk\", \"risk\", \"risk\", \"rollout\", \"rollout\", \"rollout\", \"rtdonate_thank\", \"rush\", \"rush\", \"say\", \"say\", \"say\", \"school\", \"school\", \"scotland\", \"second\", \"service\", \"sign_petition\", \"single\", \"sit\", \"sit\", \"slow\", \"spread\", \"spread\", \"spread_liams\", \"spread_liams\", \"staff\", \"stop\", \"stop\", \"strain\", \"strategy\", \"summer\", \"supply\", \"support\", \"support\", \"support\", \"take\", \"take\", \"take\", \"target\", \"teachers\", \"teachers\", \"team\", \"test\", \"test\", \"test\", \"thank\", \"thank_childhoodcancer\", \"thank_childhoodcancer\", \"think\", \"think\", \"think\", \"time\", \"time\", \"time\", \"today\", \"tomorrow\", \"treatment\", \"treatment\", \"treatment\", \"trump\", \"uk\", \"uk\", \"vaccinate\", \"vaccinate\", \"vaccination\", \"vaccination\", \"vaccination\", \"vaccine\", \"vaccine\", \"vaccine\", \"vaccines\", \"vaccines\", \"vaccines\", \"virus\", \"volunteer\", \"vulnerable\", \"vulnerable\", \"wait\", \"wait\", \"wait\", \"want\", \"want\", \"want\", \"way\", \"way\", \"way\", \"wear_mask\", \"week\", \"week\", \"weeks\", \"work\", \"work\", \"work\", \"workers\", \"world\", \"world\", \"year\", \"year\", \"year\", \"years\", \"years\", \"years\"]}, \"R\": 30, \"lambda.step\": 0.01, \"plot.opts\": {\"xlab\": \"PC1\", \"ylab\": \"PC2\"}, \"topic.order\": [1, 3, 2]};\n",
              "\n",
              "function LDAvis_load_lib(url, callback){\n",
              "  var s = document.createElement('script');\n",
              "  s.src = url;\n",
              "  s.async = true;\n",
              "  s.onreadystatechange = s.onload = callback;\n",
              "  s.onerror = function(){console.warn(\"failed to load library \" + url);};\n",
              "  document.getElementsByTagName(\"head\")[0].appendChild(s);\n",
              "}\n",
              "\n",
              "if(typeof(LDAvis) !== \"undefined\"){\n",
              "   // already loaded: just create the visualization\n",
              "   !function(LDAvis){\n",
              "       new LDAvis(\"#\" + \"ldavis_el621398707264616246142560425\", ldavis_el621398707264616246142560425_data);\n",
              "   }(LDAvis);\n",
              "}else if(typeof define === \"function\" && define.amd){\n",
              "   // require.js is available: use it to load d3/LDAvis\n",
              "   require.config({paths: {d3: \"https://cdnjs.cloudflare.com/ajax/libs/d3/3.5.5/d3.min\"}});\n",
              "   require([\"d3\"], function(d3){\n",
              "      window.d3 = d3;\n",
              "      LDAvis_load_lib(\"https://cdn.rawgit.com/bmabey/pyLDAvis/files/ldavis.v1.0.0.js\", function(){\n",
              "        new LDAvis(\"#\" + \"ldavis_el621398707264616246142560425\", ldavis_el621398707264616246142560425_data);\n",
              "      });\n",
              "    });\n",
              "}else{\n",
              "    // require.js not available: dynamically load d3 & LDAvis\n",
              "    LDAvis_load_lib(\"https://cdnjs.cloudflare.com/ajax/libs/d3/3.5.5/d3.min.js\", function(){\n",
              "         LDAvis_load_lib(\"https://cdn.rawgit.com/bmabey/pyLDAvis/files/ldavis.v1.0.0.js\", function(){\n",
              "                 new LDAvis(\"#\" + \"ldavis_el621398707264616246142560425\", ldavis_el621398707264616246142560425_data);\n",
              "            })\n",
              "         });\n",
              "}\n",
              "</script>"
            ],
            "text/plain": [
              "PreparedData(topic_coordinates=              x         y  topics  cluster       Freq\n",
              "topic                                                \n",
              "0     -0.102117  0.158435       1        1  40.643737\n",
              "2     -0.121307 -0.149615       2        1  30.481124\n",
              "1      0.223424 -0.008820       3        1  28.875140, topic_info=            Term          Freq         Total Category  logprob  loglift\n",
              "138    vaccinate  35892.000000  35892.000000  Default  30.0000  30.0000\n",
              "32   vaccination  34632.000000  34632.000000  Default  29.0000  29.0000\n",
              "312         dose  15237.000000  15237.000000  Default  28.0000  28.0000\n",
              "325           uk  17577.000000  17577.000000  Default  27.0000  27.0000\n",
              "610          nhs   8630.000000   8630.000000  Default  26.0000  26.0000\n",
              "..           ...           ...           ...      ...      ...      ...\n",
              "138    vaccinate   6370.096089  35892.975865   Topic3  -4.8876  -0.4867\n",
              "499         week   3334.152693   6690.809505   Topic3  -5.5350   0.5457\n",
              "24          good   3217.490264   9033.421163   Topic3  -5.5706   0.2099\n",
              "11        people   3648.118840  32519.894297   Topic3  -5.4450  -0.9455\n",
              "412         wait   3081.448391   6822.606961   Topic3  -5.6138   0.4473\n",
              "\n",
              "[207 rows x 6 columns], token_table=      Topic      Freq     Term\n",
              "term                          \n",
              "971       2  0.999809      2nd\n",
              "1599      3  0.999583    amaze\n",
              "3791      1  0.999171     anti\n",
              "405       1  0.977083  approve\n",
              "405       2  0.022932  approve\n",
              "...     ...       ...      ...\n",
              "508       2  0.078549     year\n",
              "508       3  0.522763     year\n",
              "172       1  0.878021    years\n",
              "172       2  0.000447    years\n",
              "172       3  0.121600    years\n",
              "\n",
              "[291 rows x 3 columns], R=30, lambda_step=0.01, plot_opts={'xlab': 'PC1', 'ylab': 'PC2'}, topic_order=[1, 3, 2])"
            ]
          },
          "metadata": {
            "tags": []
          }
        }
      ]
    },
    {
      "cell_type": "markdown",
      "metadata": {
        "id": "ricPqa5nbUbd"
      },
      "source": [
        "INDIA"
      ]
    },
    {
      "cell_type": "code",
      "metadata": {
        "id": "qOIp9q4_Iy2q",
        "colab": {
          "base_uri": "https://localhost:8080/",
          "height": 912
        },
        "outputId": "da839d6b-5433-4a46-f4d8-2124dcff0406"
      },
      "source": [
        "india_topics = get_topic_model(country_name=\"India\", num_topics=5)"
      ],
      "execution_count": null,
      "outputs": [
        {
          "output_type": "stream",
          "text": [
            "100%|██████████| 70394/70394 [00:09<00:00, 7088.39it/s]\n"
          ],
          "name": "stderr"
        },
        {
          "output_type": "stream",
          "text": [
            "\n",
            "\n"
          ],
          "name": "stdout"
        },
        {
          "output_type": "display_data",
          "data": {
            "text/html": [
              "\n",
              "<link rel=\"stylesheet\" type=\"text/css\" href=\"https://cdn.rawgit.com/bmabey/pyLDAvis/files/ldavis.v1.0.0.css\">\n",
              "\n",
              "\n",
              "<div id=\"ldavis_el621398707060788483653095392\"></div>\n",
              "<script type=\"text/javascript\">\n",
              "\n",
              "var ldavis_el621398707060788483653095392_data = {\"mdsDat\": {\"x\": [0.18255351671561476, 0.04049587514742875, -0.16813025866829667, -0.22457630330165754, 0.16965717010691073], \"y\": [-0.02840318236534426, -0.23052366174036523, 0.03153893177976853, 0.04757328836197488, 0.1798146239639662], \"topics\": [1, 2, 3, 4, 5], \"cluster\": [1, 1, 1, 1, 1], \"Freq\": [32.72514042432655, 23.175642228006293, 16.295712830083232, 13.997015890353726, 13.806488627230198]}, \"tinfo\": {\"Term\": [\"vaccination\", \"vaccine\", \"india\", \"vaccinate\", \"health\", \"covid19\", \"pm\", \"drive\", \"people\", \"dose\", \"namo_app\", \"workers\", \"world\", \"virus\", \"till\", \"case\", \"largestvaccinedrive\", \"trial\", \"covishield\", \"global\", \"countries\", \"indian\", \"like\", \"minister\", \"today\", \"coronavirus\", \"day\", \"million\", \"receive\", \"need\", \"school\", \"wait\", \"n\", \"life\", \"kid\", \"better\", \"market\", \"r\", \"herd_immunity\", \"pay\", \"trust\", \"decision\", \"love\", \"b\", \"change\", \"money\", \"d\", \"fee\", \"economy\", \"ppl\", \"politics\", \"wrong\", \"political\", \"hard\", \"infect\", \"power\", \"hv\", \"lose\", \"chance\", \"products\", \"like\", \"try\", \"long\", \"kind\", \"save\", \"stop\", \"create\", \"think\", \"want\", \"medicine\", \"free\", \"come\", \"control\", \"virus\", \"go\", \"right\", \"spread\", \"available\", \"let\", \"vaccine\", \"corona\", \"people\", \"know\", \"till\", \"live\", \"time\", \"need\", \"work\", \"develop\", \"covid\", \"get\", \"year\", \"china\", \"world\", \"country\", \"good\", \"india\", \"take\", \"vaccinate\", \"serum_institute\", \"summit\", \"astrazeneca\", \"oxford\", \"manufacture\", \"nepal\", \"supply\", \"alliance\", \"bangladesh\", \"pledge\", \"virtual\", \"capacity\", \"gavi\", \"gift\", \"billion\", \"brazil\", \"approve\", \"emergency_use\", \"export\", \"putin\", \"affirm\", \"sii\", \"bhutan\", \"candidate\", \"maldives\", \"seruminstituteofindia\", \"unite\", \"indigenous\", \"production\", \"diplomacy\", \"host\", \"hetauda\", \"global\", \"pune\", \"produce\", \"russia\", \"countries\", \"development\", \"moderna\", \"indian\", \"india\", \"indias\", \"coronavirus\", \"uk\", \"news\", \"vaccines\", \"vaccine\", \"covid19\", \"million\", \"world\", \"pfizer\", \"dose\", \"coronavaccine\", \"update\", \"pm\", \"covishield\", \"covidvaccine\", \"covid\", \"covaxin\", \"trials\", \"china\", \"develop\", \"say\", \"workers\", \"administer\", \"frontline\", \"nurse\", \"mumbai\", \"staff\", \"dubai\", \"officials\", \"worker\", \"department\", \"reopen_school\", \"morning\", \"thankyou\", \"inoculation\", \"minister\", \"assam\", \"residents\", \"public_contact\", \"director\", \"center\", \"immunisation\", \"october\", \"batch\", \"even\", \"coronavirusindia\", \"7th\", \"airport\", \"disappear\", \"stray_dog\", \"preventable_diseases\", \"1st\", \"health\", \"employees\", \"shoot\", \"cm\", \"jab\", \"delhi\", \"receive\", \"district\", \"hospital\", \"shots\", \"days\", \"dr\", \"2nd\", \"dose\", \"uae\", \"vaccination\", \"covishield\", \"covid19\", \"care\", \"die\", \"take\", \"covaxin\", \"state\", \"vaccine\", \"doctor\", \"vaccinate\", \"say\", \"covid\", \"today\", \"get\", \"covidvaccine\", \"million\", \"drive\", \"namo_app\", \"largestvaccinedrive\", \"total\", \"beneficiaries\", \"daily\", \"honble\", \"child\", \"adverse_events\", \"staff_direct\", \"highest\", \"unite2fightcorona\", \"rajender\", \"aefi\", \"largely\", \"coverage\", \"video_conference\", \"nervous\", \"active_case\", \"mondaythoughts\", \"das\", \"priorities_high\", \"interact_beneficiaries\", \"1st_stage\", \"organize\", \"coronaupdatesinindia\", \"shri_ji\", \"vaccinators\", \"covid19pandemic\", \"sessions\", \"interact\", \"indiafightscorona\", \"active\", \"number\", \"drive\", \"status\", \"vaccination\", \"launch\", \"vaccinate\", \"case\", \"experience\", \"pm\", \"odisha\", \"crore\", \"worlds_largest\", \"persons\", \"lakh\", \"today\", \"target\", \"people\", \"india\", \"far\", \"day\", \"covid19\", \"modi\", \"healthcare_workers\", \"till\", \"report\", \"risk\", \"covid\", \"coronavaccine\", \"new\", \"start\", \"corona\", \"covidvaccine\", \"coronavirus\", \"mask\", \"exam\", \"hai\", \"social_distance\", \"boycott\", \"clinical\", \"safety\", \"self\", \"dog\", \"laboratory\", \"bhi\", \"highly\", \"ki\", \"quarantine\", \"immune_response\", \"strain\", \"rabies\", \"promote\", \"transmission\", \"ka\", \"absolutely_safe\", \"ye\", \"sarscov2\", \"je\", \"h\", \"ab\", \"mai\", \"se\", \"search\", \"wear\", \"efficacy\", \"lalit\", \"trial\", \"volunteer\", \"effect\", \"face\", \"show\", \"kumar\", \"vaccine\", \"effective\", \"result\", \"video\", \"need\", \"test\", \"corona\", \"dr\", \"virus\", \"covid19\", \"say\", \"covid\", \"safe\", \"vaccination\", \"data\", \"trials\", \"new\", \"take\", \"phase\", \"follow\"], \"Freq\": [12905.0, 51927.0, 12640.0, 6104.0, 4244.0, 18531.0, 3635.0, 2667.0, 5798.0, 3476.0, 1487.0, 1433.0, 3496.0, 3110.0, 2578.0, 1949.0, 1152.0, 1533.0, 2257.0, 1749.0, 2079.0, 2372.0, 2091.0, 1150.0, 2496.0, 4766.0, 2310.0, 1961.0, 1704.0, 2749.0, 1478.8891095132308, 1212.6839376111627, 911.4622135840692, 859.8757749481663, 781.1591300211238, 715.9767514739539, 640.4324264238155, 813.5481120787006, 509.07315884734317, 505.75115010458416, 469.4524759914269, 447.49468269205516, 441.76515874359677, 470.5811412773805, 417.0139444761667, 409.92135616102087, 363.2176367855498, 352.7453984421401, 332.63738141905645, 330.13457961581673, 301.6230977490947, 292.8911040190357, 291.7654463919015, 293.7848744563181, 272.9950773659221, 272.86540099913424, 258.50777975466747, 258.1587921780361, 258.3316499321588, 256.99568754604127, 2062.1398603612893, 633.5757575444111, 721.4835434138018, 320.54897265139294, 691.9027892600093, 570.4707127567291, 414.3482333287452, 1205.1851500994264, 1329.4532836133687, 843.7988800740947, 1736.91371383625, 2110.77575264422, 567.673656157131, 2473.51156909715, 1361.6475280251918, 797.9705546710317, 896.8976092257986, 1260.5218418222887, 854.3420793349234, 20667.52934745768, 2710.931000309607, 3187.529243990249, 1307.4602246880602, 1596.6413980790333, 1078.5593425830766, 1683.0259865380033, 1603.987885680445, 1109.3550586951008, 1382.520944641005, 2575.102219522806, 1503.0872120186639, 993.355078429122, 1190.3659193285819, 1466.151971874072, 1167.9102758666193, 960.9658980643703, 1486.4020429367768, 1059.6192226153812, 1041.3637251178384, 1003.1119263469207, 974.3012700569986, 743.0105534823837, 682.8662487006267, 616.9093481355367, 581.1171728730849, 676.226605821437, 504.76860601306856, 517.0615864981925, 479.51443480643326, 462.0062873621867, 451.2172714465193, 405.7779454838943, 399.676559666354, 389.5001166138119, 364.5456194878992, 1053.7772799086322, 337.6554941670761, 296.5903845760394, 292.24942891433994, 288.7417933043383, 271.04459114244764, 260.1758993249776, 248.78018559064816, 242.11116748914284, 237.06153166326007, 232.08206867921172, 231.22639537069205, 695.3416598492788, 226.07414522239358, 231.75299596962182, 239.3073200740305, 1634.155742011772, 500.24187255095546, 967.0117208648086, 939.4992855553755, 1744.4996567905898, 972.4960631678592, 733.4991607817568, 1788.3247733255062, 7501.712168385908, 1408.9287267065472, 3087.5969888619725, 1115.9315052802237, 2044.8336150172217, 2023.4677401700055, 18045.377239157362, 7601.619569916846, 1352.4879469655166, 2029.8421868190471, 901.541255256024, 1773.5440040921446, 1110.9631370016555, 969.9449362908679, 1464.5168525842205, 1137.9396559046036, 1155.9518400319932, 1820.100197073106, 1062.8563067872556, 845.8144689664002, 939.8749138961891, 957.4375049795641, 1003.077003771865, 1432.3572745125448, 788.8856041802123, 549.8129163792697, 467.0823238251712, 464.49103292766495, 419.2024608760899, 347.4859079531543, 314.9339434313283, 296.8659731140267, 305.4015254895937, 292.8093211045955, 291.2410970276953, 215.3177286245391, 214.4946109497704, 1145.9113362085795, 200.63023033010776, 199.96779283566752, 229.26025218143405, 202.30869058931256, 266.2208740078736, 183.54801637875642, 196.12521099990548, 179.45323101094957, 166.35260379170916, 170.19044570204514, 159.97689389335642, 145.80137337723684, 161.90362420482535, 144.02511923997082, 141.9189136272132, 648.3501727448039, 3846.6022141755193, 165.5798313665179, 954.5014293554344, 242.93928196724858, 574.8397226288498, 633.7973508731553, 1219.1656986869314, 396.50536088956557, 848.9798928746054, 425.9007325745305, 904.2192471190622, 844.440624291585, 312.6500893635399, 1702.548296890824, 421.3341106718638, 4051.030721205115, 1119.1589337747243, 4654.084849932568, 733.7108972519833, 668.6346177733166, 1085.8525969548818, 999.4393456739276, 817.8063908318934, 5143.859237573499, 666.4332515744011, 1472.811748036369, 1054.4475627215666, 1446.828661832082, 835.2409556979893, 857.0239413164094, 742.0424353373371, 608.5313758864521, 615.974375451313, 1486.415008802817, 1151.682744483936, 737.856961895789, 557.7615564559619, 377.6889955589231, 305.7590791955168, 362.71920416243194, 233.36246126304027, 201.0379704034328, 184.3576231832849, 169.4914238719135, 174.5668705838059, 139.44361223017597, 137.40168330781643, 136.05326155136973, 141.30766189392972, 133.53603608344534, 126.34735607182654, 127.66935675743684, 309.03472652024794, 121.19410220429828, 119.53510210313502, 118.44421157085192, 118.5341054121834, 113.94939934424471, 109.86752767419259, 108.75790631319991, 107.89127681234982, 101.07755971854779, 96.6242380445916, 859.6966344809781, 137.2922952681525, 895.9265526041934, 2051.3646232655196, 195.09089694695535, 7893.107095168108, 943.4411659518147, 3590.116027229462, 1333.5450961441916, 228.77834185879323, 2170.5068303329376, 425.834972130565, 261.3131269130299, 348.65717233934214, 264.8887502266042, 577.6649209062856, 1209.0044521955558, 341.3643913295216, 2074.6226296600685, 3419.143850063328, 510.7986048891425, 1026.3201493621004, 3972.2380515532, 846.5004051749803, 396.0424086723596, 980.7453995909646, 750.6455518231684, 534.2034044348761, 1096.9299169180556, 591.7171985619719, 544.9851238966505, 570.1788094712332, 626.698413619848, 532.9073724529183, 518.842598153776, 655.2651055828157, 481.48477437038264, 437.43203780320874, 380.19291615316394, 396.9330536570325, 293.70877336355346, 719.9412299509602, 247.4761078516957, 257.22971908204465, 221.76552662536622, 198.16745486716695, 198.1988289772488, 192.72042131524228, 203.53182809706257, 186.20061630330056, 184.53283833159307, 174.49036218370813, 203.66705748353988, 166.44534315627092, 156.40384309181076, 147.81875710544873, 147.42280189216663, 147.45293498189415, 165.4704170875625, 143.1169632483354, 140.84823860009536, 137.9982841605031, 132.3002019517278, 132.63313006386764, 130.93415925471433, 560.5954435287971, 193.86920178595105, 1178.1350362966737, 347.27458631711534, 671.889256487724, 345.8162061281187, 440.9183846917016, 211.24359829923463, 8034.0987176332765, 542.3739181552052, 447.8262944173805, 296.2728887442265, 857.5422202694843, 754.1906029212197, 1008.4900637859115, 459.63207921616, 636.6474576673547, 1346.357158055101, 649.3125584252032, 813.6197490073703, 418.77007570026313, 920.27928519408, 364.93260478553907, 385.7630617130498, 410.84352531249505, 436.5497420515109, 385.68979967999644, 353.4110275919545], \"Total\": [12905.0, 51927.0, 12640.0, 6104.0, 4244.0, 18531.0, 3635.0, 2667.0, 5798.0, 3476.0, 1487.0, 1433.0, 3496.0, 3110.0, 2578.0, 1949.0, 1152.0, 1533.0, 2257.0, 1749.0, 2079.0, 2372.0, 2091.0, 1150.0, 2496.0, 4766.0, 2310.0, 1961.0, 1704.0, 2749.0, 1479.8879362915327, 1213.6639641029956, 912.342808592889, 860.7511858576697, 782.0415590745607, 716.857671474617, 641.311281724812, 814.7267895379314, 509.95110787945396, 506.63905354271475, 470.3295147867852, 448.37882047552165, 442.6588807578799, 471.5334260732421, 417.9030294783936, 410.79592007353835, 364.09995957540417, 353.6204738899029, 333.5133319304785, 331.00967239715203, 302.51736327826524, 293.7698844020014, 292.6409544975621, 294.66650732592393, 273.8721631114277, 273.74769732986556, 259.38535070939747, 259.0361432492539, 259.2097892773012, 257.8725962659912, 2091.183301964463, 635.8885875707789, 728.1627665177406, 322.12074389092606, 710.1091344044194, 583.0120973917121, 420.64110390550917, 1287.0864665291601, 1462.4851358959281, 902.4707584007319, 1955.4265827787694, 2424.5183797322707, 599.2685345269844, 3110.871541166701, 1602.2529960833265, 885.5370639566323, 1028.0712840425786, 1574.9900932899372, 990.2267949731447, 51927.246063031664, 4670.618427931328, 5798.2199444977205, 1814.8155211287133, 2578.0817731999036, 1478.5940947440283, 2799.0051327460474, 2749.990027918941, 1658.6141618178654, 2493.477424701992, 7752.5807443534195, 2967.484564377823, 1407.1868788554002, 2130.9214918620473, 3496.7165431520834, 2310.0455373489995, 1560.4351545790594, 12640.219585126979, 2589.991518069007, 6104.657527874264, 1003.9354124510191, 975.12829410579, 743.8342690511681, 683.7132820898242, 617.7337052730834, 581.9399218033932, 677.2080993631712, 505.59883639467216, 517.9282642352618, 480.34182425615563, 462.83928597614937, 452.0448808984651, 406.6057029512579, 400.4984541100931, 390.32975560403816, 365.3677283256233, 1056.3249337875175, 338.4798177582132, 297.4130104551456, 293.085759263308, 289.5722643384679, 271.867229793925, 260.99984351271127, 249.60997311218867, 242.932555061757, 237.88625013698328, 232.9110074040292, 232.05423121360633, 697.8363037777322, 226.89502752644336, 232.60160900784405, 240.30188961514, 1749.409618102377, 526.1564874531184, 1075.5645854850145, 1043.0171960807195, 2079.1326969815823, 1136.84738871911, 836.9577567339081, 2372.9237922432976, 12640.219585126979, 1862.4845153463302, 4766.122983800258, 1437.5144842508487, 3022.0686636392534, 3130.255291449002, 51927.246063031664, 18531.666648911963, 1961.5882036265307, 3496.7165431520834, 1224.3778580808212, 3476.6613408380476, 2030.4619648407343, 1615.67988595739, 3635.6070131435, 2257.664693359722, 2500.248591977714, 7752.5807443534195, 2330.6987761656483, 1288.3713837974567, 2130.9214918620473, 2493.477424701992, 3524.1132254386457, 1433.1244515853634, 789.6619894958671, 550.5776298672893, 467.8500934455162, 465.26876227010865, 419.9656398061214, 348.2505193115844, 315.69894030703654, 297.6270082246633, 306.19323109564885, 293.57550395518103, 292.01219807635533, 216.08327179078253, 215.26151850795821, 1150.2785590863223, 201.39573396346006, 200.73238127679824, 230.15102850902696, 203.10937793340923, 267.2998044334618, 184.3241939419812, 196.95524372578873, 180.2201145617405, 167.12177288595106, 171.01648594605723, 160.80933160398064, 146.5648372540229, 162.75673094666635, 144.8017887343464, 142.6915783832331, 661.6079273645811, 4244.888839234699, 166.98941974271585, 1037.0806792303179, 250.955015222905, 635.4895375153415, 771.5787858153071, 1704.8392911670321, 458.42102489860315, 1205.486610184737, 517.0299172878155, 1426.4967332409863, 1307.889655848436, 359.2005511035042, 3476.6613408380476, 548.8868087341924, 12905.034959715127, 2257.664693359722, 18531.666648911963, 1278.6429780062915, 1134.5702464567917, 2589.991518069007, 2330.6987761656483, 1705.699225424683, 51927.246063031664, 1267.0143648783749, 6104.657527874264, 3524.1132254386457, 7752.5807443534195, 2496.687364579188, 2967.484564377823, 2500.248591977714, 1961.5882036265307, 2667.850389648749, 1487.1945739856367, 1152.4603515485962, 738.6296648668978, 558.5308228097283, 378.46414736991113, 306.53710103315865, 363.6568827402601, 234.13395943380414, 201.8087328989362, 185.13264445873236, 170.2602207535665, 175.37246314026456, 140.21372615443633, 138.18132773435994, 136.82546118190928, 142.15501610215634, 134.3439289562396, 127.11433490839406, 128.4528983782698, 310.97528790397615, 121.96386238238838, 120.30089696753926, 119.21368124374924, 119.31654968787355, 114.73711519061773, 110.63818649488802, 109.52554826287954, 108.6942784270656, 101.84566127984552, 97.39289213842862, 870.3176478933035, 138.75159647906685, 989.9819709317671, 2667.850389648749, 208.21983043130174, 12905.034959715127, 1214.6204008481707, 6104.657527874264, 1949.2451744246741, 256.22765230828566, 3635.6070131435, 540.3232314599948, 304.4294686770229, 446.53610444629743, 319.30810358746265, 915.9924848573097, 2496.687364579188, 474.54096870936, 5798.2199444977205, 12640.219585126979, 837.1450714503544, 2310.6673730942202, 18531.666648911963, 1883.3150368368385, 588.5214013381993, 2578.0817731999036, 1689.8754082262483, 1010.2436091059104, 7752.5807443534195, 2030.4619648407343, 1807.3398392665256, 2422.8936766389597, 4670.618427931328, 2500.248591977714, 4766.122983800258, 656.1259776332109, 482.35262417120543, 438.289863883614, 381.05310743618014, 397.8398754785602, 294.5725587890962, 722.1976723118705, 248.3459710232945, 258.14670956665, 222.6421110008512, 199.02327669366596, 199.07517162820284, 193.5758570958248, 204.43733600471458, 187.05885343785894, 185.3921205812985, 175.36107244370808, 204.70861768124124, 167.30530799937628, 157.26070533117127, 148.6728947333789, 148.2772594014381, 148.3144194831662, 166.44111636284993, 143.97468759341828, 141.70335517296695, 138.8518209430237, 133.15579894265426, 133.5021283364676, 131.7937121533309, 639.3076094730171, 201.5980677898825, 1533.8063397231958, 435.96364299642397, 1013.1616927597107, 452.590326228752, 654.0882045638236, 249.5743353584222, 51927.246063031664, 1050.3482643034924, 872.8193554889341, 439.5377002592811, 2749.990027918941, 2445.8278121709036, 4670.618427931328, 1307.889655848436, 3110.871541166701, 18531.666648911963, 3524.1132254386457, 7752.5807443534195, 1377.828820105533, 12905.034959715127, 1010.974619003567, 1288.3713837974567, 1807.3398392665256, 2589.991518069007, 1611.8394648018707, 1231.419313069804], \"Category\": [\"Default\", \"Default\", \"Default\", \"Default\", \"Default\", \"Default\", \"Default\", \"Default\", \"Default\", \"Default\", \"Default\", \"Default\", \"Default\", \"Default\", \"Default\", \"Default\", \"Default\", \"Default\", \"Default\", \"Default\", \"Default\", \"Default\", \"Default\", \"Default\", \"Default\", \"Default\", \"Default\", \"Default\", \"Default\", \"Default\", \"Topic1\", \"Topic1\", \"Topic1\", \"Topic1\", \"Topic1\", \"Topic1\", \"Topic1\", \"Topic1\", \"Topic1\", \"Topic1\", \"Topic1\", \"Topic1\", \"Topic1\", \"Topic1\", \"Topic1\", \"Topic1\", \"Topic1\", \"Topic1\", \"Topic1\", \"Topic1\", \"Topic1\", \"Topic1\", \"Topic1\", \"Topic1\", \"Topic1\", \"Topic1\", \"Topic1\", \"Topic1\", \"Topic1\", \"Topic1\", \"Topic1\", \"Topic1\", \"Topic1\", \"Topic1\", \"Topic1\", \"Topic1\", \"Topic1\", \"Topic1\", \"Topic1\", \"Topic1\", \"Topic1\", \"Topic1\", \"Topic1\", \"Topic1\", \"Topic1\", \"Topic1\", \"Topic1\", \"Topic1\", \"Topic1\", \"Topic1\", \"Topic1\", \"Topic1\", \"Topic1\", \"Topic1\", \"Topic1\", \"Topic1\", \"Topic1\", \"Topic1\", \"Topic1\", \"Topic1\", \"Topic1\", \"Topic1\", \"Topic1\", \"Topic1\", \"Topic1\", \"Topic1\", \"Topic1\", \"Topic1\", \"Topic1\", \"Topic2\", \"Topic2\", \"Topic2\", \"Topic2\", \"Topic2\", \"Topic2\", \"Topic2\", \"Topic2\", \"Topic2\", \"Topic2\", \"Topic2\", \"Topic2\", \"Topic2\", \"Topic2\", \"Topic2\", \"Topic2\", \"Topic2\", \"Topic2\", \"Topic2\", \"Topic2\", \"Topic2\", \"Topic2\", \"Topic2\", \"Topic2\", \"Topic2\", \"Topic2\", \"Topic2\", \"Topic2\", \"Topic2\", \"Topic2\", \"Topic2\", \"Topic2\", \"Topic2\", \"Topic2\", \"Topic2\", \"Topic2\", \"Topic2\", \"Topic2\", \"Topic2\", \"Topic2\", \"Topic2\", \"Topic2\", \"Topic2\", \"Topic2\", \"Topic2\", \"Topic2\", \"Topic2\", \"Topic2\", \"Topic2\", \"Topic2\", \"Topic2\", \"Topic2\", \"Topic2\", \"Topic2\", \"Topic2\", \"Topic2\", \"Topic2\", \"Topic2\", \"Topic2\", \"Topic2\", \"Topic2\", \"Topic2\", \"Topic2\", \"Topic3\", \"Topic3\", \"Topic3\", \"Topic3\", \"Topic3\", \"Topic3\", \"Topic3\", \"Topic3\", \"Topic3\", \"Topic3\", \"Topic3\", \"Topic3\", \"Topic3\", \"Topic3\", \"Topic3\", \"Topic3\", \"Topic3\", \"Topic3\", \"Topic3\", \"Topic3\", \"Topic3\", \"Topic3\", \"Topic3\", \"Topic3\", \"Topic3\", \"Topic3\", \"Topic3\", \"Topic3\", \"Topic3\", \"Topic3\", \"Topic3\", \"Topic3\", \"Topic3\", \"Topic3\", \"Topic3\", \"Topic3\", \"Topic3\", \"Topic3\", \"Topic3\", \"Topic3\", \"Topic3\", \"Topic3\", \"Topic3\", \"Topic3\", \"Topic3\", \"Topic3\", \"Topic3\", \"Topic3\", \"Topic3\", \"Topic3\", \"Topic3\", \"Topic3\", \"Topic3\", \"Topic3\", \"Topic3\", \"Topic3\", \"Topic3\", \"Topic3\", \"Topic3\", \"Topic3\", \"Topic3\", \"Topic3\", \"Topic3\", \"Topic3\", \"Topic4\", \"Topic4\", \"Topic4\", \"Topic4\", \"Topic4\", \"Topic4\", \"Topic4\", \"Topic4\", \"Topic4\", \"Topic4\", \"Topic4\", \"Topic4\", \"Topic4\", \"Topic4\", \"Topic4\", \"Topic4\", \"Topic4\", \"Topic4\", \"Topic4\", \"Topic4\", \"Topic4\", \"Topic4\", \"Topic4\", \"Topic4\", \"Topic4\", \"Topic4\", \"Topic4\", \"Topic4\", \"Topic4\", \"Topic4\", \"Topic4\", \"Topic4\", \"Topic4\", \"Topic4\", \"Topic4\", \"Topic4\", \"Topic4\", \"Topic4\", \"Topic4\", \"Topic4\", \"Topic4\", \"Topic4\", \"Topic4\", \"Topic4\", \"Topic4\", \"Topic4\", \"Topic4\", \"Topic4\", \"Topic4\", \"Topic4\", \"Topic4\", \"Topic4\", \"Topic4\", \"Topic4\", \"Topic4\", \"Topic4\", \"Topic4\", \"Topic4\", \"Topic4\", \"Topic4\", \"Topic4\", \"Topic4\", \"Topic4\", \"Topic4\", \"Topic4\", \"Topic5\", \"Topic5\", \"Topic5\", \"Topic5\", \"Topic5\", \"Topic5\", \"Topic5\", \"Topic5\", \"Topic5\", \"Topic5\", \"Topic5\", \"Topic5\", \"Topic5\", \"Topic5\", \"Topic5\", \"Topic5\", \"Topic5\", \"Topic5\", \"Topic5\", \"Topic5\", \"Topic5\", \"Topic5\", \"Topic5\", \"Topic5\", \"Topic5\", \"Topic5\", \"Topic5\", \"Topic5\", \"Topic5\", \"Topic5\", \"Topic5\", \"Topic5\", \"Topic5\", \"Topic5\", \"Topic5\", \"Topic5\", \"Topic5\", \"Topic5\", \"Topic5\", \"Topic5\", \"Topic5\", \"Topic5\", \"Topic5\", \"Topic5\", \"Topic5\", \"Topic5\", \"Topic5\", \"Topic5\", \"Topic5\", \"Topic5\", \"Topic5\", \"Topic5\", \"Topic5\", \"Topic5\", \"Topic5\", \"Topic5\", \"Topic5\", \"Topic5\"], \"logprob\": [30.0, 29.0, 28.0, 27.0, 26.0, 25.0, 24.0, 23.0, 22.0, 21.0, 20.0, 19.0, 18.0, 17.0, 16.0, 15.0, 14.0, 13.0, 12.0, 11.0, 10.0, 9.0, 8.0, 7.0, 6.0, 5.0, 4.0, 3.0, 2.0, 1.0, -5.257400035858154, -5.4558000564575195, -5.741399765014648, -5.799600124359131, -5.895599842071533, -5.982800006866455, -6.094299793243408, -5.855000019073486, -6.323800086975098, -6.330399990081787, -6.404799938201904, -6.452700138092041, -6.46560001373291, -6.402400016784668, -6.5233001708984375, -6.54040002822876, -6.661399841308594, -6.690700054168701, -6.7494001388549805, -6.756899833679199, -6.8471999168396, -6.8765997886657715, -6.880499839782715, -6.873600006103516, -6.947000026702881, -6.947400093078613, -7.001500129699707, -7.002799987792969, -7.002200126647949, -7.007299900054932, -4.924900054931641, -6.105000019073486, -5.975100040435791, -6.786399841308594, -6.017000198364258, -6.20989990234375, -6.529699802398682, -5.461999893188477, -5.363900184631348, -5.81850004196167, -5.096499919891357, -4.901599884033203, -6.214900016784668, -4.743000030517578, -5.340000152587891, -5.874300003051758, -5.757500171661377, -5.417099952697754, -5.806099891662598, -2.6201000213623047, -4.651400089263916, -4.4893999099731445, -5.3805999755859375, -5.180699825286865, -5.572999954223633, -5.1280999183654785, -5.176199913024902, -5.544899940490723, -5.324699878692627, -4.7027997970581055, -5.241099834442139, -5.655300140380859, -5.474400043487549, -5.265999794006348, -5.4934000968933105, -5.688499927520752, -5.252299785614014, -5.590700149536133, -5.608099937438965, -5.30049991607666, -5.329599857330322, -5.6006999015808105, -5.685100078582764, -5.786600112915039, -5.846399784088135, -5.694799900054932, -5.987299919128418, -5.963200092315674, -6.038599967956543, -6.075799942016602, -6.099400043487549, -6.205599784851074, -6.220699787139893, -6.246500015258789, -6.312699794769287, -5.251200199127197, -6.3892998695373535, -6.519000053405762, -6.53380012512207, -6.54580020904541, -6.609099864959717, -6.650000095367432, -6.694799900054932, -6.7220001220703125, -6.743000030517578, -6.7642998695373535, -6.76800012588501, -5.666999816894531, -6.790500164031982, -6.765699863433838, -6.73360013961792, -4.8125, -5.996300220489502, -5.337200164794922, -5.366000175476074, -4.747099876403809, -5.331500053405762, -5.613500118255615, -4.722300052642822, -3.2885000705718994, -4.9608001708984375, -4.176199913024902, -5.193900108337402, -4.5883002281188965, -4.598800182342529, -2.4107000827789307, -3.2751998901367188, -5.001699924468994, -4.595600128173828, -5.407299995422363, -4.730599880218506, -5.198400020599365, -5.334099769592285, -4.922100067138672, -5.1743998527526855, -5.158699989318848, -4.704699993133545, -5.242599964141846, -5.471099853515625, -5.365600109100342, -5.347099781036377, -5.30049991607666, -4.592100143432617, -5.188499927520752, -5.549600124359131, -5.712699890136719, -5.718200206756592, -5.820799827575684, -6.008399963378906, -6.106800079345703, -6.165900230407715, -6.137499809265137, -6.179599761962891, -6.184999942779541, -6.486999988555908, -6.490900039672852, -4.815199851989746, -6.557700157165527, -6.560999870300293, -6.424300193786621, -6.5493998527526855, -6.274799823760986, -6.646699905395508, -6.580399990081787, -6.6691999435424805, -6.745100021362305, -6.7221999168396, -6.78410005569458, -6.8769001960754395, -6.772200107574463, -6.889200210571289, -6.903900146484375, -5.384699821472168, -3.6041998863220215, -6.74970006942749, -4.998000144958496, -6.366399765014648, -5.505099773406982, -5.407400131225586, -4.753200054168701, -5.876500129699707, -5.115099906921387, -5.804999828338623, -5.05210018157959, -5.120500087738037, -6.114099979400635, -4.419300079345703, -5.815700054168701, -3.5524001121520996, -4.838799953460693, -3.4137001037597656, -5.261000156402588, -5.353899955749512, -4.86899995803833, -4.952000141143799, -5.152500152587891, -3.3136000633239746, -5.3572001457214355, -4.564199924468994, -4.898399829864502, -4.581999778747559, -5.131400108337402, -5.1057000160217285, -5.249800205230713, -5.4481000900268555, -5.435999870300293, -4.4029998779296875, -4.658100128173828, -5.103400230407715, -5.383200168609619, -5.7729997634887695, -5.984300136566162, -5.813499927520752, -6.254499912261963, -6.403600215911865, -6.490200042724609, -6.5742998123168945, -6.5447998046875, -6.769400119781494, -6.784200191497803, -6.794099807739258, -6.756199836730957, -6.812699794769287, -6.868100166320801, -6.857699871063232, -5.973700046539307, -6.9096999168396, -6.923500061035156, -6.932700157165527, -6.9319000244140625, -6.971399784088135, -7.007800102233887, -7.01800012588501, -7.026000022888184, -7.09119987487793, -7.136300086975098, -4.950500011444092, -6.784999847412109, -4.909200191497803, -4.0808000564575195, -6.433599948883057, -2.7334001064300537, -4.857600212097168, -3.521199941635132, -4.511499881744385, -6.274400234222412, -4.024400234222412, -5.65310001373291, -6.14139986038208, -5.853000164031982, -6.127799987792969, -5.348100185394287, -4.609600067138672, -5.874199867248535, -4.0696001052856445, -3.569999933242798, -5.471099853515625, -4.773399829864502, -3.4200000762939453, -4.966000080108643, -5.725599765777588, -4.81879997253418, -5.08620023727417, -5.426300048828125, -4.7067999839782715, -5.324100017547607, -5.406300067901611, -5.361199855804443, -5.266600131988525, -5.428800106048584, -5.45550012588501, -5.208399772644043, -5.516499996185303, -5.612500190734863, -5.752699851989746, -5.70959997177124, -6.010799884796143, -5.114200115203857, -6.18209981918335, -6.143400192260742, -6.291800022125244, -6.404300212860107, -6.404099941253662, -6.432199954986572, -6.377600193023682, -6.466599941253662, -6.475599765777588, -6.531499862670898, -6.3769001960754395, -6.578700065612793, -6.640999794006348, -6.697400093078613, -6.700099945068359, -6.699900150299072, -6.58459997177124, -6.729700088500977, -6.745699882507324, -6.766200065612793, -6.808300018310547, -6.805799961090088, -6.818699836730957, -5.3643999099731445, -6.426199913024902, -4.621699810028076, -5.843299865722656, -5.183300018310547, -5.847499847412109, -5.604499816894531, -6.340400218963623, -2.701900005340576, -5.39739990234375, -5.589000225067139, -6.002099990844727, -4.939300060272217, -5.067800045013428, -4.777200222015381, -5.563000202178955, -5.237199783325195, -4.4882001876831055, -5.21750020980835, -4.9918999671936035, -5.656099796295166, -4.86870002746582, -5.793700218200684, -5.7382001876831055, -5.67519998550415, -5.614500045776367, -5.738399982452393, -5.825799942016602], \"loglift\": [30.0, 29.0, 28.0, 27.0, 26.0, 25.0, 24.0, 23.0, 22.0, 21.0, 20.0, 19.0, 18.0, 17.0, 16.0, 15.0, 14.0, 13.0, 12.0, 11.0, 10.0, 9.0, 8.0, 7.0, 6.0, 5.0, 4.0, 3.0, 2.0, 1.0, 1.1164, 1.1162, 1.1161, 1.116, 1.1159, 1.1158, 1.1157, 1.1156, 1.1153, 1.1153, 1.1152, 1.1151, 1.115, 1.115, 1.1149, 1.1149, 1.1146, 1.1145, 1.1144, 1.1144, 1.1141, 1.114, 1.114, 1.114, 1.1138, 1.1138, 1.1136, 1.1136, 1.1136, 1.1136, 1.103, 1.1134, 1.1078, 1.1121, 1.0911, 1.0953, 1.102, 1.0513, 1.0217, 1.0498, 0.9985, 0.9784, 1.0629, 0.8878, 0.9543, 1.0129, 0.9805, 0.8943, 0.9694, 0.1957, 0.573, 0.5187, 0.7891, 0.6379, 0.8016, 0.6084, 0.5779, 0.7148, 0.5273, 0.0149, 0.4368, 0.7688, 0.5347, 0.2478, 0.435, 0.6322, -1.0235, 0.2233, -0.6515, 1.4612, 1.4612, 1.461, 1.4608, 1.4607, 1.4607, 1.4606, 1.4604, 1.4604, 1.4603, 1.4603, 1.4602, 1.46, 1.46, 1.4599, 1.4598, 1.4597, 1.4596, 1.4593, 1.4592, 1.4592, 1.459, 1.4589, 1.4587, 1.4587, 1.4586, 1.4585, 1.4585, 1.4585, 1.4584, 1.4584, 1.4579, 1.3939, 1.4116, 1.3557, 1.3575, 1.2866, 1.3059, 1.3301, 1.1792, 0.9403, 1.183, 1.0279, 1.2088, 1.0714, 1.0258, 0.4051, 0.5709, 1.0903, 0.9182, 1.156, 0.789, 0.859, 0.9518, 0.5528, 0.777, 0.6906, 0.0129, 0.6769, 1.0412, 0.6435, 0.5049, 0.2055, 1.8137, 1.8133, 1.8129, 1.8126, 1.8126, 1.8124, 1.8121, 1.8118, 1.8117, 1.8117, 1.8117, 1.8116, 1.8107, 1.8107, 1.8105, 1.8105, 1.8105, 1.8104, 1.8103, 1.8102, 1.81, 1.81, 1.81, 1.8097, 1.8094, 1.8091, 1.809, 1.809, 1.8089, 1.8088, 1.794, 1.7157, 1.8058, 1.7313, 1.7818, 1.714, 1.6176, 1.479, 1.6692, 1.4637, 1.6204, 1.3584, 1.3768, 1.6755, 1.1003, 1.5498, 0.6556, 1.1125, 0.4325, 1.2588, 1.2855, 0.945, 0.9675, 1.0792, -0.4978, 1.1718, 0.3924, 0.6077, 0.1356, 0.7193, 0.5723, 0.5995, 0.6438, 0.3484, 1.9658, 1.9657, 1.9653, 1.9649, 1.9643, 1.9638, 1.9637, 1.963, 1.9625, 1.9621, 1.9618, 1.9617, 1.9608, 1.9607, 1.9607, 1.9603, 1.9603, 1.9603, 1.9602, 1.9601, 1.96, 1.9599, 1.9599, 1.9597, 1.9594, 1.9593, 1.9593, 1.9589, 1.9588, 1.9584, 1.954, 1.9558, 1.8665, 1.7036, 1.9012, 1.4747, 1.7137, 1.4355, 1.5867, 1.853, 1.4505, 1.7282, 1.8136, 1.7189, 1.7795, 1.5053, 1.2412, 1.6369, 0.9386, 0.6588, 1.4723, 1.1548, 0.4262, 1.1666, 1.5702, 0.9998, 1.1548, 1.3292, 0.0108, 0.7333, 0.7675, 0.5196, -0.0423, 0.4205, -0.2514, 1.9787, 1.9782, 1.9781, 1.9778, 1.9777, 1.9771, 1.9769, 1.9765, 1.9765, 1.9761, 1.9757, 1.9756, 1.9756, 1.9756, 1.9754, 1.9754, 1.9751, 1.9749, 1.9749, 1.9746, 1.9743, 1.9743, 1.9742, 1.9742, 1.9741, 1.974, 1.9739, 1.9736, 1.9735, 1.9735, 1.8486, 1.9409, 1.7162, 1.7526, 1.5693, 1.711, 1.5856, 1.8133, 0.1139, 1.3191, 1.3127, 1.5856, 0.8147, 0.8035, 0.4472, 0.9343, 0.3936, -0.642, 0.2886, -0.2743, 0.7891, -0.6607, 0.9611, 0.7741, 0.4986, 0.1995, 0.5499, 0.7317]}, \"token.table\": {\"Topic\": [1, 3, 4, 1, 3, 4, 3, 5, 5, 4, 5, 4, 3, 4, 4, 2, 3, 2, 1, 2, 3, 2, 1, 2, 3, 1, 2, 3, 4, 1, 5, 2, 2, 5, 2, 2, 2, 1, 3, 5, 1, 4, 5, 3, 4, 1, 1, 4, 1, 2, 5, 3, 5, 1, 2, 4, 5, 1, 2, 4, 1, 2, 3, 4, 5, 4, 1, 2, 3, 4, 5, 1, 2, 3, 4, 5, 3, 1, 2, 1, 2, 3, 4, 1, 2, 3, 5, 4, 1, 2, 3, 4, 5, 1, 2, 3, 4, 5, 4, 1, 2, 3, 4, 5, 2, 3, 1, 2, 5, 1, 2, 3, 4, 1, 4, 4, 5, 1, 2, 3, 4, 5, 1, 3, 4, 1, 3, 4, 5, 1, 3, 4, 3, 1, 2, 3, 5, 1, 2, 1, 3, 5, 2, 3, 3, 3, 4, 1, 3, 4, 5, 5, 2, 3, 2, 3, 4, 5, 3, 4, 3, 1, 1, 3, 4, 5, 1, 2, 4, 5, 1, 2, 5, 2, 1, 3, 3, 5, 3, 4, 2, 1, 2, 5, 1, 2, 3, 4, 5, 1, 1, 2, 3, 4, 5, 1, 2, 3, 3, 2, 1, 2, 3, 4, 2, 1, 2, 1, 2, 3, 4, 5, 1, 2, 3, 5, 5, 5, 1, 1, 3, 4, 3, 4, 1, 2, 4, 5, 4, 3, 4, 2, 1, 5, 3, 1, 2, 3, 4, 2, 4, 1, 2, 5, 2, 3, 4, 2, 1, 3, 4, 4, 2, 3, 4, 5, 5, 5, 5, 1, 1, 5, 1, 2, 3, 5, 4, 5, 5, 3, 4, 2, 5, 4, 4, 2, 3, 4, 1, 4, 1, 1, 2, 3, 5, 1, 2, 3, 4, 5, 1, 5, 1, 1, 5, 2, 2, 1, 5, 1, 5, 2, 3, 1, 2, 3, 5, 2, 5, 1, 2, 4, 5, 4, 1, 3, 3, 1, 4, 1, 2, 5, 2, 4, 1, 2, 3, 4, 5, 1, 2, 3, 4, 5, 1, 4, 3, 3, 3, 4, 3, 4, 2, 1, 1, 2, 3, 4, 5, 3, 4, 1, 2, 5, 1, 2, 3, 4, 5, 2, 2, 4, 1, 1, 1, 1, 3, 4, 1, 2, 1, 2, 1, 5, 3, 2, 3, 4, 2, 5, 1, 5, 4, 2, 3, 4, 3, 2, 3, 4, 5, 3, 1, 2, 5, 1, 4, 1, 4, 5, 1, 2, 1, 2, 4, 5, 4, 5, 5, 1, 2, 1, 2, 3, 4, 5, 1, 5, 5, 5, 2, 2, 4, 3, 5, 2, 3, 1, 2, 5, 4, 2, 5, 1, 5, 3, 4, 1, 2, 3, 4, 5, 1, 2, 3, 4, 1, 4, 1, 5, 5, 3, 2, 2, 1, 2, 3, 5, 1, 3, 4, 1, 2, 4, 5, 3, 1, 5, 1, 4, 1, 2, 3, 4, 5, 1, 2, 3, 4, 5, 4, 5, 2, 5, 1, 2, 5, 1, 1, 5, 2, 3, 2, 3, 5, 2, 4, 1, 2, 3, 4, 5, 1, 3, 4, 1, 3, 4, 5, 4, 1, 2, 3, 4, 5, 1, 2, 3, 4, 5, 2, 3, 5, 4, 2, 1, 5, 1, 3, 5, 1, 1, 2, 5, 5, 1, 2, 3, 4, 5, 3, 3, 1, 2, 2, 3, 4, 1, 5, 1, 2, 3, 5], \"Freq\": [0.019649099507896783, 0.9794320370090088, 0.9898192788689438, 0.11971028404020873, 0.8713795094089613, 0.008351880281875028, 0.9949671353278567, 0.9950364254106163, 0.9954739918491152, 0.9873760264853522, 0.007207124280914979, 0.9912336015509414, 0.9991616799280287, 0.9951567921349541, 0.991343742244611, 0.9980237598384112, 0.9961461612170732, 0.9988155898479864, 0.0018933568034116908, 0.997799035397961, 0.998035042969024, 0.9988784207909212, 0.8006399566399461, 0.1530168354878882, 0.04634949788637277, 0.9988687417609303, 0.9982077358982668, 0.9932298646868161, 0.9990496087448532, 0.9988035679762586, 0.9948585074536734, 0.9961691796467971, 0.9991551871224169, 0.9978889107645383, 0.9989935391193182, 0.9975562951087915, 0.9976885461098722, 0.4254510519020918, 0.5740460884120137, 0.0007820791395259042, 0.23085859383123467, 0.68436747593526, 0.08464815107145271, 0.9951372787712407, 0.0037411175893655663, 0.9953327793650303, 0.9978391411052446, 0.9981936743907877, 0.5584438490787152, 0.44112371271764067, 0.9980563064276936, 0.9683010310997805, 0.027893445340322894, 0.8706883881132338, 0.06393022271793047, 0.0020622652489654994, 0.06351776966813738, 0.9478221653141438, 0.0033374019905427596, 0.04839232886287001, 0.5804370538572841, 0.0693698286424788, 0.0002141044093903667, 0.1342434646877599, 0.21581724466548963, 0.9935756168403473, 0.022162444201967467, 0.5471661224085745, 0.11327471481005594, 0.2915592659458831, 0.026102434282317236, 0.06923866654755836, 0.6479060675723037, 0.12714736947824354, 0.10889353920661451, 0.046998367595918404, 0.9940562107773758, 0.1606439071853809, 0.8388112997943242, 0.5056177383154069, 0.2986954104774236, 0.010822297481066072, 0.18484484097660853, 0.0034324469904949318, 0.45608639386201405, 0.4286268179380546, 0.11155452719108529, 0.9939670498839991, 0.3321474596540639, 0.23476053459044516, 0.1866475239298759, 0.14150126727786722, 0.1049972940421002, 0.05164133470187301, 0.4102167465032796, 0.2511376924791191, 0.21433582177203717, 0.07263243104359568, 0.9936125577434928, 0.027197295588200502, 0.46235402499940853, 0.2967704900947761, 0.21317880218398336, 0.0007999204584764854, 0.5040606797577616, 0.49564490390943344, 0.9842119473255257, 0.007131970632793665, 0.007131970632793665, 0.022993831807480113, 0.09197532722992045, 0.026278664922834417, 0.8573414431074728, 0.9969789626544125, 0.9987736028019122, 0.9936480872249048, 0.003215689602669595, 0.3976360953514518, 0.16024141155954028, 0.021761179347591888, 0.059348670947977876, 0.3610377482668654, 0.30337555641394165, 0.2523080590432639, 0.44402756188402875, 0.29793268368333675, 0.6337203436464387, 0.06799875368772627, 0.00070101807925491, 0.996924875992003, 0.8216918500812186, 0.1775580180774873, 0.9961030128217429, 0.5546470909658584, 0.38380134928006254, 0.014838714653461142, 0.046922422012296044, 0.14425858881971781, 0.8549960264193031, 0.34197970659966215, 0.5896505765854999, 0.0678671067220979, 0.9960553233087532, 0.9945380270241734, 0.9953505397763591, 0.866016125869906, 0.13306545007069084, 0.38515743272322317, 0.5256451848230873, 0.007892570342689, 0.0805042174954278, 0.9955579152313235, 0.5102596503035807, 0.4898377590005625, 0.0007645904954812827, 0.6453143781862026, 0.0015291809909625655, 0.35171162792139005, 0.23089750549359064, 0.7687837398820688, 0.9964091387026316, 0.9984608353509973, 0.11350606800653515, 0.0019740185740266983, 0.22207708957800357, 0.6632702408729706, 0.27800302996990356, 0.00285619551338942, 0.20278988145064883, 0.5160193227523553, 0.04223319040775405, 0.07977380410353543, 0.8775118451388897, 0.9985824331820105, 0.005988403346395965, 0.9940749555017302, 0.9932876915641831, 0.997195777314305, 0.10537504346921302, 0.8937364797944364, 0.9986113235109871, 0.22095036991457292, 0.013257022194874376, 0.7644882799044224, 0.1959039186790766, 0.04778144358026259, 0.07406123754940701, 0.6104079417378545, 0.07167216537039388, 0.9982453677439048, 0.3248284282653001, 0.05197254852244802, 0.1323675845181098, 0.20382983873647584, 0.28666108794412737, 0.8882972213314329, 0.09972248598712113, 0.011762139372839929, 0.9989508657163777, 0.9985103431976936, 0.5064895764049665, 0.04616704721721916, 0.2887967844172031, 0.15838330067221174, 0.9987554156452346, 0.06573646263860321, 0.9340293908824142, 0.850053021170427, 0.04618496590793803, 0.0006241211609180815, 0.05180205635620076, 0.05117793519528268, 0.6158538515233835, 0.27812754584926996, 0.017943712635436773, 0.0884368694175098, 0.9932301461478369, 0.9970570529005971, 0.9977380960870903, 0.002355774292031373, 0.9062663701444692, 0.09140404253081727, 0.3262413220036248, 0.6728727266324762, 0.9981349037883083, 0.9945822747493785, 0.9938819841198517, 0.9945991676440151, 0.9982478433072265, 0.7042799088991071, 0.2953164282309566, 0.9974135647194781, 0.9985143698040635, 0.9943394636586357, 0.9982411753169893, 0.11756124883688658, 0.5935023477619941, 0.01843322407738531, 0.27048580738446515, 0.01149005770962598, 0.9881449630278342, 0.2435813581074066, 0.7535008102007664, 0.0025285262087274044, 0.7565163567214923, 0.11543720134501124, 0.12778629730284966, 0.9954569619002728, 0.9968154371677678, 0.9941396004418153, 0.9959659054187426, 0.9974987969738874, 0.003147180058730263, 0.9048142668849506, 0.03619257067539802, 0.056649241057144736, 0.9913415843732494, 0.9919833417476007, 0.9970251605522287, 0.9986681538052872, 0.9965207335690695, 0.0031044259612743597, 0.7201833931787841, 0.11902036184132928, 0.002204080774839431, 0.15869381578843902, 0.1522592455086654, 0.8454394947981159, 0.9971159499073886, 0.36899866056505093, 0.6310095438065072, 0.03472255501623069, 0.9623108104498221, 0.9914508873685819, 0.9996005489056715, 0.11526234855123284, 0.10785262614436787, 0.7763742477415183, 0.8624286924321825, 0.13633240454138715, 0.9991272903598486, 0.986044598798657, 0.0009563963130927809, 0.002390990782731952, 0.01052035944402059, 0.7297472672422614, 0.14202680826772465, 0.003381590673041063, 0.1230899004986947, 0.0013526362692164251, 0.9901632343109292, 0.008239915958204681, 0.9960000051102642, 0.9985115383729525, 0.9938652519121571, 0.9961612594017302, 0.9988122628459151, 0.9979553116213934, 0.9982839002392916, 0.9352103568382116, 0.06426801030404772, 0.6892374237877549, 0.31046271530084524, 0.0017387092754198774, 0.0008693546377099387, 0.9962804148155897, 0.0017387092754198774, 0.8757909154942461, 0.12306475347327062, 0.17575391983060784, 0.32602086639272876, 0.44973888246684246, 0.0488500320979333, 0.996474206623691, 0.9980624927496946, 0.996533713033143, 0.9972730551178244, 0.9985281753960882, 0.9991967601237037, 0.5832748423505483, 0.10472765249186901, 0.3120011313820264, 0.9983848473559256, 0.9974399367436124, 0.2926953683567804, 0.12061926333039344, 0.05754313479982072, 0.3015481583259836, 0.2274060423339069, 0.16214059127628466, 0.676688794204086, 0.07544500981835287, 0.008272479146749218, 0.07776130397944264, 0.09394110471776447, 0.9050669873883544, 0.9981829789981324, 0.9951499451970993, 0.2109848204971, 0.7884169608049526, 0.9977860543137814, 0.9973469758495228, 0.9989567526205663, 0.9987386413695389, 0.549823916739358, 0.00034493344839357467, 0.07278095761104426, 0.35786845270833373, 0.019316273110040184, 0.16911565786556587, 0.8299194321180547, 0.022052015904895375, 0.7367006794894677, 0.24093869229422724, 0.0328816865186477, 0.4280823339220173, 0.22334730465496552, 0.07693073827004368, 0.23947794332449082, 0.9992883729067629, 0.40295884420502837, 0.5971492496717519, 0.9978097580406592, 0.9982898063348868, 0.9972686625781382, 0.9969497193546036, 0.9951533342677331, 0.9920971477652419, 0.10041238011876204, 0.8990626997670638, 0.0028660016527844905, 0.9959355743426104, 0.9966161729527432, 0.9965384081565895, 0.9949988122300231, 0.9502876272043514, 0.001900575254408703, 0.04561380610580887, 0.9962954212922623, 0.9978607821190524, 0.9991079346508986, 0.992238457345515, 0.9978761594973627, 0.20705763987780754, 0.715023407963307, 0.07801321842421644, 0.9980396731081865, 0.23847911984410894, 0.22546040858711044, 0.44441146154572164, 0.09172273840158036, 0.9963514542489867, 0.29444809900673463, 0.1924796911794997, 0.5132791764786658, 0.9011480518212174, 0.09824546429629813, 0.2831000339147077, 0.5285853780085802, 0.18807344910417648, 0.09875196726097774, 0.9002727889131853, 0.4623215821187496, 0.11322161194744888, 0.12047940758510586, 0.30410163721782746, 0.0013846624523156377, 0.9969569656672592, 0.9911376150225543, 0.9744980968036585, 0.02534821639084661, 0.14386597920300753, 0.28461060580003267, 0.29908233151867836, 0.08824915095095728, 0.18415980375296231, 0.9993999976148479, 0.9913199503751841, 0.9962387990159822, 0.9945802582673337, 0.9990682543524035, 0.9962744793510641, 0.9916966391182649, 0.9208541043390809, 0.0790681011055546, 0.17600528897313877, 0.8239368472808475, 0.15594227091744964, 0.1697018830572246, 0.6742209948489734, 0.9942317701048227, 0.9968100980961098, 0.9972363237154377, 0.8725075915677943, 0.1264503755895354, 0.9977006694962779, 0.9959925772917805, 0.29799078967491427, 0.23566861621104715, 0.21338121642926686, 0.23525588658545862, 0.017334644274718005, 0.2790644404974072, 0.002345079331910985, 0.4795687233757964, 0.23919809185492047, 0.057631398388633195, 0.9365102238152894, 0.9776812566155559, 0.0205827632971696, 0.9978849123680714, 0.9944628533849306, 0.9988429275279878, 0.9982160588978377, 0.40926774956788015, 0.003088813204285888, 0.4193063924818093, 0.16872642128411663, 0.13908177449779416, 0.14118907411139708, 0.7185891682386031, 0.38964312829287945, 0.26085237759796126, 0.040885952601561325, 0.3082800826157724, 0.9949867855026215, 0.9362230365528434, 0.06293283482222434, 0.6194528104583008, 0.3805154709202211, 0.6012850710097993, 0.27867044289224213, 0.045730534218214096, 0.005001777180117167, 0.06895307112590093, 0.04045360321556454, 0.09292312817832647, 0.334443155296994, 0.48424164641205475, 0.047663156263882976, 0.9991475229105357, 0.9921980478982703, 0.23145034076731383, 0.7680239476729456, 0.04346572789822511, 0.6566429607481864, 0.2996030530127659, 0.9971732269717585, 0.997030002412854, 0.003145205054930139, 0.23137739508238367, 0.7670069553518388, 0.7763400036846211, 0.1857372589460518, 0.03826048405255749, 0.9960886030497954, 0.9925982666533099, 0.038373938141379516, 0.6003664515667441, 0.055085169267464144, 0.26799863250350536, 0.038373938141379516, 0.17052553648533536, 0.24129117698645436, 0.5880755773125398, 0.0030995654118617733, 0.3139084870863011, 0.6116217448956244, 0.07129000447282079, 0.9952015920375205, 0.39801841166219826, 0.34750543054211186, 0.09906167551724153, 0.0006932776669169314, 0.15471646600029518, 0.20158100258586537, 0.6462731667689471, 0.09424151467960425, 0.0019167765697546627, 0.05622544604613677, 0.22296153422605225, 0.1023802963282893, 0.6734348380705252, 0.9918749535976534, 0.9981866578711458, 0.795275525607898, 0.2047657679111686, 0.011468846268084362, 0.1903828480502004, 0.7959379310050547, 0.9994529259147228, 0.9087271845575687, 0.010940282131618585, 0.07931704545423474, 0.9939776174419651, 0.6686304901584343, 0.060291297579660445, 0.07898159982935518, 0.02049904117708455, 0.17183019810203226, 0.9978933087141406, 0.9992153845507837, 0.41925045450738413, 0.5805446266371008, 0.1701990034920908, 0.047028672017551405, 0.7815717397202591, 0.9973792943290678, 0.991386006144205, 0.7056632028915036, 0.16557857630787548, 0.061825476990494274, 0.06608930298983871], \"Term\": [\"1st\", \"1st\", \"1st_stage\", \"2nd\", \"2nd\", \"2nd\", \"7th\", \"ab\", \"absolutely_safe\", \"active\", \"active\", \"active_case\", \"administer\", \"adverse_events\", \"aefi\", \"affirm\", \"airport\", \"alliance\", \"approve\", \"approve\", \"assam\", \"astrazeneca\", \"available\", \"available\", \"available\", \"b\", \"bangladesh\", \"batch\", \"beneficiaries\", \"better\", \"bhi\", \"bhutan\", \"billion\", \"boycott\", \"brazil\", \"candidate\", \"capacity\", \"care\", \"care\", \"care\", \"case\", \"case\", \"case\", \"center\", \"center\", \"chance\", \"change\", \"child\", \"china\", \"china\", \"clinical\", \"cm\", \"cm\", \"come\", \"come\", \"come\", \"come\", \"control\", \"control\", \"control\", \"corona\", \"corona\", \"corona\", \"corona\", \"corona\", \"coronaupdatesinindia\", \"coronavaccine\", \"coronavaccine\", \"coronavaccine\", \"coronavaccine\", \"coronavaccine\", \"coronavirus\", \"coronavirus\", \"coronavirus\", \"coronavirus\", \"coronavirus\", \"coronavirusindia\", \"countries\", \"countries\", \"country\", \"country\", \"country\", \"country\", \"covaxin\", \"covaxin\", \"covaxin\", \"covaxin\", \"coverage\", \"covid\", \"covid\", \"covid\", \"covid\", \"covid\", \"covid19\", \"covid19\", \"covid19\", \"covid19\", \"covid19\", \"covid19pandemic\", \"covidvaccine\", \"covidvaccine\", \"covidvaccine\", \"covidvaccine\", \"covidvaccine\", \"covishield\", \"covishield\", \"create\", \"create\", \"create\", \"crore\", \"crore\", \"crore\", \"crore\", \"d\", \"daily\", \"das\", \"das\", \"data\", \"data\", \"data\", \"data\", \"data\", \"day\", \"day\", \"day\", \"days\", \"days\", \"days\", \"days\", \"decision\", \"delhi\", \"delhi\", \"department\", \"develop\", \"develop\", \"develop\", \"develop\", \"development\", \"development\", \"die\", \"die\", \"die\", \"diplomacy\", \"director\", \"disappear\", \"district\", \"district\", \"doctor\", \"doctor\", \"doctor\", \"doctor\", \"dog\", \"dose\", \"dose\", \"dr\", \"dr\", \"dr\", \"dr\", \"drive\", \"drive\", \"dubai\", \"economy\", \"effect\", \"effect\", \"effect\", \"effect\", \"effective\", \"effective\", \"effective\", \"effective\", \"efficacy\", \"efficacy\", \"efficacy\", \"emergency_use\", \"employees\", \"employees\", \"even\", \"exam\", \"experience\", \"experience\", \"export\", \"face\", \"face\", \"face\", \"far\", \"far\", \"far\", \"far\", \"far\", \"fee\", \"follow\", \"follow\", \"follow\", \"follow\", \"follow\", \"free\", \"free\", \"free\", \"frontline\", \"gavi\", \"get\", \"get\", \"get\", \"get\", \"gift\", \"global\", \"global\", \"go\", \"go\", \"go\", \"go\", \"go\", \"good\", \"good\", \"good\", \"good\", \"h\", \"hai\", \"hard\", \"health\", \"health\", \"health\", \"healthcare_workers\", \"healthcare_workers\", \"herd_immunity\", \"hetauda\", \"highest\", \"highly\", \"honble\", \"hospital\", \"hospital\", \"host\", \"hv\", \"immune_response\", \"immunisation\", \"india\", \"india\", \"india\", \"india\", \"indiafightscorona\", \"indiafightscorona\", \"indian\", \"indian\", \"indian\", \"indias\", \"indias\", \"indias\", \"indigenous\", \"infect\", \"inoculation\", \"interact\", \"interact_beneficiaries\", \"jab\", \"jab\", \"jab\", \"jab\", \"je\", \"ka\", \"ki\", \"kid\", \"kind\", \"kind\", \"know\", \"know\", \"know\", \"know\", \"kumar\", \"kumar\", \"laboratory\", \"lakh\", \"lakh\", \"lalit\", \"lalit\", \"largely\", \"largestvaccinedrive\", \"launch\", \"launch\", \"launch\", \"let\", \"let\", \"life\", \"like\", \"like\", \"like\", \"like\", \"live\", \"live\", \"live\", \"live\", \"live\", \"long\", \"long\", \"lose\", \"love\", \"mai\", \"maldives\", \"manufacture\", \"market\", \"mask\", \"medicine\", \"medicine\", \"million\", \"million\", \"minister\", \"minister\", \"minister\", \"minister\", \"moderna\", \"moderna\", \"modi\", \"modi\", \"modi\", \"modi\", \"mondaythoughts\", \"money\", \"morning\", \"mumbai\", \"n\", \"namo_app\", \"need\", \"need\", \"need\", \"nepal\", \"nervous\", \"new\", \"new\", \"new\", \"new\", \"new\", \"news\", \"news\", \"news\", \"news\", \"news\", \"number\", \"number\", \"nurse\", \"october\", \"odisha\", \"odisha\", \"officials\", \"organize\", \"oxford\", \"pay\", \"people\", \"people\", \"people\", \"people\", \"people\", \"persons\", \"persons\", \"pfizer\", \"pfizer\", \"pfizer\", \"phase\", \"phase\", \"phase\", \"phase\", \"phase\", \"pledge\", \"pm\", \"pm\", \"political\", \"politics\", \"power\", \"ppl\", \"preventable_diseases\", \"priorities_high\", \"produce\", \"produce\", \"production\", \"production\", \"products\", \"promote\", \"public_contact\", \"pune\", \"pune\", \"pune\", \"putin\", \"quarantine\", \"r\", \"rabies\", \"rajender\", \"receive\", \"receive\", \"receive\", \"reopen_school\", \"report\", \"report\", \"report\", \"report\", \"residents\", \"result\", \"result\", \"result\", \"right\", \"right\", \"risk\", \"risk\", \"risk\", \"russia\", \"russia\", \"safe\", \"safe\", \"safe\", \"safe\", \"safety\", \"safety\", \"sarscov2\", \"save\", \"save\", \"say\", \"say\", \"say\", \"say\", \"say\", \"school\", \"se\", \"search\", \"self\", \"serum_institute\", \"seruminstituteofindia\", \"sessions\", \"shoot\", \"shoot\", \"shots\", \"shots\", \"show\", \"show\", \"show\", \"shri_ji\", \"sii\", \"social_distance\", \"spread\", \"spread\", \"staff\", \"staff_direct\", \"start\", \"start\", \"start\", \"start\", \"start\", \"state\", \"state\", \"state\", \"state\", \"status\", \"status\", \"stop\", \"stop\", \"strain\", \"stray_dog\", \"summit\", \"supply\", \"take\", \"take\", \"take\", \"take\", \"target\", \"target\", \"target\", \"test\", \"test\", \"test\", \"test\", \"thankyou\", \"think\", \"think\", \"till\", \"till\", \"time\", \"time\", \"time\", \"time\", \"time\", \"today\", \"today\", \"today\", \"today\", \"today\", \"total\", \"transmission\", \"trial\", \"trial\", \"trials\", \"trials\", \"trials\", \"trust\", \"try\", \"try\", \"uae\", \"uae\", \"uk\", \"uk\", \"uk\", \"unite\", \"unite2fightcorona\", \"update\", \"update\", \"update\", \"update\", \"update\", \"vaccinate\", \"vaccinate\", \"vaccinate\", \"vaccination\", \"vaccination\", \"vaccination\", \"vaccination\", \"vaccinators\", \"vaccine\", \"vaccine\", \"vaccine\", \"vaccine\", \"vaccine\", \"vaccines\", \"vaccines\", \"vaccines\", \"vaccines\", \"vaccines\", \"video\", \"video\", \"video\", \"video_conference\", \"virtual\", \"virus\", \"virus\", \"volunteer\", \"volunteer\", \"volunteer\", \"wait\", \"want\", \"want\", \"want\", \"wear\", \"work\", \"work\", \"work\", \"work\", \"work\", \"worker\", \"workers\", \"world\", \"world\", \"worlds_largest\", \"worlds_largest\", \"worlds_largest\", \"wrong\", \"ye\", \"year\", \"year\", \"year\", \"year\"]}, \"R\": 30, \"lambda.step\": 0.01, \"plot.opts\": {\"xlab\": \"PC1\", \"ylab\": \"PC2\"}, \"topic.order\": [5, 2, 1, 3, 4]};\n",
              "\n",
              "function LDAvis_load_lib(url, callback){\n",
              "  var s = document.createElement('script');\n",
              "  s.src = url;\n",
              "  s.async = true;\n",
              "  s.onreadystatechange = s.onload = callback;\n",
              "  s.onerror = function(){console.warn(\"failed to load library \" + url);};\n",
              "  document.getElementsByTagName(\"head\")[0].appendChild(s);\n",
              "}\n",
              "\n",
              "if(typeof(LDAvis) !== \"undefined\"){\n",
              "   // already loaded: just create the visualization\n",
              "   !function(LDAvis){\n",
              "       new LDAvis(\"#\" + \"ldavis_el621398707060788483653095392\", ldavis_el621398707060788483653095392_data);\n",
              "   }(LDAvis);\n",
              "}else if(typeof define === \"function\" && define.amd){\n",
              "   // require.js is available: use it to load d3/LDAvis\n",
              "   require.config({paths: {d3: \"https://cdnjs.cloudflare.com/ajax/libs/d3/3.5.5/d3.min\"}});\n",
              "   require([\"d3\"], function(d3){\n",
              "      window.d3 = d3;\n",
              "      LDAvis_load_lib(\"https://cdn.rawgit.com/bmabey/pyLDAvis/files/ldavis.v1.0.0.js\", function(){\n",
              "        new LDAvis(\"#\" + \"ldavis_el621398707060788483653095392\", ldavis_el621398707060788483653095392_data);\n",
              "      });\n",
              "    });\n",
              "}else{\n",
              "    // require.js not available: dynamically load d3 & LDAvis\n",
              "    LDAvis_load_lib(\"https://cdnjs.cloudflare.com/ajax/libs/d3/3.5.5/d3.min.js\", function(){\n",
              "         LDAvis_load_lib(\"https://cdn.rawgit.com/bmabey/pyLDAvis/files/ldavis.v1.0.0.js\", function(){\n",
              "                 new LDAvis(\"#\" + \"ldavis_el621398707060788483653095392\", ldavis_el621398707060788483653095392_data);\n",
              "            })\n",
              "         });\n",
              "}\n",
              "</script>"
            ],
            "text/plain": [
              "PreparedData(topic_coordinates=              x         y  topics  cluster       Freq\n",
              "topic                                                \n",
              "4      0.182554 -0.028403       1        1  32.725140\n",
              "1      0.040496 -0.230524       2        1  23.175642\n",
              "0     -0.168130  0.031539       3        1  16.295713\n",
              "2     -0.224576  0.047573       4        1  13.997016\n",
              "3      0.169657  0.179815       5        1  13.806489, topic_info=             Term          Freq         Total Category  logprob  loglift\n",
              "111   vaccination  12905.000000  12905.000000  Default  30.0000  30.0000\n",
              "1         vaccine  51927.000000  51927.000000  Default  29.0000  29.0000\n",
              "6           india  12640.000000  12640.000000  Default  28.0000  28.0000\n",
              "38      vaccinate   6104.000000   6104.000000  Default  27.0000  27.0000\n",
              "13         health   4244.000000   4244.000000  Default  26.0000  26.0000\n",
              "...           ...           ...           ...      ...      ...      ...\n",
              "1067       trials    385.763062   1288.371384   Topic5  -5.7382   0.7741\n",
              "344           new    410.843525   1807.339839   Topic5  -5.6752   0.4986\n",
              "314          take    436.549742   2589.991518   Topic5  -5.6145   0.1995\n",
              "1012        phase    385.689800   1611.839465   Topic5  -5.7384   0.5499\n",
              "715        follow    353.411028   1231.419313   Topic5  -5.8258   0.7317\n",
              "\n",
              "[349 rows x 6 columns], token_table=       Topic      Freq       Term\n",
              "term                             \n",
              "304        1  0.019649        1st\n",
              "304        3  0.979432        1st\n",
              "43982      4  0.989819  1st_stage\n",
              "2494       1  0.119710        2nd\n",
              "2494       3  0.871380        2nd\n",
              "...      ...       ...        ...\n",
              "3264       5  0.991386         ye\n",
              "378        1  0.705663       year\n",
              "378        2  0.165579       year\n",
              "378        3  0.061825       year\n",
              "378        5  0.066089       year\n",
              "\n",
              "[553 rows x 3 columns], R=30, lambda_step=0.01, plot_opts={'xlab': 'PC1', 'ylab': 'PC2'}, topic_order=[5, 2, 1, 3, 4])"
            ]
          },
          "metadata": {
            "tags": []
          }
        }
      ]
    },
    {
      "cell_type": "markdown",
      "metadata": {
        "id": "5lY2C6skdXDX"
      },
      "source": [
        "AUSTRALIA"
      ]
    },
    {
      "cell_type": "code",
      "metadata": {
        "colab": {
          "base_uri": "https://localhost:8080/",
          "height": 912
        },
        "id": "w-O8kBIhdppa",
        "outputId": "66e2e8e2-4b40-473e-c61d-438c00f8e796"
      },
      "source": [
        "australia_topics = get_topic_model(country_name=\"Australia\", num_topics=5)"
      ],
      "execution_count": null,
      "outputs": [
        {
          "output_type": "stream",
          "text": [
            "100%|██████████| 15686/15686 [00:02<00:00, 6232.22it/s]\n"
          ],
          "name": "stderr"
        },
        {
          "output_type": "stream",
          "text": [
            "\n",
            "\n"
          ],
          "name": "stdout"
        },
        {
          "output_type": "display_data",
          "data": {
            "text/html": [
              "\n",
              "<link rel=\"stylesheet\" type=\"text/css\" href=\"https://cdn.rawgit.com/bmabey/pyLDAvis/files/ldavis.v1.0.0.css\">\n",
              "\n",
              "\n",
              "<div id=\"ldavis_el621398707138781129186688815\"></div>\n",
              "<script type=\"text/javascript\">\n",
              "\n",
              "var ldavis_el621398707138781129186688815_data = {\"mdsDat\": {\"x\": [-0.01403456761582395, -0.10209590076304932, -0.09648107490126125, 0.11466023117428678, 0.09795131210584783], \"y\": [-0.012073767407179721, -0.047818187947325445, 0.04663301326578683, -0.11078027236642839, 0.12403921445514672], \"topics\": [1, 2, 3, 4, 5], \"cluster\": [1, 1, 1, 1, 1], \"Freq\": [29.317008088176816, 26.28620715815506, 18.32315702139007, 15.163035310770818, 10.910592421507232]}, \"tinfo\": {\"Term\": [\"vaccinate\", \"vaccine\", \"pfizer\", \"vaccination\", \"flu\", \"covid19\", \"coronavirus\", \"travel\", \"approve\", \"program\", \"receive\", \"trial\", \"australia\", \"workers\", \"dose\", \"go\", \"countries\", \"trump\", \"moderna\", \"virus\", \"astrazeneca\", \"border\", \"question\", \"vaccinations\", \"health\", \"million\", \"efficacy\", \"open\", \"answer\", \"oxford\", \"cancer\", \"deadly\", \"putin\", \"yrs\", \"operation_warp\", \"mutation\", \"measles\", \"flu\", \"eradication\", \"mumps\", \"worst\", \"fun\", \"pandemics\", \"hpv\", \"oil\", \"annual\", \"legit\", \"yearly\", \"drug_company\", \"suppress\", \"saviour\", \"contagious\", \"mutate\", \"labs\", \"alter\", \"worlds_largest\", \"package\", \"flaw\", \"brother\", \"degree\", \"natural\", \"decades\", \"depend\", \"isolation\", \"immune\", \"community_transmission\", \"elimination\", \"sick\", \"viruses\", \"influenza\", \"virus\", \"strain\", \"normal\", \"die\", \"herd_immunity\", \"catch\", \"spread\", \"season\", \"stop\", \"cure\", \"immunity\", \"covid\", \"years\", \"people\", \"vaccine\", \"get\", \"wear_mask\", \"current\", \"lockdown\", \"reduce\", \"need\", \"hope\", \"case\", \"go\", \"think\", \"year\", \"time\", \"come\", \"like\", \"work\", \"soon\", \"world\", \"live\", \"want\", \"say\", \"new\", \"vaccination\", \"effective\", \"vaccinate\", \"good\", \"vaccines\", \"know\", \"pfizers\", \"novavax\", \"therapeutic_goods\", \"uq\", \"health_authorities\", \"biontech\", \"sequence\", \"injury\", \"pfizervaccine\", \"approve_pfizers\", \"rt\", \"abandon\", \"supply_chain\", \"storage\", \"allergic_reactions\", \"modernas\", \"pfizerbiontech\", \"clinical_trials\", \"approve_pfizerbiontech\", \"candidate\", \"racism\", \"tga\", \"ahead_large\", \"topic\", \"human_trials\", \"johnson_johnson\", \"patient\", \"pharmaceutical_company\", \"politically_motivate\", \"queenslands\", \"trial\", \"placebo\", \"volunteer\", \"quality\", \"receive\", \"canada\", \"oxford\", \"phase\", \"efficacy\", \"agreement\", \"astrazeneca\", \"pfizer\", \"trials\", \"moderna\", \"approval\", \"mrna\", \"data\", \"approve\", \"safety\", \"az\", \"covid19\", \"dose\", \"manufacture\", \"news\", \"vaccine\", \"vaccines\", \"uk\", \"australia\", \"result\", \"test\", \"coronavirus\", \"covid\", \"use\", \"auspol\", \"know\", \"people\", \"plan\", \"say\", \"rollout\", \"good\", \"effective\", \"need\", \"vaccination\", \"reenact_cameras\", \"ask_media\", \"video_show\", \"politician_flu\", \"conspiracies_base\", \"quality_evidence\", \"russia\", \"tax\", \"minister\", \"sue\", \"russian\", \"antivaxxer\", \"nations_medical\", \"pence\", \"own\", \"bio\", \"plant\", \"tour\", \"google\", \"steal\", \"coincidence\", \"give_green\", \"basket\", \"bigpharma\", \"bitch\", \"entitle\", \"manufacture_facility\", \"sth_african\", \"imaginary\", \"laugh\", \"caution\", \"sydney\", \"announcement\", \"defence\", \"answer\", \"money\", \"donald_trump\", \"question\", \"politicians\", \"big_pharma\", \"vaccine\", \"chinese\", \"coronavirus\", \"regulator\", \"share\", \"develop\", \"prove\", \"yeah\", \"go\", \"safe\", \"sure\", \"right\", \"want\", \"global\", \"work\", \"think\", \"covid19\", \"pfizer\", \"government\", \"australia\", \"know\", \"people\", \"use\", \"tell\", \"wait\", \"live\", \"way\", \"time\", \"need\", \"effective\", \"rollout\", \"long\", \"get\", \"like\", \"contact_trace\", \"sweden\", \"travel_bubble\", \"care_workers\", \"workers\", \"strict\", \"png\", \"supporters\", \"vitamin\", \"arrivals\", \"return_overseas\", \"burn\", \"nrl\", \"brisbane\", \"singapore\", \"fantasy\", \"players\", \"international_arrivals\", \"map\", \"harry_kenmare\", \"program\", \"penicillin\", \"empathy\", \"moon\", \"responders\", \"theme\", \"indefinitely\", \"nt\", \"madness\", \"folk\", \"border_closure\", \"region\", \"pacific\", \"vaccinations\", \"containment\", \"age_care\", \"high_risk\", \"priority\", \"late_february\", \"staff\", \"tho\", \"cricket\", \"vaccination\", \"healthcare_workers\", \"border\", \"vaccinate\", \"quarantine\", \"countries\", \"restrictions\", \"mandatory\", \"health\", \"national\", \"proof\", \"entry\", \"morrison\", \"open\", \"remain\", \"vulnerable\", \"million\", \"require\", \"australias\", \"school\", \"australia\", \"population\", \"government\", \"close\", \"covid19\", \"start\", \"like\", \"vaccine\", \"say\", \"covid\", \"need\", \"think\", \"people\", \"rollout\", \"vaccines\", \"get\", \"new\", \"abort\", \"chief_medical\", \"authority\", \"earliest\", \"chicken_pox\", \"insane\", \"france\", \"horizon\", \"vet\", \"b_cells\", \"kelly\", \"tackle\", \"follow_suit\", \"airport\", \"sector\", \"yo\", \"elect\", \"thankful\", \"officer_paul\", \"lovely\", \"idiocy\", \"unfortunate\", \"lib\", \"explode\", \"chill\", \"cry\", \"spraytanned\", \"journalists\", \"getthejabdone\", \"organize\", \"slam\", \"translation\", \"october\", \"equivalent\", \"workforce\", \"fly\", \"beer\", \"wall\", \"fully\", \"travel\", \"space\", \"chip\", \"happy\", \"charge\", \"vaccinate\", \"wa\", \"t\", \"ready\", \"biden\", \"trump\", \"overseas\", \"flight\", \"return\", \"vaccine\", \"day\", \"come\", \"plan\", \"get\", \"end\", \"year\", \"people\", \"march\", \"claim\", \"half\", \"week\", \"kid\", \"say\", \"mask\", \"go\", \"need\", \"happen\", \"covid19\", \"know\", \"like\", \"work\", \"want\", \"let\", \"vaccination\", \"wait\", \"time\", \"dose\", \"australia\", \"new\"], \"Freq\": [1586.0, 12244.0, 1223.0, 1356.0, 435.0, 1984.0, 626.0, 252.0, 349.0, 157.0, 290.0, 225.0, 1146.0, 139.0, 589.0, 767.0, 313.0, 431.0, 258.0, 739.0, 309.0, 182.0, 244.0, 136.0, 365.0, 310.0, 236.0, 237.0, 144.0, 196.0, 62.998785442613325, 39.48486728645638, 25.70960270387266, 27.819006171065286, 26.798078817966577, 24.706998294039856, 38.530587731022244, 421.9715749686811, 22.139702444528616, 19.531666945865947, 24.303752609378403, 20.008632235340205, 17.412820980303156, 33.71943012329438, 17.080875553857183, 17.977897799078363, 15.680674516223686, 15.074968781220367, 17.046424192532935, 13.86741450804262, 13.29332553930378, 26.108662348478397, 64.04826511221228, 13.031741657882439, 14.369695692667442, 12.662109287648313, 12.695499458457437, 12.449408958556928, 12.448949249148004, 12.443549341364713, 39.212534761501196, 31.281201884767455, 39.359765927452706, 20.630409344168644, 93.13640145067765, 36.65145002232512, 72.20696623594806, 78.03177973481012, 44.712545107471264, 68.12309575748294, 530.8380109750369, 96.81913017002434, 136.12184850870977, 275.48254778033356, 122.42960845204067, 67.26882816506325, 177.30042954599665, 35.865830131276, 213.1779235451954, 109.83421491180533, 148.41471970244183, 858.3625361904826, 248.4253270774591, 764.3189032546082, 3903.754479788902, 501.56838673079744, 91.85782542936428, 75.83185210280547, 117.28440652563849, 87.19332518971255, 470.19942732652936, 202.2052438186853, 218.115081797486, 345.5870380678826, 343.02742976768405, 246.5905429378653, 310.07328494406596, 249.81884387317598, 326.3497092988238, 311.9712606718996, 138.3626399449617, 213.9750663713558, 193.6038593118714, 227.77354292354707, 306.8634529181474, 207.6990329876908, 360.3952378146587, 208.10879849265544, 366.8645370604871, 210.75099342039, 216.76721381052096, 192.9460117921581, 85.90209305558263, 43.55675317667889, 37.03274782269794, 47.06964835575091, 32.08368746535485, 29.730306438940666, 22.53662761147275, 22.754194845096777, 22.648875684261725, 22.196799530859717, 20.80229958801805, 20.29033182115065, 21.346995407093356, 32.47591262201373, 21.385653500752053, 22.972080995206742, 54.809372380067174, 52.04348190503, 18.990695993968224, 44.099681416174114, 19.017302955698376, 101.26525091539924, 17.79016496911419, 18.000055642229995, 25.418561566346177, 17.556734648960827, 23.102699861044204, 17.044135066413734, 19.265543336248264, 16.365134790036116, 214.96092775509462, 45.15048115088008, 66.98071777193763, 27.58457614862548, 258.1458303264616, 36.135166398962696, 174.10530695493085, 66.34700062791717, 201.69088498270557, 32.38809325118302, 254.43195758832653, 910.5880655594159, 145.38140166029058, 208.12501906921986, 119.37861216952015, 111.2516332718919, 181.74836318025467, 261.3053660391139, 111.38846649623602, 110.36279497370512, 1082.0972599383804, 379.6462721017281, 113.35071751316946, 251.81084918061316, 3751.6505500850594, 407.8022412905419, 232.53110804344846, 502.75140535756145, 130.16912138478375, 265.5873915055942, 281.1617563211926, 556.7137114818076, 175.39377769645935, 202.55353602529226, 280.56573149543476, 338.86773281448643, 183.00239094130183, 231.7377882414463, 172.21906637291013, 173.5282727033168, 159.7747886419983, 188.5497446435575, 194.80167512263378, 51.80205348332877, 50.4070263179063, 47.61706845906834, 47.61706845906834, 42.03441377528094, 42.03441377528094, 71.62482786912403, 27.809222067745967, 27.826492654214675, 21.183465905599565, 59.241836246019496, 22.19435831692925, 17.717161680714444, 19.466679430255798, 15.935087774640373, 15.975758065847948, 15.39385150299111, 15.106694185315982, 19.312022219745987, 14.516292842800189, 14.463074899031316, 13.865445496252693, 12.951813645709011, 12.644162318201195, 11.551128187354836, 10.972622262744386, 10.722516487405947, 10.582952951554946, 9.915468378236808, 20.024711268600218, 17.019780222708434, 47.60016908010479, 77.76327456291968, 25.641460417988323, 122.68451667536152, 126.18715519418353, 17.03953181753081, 156.27559134358836, 69.86209555184264, 43.98767411193199, 3084.150804483015, 47.624664581010016, 260.5651361143431, 31.663050150273776, 75.10719048873786, 158.20326982064677, 81.31853646433704, 60.49454622895667, 257.1576441610235, 157.2201110141091, 107.77257849998239, 134.75604213224707, 177.65612019842234, 78.22766563795774, 207.8219940083943, 202.71021919072382, 351.47084252269576, 262.22888395801795, 130.76908058285588, 206.34251608694004, 154.8909412105699, 221.34649694585758, 106.1312624951502, 101.9219203863424, 113.62587910772687, 110.75802639489733, 109.06309712078937, 129.24719692267698, 143.00401284184167, 111.29004854127031, 106.41726424595899, 90.13143046912323, 108.59316100256692, 104.08904238474935, 24.6386919504862, 26.488491202711312, 20.3356066969137, 20.01931880696831, 134.02487082485453, 19.802257469445703, 16.915921343677464, 16.708287344328863, 14.163248802312436, 14.378045287788453, 13.734225081529967, 14.29734800193687, 16.93684822948419, 15.257310314560733, 11.559362288498484, 11.605885473469298, 21.102412708099042, 13.270669742991943, 10.917450285171206, 10.208928202170256, 146.8205177887737, 10.342788767958362, 10.018409889322397, 10.303967815464764, 9.68689976389759, 9.664443018260156, 9.656668761752341, 9.401102336159493, 9.385113869125615, 9.34147077761941, 18.498580863127593, 13.613141405218485, 24.550791393815178, 115.9775647691679, 11.367405230557427, 65.85898878530986, 33.35458542781474, 68.45890009329031, 30.735323085106714, 80.65907666946897, 15.38541416445724, 20.706275333240583, 660.9679234943785, 23.060338253202808, 111.76655746604125, 674.5310724125256, 96.20110578682761, 165.79408411731967, 49.56680943078207, 92.42688691563778, 176.2535839219486, 54.91016639437606, 41.77368783350546, 37.340922878957294, 111.86969587786098, 114.5695869534276, 58.745603956057394, 67.54546183339667, 130.35255467609198, 87.15510274775365, 78.26301940086971, 65.48474845127272, 270.452393889785, 95.85752859911932, 138.78280258357825, 68.33618502929777, 296.74153298890735, 117.72643318949916, 162.63008060167712, 664.33149778898, 164.00201516277866, 213.8252197293852, 154.36724778064468, 133.9233499165654, 176.34671880334952, 111.75948349137312, 130.79840251621516, 130.69213322846284, 97.60975004179082, 18.21771878385461, 18.824417615062995, 18.4118641082039, 17.644216697639845, 13.535370539258247, 13.680654221153144, 18.825617708052455, 10.927745802194712, 16.354828547708262, 10.055792702822334, 17.180396367163294, 10.435093893264263, 9.16597245418177, 9.11688103325697, 9.402624922362273, 9.109562464094909, 8.287061687701392, 8.284534124526918, 8.240563391742896, 8.282108962627298, 8.012991543929585, 8.00592710476061, 7.713038853540104, 7.666012316858879, 7.702339169113769, 7.701985135437897, 7.455862422527339, 10.758653823895976, 9.003489728897318, 7.0912545662310995, 9.756068542107224, 39.03943205469954, 39.90050189662846, 12.044584057607143, 10.502751789236745, 54.78540634924332, 13.52049612968751, 15.494436802026243, 48.79628046993051, 141.7321958851838, 18.97451290808005, 18.369978240400012, 74.69237402699069, 37.05108152491502, 488.46247296875714, 18.920598636868778, 15.964171430523699, 55.15582922427569, 45.1735531440232, 121.8952706794374, 49.871583769224834, 25.128915693805222, 39.84610184375964, 840.7566259154981, 79.76150687226765, 104.27738609498778, 93.35360771779568, 128.80517883188008, 66.64410337067943, 86.46431968547995, 142.25172500677368, 45.874052791795, 43.09169026955931, 34.8696146787139, 48.4625172512963, 39.96604370771994, 95.30035086129207, 50.48010709144008, 85.36968502356662, 95.67438025927302, 54.21149465792913, 112.14155424466176, 77.34014131259352, 78.57900692134439, 76.34122436915705, 67.26627853114734, 57.24624884917017, 83.38093737664303, 60.38852937419334, 66.98848635079375, 63.74320013363451, 63.87289509462675, 57.10627879440344], \"Total\": [1586.0, 12244.0, 1223.0, 1356.0, 435.0, 1984.0, 626.0, 252.0, 349.0, 157.0, 290.0, 225.0, 1146.0, 139.0, 589.0, 767.0, 313.0, 431.0, 258.0, 739.0, 309.0, 182.0, 244.0, 136.0, 365.0, 310.0, 236.0, 237.0, 144.0, 196.0, 63.809919621483786, 40.28926999176922, 26.464701316422776, 28.638414820230366, 27.61376635801751, 25.48505783773064, 39.805575231160475, 435.9399210923075, 22.904878383822656, 20.281340846890867, 25.331624177126027, 20.865746676333153, 18.183152677338615, 35.25516444166689, 17.86564882583896, 18.81700000772825, 16.44283704114574, 15.822321548466894, 17.896904731987085, 14.616943529230547, 14.038866216950488, 27.58129302471335, 67.6785552230415, 13.775799517925119, 15.193860176539435, 13.408574649966798, 13.451728592628896, 13.196417228167387, 13.196220032731857, 13.193171162429692, 41.583508436823394, 33.18417984065369, 42.234815866102345, 22.007439386381858, 105.28060362381913, 40.39891594906781, 82.55772575945497, 89.71940841291602, 50.419541224504144, 79.52360089138419, 739.8907504061391, 118.74289008383764, 173.92383622244392, 380.0567164768556, 157.77016200578936, 81.34225214010056, 241.80634391733335, 40.6132189652679, 316.9987360904413, 147.76840514791934, 214.49502765658238, 1761.0227450860098, 402.9233338831372, 1643.1315768250754, 12244.643958061453, 986.0925971320726, 124.38133008623794, 98.54842269773694, 171.49906659628294, 118.35118872793892, 1051.7948128518462, 352.90426589506995, 406.30905678258654, 767.24768918061, 779.5513441376012, 495.6264735551663, 693.7121856826463, 523.9332796170479, 774.2580150988256, 750.2019926206249, 228.93022643062147, 463.48098791450826, 396.3458630563006, 526.7015455438061, 883.8395455686355, 451.89212030394947, 1356.8097074115492, 488.72488133546403, 1586.2379425517245, 533.2305114984176, 849.7020656459642, 738.4621697017885, 87.17126029861102, 44.360056660008574, 37.795215520210775, 48.08784780445063, 32.812330383566895, 30.46930036978049, 23.26461586668885, 23.489442679600494, 23.38311612684605, 22.981658732110166, 21.543730142473105, 21.02628578500856, 22.122070694130347, 33.66160345707355, 22.174578261924776, 23.820199126520038, 56.88093256671026, 54.038155733035474, 19.720104180089283, 45.80838412914716, 19.76087662451183, 105.33248234943814, 18.5163373897431, 18.73993866489639, 26.47970264709687, 18.294157148953317, 24.08503904954301, 17.774754518152626, 20.09559228590592, 17.094432832624808, 225.17259155114297, 47.53177881542554, 71.28098796798805, 28.904891547708978, 290.60135507465094, 38.34433748834796, 196.18454628874392, 72.49935302708965, 236.2077088107535, 34.40335693366078, 309.09911342767595, 1223.7854642638094, 174.50725318492513, 258.37094018010157, 143.51460302384595, 133.39606475886004, 229.89305516543453, 349.0999692357993, 140.94367459650204, 140.01860293161587, 1984.0750551641174, 589.1404041260331, 147.79153665250976, 412.6492096452913, 12244.643958061453, 849.7020656459642, 409.7155675255416, 1146.3865143671453, 195.10569303857017, 554.4863501771475, 626.6506442660299, 1761.0227450860098, 320.5787541361471, 419.49988722421256, 738.4621697017885, 1643.1315768250754, 451.46327497860443, 883.8395455686355, 484.8877432618708, 533.2305114984176, 488.72488133546403, 1051.7948128518462, 1356.8097074115492, 52.55396976088151, 51.1585794192193, 48.3676529574409, 48.3676529574409, 42.784995071705026, 42.784995071705026, 73.13258635658111, 28.75192929313007, 28.810077371944992, 22.008691554638393, 61.67140285804254, 23.11884879981915, 18.46946212161401, 20.416986563566468, 16.722936138368244, 16.77001163639217, 16.165521641739474, 15.867107486096108, 20.285280289526717, 15.274008180893533, 15.223724782122723, 14.628389672362767, 13.714530519711234, 13.425661144748824, 12.325991041599488, 11.732136155965488, 11.480197262579464, 11.33760594436855, 10.682034371074067, 21.600622865842034, 18.43205331307193, 52.972788836548446, 87.88125991220691, 28.00261993716569, 144.66076752051265, 160.79300738804082, 18.547975042226533, 244.09872261881793, 98.4979950693493, 58.936965020614274, 12244.643958061453, 68.72573229938654, 626.6506442660299, 41.11981254310737, 127.86208283592686, 351.48583806173906, 145.68289994873976, 99.64596271765507, 767.24768918061, 391.43896469327956, 235.14463945793506, 339.8529618274369, 526.7015455438061, 155.71588318073805, 750.2019926206249, 779.5513441376012, 1984.0750551641174, 1223.7854642638094, 440.5823110901827, 1146.3865143671453, 738.4621697017885, 1643.1315768250754, 320.5787541361471, 306.0401302278494, 420.6647382019422, 396.3458630563006, 382.5301696867577, 693.7121856826463, 1051.7948128518462, 488.72488133546403, 484.8877432618708, 283.30462392698774, 986.0925971320726, 774.2580150988256, 25.37985213052711, 27.292661700680863, 21.064200895064772, 20.774114215548558, 139.23501184730065, 20.593512005509083, 17.64655046694964, 17.451409759301352, 14.905413222961853, 15.135950536823522, 14.462284680228898, 15.075947356313842, 17.87082197038823, 16.154838418206353, 12.292152505095514, 12.343104341772152, 22.50467868408146, 14.16179562333081, 11.659747189012347, 10.93616090870467, 157.29499743105976, 11.08360228757397, 10.75358813422684, 11.069955562375576, 10.418624802499675, 10.405725015838009, 10.404166888644067, 10.131239169533394, 10.120467302099831, 10.073532742592505, 20.12089040868549, 14.741485131398962, 27.048029591202983, 136.15550301662492, 12.32419053857961, 80.2938874585752, 38.882469969726124, 85.69778249039669, 36.12850649940533, 105.98999057352596, 17.24682448253716, 24.234873293152592, 1356.8097074115492, 27.69262563237758, 182.68646175534988, 1586.2379425517245, 154.724689251267, 313.0909929176756, 71.72185215726157, 158.72435097800627, 365.4626929568901, 82.88860668549717, 59.27675458784435, 51.37756181338038, 226.63728661982006, 237.33042347275386, 96.13183550458531, 118.50172811423379, 310.08268373342366, 177.34428040512, 153.8176107334648, 121.8615435087912, 1146.3865143671453, 237.98825638907329, 440.5823110901827, 138.34222326458402, 1984.0750551641174, 401.03335736469603, 774.2580150988256, 12244.643958061453, 883.8395455686355, 1761.0227450860098, 1051.7948128518462, 779.5513441376012, 1643.1315768250754, 484.8877432618708, 849.7020656459642, 986.0925971320726, 451.89212030394947, 18.971162818492385, 19.606783271896788, 19.18301357222231, 18.572936273535827, 14.286985576156665, 14.554889611829559, 20.062191252889633, 11.681084750335383, 17.500374358363796, 10.803506210713701, 18.567310113214678, 11.281907544952867, 9.916477763510553, 9.868903710295484, 10.181382184237341, 9.868275726767997, 9.035345388096825, 9.0347612778724, 8.986885814541864, 9.034658170240071, 8.767877549880458, 8.763061622420057, 8.461835192771156, 8.414418026074769, 8.45751753988374, 8.457279013835352, 8.201377340545267, 11.847907620727131, 9.938009203027729, 7.839259370800725, 10.823084496488146, 46.33409825657229, 50.19147989484592, 13.694881750372563, 11.867301817409778, 75.46119205488168, 15.932638058157414, 18.75823377897595, 71.57214984550912, 252.65501122359822, 24.156221929053164, 23.29980270125033, 130.50330388467162, 56.871052261999004, 1586.2379425517245, 25.05741517619548, 20.75997261743887, 123.20339315373043, 96.25664003659612, 431.04780847694747, 124.9173016534005, 43.55899519293508, 89.55932154610412, 12244.643958061453, 313.4940067808803, 523.9332796170479, 451.46327497860443, 986.0925971320726, 284.96208506287303, 495.6264735551663, 1643.1315768250754, 159.8457059149107, 140.79476623798206, 89.67895457822824, 186.53182727128723, 122.1026675876846, 883.8395455686355, 210.27583726623078, 767.24768918061, 1051.7948128518462, 273.9332805571553, 1984.0750551641174, 738.4621697017885, 774.2580150988256, 750.2019926206249, 526.7015455438061, 325.6950820155721, 1356.8097074115492, 420.6647382019422, 693.7121856826463, 589.1404041260331, 1146.3865143671453, 451.89212030394947], \"Category\": [\"Default\", \"Default\", \"Default\", \"Default\", \"Default\", \"Default\", \"Default\", \"Default\", \"Default\", \"Default\", \"Default\", \"Default\", \"Default\", \"Default\", \"Default\", \"Default\", \"Default\", \"Default\", \"Default\", \"Default\", \"Default\", \"Default\", \"Default\", \"Default\", \"Default\", \"Default\", \"Default\", \"Default\", \"Default\", \"Default\", \"Topic1\", \"Topic1\", \"Topic1\", \"Topic1\", \"Topic1\", \"Topic1\", \"Topic1\", \"Topic1\", \"Topic1\", \"Topic1\", \"Topic1\", \"Topic1\", \"Topic1\", \"Topic1\", \"Topic1\", \"Topic1\", \"Topic1\", \"Topic1\", \"Topic1\", \"Topic1\", \"Topic1\", \"Topic1\", \"Topic1\", \"Topic1\", \"Topic1\", \"Topic1\", \"Topic1\", \"Topic1\", \"Topic1\", \"Topic1\", \"Topic1\", \"Topic1\", \"Topic1\", \"Topic1\", \"Topic1\", \"Topic1\", \"Topic1\", \"Topic1\", \"Topic1\", \"Topic1\", \"Topic1\", \"Topic1\", \"Topic1\", \"Topic1\", \"Topic1\", \"Topic1\", \"Topic1\", \"Topic1\", \"Topic1\", \"Topic1\", \"Topic1\", \"Topic1\", \"Topic1\", \"Topic1\", \"Topic1\", \"Topic1\", \"Topic1\", \"Topic1\", \"Topic1\", \"Topic1\", \"Topic1\", \"Topic1\", \"Topic1\", \"Topic1\", \"Topic1\", \"Topic1\", \"Topic1\", \"Topic1\", \"Topic1\", \"Topic1\", \"Topic1\", \"Topic1\", \"Topic1\", \"Topic1\", \"Topic1\", \"Topic1\", \"Topic1\", \"Topic1\", \"Topic1\", \"Topic1\", \"Topic1\", \"Topic1\", \"Topic2\", \"Topic2\", \"Topic2\", \"Topic2\", \"Topic2\", \"Topic2\", \"Topic2\", \"Topic2\", \"Topic2\", \"Topic2\", \"Topic2\", \"Topic2\", \"Topic2\", \"Topic2\", \"Topic2\", \"Topic2\", \"Topic2\", \"Topic2\", \"Topic2\", \"Topic2\", \"Topic2\", \"Topic2\", \"Topic2\", \"Topic2\", \"Topic2\", \"Topic2\", \"Topic2\", \"Topic2\", \"Topic2\", \"Topic2\", \"Topic2\", \"Topic2\", \"Topic2\", \"Topic2\", \"Topic2\", \"Topic2\", \"Topic2\", \"Topic2\", \"Topic2\", \"Topic2\", \"Topic2\", \"Topic2\", \"Topic2\", \"Topic2\", \"Topic2\", \"Topic2\", \"Topic2\", \"Topic2\", \"Topic2\", \"Topic2\", \"Topic2\", \"Topic2\", \"Topic2\", \"Topic2\", \"Topic2\", \"Topic2\", \"Topic2\", \"Topic2\", \"Topic2\", \"Topic2\", \"Topic2\", \"Topic2\", \"Topic2\", \"Topic2\", \"Topic2\", \"Topic2\", \"Topic2\", \"Topic2\", \"Topic2\", \"Topic2\", \"Topic2\", \"Topic2\", \"Topic2\", \"Topic3\", \"Topic3\", \"Topic3\", \"Topic3\", \"Topic3\", \"Topic3\", \"Topic3\", \"Topic3\", \"Topic3\", \"Topic3\", \"Topic3\", \"Topic3\", \"Topic3\", \"Topic3\", \"Topic3\", \"Topic3\", \"Topic3\", \"Topic3\", \"Topic3\", \"Topic3\", \"Topic3\", \"Topic3\", \"Topic3\", \"Topic3\", \"Topic3\", \"Topic3\", \"Topic3\", \"Topic3\", \"Topic3\", \"Topic3\", \"Topic3\", \"Topic3\", \"Topic3\", \"Topic3\", \"Topic3\", \"Topic3\", \"Topic3\", \"Topic3\", \"Topic3\", \"Topic3\", \"Topic3\", \"Topic3\", \"Topic3\", \"Topic3\", \"Topic3\", \"Topic3\", \"Topic3\", \"Topic3\", \"Topic3\", \"Topic3\", \"Topic3\", \"Topic3\", \"Topic3\", \"Topic3\", \"Topic3\", \"Topic3\", \"Topic3\", \"Topic3\", \"Topic3\", \"Topic3\", \"Topic3\", \"Topic3\", \"Topic3\", \"Topic3\", \"Topic3\", \"Topic3\", \"Topic3\", \"Topic3\", \"Topic3\", \"Topic3\", \"Topic3\", \"Topic3\", \"Topic3\", \"Topic3\", \"Topic4\", \"Topic4\", \"Topic4\", \"Topic4\", \"Topic4\", \"Topic4\", \"Topic4\", \"Topic4\", \"Topic4\", \"Topic4\", \"Topic4\", \"Topic4\", \"Topic4\", \"Topic4\", \"Topic4\", \"Topic4\", \"Topic4\", \"Topic4\", \"Topic4\", \"Topic4\", \"Topic4\", \"Topic4\", \"Topic4\", \"Topic4\", \"Topic4\", \"Topic4\", \"Topic4\", \"Topic4\", \"Topic4\", \"Topic4\", \"Topic4\", \"Topic4\", \"Topic4\", \"Topic4\", \"Topic4\", \"Topic4\", \"Topic4\", \"Topic4\", \"Topic4\", \"Topic4\", \"Topic4\", \"Topic4\", \"Topic4\", \"Topic4\", \"Topic4\", \"Topic4\", \"Topic4\", \"Topic4\", \"Topic4\", \"Topic4\", \"Topic4\", \"Topic4\", \"Topic4\", \"Topic4\", \"Topic4\", \"Topic4\", \"Topic4\", \"Topic4\", \"Topic4\", \"Topic4\", \"Topic4\", \"Topic4\", \"Topic4\", \"Topic4\", \"Topic4\", \"Topic4\", \"Topic4\", \"Topic4\", \"Topic4\", \"Topic4\", \"Topic4\", \"Topic4\", \"Topic4\", \"Topic4\", \"Topic4\", \"Topic4\", \"Topic4\", \"Topic4\", \"Topic4\", \"Topic5\", \"Topic5\", \"Topic5\", \"Topic5\", \"Topic5\", \"Topic5\", \"Topic5\", \"Topic5\", \"Topic5\", \"Topic5\", \"Topic5\", \"Topic5\", \"Topic5\", \"Topic5\", \"Topic5\", \"Topic5\", \"Topic5\", \"Topic5\", \"Topic5\", \"Topic5\", \"Topic5\", \"Topic5\", \"Topic5\", \"Topic5\", \"Topic5\", \"Topic5\", \"Topic5\", \"Topic5\", \"Topic5\", \"Topic5\", \"Topic5\", \"Topic5\", \"Topic5\", \"Topic5\", \"Topic5\", \"Topic5\", \"Topic5\", \"Topic5\", \"Topic5\", \"Topic5\", \"Topic5\", \"Topic5\", \"Topic5\", \"Topic5\", \"Topic5\", \"Topic5\", \"Topic5\", \"Topic5\", \"Topic5\", \"Topic5\", \"Topic5\", \"Topic5\", \"Topic5\", \"Topic5\", \"Topic5\", \"Topic5\", \"Topic5\", \"Topic5\", \"Topic5\", \"Topic5\", \"Topic5\", \"Topic5\", \"Topic5\", \"Topic5\", \"Topic5\", \"Topic5\", \"Topic5\", \"Topic5\", \"Topic5\", \"Topic5\", \"Topic5\", \"Topic5\", \"Topic5\", \"Topic5\", \"Topic5\", \"Topic5\", \"Topic5\", \"Topic5\", \"Topic5\", \"Topic5\", \"Topic5\", \"Topic5\", \"Topic5\"], \"logprob\": [30.0, 29.0, 28.0, 27.0, 26.0, 25.0, 24.0, 23.0, 22.0, 21.0, 20.0, 19.0, 18.0, 17.0, 16.0, 15.0, 14.0, 13.0, 12.0, 11.0, 10.0, 9.0, 8.0, 7.0, 6.0, 5.0, 4.0, 3.0, 2.0, 1.0, -6.818999767303467, -7.286200046539307, -7.715199947357178, -7.63640022277832, -7.673799991607666, -7.755000114440918, -7.310699939727783, -4.917200088500977, -7.864699840545654, -7.990099906921387, -7.771500110626221, -7.96589994430542, -8.104900360107422, -7.443999767303467, -8.124099731445312, -8.072999954223633, -8.209699630737305, -8.249099731445312, -8.126199722290039, -8.332599639892578, -8.374799728393555, -7.69980001449585, -6.802499771118164, -8.394700050354004, -8.29699993133545, -8.423500061035156, -8.420900344848633, -8.440400123596191, -8.440500259399414, -8.440899848937988, -7.293099880218506, -7.519100189208984, -7.289400100708008, -7.935299873352051, -6.427999973297119, -7.3607001304626465, -6.682600021362305, -6.605000019073486, -7.161900043487549, -6.740799903869629, -4.687699794769287, -6.3892998695373535, -6.048600196838379, -5.343599796295166, -6.154600143432617, -6.753399848937988, -5.784299850463867, -7.382299900054932, -5.599999904632568, -6.2631001472473145, -5.962100028991699, -4.207099914550781, -5.447000026702881, -4.3231000900268555, -2.6923999786376953, -4.7444000244140625, -6.44189977645874, -6.633600234985352, -6.197500228881836, -6.49399995803833, -4.809000015258789, -5.6528000831604, -5.577099800109863, -5.1168999671936035, -5.124300003051758, -5.454400062561035, -5.225299835205078, -5.441400051116943, -5.174099922180176, -5.219200134277344, -6.032199859619141, -5.596199989318848, -5.696300029754639, -5.53380012512207, -5.2357001304626465, -5.625999927520752, -5.074900150299072, -5.624000072479248, -5.05709981918335, -5.611400127410889, -5.5833001136779785, -5.699699878692627, -6.399799823760986, -7.07889986038208, -7.241199970245361, -7.001399993896484, -7.3846001625061035, -7.4608001708984375, -7.737800121307373, -7.7281999588012695, -7.732900142669678, -7.752999782562256, -7.81790018081665, -7.842800140380859, -7.792099952697754, -7.372499942779541, -7.790299892425537, -7.718699932098389, -6.849100112915039, -6.900899887084961, -7.908999919891357, -7.066500186920166, -7.907599925994873, -6.235199928283691, -7.974299907684326, -7.962600231170654, -7.617499828338623, -7.987500190734863, -7.7129998207092285, -8.017200469970703, -7.894700050354004, -8.05780029296875, -5.482500076293945, -7.043000221252441, -6.648600101470947, -7.535699844360352, -5.299499988555908, -7.265699863433838, -5.693299770355225, -6.658100128173828, -5.546199798583984, -7.375199794769287, -5.314000129699707, -4.038899898529053, -5.873600006103516, -5.514800071716309, -6.070700168609619, -6.141200065612793, -5.650400161743164, -5.287300109863281, -6.139999866485596, -6.149199962615967, -3.866300106048584, -4.913700103759766, -6.122499942779541, -5.3242998123168945, -2.622999906539917, -4.842199802398682, -5.4039998054504395, -4.632900238037109, -5.984099864959717, -5.270999908447266, -5.214099884033203, -4.530900001525879, -5.685999870300293, -5.541999816894531, -5.21619987487793, -5.027400016784668, -5.643499851226807, -5.407400131225586, -5.70419979095459, -5.696599960327148, -5.779200077056885, -5.61359977722168, -5.580999851226807, -6.5447001457214355, -6.572000026702881, -6.628900051116943, -6.628900051116943, -6.753600120544434, -6.753600120544434, -6.220699787139893, -7.1666998863220215, -7.166100025177002, -7.438899993896484, -6.4105000495910645, -7.392300128936768, -7.617599964141846, -7.523399829864502, -7.723599910736084, -7.7210001945495605, -7.7581000328063965, -7.7769999504089355, -7.531400203704834, -7.816800117492676, -7.820499897003174, -7.86269998550415, -7.9309000968933105, -7.954899787902832, -8.045299530029297, -8.096699714660645, -8.119799613952637, -8.13290023803711, -8.197999954223633, -7.495100021362305, -7.657700061798096, -6.629300117492676, -6.138400077819824, -7.247900009155273, -5.682499885559082, -5.654300212860107, -7.656599998474121, -5.440499782562256, -6.24560022354126, -6.708199977874756, -2.4581000804901123, -6.628799915313721, -4.929299831390381, -7.0370001792907715, -6.1732001304626465, -5.428199768066406, -6.093699932098389, -6.389599800109863, -4.942399978637695, -5.434500217437744, -5.812099933624268, -5.588600158691406, -5.312300205230713, -6.132500171661377, -5.155399799346924, -5.180300235748291, -4.630000114440918, -4.922900199890137, -5.61870002746582, -5.162600040435791, -5.449399948120117, -5.092400074005127, -5.827400207519531, -5.8678998947143555, -5.759200096130371, -5.784800052642822, -5.80019998550415, -5.63040018081665, -5.529200077056885, -5.78000020980835, -5.824699878692627, -5.990799903869629, -5.804500102996826, -5.84689998626709, -7.098499774932861, -7.026100158691406, -7.29040002822876, -7.306099891662598, -5.404799938201904, -7.316999912261963, -7.4745001792907715, -7.4868998527526855, -7.652200222015381, -7.6371002197265625, -7.6828999519348145, -7.6427001953125, -7.473299980163574, -7.577700138092041, -7.855299949645996, -7.85129976272583, -7.253399848937988, -7.717199802398682, -7.912399768829346, -7.979499816894531, -5.313600063323975, -7.9664998054504395, -7.9984002113342285, -7.970300197601318, -8.031999588012695, -8.034299850463867, -8.035200119018555, -8.062000274658203, -8.063699722290039, -8.068300247192383, -7.3850998878479, -7.691800117492676, -7.102099895477295, -5.5493998527526855, -7.872000217437744, -6.115300178527832, -6.795599937438965, -6.076600074768066, -6.877399921417236, -5.912600040435791, -7.569399833679199, -7.27239990234375, -3.8090999126434326, -7.164700031280518, -5.586400032043457, -3.788800001144409, -5.736400127410889, -5.1921000480651855, -6.399499893188477, -5.776400089263916, -5.130899906158447, -6.297100067138672, -6.570499897003174, -6.682700157165527, -5.5854997634887695, -5.561600208282471, -6.229599952697754, -6.090000152587891, -5.432600021362305, -5.835100173950195, -5.942699909210205, -6.120999813079834, -4.702700138092041, -5.7399001121521, -5.369900226593018, -6.078400135040283, -4.609899997711182, -5.53439998626709, -5.211299896240234, -3.803999900817871, -5.202899932861328, -4.937600135803223, -5.263500213623047, -5.4054999351501465, -5.130300045013428, -5.58650016784668, -5.429100036621094, -5.429999828338623, -5.721799850463867, -7.071300029754639, -7.03849983215332, -7.060699939727783, -7.103300094604492, -7.3684000968933105, -7.357699871063232, -7.03849983215332, -7.582399845123291, -7.179200172424316, -7.665500164031982, -7.129899978637695, -7.628499984741211, -7.758200168609619, -7.763500213623047, -7.732699871063232, -7.7642998695373535, -7.859000205993652, -7.859300136566162, -7.86460018157959, -7.859600067138672, -7.892600059509277, -7.893499851226807, -7.930799961090088, -7.9369001388549805, -7.93209981918335, -7.932199954986572, -7.964700222015381, -7.5980000495910645, -7.776100158691406, -8.014800071716309, -7.695799827575684, -6.309100151062012, -6.287300109863281, -7.485099792480469, -7.622000217437744, -5.970200061798096, -7.369500160217285, -7.2332000732421875, -6.085999965667725, -5.019700050354004, -7.030600070953369, -7.063000202178955, -5.660299777984619, -6.361400127410889, -3.782399892807007, -7.033400058746338, -7.2032999992370605, -5.963500022888184, -6.1631999015808105, -5.170499801635742, -6.064199924468994, -6.74970006942749, -6.288599967956543, -3.2393999099731445, -5.594600200653076, -5.326600074768066, -5.437300205230713, -5.1153998374938965, -5.7743000984191895, -5.513899803161621, -5.01609992980957, -6.147799968719482, -6.210299968719482, -6.422100067138672, -6.092899799346924, -6.285600185394287, -5.416600227355957, -6.05210018157959, -5.526700019836426, -5.412700176239014, -5.980800151824951, -5.253900051116943, -5.625500202178955, -5.609600067138672, -5.638500213623047, -5.764999866485596, -5.926300048828125, -5.550300121307373, -5.872900009155273, -5.769199848175049, -5.81879997253418, -5.816800117492676, -5.928800106048584], \"loglift\": [30.0, 29.0, 28.0, 27.0, 26.0, 25.0, 24.0, 23.0, 22.0, 21.0, 20.0, 19.0, 18.0, 17.0, 16.0, 15.0, 14.0, 13.0, 12.0, 11.0, 10.0, 9.0, 8.0, 7.0, 6.0, 5.0, 4.0, 3.0, 2.0, 1.0, 1.2142, 1.2068, 1.1981, 1.198, 1.197, 1.196, 1.1944, 1.1944, 1.193, 1.1893, 1.1856, 1.1851, 1.1837, 1.1825, 1.1821, 1.1814, 1.1795, 1.1786, 1.1783, 1.1744, 1.1724, 1.1721, 1.1719, 1.1715, 1.1712, 1.1697, 1.1691, 1.1687, 1.1687, 1.1685, 1.1683, 1.1679, 1.1565, 1.1624, 1.1044, 1.1297, 1.093, 1.0874, 1.1069, 1.0723, 0.895, 1.0229, 0.9819, 0.9052, 0.9734, 1.037, 0.9167, 1.1027, 0.8302, 0.9303, 0.8587, 0.5084, 0.7434, 0.4616, 0.0839, 0.551, 0.9239, 0.965, 0.847, 0.9215, 0.4219, 0.6701, 0.6049, 0.4294, 0.4061, 0.5289, 0.4218, 0.4864, 0.3631, 0.3496, 0.7235, 0.4541, 0.5105, 0.3887, 0.1691, 0.4496, -0.0987, 0.3733, -0.2371, 0.2987, -0.1391, -0.1152, 1.3215, 1.3179, 1.3157, 1.3147, 1.3137, 1.3116, 1.3043, 1.3043, 1.3042, 1.3014, 1.3011, 1.3005, 1.3005, 1.3003, 1.2999, 1.2999, 1.299, 1.2985, 1.2984, 1.2981, 1.2978, 1.2967, 1.2961, 1.2958, 1.2952, 1.295, 1.2945, 1.2942, 1.2939, 1.2925, 1.2897, 1.2847, 1.2739, 1.2894, 1.2177, 1.2768, 1.2167, 1.2474, 1.1782, 1.2758, 1.1415, 1.0405, 1.1535, 1.1199, 1.152, 1.1546, 1.1011, 1.0465, 1.1008, 1.0981, 0.7299, 0.8967, 1.0708, 0.8422, 0.1532, 0.602, 0.7697, 0.5119, 0.9314, 0.6, 0.5347, 0.1845, 0.733, 0.6081, 0.3684, -0.2426, 0.4331, -0.0025, 0.301, 0.2135, 0.2181, -0.3828, -0.6048, 1.6826, 1.6822, 1.6814, 1.6814, 1.6793, 1.6793, 1.6762, 1.6637, 1.6623, 1.6588, 1.6568, 1.6562, 1.6554, 1.6493, 1.6487, 1.6485, 1.6481, 1.6479, 1.6478, 1.6461, 1.6457, 1.6434, 1.6398, 1.637, 1.6321, 1.6301, 1.6287, 1.6281, 1.6225, 1.6212, 1.6173, 1.5901, 1.5747, 1.6089, 1.5322, 1.4547, 1.6122, 1.2511, 1.3535, 1.4044, 0.3182, 1.3302, 0.8195, 1.4357, 1.165, 0.8987, 1.1139, 1.1979, 0.6039, 0.7848, 0.9168, 0.772, 0.6102, 1.0086, 0.4133, 0.3501, -0.0338, 0.1565, 0.4823, -0.0178, 0.1352, -0.3076, 0.5916, 0.5975, 0.3881, 0.4221, 0.4421, 0.0167, -0.2984, 0.2173, 0.1805, 0.5518, -0.5091, -0.3097, 1.8567, 1.8564, 1.8511, 1.8493, 1.8482, 1.8471, 1.844, 1.8428, 1.8352, 1.8349, 1.8347, 1.8333, 1.8326, 1.8291, 1.8248, 1.8247, 1.822, 1.8213, 1.8205, 1.8175, 1.8174, 1.8171, 1.8155, 1.8146, 1.8135, 1.8124, 1.8118, 1.8115, 1.8109, 1.8109, 1.8022, 1.8067, 1.7894, 1.7259, 1.8055, 1.6881, 1.733, 1.6617, 1.7246, 1.6132, 1.7721, 1.729, 1.1671, 1.7033, 1.395, 1.0312, 1.4111, 1.2506, 1.5168, 1.3456, 1.1571, 1.4745, 1.5364, 1.5672, 1.1803, 1.158, 1.3938, 1.3242, 1.0197, 1.1759, 1.2106, 1.2652, 0.442, 0.977, 0.7311, 1.181, -0.0137, 0.6606, 0.3259, -1.0278, 0.2019, -0.2222, -0.0326, 0.1249, -0.3456, 0.4187, 0.0151, -0.1346, 0.3538, 2.1749, 2.1747, 2.1744, 2.1641, 2.1614, 2.1535, 2.1518, 2.1488, 2.1477, 2.1437, 2.1378, 2.1374, 2.1367, 2.1362, 2.1359, 2.1354, 2.129, 2.1287, 2.1287, 2.1285, 2.1254, 2.1251, 2.1228, 2.1223, 2.1219, 2.1219, 2.1201, 2.119, 2.1167, 2.1152, 2.1116, 2.0441, 1.986, 2.087, 2.0933, 1.8952, 2.0513, 2.0243, 1.8324, 1.6374, 1.974, 1.9777, 1.6574, 1.7869, 1.0376, 1.9345, 1.9528, 1.4118, 1.4589, 0.9524, 1.2972, 1.6653, 1.4056, -0.4631, 0.8467, 0.6011, 0.6393, 0.18, 0.7624, 0.4693, -0.2313, 0.9671, 1.0315, 1.2708, 0.8676, 1.0986, -0.0118, 0.7886, 0.0196, -0.1819, 0.5954, -0.6577, -0.0409, -0.0724, -0.0697, 0.1575, 0.4768, -0.574, 0.2744, -0.1221, -0.0084, -0.672, 0.1469]}, \"token.table\": {\"Topic\": [2, 5, 1, 2, 4, 2, 4, 2, 5, 2, 1, 3, 4, 5, 1, 1, 2, 3, 4, 5, 3, 2, 3, 5, 1, 2, 3, 5, 2, 2, 4, 3, 2, 3, 4, 5, 1, 2, 3, 4, 5, 1, 2, 3, 4, 5, 1, 2, 3, 4, 5, 5, 2, 3, 4, 5, 5, 3, 3, 5, 1, 2, 3, 4, 5, 1, 2, 3, 4, 5, 3, 3, 2, 3, 1, 3, 4, 4, 5, 4, 1, 4, 2, 4, 1, 2, 3, 4, 1, 2, 3, 4, 5, 1, 3, 4, 3, 5, 2, 3, 4, 5, 5, 5, 5, 1, 2, 3, 1, 4, 5, 1, 2, 3, 4, 5, 1, 2, 3, 1, 2, 3, 4, 5, 3, 1, 2, 3, 4, 5, 1, 4, 3, 4, 1, 4, 4, 1, 2, 3, 4, 1, 2, 3, 4, 5, 1, 2, 3, 4, 5, 1, 2, 3, 4, 5, 1, 2, 3, 4, 5, 1, 2, 3, 1, 2, 3, 4, 1, 2, 3, 4, 1, 2, 3, 4, 5, 1, 1, 2, 1, 3, 4, 1, 1, 2, 5, 1, 2, 3, 4, 5, 1, 2, 3, 4, 2, 3, 1, 2, 3, 4, 5, 1, 5, 1, 2, 3, 4, 5, 1, 2, 3, 4, 5, 5, 1, 2, 4, 5, 4, 1, 2, 3, 4, 5, 3, 3, 4, 2, 5, 1, 5, 4, 1, 1, 2, 3, 4, 5, 1, 2, 4, 5, 1, 3, 4, 5, 4, 5, 2, 5, 2, 3, 5, 1, 1, 2, 3, 4, 5, 5, 3, 1, 2, 3, 4, 5, 1, 2, 3, 4, 5, 1, 2, 3, 4, 5, 3, 1, 2, 3, 4, 5, 1, 2, 3, 4, 5, 1, 2, 3, 4, 5, 1, 2, 3, 5, 4, 1, 2, 3, 4, 5, 2, 2, 3, 4, 5, 1, 3, 4, 5, 2, 4, 1, 2, 3, 4, 5, 5, 1, 2, 2, 5, 3, 1, 2, 4, 5, 1, 2, 3, 4, 4, 1, 2, 2, 5, 4, 1, 3, 2, 1, 5, 2, 5, 1, 2, 3, 4, 5, 1, 2, 3, 4, 5, 1, 2, 4, 5, 3, 4, 1, 1, 2, 3, 4, 5, 5, 1, 2, 3, 4, 5, 1, 2, 3, 4, 5, 1, 2, 3, 4, 5, 1, 2, 3, 4, 5, 5, 4, 1, 2, 3, 4, 5, 2, 3, 5, 3, 4, 1, 2, 3, 4, 5, 1, 2, 3, 4, 5, 1, 4, 1, 2, 3, 4, 5, 3, 1, 2, 3, 5, 2, 1, 2, 3, 5, 4, 1, 2, 3, 4, 5, 2, 3, 1, 1, 3, 1, 1, 2, 3, 4, 5, 3, 1, 5, 1, 2, 3, 4, 5, 1, 2, 3, 4, 5, 1, 2, 3, 4, 5, 1, 2, 3, 4, 5, 2, 4, 4, 4, 5, 5, 1, 1, 2, 3, 4, 5, 1, 5, 2, 3, 4, 5, 3, 1, 2, 3, 5, 2, 3, 4, 1, 1, 2, 3, 4, 1, 2, 3, 4, 5, 1, 2, 3, 4, 5, 1, 2, 2, 3, 2, 2, 1, 2, 3, 2, 4, 1, 2, 3, 4, 5, 3, 2, 4, 4, 2, 3, 1, 2, 3, 4, 5, 1, 2, 3, 4, 5, 1, 2, 4, 5, 1, 2, 3, 4, 5, 1, 3, 4, 1, 2, 3, 4, 1, 1, 2, 3, 1, 2, 4, 5, 2, 1, 2, 3, 4, 5, 2, 1, 2, 3, 4, 5, 1, 2, 5, 1, 2, 4, 3, 2, 4, 2, 3, 1, 3, 4, 5, 1, 2, 3, 4, 5, 4, 1, 4, 1, 2, 3, 4, 5, 1, 2, 3, 4, 5, 4, 1, 2, 3, 4, 5, 1, 2, 3, 4, 5, 2, 1, 3, 1, 3, 1, 2, 3, 4, 5, 2, 3, 4, 5, 1, 1, 2, 3, 4, 5, 1, 4, 5, 1, 3, 4, 5, 5, 2, 1, 2, 3, 5, 1, 2, 3, 4, 4, 2, 5, 1, 2, 3, 4, 5, 3, 5, 5, 1, 2, 3, 4, 5, 1, 2, 4, 5, 1, 2, 3, 4, 5, 3, 3, 1, 2, 3, 4, 5, 2, 4, 1, 4, 4, 3, 2, 4, 1, 1, 2, 3, 4, 5, 4, 3, 4, 5, 3, 5, 5, 3, 1, 2, 3, 4, 5, 1, 2, 3, 4, 5, 2, 5, 5, 4, 2, 1, 2, 3, 4, 5, 3, 4, 1, 2, 3, 4, 5, 2, 3, 4, 5, 1, 2, 3, 4, 5, 4, 2, 3, 2, 3, 4, 5, 1, 2, 3, 4, 5, 1, 2, 3, 4, 5, 5, 2, 1, 2, 3, 4, 1, 2, 3, 4, 5, 1, 2, 3, 4, 5, 1, 2, 3, 4, 5, 1, 2, 3, 4, 5, 1, 2, 3, 4, 5, 2, 5, 3, 1, 2, 3, 4, 5, 1, 3, 4, 2, 5, 1, 2, 3, 4, 5, 1, 2, 5, 1, 2, 3, 4, 5, 3, 5, 1, 2, 3, 4, 5, 1, 2, 3, 4, 5, 1, 2, 3, 4, 1, 2, 3, 4, 5, 1, 2, 3, 4, 5, 2, 4, 5, 3, 5, 1, 2, 3, 4, 5, 1, 1, 1, 3, 5, 1, 2, 3, 4, 5, 1, 1, 2, 3, 4, 5, 5, 1], \"Freq\": [0.9511903435774526, 0.9488084716902154, 0.1619052260572997, 0.012454248158253824, 0.8219803784447524, 0.9301417899917406, 0.029066930937241893, 0.9721144965726797, 0.9119553968908398, 0.9470304125719674, 0.9214248280115903, 0.887561239767406, 0.034136970760284845, 0.06827394152056969, 0.9565818139239675, 0.006912724279982834, 0.08986541563977685, 0.8502650864378887, 0.04838906995987984, 0.006912724279982834, 0.9516044760919106, 0.8291839122477823, 0.0557434562855652, 0.10451898053543475, 0.002864508989184559, 0.7476368461771699, 0.24348326408068752, 0.005729017978369118, 0.9634837537614863, 0.9572851227340443, 0.9249501685368274, 0.9773531745335359, 0.821742893997112, 0.09058583083432731, 0.04852812366124677, 0.0355872906849143, 0.07389751688641397, 0.48390954606264625, 0.16209777897664998, 0.16924915157856102, 0.1096543798959691, 0.08984753284267342, 0.43876999048412363, 0.17969506568534685, 0.23552265890797888, 0.05582759322263203, 0.045508443192045174, 0.40307478255811435, 0.039007237021753, 0.5070940812827891, 0.006501206170292167, 0.938330149860533, 0.7856098953774253, 0.1714057953550746, 0.01428381627958955, 0.021425724419384326, 0.9256254224284266, 0.9478997462811961, 0.12552849017843673, 0.878699431249057, 0.36361127904208207, 0.02077778737383326, 0.04155557474766652, 0.1038889368691663, 0.46750021591124835, 0.10180368123640895, 0.033934560412136314, 0.746560329066999, 0.016967280206068157, 0.1187709614424771, 0.9682949584262885, 0.9540840129936948, 0.9845975994169547, 0.9735525492027953, 0.3448531401542407, 0.03831701557269341, 0.6130722491630946, 0.8945926166483181, 0.04969958981379545, 0.9285143937493759, 0.9093513119844352, 0.9286315260405024, 0.9388609207536743, 0.0521589400418708, 0.9873073085456278, 0.9605228570375066, 0.021830064932670604, 0.9627365957693077, 0.5365373878846379, 0.24611806783698986, 0.009844722713479595, 0.11813667256175514, 0.09106368509968625, 0.8236801691278716, 0.07376240320548104, 0.09834987094064139, 0.9223063600810918, 0.05425331529888775, 0.12308546653492061, 0.17583638076417232, 0.0527509142292517, 0.6505946088274376, 0.9799127972358557, 0.9690523803174529, 0.9459040388948422, 0.24736004159175393, 0.058202362727471514, 0.6984283527296582, 0.17167527344707298, 0.042918818361768245, 0.7725387305118284, 0.29120400633855004, 0.23438371241883296, 0.09233297761954026, 0.08523044087957563, 0.3054090798184793, 0.018505442801199524, 0.9622830256623751, 0.018505442801199524, 0.42647861663434866, 0.01445690225879148, 0.02168535338818722, 0.49153467679891033, 0.0361422556469787, 0.9196172553277009, 0.4771599929340801, 0.2042244769757863, 0.04389871934993537, 0.07634559886945282, 0.19849855706057734, 0.9158661595436637, 0.07425941834137813, 0.981652561362005, 0.9850333197934507, 0.9426679154129401, 0.036256458285113084, 0.8925535486947911, 0.11649234013874174, 0.448415720260088, 0.41650001063303554, 0.01755364029487889, 0.1213704669236261, 0.22677113556782774, 0.1213704669236261, 0.530197302876893, 0.0031939596558848977, 0.4872168757582371, 0.31629347295727045, 0.05167451712587363, 0.12152029302128524, 0.023281925298470535, 0.07156987314083949, 0.5453422728055516, 0.17690863008756805, 0.14969191776640373, 0.056449477406859315, 0.04126285241534741, 0.04126285241534741, 0.08252570483069482, 0.8665199007222957, 0.9459307168313491, 0.7444081154553143, 0.08120815804967065, 0.17595100910761974, 0.7711944840873162, 0.04058918337301664, 0.01014729584325416, 0.17250402933532072, 0.034798789351174954, 0.7916724577392302, 0.10439636805352487, 0.06959757870234991, 0.2902766816324031, 0.23923902332340913, 0.04465795102036971, 0.17225209679285458, 0.25518829154496975, 0.9679996685958171, 0.93418008668161, 0.030134841505858385, 0.035710944270353005, 0.9284845510291782, 0.035710944270353005, 0.9095614581407466, 0.9234087849143766, 0.047354296662275724, 0.023677148331137862, 0.06543649134438245, 0.3926189480662947, 0.44952024488749687, 0.014225324205300533, 0.07681675070862287, 0.72357621396423, 0.1683959188862208, 0.09735389060609641, 0.0105247449303888, 0.0539142411893152, 0.9165421002183584, 0.1086328480473878, 0.6450075352813651, 0.006789553002961738, 0.1323962835577539, 0.1086328480473878, 0.9498849244928901, 0.9691520896266579, 0.4255973205858275, 0.3273825542967904, 0.22712164704339835, 0.01636912771483952, 0.00409228192870988, 0.10160549001907675, 0.8551795409938959, 0.021167810420640986, 0.021167810420640986, 0.004233562084128197, 0.885411642430317, 0.8721170470439487, 0.012112736764499287, 0.07267642058699572, 0.04845094705799715, 0.9299221687849196, 0.46672875786494666, 0.06667553683784952, 0.09474944708536512, 0.13335107367569904, 0.23511899832294306, 0.9375956649128031, 0.25302874525693003, 0.7201587365004931, 0.07301998061960596, 0.8762397674352717, 0.9604940760365811, 0.9507490565847143, 0.9722027512470262, 0.9093377234531758, 0.022957370700832695, 0.04591474140166539, 0.04591474140166539, 0.3214031898116577, 0.5739342675208173, 0.9680232976659282, 0.027526728843580896, 0.002293894070298408, 0.002293894070298408, 0.0927629130866236, 0.013251844726660513, 0.15902213671992615, 0.7288514599663283, 0.8934303615202006, 0.9075803137599021, 0.04984500383805115, 0.9470550729229719, 0.2794383016741941, 0.027943830167419408, 0.6846238391017755, 0.9585087133586683, 0.5090799803791292, 0.11763601140234857, 0.11053728657634478, 0.13284756460092811, 0.13081935750778417, 0.9056139731947568, 0.9570431410129868, 0.10917319192332005, 0.2055024789144848, 0.5009122923540568, 0.13486100178763066, 0.0385317147964659, 0.45096258337319234, 0.031280641621261894, 0.3349635373610128, 0.07168480371539185, 0.11078560574196922, 0.3957012876233849, 0.32631291017283875, 0.17815934750815907, 0.015002892421739711, 0.08626663142500335, 0.9366397569477851, 0.09759810804387546, 0.2519393021597715, 0.297333771017388, 0.3154915585604346, 0.038585298528974014, 0.30107398248546163, 0.0669053294412137, 0.05575444120101142, 0.17841421184323653, 0.3902810884070799, 0.3358482029378847, 0.1496714817440573, 0.20807986486368946, 0.10951571834931023, 0.19712829302875842, 0.09961433628905181, 0.11493961879505978, 0.21455395508411157, 0.5746980939752989, 0.9143976650929185, 0.16143918691848425, 0.18880176097246462, 0.13407661286450387, 0.48158130335005467, 0.0355713462701745, 0.975243136526087, 0.0361106965180948, 0.0361106965180948, 0.8305460199161805, 0.0722213930361896, 0.7732767618982557, 0.07606000936704153, 0.13944335050624282, 0.006338334113920129, 0.12859265380756413, 0.8487115151299233, 0.5723931941929579, 0.17568503980179895, 0.1331805946884605, 0.02550266706800307, 0.0935097792493446, 0.9416933645382696, 0.9643977141634473, 0.028364638651866097, 0.944119363165919, 0.9124215016106233, 0.9361512660059443, 0.8833535978982484, 0.04749212891926067, 0.04749212891926067, 0.018996851567704268, 0.6899926847579686, 0.1771602839243433, 0.009324225469702279, 0.12121493110612962, 0.96115336355425, 0.8550920637117089, 0.1383237161886588, 0.979163291088828, 0.9618760686870088, 0.9179626896029474, 0.9542227803655677, 0.04543918001740799, 0.9839207050339487, 0.08440308888386049, 0.9284339777224653, 0.053858097586697955, 0.9155876589738653, 0.3849219753225151, 0.04094914631090586, 0.008189829262181172, 0.237505048603254, 0.3275931704872469, 0.2613539432601385, 0.38052050806268867, 0.20989565391358272, 0.04468746180095632, 0.10427074420223142, 0.9436838844151553, 0.08303692265965601, 0.8580482008164454, 0.05535794843977067, 0.9258992263425345, 0.04629496131712672, 0.9730680879438501, 0.396075983713602, 0.14430675375611857, 0.22720637825431433, 0.05833677279502665, 0.17501031838507994, 0.9454213911935208, 0.42104827285306134, 0.13303058927566047, 0.13432214839484166, 0.21052413642653067, 0.10203317041531242, 0.48947148963288784, 0.025230489156334423, 0.2800584296353121, 0.15642903276927342, 0.050460978312668846, 0.6822194564791634, 0.017492806576388804, 0.09329496840740696, 0.1982518078657398, 0.01166187105092587, 0.32826855668959226, 0.17295870191172066, 0.31767924840928286, 0.12707169936371315, 0.05294654140154714, 0.8854789909320301, 0.8892869994385187, 0.07560276621740786, 0.03780138310870393, 0.2142078376159889, 0.5796212076667936, 0.0882032272536425, 0.7645904668119645, 0.20975490682452122, 0.01353257463384008, 0.9581716889007907, 0.9434166814839635, 0.21896115256690882, 0.21270511963642572, 0.006256032930483109, 0.2752654489412568, 0.287777514802223, 0.5183667387422874, 0.023778290767994835, 0.05231223968958864, 0.16644803537596387, 0.23778290767994836, 0.9797622512303288, 0.025122109005905866, 0.10642322751685777, 0.34829419914608, 0.0032249462883896297, 0.41924301749065185, 0.12254795895880592, 0.9718821521550707, 0.0038704043082512843, 0.8050440961162671, 0.18964981110431295, 0.0038704043082512843, 0.965567075146451, 0.06841093514380116, 0.09328763883245611, 0.7836161661926314, 0.049753407377309926, 0.90334599300361, 0.09265906909319435, 0.18973047480987415, 0.1632564550689615, 0.4941817018303699, 0.05736037610531079, 0.8321085048547318, 0.1649224063676045, 0.9861280943397785, 0.9456466644283636, 0.04432718739507954, 0.9809669712810103, 0.012064384237924074, 0.1327082266171648, 0.12064384237924074, 0.6635411330858241, 0.07238630542754444, 0.9745817112310694, 0.9378718022134077, 0.04809598985709783, 0.4468552176309347, 0.17969284283456735, 0.13595807685366737, 0.14641639045779564, 0.0912725550905739, 0.4602868486843631, 0.08630378412831809, 0.11064587708758729, 0.21686591909167108, 0.1261362998798495, 0.13813185307926937, 0.6106881925609803, 0.2132561942276439, 0.002423365843495954, 0.036350487652439305, 0.7819514734372559, 0.017248929561115938, 0.16673965242412073, 0.02874821593519323, 0.005749643187038646, 0.9918833137935739, 0.9512712973230233, 0.8883414801878086, 0.19923700239464115, 0.7969480095785646, 0.8901860071544512, 0.9515467456974203, 0.43399408509387616, 0.016854139226946646, 0.02528120884041997, 0.48455650277471607, 0.04634888287410328, 0.9777731747976746, 0.8929414972635353, 0.032021184792307845, 0.32821714412115544, 0.24015888594230886, 0.4002648099038481, 0.956769784182242, 0.020388965775687603, 0.8869200112424107, 0.07645862165882851, 0.015291724331765701, 0.03697126981572206, 0.03697126981572206, 0.9242817453930515, 0.9664185469162359, 0.9349313786044837, 0.9549496661678197, 0.930597663903299, 0.9022337449992394, 0.46496580722782493, 0.20631336210763435, 0.1344992714624991, 0.1071125419791848, 0.08642034636956955, 0.005719956809759117, 0.7444115219557937, 0.21408981202241267, 0.013891323680843571, 0.022062690551928024, 0.03516116754334837, 0.9669321074420801, 0.9865636874515892, 0.011471670784320804, 0.9836156941287137, 0.9564126459602352, 0.04137967960733441, 0.9103529513613571, 0.04137967960733441, 0.9467350291000702, 0.042077112404447566, 0.22593199857692509, 0.40534858568213034, 0.10410592091289686, 0.05759050944117699, 0.2059968222319023, 0.9279007713100894, 0.044435204520709, 0.9331392949348891, 0.963361084753614, 0.9454809656605984, 0.992398784415601, 0.12182989096936625, 0.07106743639879698, 0.7106743639879698, 0.07106743639879698, 0.030457472742341563, 0.256315168342906, 0.17647929623609923, 0.06302832008432116, 0.4033812485396554, 0.10084531213491385, 0.023337826742764557, 0.15169587382796962, 0.7934861092539949, 0.023337826742764557, 0.04450236888854653, 0.006357481269792361, 0.006357481269792361, 0.9345497466594771, 0.006357481269792361, 0.23618027163165448, 0.06748007760904413, 0.7085408148949635, 0.26084049681445626, 0.16474136640913026, 0.5560021116308146, 0.013728447200760855, 0.9824407118422908, 0.03459622044765156, 0.9686941725342436, 0.981652561362005, 0.21974514968832995, 0.07755711165470468, 0.6204568932376374, 0.07755711165470468, 0.9359772363704236, 0.016386812503916128, 0.29496262507049026, 0.639085687652729, 0.032773625007832256, 0.016386812503916128, 0.9614958061340243, 0.38148299975272965, 0.13798321267651922, 0.03246663827682805, 0.008116659569207013, 0.44641627630638575, 0.08258736437699947, 0.8878141670527443, 0.02752912145899982, 0.7351003478299841, 0.2027863028496508, 0.05914600499781482, 0.9894590310988485, 0.06783577035057528, 0.9497007849080539, 0.218872593121989, 0.7782136644337387, 0.2912666740734858, 0.062414287301461244, 0.6137404917977022, 0.031207143650730622, 0.2762987331086509, 0.15224624069252193, 0.04510999724222872, 0.4905712200092373, 0.028193748276392948, 0.9598195721186508, 0.29279779269997325, 0.697137601666603, 0.16913909320665635, 0.6663055186928886, 0.07175597893615723, 0.046128843601815364, 0.04100341653494699, 0.011165783558166097, 0.07816048490716268, 0.20098410404698974, 0.26797880539598634, 0.44663134232664387, 0.9680351555476655, 0.2824751018316703, 0.11181306114170284, 0.39723061195078635, 0.15300734682548808, 0.058848979548264645, 0.08868031951217462, 0.35472127804869846, 0.21860729926257, 0.23098129733403622, 0.10517898360746292, 0.974761559911988, 0.01367379508669614, 0.9845132462421221, 0.03242994171226609, 0.9566832805118497, 0.2912331430503531, 0.26313169942268744, 0.40108424086759153, 0.0025546766934241498, 0.040874827094786396, 0.7875486453561983, 0.1135205254567493, 0.007095032841046831, 0.08514039409256198, 0.9260007039816247, 0.34734811486906886, 0.26249108354926376, 0.09730272924670984, 0.18555404181930713, 0.10748557300508645, 0.21335689054459037, 0.5333922263614759, 0.2461810275514504, 0.8864109006180209, 0.07386757505150174, 0.024622525017167246, 0.024622525017167246, 0.8839664239236261, 0.9886258226568126, 0.01564185375086067, 0.31283707501721336, 0.5865695156572751, 0.08603019562973367, 0.8693771100342109, 0.011145860385053986, 0.10031274346548587, 0.02229172077010797, 0.9762326000288065, 0.09239510236887442, 0.9239510236887443, 0.6028037544523271, 0.24024787315128981, 0.05241771777846323, 0.026208858889231613, 0.07425843351948958, 0.16558880820634958, 0.7865468389801604, 0.8535151730422156, 0.7319907208907274, 0.041355407959928106, 0.01654216318397124, 0.16542163183971242, 0.04549094875592091, 0.06604397228570422, 0.04717426591836016, 0.7642231078774345, 0.13208794457140843, 0.33663035136808395, 0.17953618739631144, 0.06732607027361678, 0.2942398626772882, 0.12467790791410517, 0.9820604927240845, 0.9702224661868549, 0.6719269692584202, 0.03470045381146771, 0.1451109886661377, 0.08832842788373599, 0.06309173420266856, 0.950638018203961, 0.02970743806887378, 0.8168910149610961, 0.17685269396064968, 0.9711796605964874, 0.954168490565001, 0.9492782249164375, 0.9741333356142899, 0.9577925762662488, 0.41251206161283677, 0.03827431499500548, 0.4592917799400657, 0.01701080666444688, 0.07229592832389924, 0.9526370232827597, 0.9061255987127209, 0.05663284991954506, 0.0377552332796967, 0.19267848150434963, 0.7707139260173985, 0.8863749290760367, 0.9738476926030236, 0.414978257607744, 0.19932026546513687, 0.3332896242203928, 0.04901318003241071, 0.003267545335494047, 0.245272043137853, 0.4797232608431537, 0.1442776724340312, 0.10460131251467261, 0.02524859267595546, 0.9588685061549653, 0.02848124275707818, 0.8854688855579728, 0.9610094428576119, 0.9789598892540899, 0.43999667575386275, 0.09107802909190746, 0.26040619585432695, 0.17189374504669858, 0.03720088512204671, 0.05798168822396986, 0.8697253233595479, 0.44687120451105383, 0.15280112154248937, 0.18595608187718046, 0.11676312117869471, 0.09658184097496969, 0.9605154169323702, 0.9453518867975194, 0.15107664254601266, 0.8417127227563562, 0.0831172906418829, 0.003957966221042043, 0.2137301759362703, 0.14248678395751355, 0.5620312033879701, 0.9494782213497542, 0.9548231359728677, 0.03996934057560842, 0.8309110214825494, 0.1489909417830778, 0.005730420837810685, 0.005730420837810685, 0.38742802240445956, 0.08119748972548554, 0.20647361673052037, 0.041758709001678274, 0.2830312499002639, 0.10495085715120987, 0.5686872027030675, 0.04393291694701809, 0.19525740865341373, 0.08786583389403618, 0.912922942311876, 0.9773779061838166, 0.08734203261676111, 0.5458877038547569, 0.33065198062059564, 0.031193583077414683, 0.23136503683023757, 0.010086759098865944, 0.025216897747164856, 0.425535149483407, 0.3076461525154113, 0.26532829035162875, 0.14371949060713224, 0.04201031263900789, 0.4871722220067406, 0.06117291138662552, 0.051411803745789714, 0.0073445433922556735, 0.014689086784511347, 0.8519670335016581, 0.06610089053030106, 0.31883328036089936, 0.30641968952717585, 0.2518652245473908, 0.05422779153679231, 0.06868309138922038, 0.25538363242065476, 0.48016830427477947, 0.08120493381117594, 0.15417168593136302, 0.02942207746781737, 0.057141634774348644, 0.9142661563895783, 0.992398784415601, 0.717673521000938, 0.045952730158252145, 0.12974888515271193, 0.058116688141318894, 0.04865583193226698, 0.8925110960376962, 0.09916789955974402, 0.9392560803636721, 0.9399420786660445, 0.05611594499498773, 0.24472216955388584, 0.10970304152415572, 0.016877391003716265, 0.573831294126353, 0.05063217301114879, 0.07981669242165082, 0.15963338484330164, 0.7582585780056827, 0.23771899785903733, 0.24485056779480846, 0.27099965755930255, 0.10459635905797643, 0.1426313987154224, 0.15992976926017266, 0.7996488463008633, 0.43288272443665554, 0.05316103633432612, 0.3379523024110732, 0.04936381945330283, 0.12720676551428037, 0.3529133404315466, 0.2143621771510135, 0.28494484523732283, 0.07058266808630932, 0.07581101387048038, 0.7396608473009025, 0.008039791818488072, 0.12059687727732107, 0.13667646091429722, 0.10722030815101864, 0.35382701689836155, 0.048249138667958394, 0.2305236625246901, 0.25732873956244473, 0.4158879915929223, 0.10930389522634497, 0.2772586610619482, 0.095974151906059, 0.10130604923417338, 0.0143642031803998, 0.9624016130867866, 0.0143642031803998, 0.08426515271845217, 0.9269166799029739, 0.46172336207989945, 0.2438071958646198, 0.2006554797823862, 0.047466887690456955, 0.047466887690456955, 0.9695288529442755, 0.9474323411789577, 0.3311724740269194, 0.6021317709580353, 0.05017764757983627, 0.4983591740534969, 0.13921774497850722, 0.11500596324311467, 0.07263534520617769, 0.1735177691036467, 0.9480277564864321, 0.6155017075082806, 0.08686516033382992, 0.15139356515324642, 0.06452840481941652, 0.07941957516235879, 0.912013430632793, 0.9777077458987226], \"Term\": [\"abandon\", \"abort\", \"age_care\", \"age_care\", \"age_care\", \"agreement\", \"agreement\", \"ahead_large\", \"airport\", \"allergic_reactions\", \"alter\", \"announcement\", \"announcement\", \"announcement\", \"annual\", \"answer\", \"answer\", \"answer\", \"answer\", \"answer\", \"antivaxxer\", \"approval\", \"approval\", \"approval\", \"approve\", \"approve\", \"approve\", \"approve\", \"approve_pfizerbiontech\", \"approve_pfizers\", \"arrivals\", \"ask_media\", \"astrazeneca\", \"astrazeneca\", \"astrazeneca\", \"astrazeneca\", \"auspol\", \"auspol\", \"auspol\", \"auspol\", \"auspol\", \"australia\", \"australia\", \"australia\", \"australia\", \"australia\", \"australias\", \"australias\", \"australias\", \"australias\", \"australias\", \"authority\", \"az\", \"az\", \"az\", \"az\", \"b_cells\", \"basket\", \"beer\", \"beer\", \"biden\", \"biden\", \"biden\", \"biden\", \"biden\", \"big_pharma\", \"big_pharma\", \"big_pharma\", \"big_pharma\", \"big_pharma\", \"bigpharma\", \"bio\", \"biontech\", \"bitch\", \"border\", \"border\", \"border\", \"border_closure\", \"border_closure\", \"brisbane\", \"brother\", \"burn\", \"canada\", \"canada\", \"cancer\", \"candidate\", \"candidate\", \"care_workers\", \"case\", \"case\", \"case\", \"case\", \"case\", \"catch\", \"catch\", \"catch\", \"caution\", \"caution\", \"charge\", \"charge\", \"charge\", \"charge\", \"chicken_pox\", \"chief_medical\", \"chill\", \"chinese\", \"chinese\", \"chinese\", \"chip\", \"chip\", \"chip\", \"claim\", \"claim\", \"claim\", \"claim\", \"claim\", \"clinical_trials\", \"clinical_trials\", \"clinical_trials\", \"close\", \"close\", \"close\", \"close\", \"close\", \"coincidence\", \"come\", \"come\", \"come\", \"come\", \"come\", \"community_transmission\", \"community_transmission\", \"conspiracies_base\", \"contact_trace\", \"contagious\", \"contagious\", \"containment\", \"coronavirus\", \"coronavirus\", \"coronavirus\", \"coronavirus\", \"countries\", \"countries\", \"countries\", \"countries\", \"countries\", \"covid\", \"covid\", \"covid\", \"covid\", \"covid\", \"covid19\", \"covid19\", \"covid19\", \"covid19\", \"covid19\", \"cricket\", \"cricket\", \"cricket\", \"cricket\", \"cry\", \"cure\", \"cure\", \"cure\", \"current\", \"current\", \"current\", \"current\", \"data\", \"data\", \"data\", \"data\", \"day\", \"day\", \"day\", \"day\", \"day\", \"deadly\", \"decades\", \"decades\", \"defence\", \"defence\", \"defence\", \"degree\", \"depend\", \"depend\", \"depend\", \"develop\", \"develop\", \"develop\", \"develop\", \"develop\", \"die\", \"die\", \"die\", \"die\", \"donald_trump\", \"donald_trump\", \"dose\", \"dose\", \"dose\", \"dose\", \"dose\", \"drug_company\", \"earliest\", \"effective\", \"effective\", \"effective\", \"effective\", \"effective\", \"efficacy\", \"efficacy\", \"efficacy\", \"efficacy\", \"efficacy\", \"elect\", \"elimination\", \"elimination\", \"elimination\", \"elimination\", \"empathy\", \"end\", \"end\", \"end\", \"end\", \"end\", \"entitle\", \"entry\", \"entry\", \"equivalent\", \"equivalent\", \"eradication\", \"explode\", \"fantasy\", \"flaw\", \"flight\", \"flight\", \"flight\", \"flight\", \"flight\", \"flu\", \"flu\", \"flu\", \"flu\", \"fly\", \"fly\", \"fly\", \"fly\", \"folk\", \"follow_suit\", \"france\", \"france\", \"fully\", \"fully\", \"fully\", \"fun\", \"get\", \"get\", \"get\", \"get\", \"get\", \"getthejabdone\", \"give_green\", \"global\", \"global\", \"global\", \"global\", \"global\", \"go\", \"go\", \"go\", \"go\", \"go\", \"good\", \"good\", \"good\", \"good\", \"good\", \"google\", \"government\", \"government\", \"government\", \"government\", \"government\", \"half\", \"half\", \"half\", \"half\", \"half\", \"happen\", \"happen\", \"happen\", \"happen\", \"happen\", \"happy\", \"happy\", \"happy\", \"happy\", \"harry_kenmare\", \"health\", \"health\", \"health\", \"health\", \"health\", \"health_authorities\", \"healthcare_workers\", \"healthcare_workers\", \"healthcare_workers\", \"healthcare_workers\", \"herd_immunity\", \"herd_immunity\", \"herd_immunity\", \"herd_immunity\", \"high_risk\", \"high_risk\", \"hope\", \"hope\", \"hope\", \"hope\", \"hope\", \"horizon\", \"hpv\", \"hpv\", \"human_trials\", \"idiocy\", \"imaginary\", \"immune\", \"immune\", \"immune\", \"immune\", \"immunity\", \"immunity\", \"immunity\", \"immunity\", \"indefinitely\", \"influenza\", \"influenza\", \"injury\", \"insane\", \"international_arrivals\", \"isolation\", \"isolation\", \"johnson_johnson\", \"journalists\", \"journalists\", \"kelly\", \"kelly\", \"kid\", \"kid\", \"kid\", \"kid\", \"kid\", \"know\", \"know\", \"know\", \"know\", \"know\", \"labs\", \"late_february\", \"late_february\", \"late_february\", \"laugh\", \"laugh\", \"legit\", \"let\", \"let\", \"let\", \"let\", \"let\", \"lib\", \"like\", \"like\", \"like\", \"like\", \"like\", \"live\", \"live\", \"live\", \"live\", \"live\", \"lockdown\", \"lockdown\", \"lockdown\", \"lockdown\", \"lockdown\", \"long\", \"long\", \"long\", \"long\", \"long\", \"lovely\", \"madness\", \"mandatory\", \"mandatory\", \"mandatory\", \"mandatory\", \"mandatory\", \"manufacture\", \"manufacture\", \"manufacture\", \"manufacture_facility\", \"map\", \"march\", \"march\", \"march\", \"march\", \"march\", \"mask\", \"mask\", \"mask\", \"mask\", \"mask\", \"measles\", \"measles\", \"million\", \"million\", \"million\", \"million\", \"million\", \"minister\", \"moderna\", \"moderna\", \"moderna\", \"moderna\", \"modernas\", \"money\", \"money\", \"money\", \"money\", \"moon\", \"morrison\", \"morrison\", \"morrison\", \"morrison\", \"morrison\", \"mrna\", \"mrna\", \"mumps\", \"mutate\", \"mutate\", \"mutation\", \"national\", \"national\", \"national\", \"national\", \"national\", \"nations_medical\", \"natural\", \"natural\", \"need\", \"need\", \"need\", \"need\", \"need\", \"new\", \"new\", \"new\", \"new\", \"new\", \"news\", \"news\", \"news\", \"news\", \"news\", \"normal\", \"normal\", \"normal\", \"normal\", \"normal\", \"novavax\", \"nrl\", \"nt\", \"october\", \"october\", \"officer_paul\", \"oil\", \"open\", \"open\", \"open\", \"open\", \"open\", \"operation_warp\", \"organize\", \"overseas\", \"overseas\", \"overseas\", \"overseas\", \"own\", \"oxford\", \"oxford\", \"oxford\", \"oxford\", \"pacific\", \"pacific\", \"pacific\", \"package\", \"pandemics\", \"patient\", \"pence\", \"penicillin\", \"people\", \"people\", \"people\", \"people\", \"people\", \"pfizer\", \"pfizer\", \"pfizer\", \"pfizer\", \"pfizer\", \"pfizerbiontech\", \"pfizerbiontech\", \"pfizers\", \"pfizers\", \"pfizervaccine\", \"pharmaceutical_company\", \"phase\", \"phase\", \"phase\", \"placebo\", \"placebo\", \"plan\", \"plan\", \"plan\", \"plan\", \"plan\", \"plant\", \"players\", \"players\", \"png\", \"politically_motivate\", \"politician_flu\", \"politicians\", \"politicians\", \"politicians\", \"politicians\", \"politicians\", \"population\", \"population\", \"population\", \"population\", \"population\", \"priority\", \"priority\", \"priority\", \"priority\", \"program\", \"program\", \"program\", \"program\", \"program\", \"proof\", \"proof\", \"proof\", \"prove\", \"prove\", \"prove\", \"prove\", \"putin\", \"quality\", \"quality\", \"quality_evidence\", \"quarantine\", \"quarantine\", \"quarantine\", \"quarantine\", \"queenslands\", \"question\", \"question\", \"question\", \"question\", \"question\", \"racism\", \"ready\", \"ready\", \"ready\", \"ready\", \"ready\", \"receive\", \"receive\", \"receive\", \"reduce\", \"reduce\", \"reduce\", \"reenact_cameras\", \"region\", \"region\", \"regulator\", \"regulator\", \"remain\", \"remain\", \"remain\", \"remain\", \"require\", \"require\", \"require\", \"require\", \"require\", \"responders\", \"restrictions\", \"restrictions\", \"result\", \"result\", \"result\", \"result\", \"result\", \"return\", \"return\", \"return\", \"return\", \"return\", \"return_overseas\", \"right\", \"right\", \"right\", \"right\", \"right\", \"rollout\", \"rollout\", \"rollout\", \"rollout\", \"rollout\", \"rt\", \"russia\", \"russia\", \"russian\", \"russian\", \"safe\", \"safe\", \"safe\", \"safe\", \"safe\", \"safety\", \"safety\", \"safety\", \"safety\", \"saviour\", \"say\", \"say\", \"say\", \"say\", \"say\", \"school\", \"school\", \"school\", \"season\", \"season\", \"season\", \"season\", \"sector\", \"sequence\", \"share\", \"share\", \"share\", \"share\", \"sick\", \"sick\", \"sick\", \"sick\", \"singapore\", \"slam\", \"slam\", \"soon\", \"soon\", \"soon\", \"soon\", \"soon\", \"space\", \"space\", \"spraytanned\", \"spread\", \"spread\", \"spread\", \"spread\", \"spread\", \"staff\", \"staff\", \"staff\", \"staff\", \"start\", \"start\", \"start\", \"start\", \"start\", \"steal\", \"sth_african\", \"stop\", \"stop\", \"stop\", \"stop\", \"stop\", \"storage\", \"storage\", \"strain\", \"strain\", \"strict\", \"sue\", \"supply_chain\", \"supporters\", \"suppress\", \"sure\", \"sure\", \"sure\", \"sure\", \"sure\", \"sweden\", \"sydney\", \"sydney\", \"sydney\", \"t\", \"t\", \"tackle\", \"tax\", \"tell\", \"tell\", \"tell\", \"tell\", \"tell\", \"test\", \"test\", \"test\", \"test\", \"test\", \"tga\", \"tga\", \"thankful\", \"theme\", \"therapeutic_goods\", \"think\", \"think\", \"think\", \"think\", \"think\", \"tho\", \"tho\", \"time\", \"time\", \"time\", \"time\", \"time\", \"topic\", \"tour\", \"translation\", \"translation\", \"travel\", \"travel\", \"travel\", \"travel\", \"travel\", \"travel_bubble\", \"trial\", \"trial\", \"trials\", \"trials\", \"trials\", \"trials\", \"trump\", \"trump\", \"trump\", \"trump\", \"trump\", \"uk\", \"uk\", \"uk\", \"uk\", \"uk\", \"unfortunate\", \"uq\", \"use\", \"use\", \"use\", \"use\", \"vaccinate\", \"vaccinate\", \"vaccinate\", \"vaccinate\", \"vaccinate\", \"vaccination\", \"vaccination\", \"vaccination\", \"vaccination\", \"vaccination\", \"vaccinations\", \"vaccinations\", \"vaccinations\", \"vaccinations\", \"vaccinations\", \"vaccine\", \"vaccine\", \"vaccine\", \"vaccine\", \"vaccine\", \"vaccines\", \"vaccines\", \"vaccines\", \"vaccines\", \"vaccines\", \"vet\", \"vet\", \"video_show\", \"virus\", \"virus\", \"virus\", \"virus\", \"virus\", \"viruses\", \"viruses\", \"vitamin\", \"volunteer\", \"volunteer\", \"vulnerable\", \"vulnerable\", \"vulnerable\", \"vulnerable\", \"vulnerable\", \"wa\", \"wa\", \"wa\", \"wait\", \"wait\", \"wait\", \"wait\", \"wait\", \"wall\", \"wall\", \"want\", \"want\", \"want\", \"want\", \"want\", \"way\", \"way\", \"way\", \"way\", \"way\", \"wear_mask\", \"wear_mask\", \"wear_mask\", \"wear_mask\", \"week\", \"week\", \"week\", \"week\", \"week\", \"work\", \"work\", \"work\", \"work\", \"work\", \"workers\", \"workers\", \"workers\", \"workforce\", \"workforce\", \"world\", \"world\", \"world\", \"world\", \"world\", \"worlds_largest\", \"worst\", \"yeah\", \"yeah\", \"yeah\", \"year\", \"year\", \"year\", \"year\", \"year\", \"yearly\", \"years\", \"years\", \"years\", \"years\", \"years\", \"yo\", \"yrs\"]}, \"R\": 30, \"lambda.step\": 0.01, \"plot.opts\": {\"xlab\": \"PC1\", \"ylab\": \"PC2\"}, \"topic.order\": [5, 4, 3, 1, 2]};\n",
              "\n",
              "function LDAvis_load_lib(url, callback){\n",
              "  var s = document.createElement('script');\n",
              "  s.src = url;\n",
              "  s.async = true;\n",
              "  s.onreadystatechange = s.onload = callback;\n",
              "  s.onerror = function(){console.warn(\"failed to load library \" + url);};\n",
              "  document.getElementsByTagName(\"head\")[0].appendChild(s);\n",
              "}\n",
              "\n",
              "if(typeof(LDAvis) !== \"undefined\"){\n",
              "   // already loaded: just create the visualization\n",
              "   !function(LDAvis){\n",
              "       new LDAvis(\"#\" + \"ldavis_el621398707138781129186688815\", ldavis_el621398707138781129186688815_data);\n",
              "   }(LDAvis);\n",
              "}else if(typeof define === \"function\" && define.amd){\n",
              "   // require.js is available: use it to load d3/LDAvis\n",
              "   require.config({paths: {d3: \"https://cdnjs.cloudflare.com/ajax/libs/d3/3.5.5/d3.min\"}});\n",
              "   require([\"d3\"], function(d3){\n",
              "      window.d3 = d3;\n",
              "      LDAvis_load_lib(\"https://cdn.rawgit.com/bmabey/pyLDAvis/files/ldavis.v1.0.0.js\", function(){\n",
              "        new LDAvis(\"#\" + \"ldavis_el621398707138781129186688815\", ldavis_el621398707138781129186688815_data);\n",
              "      });\n",
              "    });\n",
              "}else{\n",
              "    // require.js not available: dynamically load d3 & LDAvis\n",
              "    LDAvis_load_lib(\"https://cdnjs.cloudflare.com/ajax/libs/d3/3.5.5/d3.min.js\", function(){\n",
              "         LDAvis_load_lib(\"https://cdn.rawgit.com/bmabey/pyLDAvis/files/ldavis.v1.0.0.js\", function(){\n",
              "                 new LDAvis(\"#\" + \"ldavis_el621398707138781129186688815\", ldavis_el621398707138781129186688815_data);\n",
              "            })\n",
              "         });\n",
              "}\n",
              "</script>"
            ],
            "text/plain": [
              "PreparedData(topic_coordinates=              x         y  topics  cluster       Freq\n",
              "topic                                                \n",
              "4     -0.014035 -0.012074       1        1  29.317008\n",
              "3     -0.102096 -0.047818       2        1  26.286207\n",
              "2     -0.096481  0.046633       3        1  18.323157\n",
              "0      0.114660 -0.110780       4        1  15.163035\n",
              "1      0.097951  0.124039       5        1  10.910592, topic_info=            Term          Freq         Total Category  logprob  loglift\n",
              "35     vaccinate   1586.000000   1586.000000  Default  30.0000  30.0000\n",
              "21       vaccine  12244.000000  12244.000000  Default  29.0000  29.0000\n",
              "76        pfizer   1223.000000   1223.000000  Default  28.0000  28.0000\n",
              "36   vaccination   1356.000000   1356.000000  Default  27.0000  27.0000\n",
              "538          flu    435.000000    435.000000  Default  26.0000  26.0000\n",
              "..           ...           ...           ...      ...      ...      ...\n",
              "330         wait     60.388529    420.664738   Topic5  -5.8729   0.2744\n",
              "56          time     66.988486    693.712186   Topic5  -5.7692  -0.1221\n",
              "40          dose     63.743200    589.140404   Topic5  -5.8188  -0.0084\n",
              "24     australia     63.872895   1146.386514   Topic5  -5.8168  -0.6720\n",
              "171          new     57.106279    451.892120   Topic5  -5.9288   0.1469\n",
              "\n",
              "[421 rows x 6 columns], token_table=      Topic      Freq      Term\n",
              "term                           \n",
              "3115      2  0.951190   abandon\n",
              "9205      5  0.948808     abort\n",
              "1784      1  0.161905  age_care\n",
              "1784      2  0.012454  age_care\n",
              "1784      4  0.821980  age_care\n",
              "...     ...       ...       ...\n",
              "305       3  0.151394     years\n",
              "305       4  0.064528     years\n",
              "305       5  0.079420     years\n",
              "7566      5  0.912013        yo\n",
              "1815      1  0.977708       yrs\n",
              "\n",
              "[877 rows x 3 columns], R=30, lambda_step=0.01, plot_opts={'xlab': 'PC1', 'ylab': 'PC2'}, topic_order=[5, 4, 3, 1, 2])"
            ]
          },
          "metadata": {
            "tags": []
          }
        }
      ]
    },
    {
      "cell_type": "markdown",
      "metadata": {
        "id": "yhNv5bxKGGby"
      },
      "source": [
        "Brazil"
      ]
    },
    {
      "cell_type": "code",
      "metadata": {
        "id": "-BmPdys1drxk",
        "colab": {
          "base_uri": "https://localhost:8080/",
          "height": 912
        },
        "outputId": "a0807e07-862c-418e-b771-99c2c84c28ba"
      },
      "source": [
        "brazil_topics = get_topic_model(country_name=\"Brazil\", num_topics=4)"
      ],
      "execution_count": null,
      "outputs": [
        {
          "output_type": "stream",
          "text": [
            "100%|██████████| 7708/7708 [00:00<00:00, 7997.11it/s]\n"
          ],
          "name": "stderr"
        },
        {
          "output_type": "stream",
          "text": [
            "\n",
            "\n"
          ],
          "name": "stdout"
        },
        {
          "output_type": "display_data",
          "data": {
            "text/html": [
              "\n",
              "<link rel=\"stylesheet\" type=\"text/css\" href=\"https://cdn.rawgit.com/bmabey/pyLDAvis/files/ldavis.v1.0.0.css\">\n",
              "\n",
              "\n",
              "<div id=\"ldavis_el621398707138800328201765652\"></div>\n",
              "<script type=\"text/javascript\">\n",
              "\n",
              "var ldavis_el621398707138800328201765652_data = {\"mdsDat\": {\"x\": [0.015070789930923496, 0.07162899413852625, 0.00983145184613273, -0.09653123591558245], \"y\": [0.012885033192094112, 0.05319981656837003, -0.09762905976552773, 0.031544210005063585], \"topics\": [1, 2, 3, 4], \"cluster\": [1, 1, 1, 1], \"Freq\": [34.10657367152405, 27.67688902680769, 21.711096604955095, 16.50544069671316]}, \"tinfo\": {\"Term\": [\"vaccinate\", \"dose\", \"brazil\", \"say\", \"plan\", \"pfizer\", \"new\", \"people\", \"india\", \"administer\", \"start\", \"million\", \"healthy\", \"countries\", \"pandemic\", \"vaccines\", \"israel\", \"second\", \"know\", \"florida\", \"hope\", \"flushot\", \"best_way\", \"world\", \"turn\", \"case\", \"mask\", \"sick_wear\", \"nose_test\", \"body_stupid\", \"today_revolt\", \"portugus_ingls\", \"government_chaos\", \"heart\", \"partnership\", \"stimulus_check\", \"collier\", \"1b\", \"hour\", \"clinics\", \"facial\", \"beneficiaries\", \"exact\", \"arnold\", \"residency\", \"google\", \"covidvaccination\", \"faqs\", \"weekend\", \"aldi\", \"sceptical\", \"feedbro\", \"thankful\", \"als_wait\", \"sleep\", \"nightmare\", \"hoosiers\", \"apple\", \"investment\", \"phoenix_municipal\", \"announcement\", \"ways\", \"state_farm\", \"contain\", \"credit\", \"stadium\", \"pence\", \"note\", \"appointments\", \"publix\", \"pay\", \"book\", \"public\", \"appointment\", \"fda\", \"covid\", \"good\", \"vaccine\", \"think\", \"practice\", \"get\", \"know\", \"benefit\", \"schedule\", \"coronavac\", \"try\", \"want\", \"feel\", \"week\", \"covid19\", \"wait\", \"vaccination\", \"safe\", \"take\", \"need\", \"time\", \"government\", \"data\", \"give\", \"today\", \"receive\", \"like\", \"work\", \"thank\", \"vaccinate\", \"health\", \"pfizer\", \"people\", \"dose\", \"state\", \"brazil\", \"vaccines\", \"flushot\", \"sick_wear\", \"nose_test\", \"body_stupid\", \"mask_swab\", \"fight_sickness\", \"inject_healthy\", \"belief_stay\", \"needle_believe\", \"best_way\", \"healthy\", \"terror_brazil\", \"stock_oxygen\", \"impechment\", \"state_amazonas\", \"collapse_state\", \"tank_northern\", \"government_dire\", \"care_brink\", \"shortage_oxygen\", \"war_governor\", \"vials\", \"see_drop\", \"israeli\", \"1st_shoot\", \"60plus_weeks\", \"hospitalizations_age\", \"ship_fewer\", \"administer\", \"department\", \"reserve\", \"vulnerable\", \"batch\", \"dose\", \"million\", \"israel\", \"pfizer\", \"case\", \"total\", \"push\", \"report\", \"vaccine\", \"die\", \"second\", \"group\", \"immune\", \"covid19\", \"vaccinate\", \"people\", \"health\", \"go\", \"hope\", \"vaccines\", \"need\", \"vaccination\", \"brazil\", \"say\", \"receive\", \"get\", \"deaths\", \"coronavirus\", \"covid\", \"test\", \"virus\", \"moderna\", \"know\", \"johnson_johnson\", \"start_scratch\", \"biden_inherit\", \"source_cnnpolitics\", \"health_connection\", \"post_fauci\", \"approval_weeks\", \"uchealth\", \"crimes_humanity\", \"bidens\", \"country_outside\", \"paraguay\", \"amazon_offer\", \"nonexistent\", \"efforts_combat\", \"argentina_major\", \"past_hours\", \"needle\", \"case_positivity\", \"sofia_hit\", \"punish_guilty\", \"killd\", \"murderd\", \"variants\", \"antivaxxer\", \"universal\", \"father\", \"normally\", \"blog\", \"btw\", \"compare\", \"deny\", \"deliver\", \"new_york\", \"new\", \"fauci\", \"say\", \"plan\", \"variant\", \"shots\", \"astrazeneca\", \"vaccine\", \"live\", \"people\", \"rollout\", \"state\", \"distribution\", \"florida\", \"flu\", \"covid19\", \"vaccinate\", \"country\", \"year\", \"care\", \"coronavirus\", \"vaccination\", \"trump\", \"vaccines\", \"work\", \"sure\", \"covid\", \"time\", \"go\", \"like\", \"get\", \"test\", \"need\", \"dose\", \"virus\", \"health\", \"governaded_genocidal\", \"bolsonaro_sleep\", \"sit_pilot\", \"mum_group\", \"hours_aroundtheclock\", \"grade\", \"reopen_school\", \"highrisk\", \"backfire\", \"sputnikv\", \"president_bidensavebrazil\", \"bidenhelpsbrazil_oxigene\", \"morocco\", \"export_shipments\", \"begin_commercial\", \"calazans\", \"bye\", \"jeopardy\", \"dallas\", \"worlds_biggest\", \"budweiser\", \"allocation\", \"sue\", \"communists\", \"warn_catastrophic\", \"moral_failure\", \"cnnpolitics\", \"worlds_largest\", \"prison\", \"saudi\", \"uae\", \"alligator\", \"colombia\", \"syringe\", \"india\", \"nurse\", \"purchase_order\", \"brazil\", \"turn\", \"phase\", \"vaccinate\", \"start\", \"workers\", \"shingle\", \"hospital\", \"break\", \"countries\", \"world\", \"pandemic\", \"mask\", \"plan\", \"vaccine\", \"people\", \"vaccines\", \"vaccination\", \"population\", \"china\", \"brazilian\", \"covid19\", \"hope\", \"get\", \"know\", \"take\", \"pfizer\", \"come\", \"work\", \"say\", \"help\", \"covid\", \"want\", \"go\"], \"Freq\": [968.0, 586.0, 446.0, 458.0, 292.0, 439.0, 234.0, 782.0, 134.0, 94.0, 203.0, 175.0, 62.0, 144.0, 181.0, 449.0, 122.0, 172.0, 295.0, 101.0, 131.0, 46.0, 47.0, 174.0, 81.0, 146.0, 85.0, 43.0, 43.0, 43.0, 22.6310248698834, 22.629042015642053, 22.62778083626593, 14.432755485796456, 14.172657383308701, 9.164577139699958, 9.971004134819266, 9.96743867562469, 9.122831226531334, 19.889636044407073, 8.242552544931003, 14.77893959053262, 7.382303844116709, 7.3766118963629514, 8.17769814715199, 17.162731513737896, 7.350271639601252, 10.603976926409361, 11.390740908908322, 6.506217708122971, 6.5025515297421075, 6.4995229476013945, 7.305839589525291, 8.120162093030524, 6.49507597657205, 8.109031309217242, 11.33649005189785, 6.470839437075242, 6.4610692380958525, 8.072537682658755, 16.07622197793338, 12.063129935097264, 28.654331739975472, 14.426900635706614, 29.218021117046938, 35.11888498609786, 53.090736638414484, 16.48954899552481, 75.04734758855506, 21.615903341681413, 61.27724464900009, 29.109314461377373, 88.34565733660725, 72.41996762704207, 56.46444752195559, 401.2894247870627, 100.57540483203233, 2114.822930215208, 140.56194474475993, 16.038771957014667, 326.51269826641493, 162.47602942699288, 22.762718271320797, 57.6136271629252, 60.29025968235177, 72.0181768974661, 149.65157279675782, 59.022851481422876, 79.91425281411121, 482.81214373816647, 83.81566917482981, 348.46344122918055, 55.60778442417313, 111.84949365520153, 165.8416687625268, 138.0247321020875, 92.72785629515954, 80.28795427636011, 82.48903458908785, 82.88341238655306, 124.56231489099359, 120.0208780231018, 125.8172864619635, 77.22943313856798, 161.67115876225648, 103.62523083868132, 114.39936713749977, 140.1485861976841, 111.65377262913168, 86.61362364696319, 95.04670273540864, 93.88280232849885, 45.5483645053105, 42.93152921229296, 42.93121649908529, 42.925095848757024, 42.919526710813194, 42.90765782315852, 42.906185228235145, 42.90398770723944, 42.89978029317263, 46.14084231994756, 61.363206713854225, 30.674072654317, 30.67365191291032, 30.67245223133181, 23.79571964529679, 22.9226826478584, 22.92238699173479, 22.92223774224931, 22.922159563947393, 22.922058642866737, 22.92141900221469, 22.535837931465426, 14.182857363213587, 14.086919793948404, 14.070446915022659, 11.57040787293359, 11.570115059657319, 12.375721850268633, 88.81676544198743, 21.331030699199072, 18.64439355395903, 26.962510863826907, 23.241344513590395, 392.27040425990845, 124.91828284289463, 88.6180731555299, 259.8079095963299, 99.65331856980912, 62.19446096247716, 43.870001448435865, 62.482606283411776, 1240.9066857600894, 93.08317427684275, 100.56200629434531, 77.05209657089134, 40.739634211480706, 375.5902817629002, 284.4685868669179, 246.4473230841372, 139.16994279748985, 120.54073004833943, 72.63844530078188, 143.25867367344293, 127.68818272252359, 188.99499303079858, 132.72997248433364, 126.52417319246854, 101.54585890261552, 142.84690429297515, 61.05239821390571, 92.18970715697796, 121.24699567070482, 73.24422195528685, 78.97870558624949, 66.33900830315163, 69.45107897461088, 22.82589029584591, 18.55400292122886, 21.078346888332643, 15.946407185789102, 15.004579394272989, 12.468029152200694, 12.467981205747453, 16.516441453355714, 10.712075044761654, 35.28883266386771, 10.629941655323409, 10.599298296532451, 9.780423051670919, 25.221993110999083, 9.758592920006217, 9.755597939229254, 8.088166922398372, 12.045353291022908, 7.21366431398824, 7.213118504944933, 7.210805924851328, 7.185780106326321, 7.133660639101, 36.46635964435511, 7.032401074954171, 6.234502960903144, 7.787239371375122, 5.450218851988502, 5.431227038852379, 6.973414114577205, 20.092297971487568, 18.4572893498697, 27.884885602466824, 27.597804541126497, 142.55102291848212, 25.20107284691219, 229.54228455736802, 147.19248043965877, 28.89810343279347, 32.038859268154944, 45.22848254165567, 1009.1716670486556, 81.09110936705125, 235.46416660782572, 53.57435440251295, 102.38405342975948, 75.94780635508923, 49.347894619792505, 32.94495580166741, 270.56063141108166, 214.53979919656456, 66.81963570299169, 56.92638238146934, 56.50015402261642, 92.0159518157287, 169.63869057751367, 70.16744885419791, 109.98162610989444, 83.18253811762547, 42.44740984818168, 110.63434905372986, 71.49490996914368, 68.03251148489059, 65.93692588832361, 90.80501619263543, 51.647803469335614, 65.53178950876222, 69.27027036098856, 53.93191005991702, 58.374258226149216, 13.914989444572646, 13.91465460984774, 8.715279968353101, 7.904395032917235, 7.888704423403318, 10.25150338158434, 7.8519293984145415, 7.838319002609277, 9.357573500592025, 8.573922919692254, 7.003605702320023, 7.003360721976991, 9.300190457888887, 6.169735846464392, 6.1695158727653725, 6.917226396281509, 6.125233768475933, 5.328089772003904, 5.325402193534758, 6.072865617500743, 6.067445533371517, 5.281585467128796, 4.493011120407222, 4.488834163174384, 5.232798352344397, 5.232491067312047, 4.475836642068123, 6.64746913128938, 4.424574717209393, 5.159120302256816, 11.571046343659456, 23.252991643573242, 24.53300800213542, 20.491134117201533, 75.30821880010934, 32.59132698193305, 8.751092873309554, 170.29085811472248, 43.26431861986249, 38.94662908062281, 307.65478482658074, 85.67093817133312, 44.04570249682708, 14.277900273081974, 23.371699454222078, 26.27317543173367, 60.5915358452202, 64.4071394429401, 64.04980382452116, 37.194146514610836, 86.65891592124714, 569.2217720499848, 160.8318432554097, 102.60403373340608, 148.00625257508347, 42.673493847097184, 43.19763649631832, 37.913924192924235, 149.2878812264223, 39.040847333796926, 90.91762029720122, 56.838033492934635, 46.92819037854658, 60.319999293930415, 42.10447147717886, 48.76018898641936, 52.05315541965594, 40.42150229542292, 53.92220794017444, 43.60528378712354, 40.993447475800664], \"Total\": [968.0, 586.0, 446.0, 458.0, 292.0, 439.0, 234.0, 782.0, 134.0, 94.0, 203.0, 175.0, 62.0, 144.0, 181.0, 449.0, 122.0, 172.0, 295.0, 101.0, 131.0, 46.0, 47.0, 174.0, 81.0, 146.0, 85.0, 43.0, 43.0, 43.0, 23.322504125506235, 23.3222396614552, 23.322116339603216, 15.235236279292641, 15.229425040216091, 9.85113010088944, 10.745086953297518, 10.74612306864523, 9.847884846999683, 21.49773431374524, 8.951478415005171, 16.118003726876314, 8.05471382046293, 8.055150339200063, 8.94865587166121, 18.785428370057687, 8.053817525214447, 11.636625541774066, 12.526652271051681, 7.158383405181046, 7.15810074687443, 7.1552464145582295, 8.050757747970723, 8.948374103826113, 7.158072061195644, 8.946941739434152, 12.520362752800882, 7.155840079187557, 7.155769997268359, 8.943063861626774, 17.878652874442057, 13.415830351444171, 32.22084790803637, 16.094452465819977, 33.91233203258754, 41.132788841045254, 63.284206524253825, 18.784975561566004, 91.9996485012974, 25.04027753082228, 75.7271261210383, 34.78438500919302, 115.87229617892673, 95.41007759928019, 75.78370801779715, 687.0929774516718, 149.27441137876085, 4934.123055073938, 227.78282773923138, 18.771120958197187, 651.0822390492267, 295.0774775595273, 28.5301162130501, 86.3358046886374, 91.42243429683171, 113.44904916891613, 282.81461680589825, 90.40216782302198, 132.30782556087692, 1278.2509381385705, 140.77831819482194, 855.1033774125763, 84.1990961223076, 224.07958814741082, 387.5677571528977, 302.87820040043687, 174.1500329388617, 144.37285743351637, 154.68400541379555, 157.2643627464169, 295.6859733643578, 284.7824145653759, 312.72400502620746, 168.40394103112266, 968.3343296523196, 338.5070707386858, 439.581306088886, 782.8919191450567, 586.4462638861368, 267.7607280769395, 446.5478156971916, 449.7271358452423, 46.29824744568492, 43.677877112602935, 43.67787972465887, 43.67765122847156, 43.677783601374216, 43.67783202883034, 43.67782961393179, 43.67772745919683, 43.677545186117044, 47.16584470455274, 62.892394256102534, 31.44956470407504, 31.449858895924653, 31.44963501266056, 24.459145391244885, 23.585645130190393, 23.58545370057191, 23.585554147998323, 23.585561097924046, 23.585641886854578, 23.58557726954169, 23.589417635100094, 14.849805168100657, 14.850364916949014, 14.849360564694235, 12.228899170572998, 12.228839602786696, 13.103749291815703, 94.4198694832009, 22.725898720782038, 20.075122762831363, 30.58368655825821, 26.178362444208616, 586.4462638861368, 175.629595714777, 122.10449895266183, 439.581306088886, 146.7376775428082, 85.05839598731342, 56.668541819425066, 89.51002086579183, 4934.123055073938, 155.6443457352009, 172.79641673312855, 132.15355881143884, 53.20878743431535, 1278.2509381385705, 968.3343296523196, 782.8919191450567, 338.5070707386858, 288.3076073441977, 131.39658357157322, 449.7271358452423, 387.5677571528977, 855.1033774125763, 446.5478156971916, 458.5042021878031, 295.6859733643578, 651.0822390492267, 103.25712867676472, 298.6237597704916, 687.0929774516718, 178.48373201950076, 224.6117143920351, 144.75839127423026, 295.0774775595273, 23.63044063211152, 19.252055469831156, 21.874924480569742, 16.626636071528623, 15.75131458762983, 13.125984449797212, 13.125977531736705, 17.495345217445543, 11.375670590877775, 37.61299908640217, 11.375951268145602, 11.374003547837809, 10.501100784412573, 27.101832541074298, 10.500810358597507, 10.500776717362376, 8.750195009875998, 13.122423079109595, 7.87499526404275, 7.87498132036751, 7.874840492819254, 7.8745623980759865, 7.872454624863723, 40.252050967347515, 7.870528244106176, 6.998138535568206, 8.742997986402099, 6.124255954463758, 6.122816588298118, 7.868209842967588, 23.687896114810194, 21.92736823838129, 34.921051218347614, 36.07349293688287, 234.1428941363724, 33.35590762624622, 458.5042021878031, 292.79215125710175, 41.97615944372797, 51.212437811486986, 82.00099569207173, 4934.123055073938, 182.12404385882246, 782.8919191450567, 105.66585775036529, 267.7607280769395, 178.49304552903152, 101.9195740514983, 57.0430333718146, 1278.2509381385705, 968.3343296523196, 168.66387504608815, 132.18047403838548, 132.43311183154086, 298.6237597704916, 855.1033774125763, 199.8687501101907, 449.7271358452423, 312.72400502620746, 89.82981705644882, 687.0929774516718, 302.87820040043687, 288.3076073441977, 284.7824145653759, 651.0822390492267, 178.48373201950076, 387.5677571528977, 586.4462638861368, 224.6117143920351, 338.5070707386858, 14.577997238040274, 14.57796876460825, 9.441789280237169, 8.582648927362133, 8.583931791310887, 11.15641468274831, 8.583933368303837, 8.58549619939587, 10.305244755866097, 9.44295159400119, 7.727337668415216, 7.7273832600395735, 10.303103014659108, 6.870065981408445, 6.870075390760926, 7.7299352355694255, 6.868700135996466, 6.013179960152556, 6.013216717709889, 6.87179792458001, 6.870931824032362, 6.01567413304089, 5.156198479920007, 5.15667274639852, 6.014957166698629, 6.01497098795004, 5.15544112179481, 7.742283764158058, 5.157502589213672, 6.0209724405781175, 13.74840164103541, 28.366051043524543, 32.0007860680444, 27.546612490192178, 134.5668246486706, 53.881500601368984, 11.190557436837873, 446.5478156971916, 81.73236724517325, 72.06023259603234, 968.3343296523196, 203.45179220178653, 89.53590068346284, 20.80022761551206, 39.964304573775635, 46.993606429826556, 144.34957561570633, 174.58428685815898, 181.39345316745366, 85.04984265403614, 292.79215125710175, 4934.123055073938, 782.8919191450567, 449.7271358452423, 855.1033774125763, 119.01693082080004, 138.64865090654285, 111.7350714196401, 1278.2509381385705, 131.39658357157322, 651.0822390492267, 295.0774775595273, 224.07958814741082, 439.581306088886, 187.73404261454942, 312.72400502620746, 458.5042021878031, 200.10101837381956, 687.0929774516718, 282.81461680589825, 288.3076073441977], \"Category\": [\"Default\", \"Default\", \"Default\", \"Default\", \"Default\", \"Default\", \"Default\", \"Default\", \"Default\", \"Default\", \"Default\", \"Default\", \"Default\", \"Default\", \"Default\", \"Default\", \"Default\", \"Default\", \"Default\", \"Default\", \"Default\", \"Default\", \"Default\", \"Default\", \"Default\", \"Default\", \"Default\", \"Default\", \"Default\", \"Default\", \"Topic1\", \"Topic1\", \"Topic1\", \"Topic1\", \"Topic1\", \"Topic1\", \"Topic1\", \"Topic1\", \"Topic1\", \"Topic1\", \"Topic1\", \"Topic1\", \"Topic1\", \"Topic1\", \"Topic1\", \"Topic1\", \"Topic1\", \"Topic1\", \"Topic1\", \"Topic1\", \"Topic1\", \"Topic1\", \"Topic1\", \"Topic1\", \"Topic1\", \"Topic1\", \"Topic1\", \"Topic1\", \"Topic1\", \"Topic1\", \"Topic1\", \"Topic1\", \"Topic1\", \"Topic1\", \"Topic1\", \"Topic1\", \"Topic1\", \"Topic1\", \"Topic1\", \"Topic1\", \"Topic1\", \"Topic1\", \"Topic1\", \"Topic1\", \"Topic1\", \"Topic1\", \"Topic1\", \"Topic1\", \"Topic1\", \"Topic1\", \"Topic1\", \"Topic1\", \"Topic1\", \"Topic1\", \"Topic1\", \"Topic1\", \"Topic1\", \"Topic1\", \"Topic1\", \"Topic1\", \"Topic1\", \"Topic1\", \"Topic1\", \"Topic1\", \"Topic1\", \"Topic1\", \"Topic1\", \"Topic1\", \"Topic1\", \"Topic1\", \"Topic1\", \"Topic1\", \"Topic1\", \"Topic1\", \"Topic1\", \"Topic1\", \"Topic1\", \"Topic1\", \"Topic1\", \"Topic1\", \"Topic1\", \"Topic1\", \"Topic2\", \"Topic2\", \"Topic2\", \"Topic2\", \"Topic2\", \"Topic2\", \"Topic2\", \"Topic2\", \"Topic2\", \"Topic2\", \"Topic2\", \"Topic2\", \"Topic2\", \"Topic2\", \"Topic2\", \"Topic2\", \"Topic2\", \"Topic2\", \"Topic2\", \"Topic2\", \"Topic2\", \"Topic2\", \"Topic2\", \"Topic2\", \"Topic2\", \"Topic2\", \"Topic2\", \"Topic2\", \"Topic2\", \"Topic2\", \"Topic2\", \"Topic2\", \"Topic2\", \"Topic2\", \"Topic2\", \"Topic2\", \"Topic2\", \"Topic2\", \"Topic2\", \"Topic2\", \"Topic2\", \"Topic2\", \"Topic2\", \"Topic2\", \"Topic2\", \"Topic2\", \"Topic2\", \"Topic2\", \"Topic2\", \"Topic2\", \"Topic2\", \"Topic2\", \"Topic2\", \"Topic2\", \"Topic2\", \"Topic2\", \"Topic2\", \"Topic2\", \"Topic2\", \"Topic2\", \"Topic2\", \"Topic2\", \"Topic2\", \"Topic2\", \"Topic2\", \"Topic2\", \"Topic3\", \"Topic3\", \"Topic3\", \"Topic3\", \"Topic3\", \"Topic3\", \"Topic3\", \"Topic3\", \"Topic3\", \"Topic3\", \"Topic3\", \"Topic3\", \"Topic3\", \"Topic3\", \"Topic3\", \"Topic3\", \"Topic3\", \"Topic3\", \"Topic3\", \"Topic3\", \"Topic3\", \"Topic3\", \"Topic3\", \"Topic3\", \"Topic3\", \"Topic3\", \"Topic3\", \"Topic3\", \"Topic3\", \"Topic3\", \"Topic3\", \"Topic3\", \"Topic3\", \"Topic3\", \"Topic3\", \"Topic3\", \"Topic3\", \"Topic3\", \"Topic3\", \"Topic3\", \"Topic3\", \"Topic3\", \"Topic3\", \"Topic3\", \"Topic3\", \"Topic3\", \"Topic3\", \"Topic3\", \"Topic3\", \"Topic3\", \"Topic3\", \"Topic3\", \"Topic3\", \"Topic3\", \"Topic3\", \"Topic3\", \"Topic3\", \"Topic3\", \"Topic3\", \"Topic3\", \"Topic3\", \"Topic3\", \"Topic3\", \"Topic3\", \"Topic3\", \"Topic3\", \"Topic3\", \"Topic3\", \"Topic3\", \"Topic3\", \"Topic4\", \"Topic4\", \"Topic4\", \"Topic4\", \"Topic4\", \"Topic4\", \"Topic4\", \"Topic4\", \"Topic4\", \"Topic4\", \"Topic4\", \"Topic4\", \"Topic4\", \"Topic4\", \"Topic4\", \"Topic4\", \"Topic4\", \"Topic4\", \"Topic4\", \"Topic4\", \"Topic4\", \"Topic4\", \"Topic4\", \"Topic4\", \"Topic4\", \"Topic4\", \"Topic4\", \"Topic4\", \"Topic4\", \"Topic4\", \"Topic4\", \"Topic4\", \"Topic4\", \"Topic4\", \"Topic4\", \"Topic4\", \"Topic4\", \"Topic4\", \"Topic4\", \"Topic4\", \"Topic4\", \"Topic4\", \"Topic4\", \"Topic4\", \"Topic4\", \"Topic4\", \"Topic4\", \"Topic4\", \"Topic4\", \"Topic4\", \"Topic4\", \"Topic4\", \"Topic4\", \"Topic4\", \"Topic4\", \"Topic4\", \"Topic4\", \"Topic4\", \"Topic4\", \"Topic4\", \"Topic4\", \"Topic4\", \"Topic4\", \"Topic4\", \"Topic4\", \"Topic4\", \"Topic4\", \"Topic4\", \"Topic4\", \"Topic4\", \"Topic4\"], \"logprob\": [30.0, 29.0, 28.0, 27.0, 26.0, 25.0, 24.0, 23.0, 22.0, 21.0, 20.0, 19.0, 18.0, 17.0, 16.0, 15.0, 14.0, 13.0, 12.0, 11.0, 10.0, 9.0, 8.0, 7.0, 6.0, 5.0, 4.0, 3.0, 2.0, 1.0, -7.192699909210205, -7.192800045013428, -7.19290018081665, -7.642499923706055, -7.660699844360352, -8.096699714660645, -8.012399673461914, -8.012700080871582, -8.101300239562988, -7.321800231933594, -8.202699661254883, -7.618800163269043, -8.312999725341797, -8.313699722290039, -8.210599899291992, -7.469299793243408, -8.317299842834473, -7.950799942016602, -7.879199981689453, -8.439299583435059, -8.439800262451172, -8.440299987792969, -8.323399543762207, -8.217700004577637, -8.440999984741211, -8.219099998474121, -7.883999824523926, -8.444700241088867, -8.446200370788574, -8.223600387573242, -7.5346999168396, -7.821899890899658, -6.956699848175049, -7.64300012588501, -6.937300205230713, -6.753300189971924, -6.340000152587891, -7.509300231933594, -5.993899822235107, -7.23859977722168, -6.196599960327148, -6.940999984741211, -5.8308000564575195, -6.029600143432617, -6.27839994430542, -4.317399978637695, -5.701099872589111, -2.6552999019622803, -5.366399765014648, -7.5370001792907715, -4.523600101470947, -5.221499919891357, -7.1869001388549805, -6.258299827575684, -6.212900161743164, -6.035099983215332, -5.303699970245361, -6.234099864959717, -5.931099891662598, -4.132400035858154, -5.883399963378906, -4.458499908447266, -6.293700218200684, -5.594900131225586, -5.201000213623047, -5.3846001625061035, -5.782400131225586, -5.926400184631348, -5.899400234222412, -5.894599914550781, -5.487199783325195, -5.524400234222412, -5.477200031280518, -5.9653000831604, -5.226500034332275, -5.671299934387207, -5.572299957275391, -5.36929988861084, -5.59660005569458, -5.850599765777588, -5.757699966430664, -5.769999980926514, -6.28439998626709, -6.343500137329102, -6.343599796295166, -6.343699932098389, -6.343800067901611, -6.344099998474121, -6.344099998474121, -6.344200134277344, -6.344299793243408, -6.271500110626221, -5.986299991607666, -6.679699897766113, -6.679699897766113, -6.679800033569336, -6.933599948883057, -6.9710001945495605, -6.9710001945495605, -6.9710001945495605, -6.9710001945495605, -6.971099853515625, -6.971099853515625, -6.98799991607666, -7.451099872589111, -7.457900047302246, -7.459099769592285, -7.654699802398682, -7.654699802398682, -7.587399959564209, -5.616600036621094, -7.043000221252441, -7.177599906921387, -6.808700084686279, -6.957200050354004, -4.131199836730957, -5.2754998207092285, -5.618800163269043, -4.5432000160217285, -5.501500129699707, -5.972899913787842, -6.321899890899658, -5.968299865722656, -2.979599952697754, -5.569699764251709, -5.492400169372559, -5.758699893951416, -6.395999908447266, -4.174699783325195, -4.452499866485596, -4.5960001945495605, -5.167500019073486, -5.311200141906738, -5.817699909210205, -5.138500213623047, -5.253600120544434, -4.861400127410889, -5.214799880981445, -5.262700080871582, -5.482600212097168, -5.14139986038208, -5.991399765014648, -5.5792999267578125, -5.305300235748291, -5.8094000816345215, -5.734000205993652, -5.908400058746338, -5.862500190734863, -6.732500076293945, -6.939700126647949, -6.812099933624268, -7.091100215911865, -7.1519999504089355, -7.337200164794922, -7.337200164794922, -7.056000232696533, -7.488999843597412, -6.296800136566162, -7.496699810028076, -7.499599933624268, -7.579999923706055, -6.632699966430664, -7.582200050354004, -7.582499980926514, -7.769999980926514, -7.371699810028076, -7.884399890899658, -7.884500026702881, -7.884799957275391, -7.888299942016602, -7.895599842071533, -6.263999938964844, -7.909800052642822, -8.03030014038086, -7.8078999519348145, -8.16469955444336, -8.16819953918457, -7.918300151824951, -6.860000133514404, -6.944900035858154, -6.532299995422363, -6.542600154876709, -4.900700092315674, -6.633500099182129, -4.424300193786621, -4.868599891662598, -6.496600151062012, -6.393400192260742, -6.048699855804443, -2.94350004196167, -5.464799880981445, -4.398799896240234, -5.879300117492676, -5.231599807739258, -5.530300140380859, -5.96150016784668, -6.365499973297119, -4.259900093078613, -4.4918999671936035, -5.658400058746338, -5.818600177764893, -5.826099872589111, -5.338399887084961, -4.7266998291015625, -5.609499931335449, -5.160099983215332, -5.439300060272217, -6.112100124359131, -5.154099941253662, -5.590799808502197, -5.640399932861328, -5.6717000007629395, -5.3516998291015625, -5.915900230407715, -5.677800178527832, -5.622399806976318, -5.872700214385986, -5.793499946594238, -6.9532999992370605, -6.9532999992370605, -7.421199798583984, -7.518799781799316, -7.5208001136779785, -7.258800029754639, -7.5254998207092285, -7.527200222015381, -7.350100040435791, -7.4375, -7.639800071716309, -7.639900207519531, -7.356200218200684, -7.766600131988525, -7.766600131988525, -7.652200222015381, -7.773799896240234, -7.913300037384033, -7.91379976272583, -7.782400131225586, -7.783299922943115, -7.921999931335449, -8.083700180053711, -8.084699630737305, -7.931300163269043, -7.931399822235107, -8.087599754333496, -7.691999912261963, -8.099100112915039, -7.945499897003174, -7.137700080871582, -6.439799785614014, -6.386199951171875, -6.566299915313721, -5.264699935913086, -6.102200031280518, -7.417099952697754, -4.448699951171875, -5.818900108337402, -5.924099922180176, -3.857300043106079, -5.135700225830078, -5.801000118255615, -6.927499771118164, -6.434700012207031, -6.317699909210205, -5.482100009918213, -5.421000003814697, -5.426599979400635, -5.970099925994873, -5.124300003051758, -3.242000102996826, -4.505899906158447, -4.955399990081787, -4.589000225067139, -5.832699775695801, -5.820499897003174, -5.950900077819824, -4.580399990081787, -5.921599864959717, -5.076300144195557, -5.546000003814697, -5.737599849700928, -5.486599922180176, -5.846099853515625, -5.6992998123168945, -5.633999824523926, -5.886899948120117, -5.598700046539307, -5.811100006103516, -5.872799873352051], \"loglift\": [30.0, 29.0, 28.0, 27.0, 26.0, 25.0, 24.0, 23.0, 22.0, 21.0, 20.0, 19.0, 18.0, 17.0, 16.0, 15.0, 14.0, 13.0, 12.0, 11.0, 10.0, 9.0, 8.0, 7.0, 6.0, 5.0, 4.0, 3.0, 2.0, 1.0, 1.0456, 1.0455, 1.0455, 1.0216, 1.0038, 1.0034, 1.0009, 1.0005, 0.9992, 0.9979, 0.9932, 0.9889, 0.9885, 0.9877, 0.9856, 0.9853, 0.9843, 0.9828, 0.9806, 0.9802, 0.9796, 0.9796, 0.9786, 0.9786, 0.9785, 0.9773, 0.9764, 0.9751, 0.9736, 0.9733, 0.9694, 0.9694, 0.9584, 0.9663, 0.9267, 0.9176, 0.9, 0.9453, 0.872, 0.9286, 0.864, 0.8976, 0.8044, 0.8, 0.7814, 0.5379, 0.6808, 0.2285, 0.5929, 0.9184, 0.3855, 0.479, 0.8498, 0.6712, 0.6594, 0.6212, 0.4392, 0.6493, 0.5715, 0.1021, 0.5571, 0.178, 0.6608, 0.3808, 0.2268, 0.2898, 0.4454, 0.4889, 0.447, 0.4352, 0.2112, 0.2116, 0.1652, 0.2961, -0.7143, -0.1081, -0.2704, -0.6446, -0.583, -0.053, -0.4715, -0.4909, 1.2682, 1.2673, 1.2673, 1.2672, 1.2671, 1.2668, 1.2667, 1.2667, 1.2666, 1.2626, 1.26, 1.2596, 1.2596, 1.2596, 1.2571, 1.2561, 1.2561, 1.256, 1.256, 1.256, 1.256, 1.2389, 1.2386, 1.2318, 1.2307, 1.2292, 1.2292, 1.2274, 1.2234, 1.2212, 1.2106, 1.1586, 1.1656, 0.8824, 0.9439, 0.964, 0.7587, 0.8976, 0.9715, 1.0286, 0.9251, -0.0958, 0.7705, 0.7432, 0.7451, 1.0176, 0.0598, 0.0596, 0.1287, 0.3957, 0.4125, 0.6918, 0.1406, 0.1743, -0.2249, 0.0713, -0.003, 0.2158, -0.2323, 0.7591, 0.1092, -0.4501, 0.3939, 0.2394, 0.5043, -0.162, 1.4927, 1.4904, 1.4903, 1.4856, 1.4788, 1.4759, 1.4759, 1.4698, 1.4672, 1.4636, 1.4595, 1.4568, 1.4562, 1.4555, 1.454, 1.4537, 1.4487, 1.4417, 1.4396, 1.4396, 1.4393, 1.4358, 1.4288, 1.4286, 1.4147, 1.4118, 1.4116, 1.4107, 1.4075, 1.4066, 1.3627, 1.3551, 1.3023, 1.2595, 1.0311, 1.247, 0.8355, 0.8396, 1.154, 1.0583, 0.9323, -0.0597, 0.7182, 0.3259, 0.8481, 0.566, 0.6728, 0.8021, 0.9784, -0.0254, 0.0203, 0.6014, 0.6849, 0.6755, 0.3501, -0.0902, 0.4806, 0.119, 0.2031, 0.7777, -0.2989, 0.0836, 0.0833, 0.0643, -0.4426, 0.2873, -0.25, -0.6087, 0.1007, -0.2303, 1.7549, 1.7549, 1.7214, 1.7192, 1.717, 1.7169, 1.7123, 1.7104, 1.705, 1.7049, 1.7031, 1.7031, 1.6991, 1.694, 1.6939, 1.6904, 1.6869, 1.6805, 1.68, 1.6779, 1.6771, 1.6713, 1.6638, 1.6628, 1.6622, 1.6621, 1.6601, 1.649, 1.6482, 1.647, 1.6291, 1.6027, 1.5357, 1.5056, 1.221, 1.2987, 1.5556, 0.8374, 1.1654, 1.1862, 0.6549, 0.9366, 1.0921, 1.4252, 1.265, 1.22, 0.9334, 0.8043, 0.7605, 0.9744, 0.584, -0.3582, 0.2188, 0.3237, 0.0475, 0.7758, 0.6353, 0.7207, -0.3459, 0.5879, -0.1672, 0.1544, 0.2381, -0.1847, 0.3066, -0.0569, -0.3742, 0.202, -0.7434, -0.0681, -0.1491]}, \"token.table\": {\"Topic\": [1, 2, 2, 1, 2, 3, 1, 2, 4, 4, 1, 3, 1, 4, 3, 1, 1, 2, 3, 4, 1, 2, 3, 4, 3, 3, 1, 1, 2, 3, 4, 4, 2, 3, 4, 4, 2, 1, 3, 1, 3, 4, 2, 3, 4, 2, 3, 4, 3, 2, 4, 1, 2, 3, 4, 1, 2, 3, 4, 1, 2, 3, 4, 1, 2, 3, 4, 3, 4, 4, 4, 1, 2, 3, 4, 2, 1, 2, 3, 4, 3, 1, 2, 3, 4, 1, 2, 4, 2, 1, 1, 2, 4, 1, 2, 3, 4, 4, 1, 3, 1, 2, 4, 1, 2, 3, 4, 1, 2, 3, 4, 1, 2, 3, 4, 1, 2, 3, 4, 3, 1, 2, 3, 4, 1, 2, 3, 4, 1, 1, 3, 4, 3, 4, 1, 2, 3, 4, 1, 2, 3, 4, 1, 3, 4, 1, 2, 3, 1, 2, 1, 2, 3, 4, 1, 2, 3, 4, 1, 2, 3, 4, 3, 1, 4, 1, 1, 3, 3, 1, 2, 3, 1, 2, 3, 4, 1, 1, 2, 3, 4, 2, 1, 2, 3, 1, 2, 3, 4, 2, 1, 2, 3, 4, 1, 2, 3, 4, 1, 2, 3, 4, 1, 2, 3, 4, 1, 4, 4, 1, 2, 3, 4, 1, 2, 4, 1, 2, 3, 4, 1, 2, 3, 4, 3, 2, 3, 1, 1, 2, 3, 4, 4, 1, 4, 1, 2, 3, 4, 1, 2, 3, 4, 2, 1, 4, 1, 2, 3, 4, 2, 1, 2, 3, 4, 2, 1, 1, 2, 3, 4, 2, 4, 3, 3, 1, 2, 3, 4, 1, 2, 3, 4, 1, 2, 3, 4, 1, 2, 3, 4, 2, 1, 2, 3, 4, 1, 2, 3, 4, 4, 4, 4, 3, 1, 2, 3, 4, 2, 3, 2, 1, 2, 3, 4, 1, 3, 1, 3, 4, 3, 2, 1, 2, 3, 1, 2, 3, 4, 1, 2, 3, 4, 3, 1, 3, 3, 1, 2, 3, 4, 1, 3, 4, 1, 2, 3, 4, 1, 2, 3, 4, 1, 2, 3, 4, 1, 1, 2, 3, 4, 1, 2, 3, 4, 1, 3, 1, 3, 4, 4, 1, 2, 3, 4, 1, 2, 3, 3, 3, 4, 2, 3, 4, 1, 2, 3, 4, 4, 1, 2, 3, 4, 2, 4, 1, 1, 2, 3, 4, 1, 2, 3, 4, 4, 1, 2, 3, 4, 1, 1, 2, 3, 1, 2, 3, 4, 2, 1, 3, 4, 2, 2, 1, 3, 2, 4, 1, 3, 3, 4, 1, 2, 1, 2, 3, 4, 3, 1, 2, 3, 4, 2, 1, 2, 1, 2, 4, 1, 2, 3, 4, 2, 3, 4, 1, 2, 3, 4, 2, 2, 1, 2, 3, 4, 1, 2, 3, 4, 1, 1, 2, 3, 4, 1, 2, 3, 4, 1, 2, 3, 4, 1, 1, 2, 3, 4, 1, 2, 3, 4, 1, 2, 3, 4, 1, 2, 3, 4, 2, 4, 3, 3, 1, 2, 3, 4, 1, 2, 3, 4, 1, 2, 3, 4, 1, 2, 3, 4, 2, 3, 4, 1, 3, 4, 2, 1, 2, 3, 4, 1, 2, 3, 1, 2, 3, 4, 1, 2, 3, 4, 2, 4, 1, 2, 1, 2, 3, 4, 1, 1, 2, 3, 4, 1, 2, 3, 4, 1, 2, 3, 4, 4, 1, 4, 1, 2, 3, 4], \"Freq\": [0.9305681626872253, 0.9428015394337134, 0.9812821115473902, 0.03177297338388884, 0.9425982103887022, 0.02118198225592589, 0.9778744171391529, 0.17626704514943084, 0.8108284076873818, 0.8311620425943065, 0.8940171596736651, 0.9522811184560396, 0.8949220118744162, 0.055932625742151014, 0.8893939241297979, 0.8384759767690635, 0.7546372648641804, 0.13625395060047701, 0.07336751186179531, 0.02096214624622723, 0.8152205059668498, 0.032608820238673994, 0.13043528095469598, 0.021739213492449328, 0.9142176246291558, 0.952310507037601, 0.8690092307693853, 0.024389947745395123, 0.2804843990720439, 0.5487738242713903, 0.14633968647237075, 0.8733417025225814, 0.8785881870578288, 0.03819948639381864, 0.03819948639381864, 0.8733528613192473, 0.9844834541854323, 0.930636340217984, 0.06204242268119894, 0.8061656611647259, 0.10515204276061642, 0.07010136184041095, 0.9752820136720629, 0.960003314235581, 0.905869395167563, 0.026586553167506376, 0.9305293608627231, 0.026586553167506376, 0.8166176346938047, 0.9844851724071227, 0.9603532718487217, 0.8337074233836739, 0.02874853184081634, 0.02874853184081634, 0.11499412736326536, 0.212743174774413, 0.2978404446841782, 0.10749128830707183, 0.38069831275421273, 0.22374353622694026, 0.39378862375941487, 0.04474870724538805, 0.3400901750649492, 0.27663337606174826, 0.10639745233144163, 0.06383847139886498, 0.5532667521234965, 0.8896559877919915, 0.8732440014924736, 0.8735277244898331, 0.9055703297214424, 0.22652945011335954, 0.2038765051020236, 0.4304059552153831, 0.14346865173846104, 0.97517289940685, 0.08859346977334756, 0.6814882290257505, 0.09540835206360507, 0.1362976458051501, 0.888889423459341, 0.3894736778679448, 0.20194931445004544, 0.09376218170894966, 0.3101364471911412, 0.9303305970812181, 0.046516529854060906, 0.7758792905402135, 0.9751694250058588, 0.9306578944836867, 0.18749539424569098, 0.03124923237428183, 0.7812308093570458, 0.30894769639134695, 0.2663342210270232, 0.20241400798053763, 0.2237207456626995, 0.7756939787954639, 0.126646958660222, 0.8443130577348134, 0.8698649444416953, 0.06213321031726395, 0.06213321031726395, 0.6562940536585485, 0.14219704495935218, 0.0875058738211398, 0.10938234227642477, 0.2645469337761863, 0.30807997351150807, 0.30807997351150807, 0.1172043377489433, 0.11776965694210376, 0.1385525375789456, 0.32559846331052217, 0.4225852396157841, 0.12450798959920527, 0.3023765461694985, 0.39723977634032154, 0.18379750845596968, 0.9669521027926409, 0.5836182484170496, 0.17610425949741396, 0.1615501884645698, 0.07859198357735829, 0.3778600786347631, 0.2941519452726106, 0.21200844991722734, 0.1165655315043058, 0.8691530417823333, 0.8551461448340647, 0.02948779809772637, 0.11795119239090548, 0.9669759608564064, 0.831501712764517, 0.554120777424108, 0.2493543498408486, 0.1108241554848216, 0.08311811661361619, 0.05810736824556057, 0.5907582438298657, 0.32927508672484324, 0.01936912274852019, 0.028636022259106487, 0.8018086232549817, 0.14318011129553243, 0.09121021630399011, 0.045605108151995054, 0.8208919467359109, 0.04400266023739405, 0.924055864985275, 0.23129654874355102, 0.5975160842541735, 0.16704750742589797, 0.0064249041317653065, 0.2969303360974905, 0.1568688568062214, 0.425786897045458, 0.11765164260466604, 0.19098083984340242, 0.6684329394519085, 0.11765783883209614, 0.022167418910394924, 0.9523074561395665, 0.869056326025707, 0.8733540574773241, 0.8937071206684442, 0.9452912238613628, 0.08593556580557843, 0.9150179392060165, 0.14989848443115758, 0.08993909065869456, 0.7494924221557879, 0.7389451039641513, 0.10556358628059304, 0.1319544828507413, 0.01319544828507413, 0.8385455443983398, 0.6526392167442576, 0.055308408198665907, 0.12167849803706499, 0.17698690623573088, 0.9844810972215168, 0.5003945559488948, 0.009811657959782252, 0.48077124002933036, 0.21036749434032187, 0.12271437169852109, 0.5785106094358852, 0.08765312264180078, 0.9935581266648417, 0.50224070077156, 0.21963431256982596, 0.13976728981716197, 0.13976728981716197, 0.5301129860236138, 0.21333815291194214, 0.10343668019972953, 0.1486902277871112, 0.20464253629479331, 0.4196906252825422, 0.2358591943736601, 0.14220922013705975, 0.6766062519833225, 0.1004860770272261, 0.13398143603630147, 0.08708793342359596, 0.9049567390806216, 0.05323274935768362, 0.9603513961072767, 0.5340222934821334, 0.08613262798098925, 0.22394483275057206, 0.15503873036578067, 0.9861883743776618, 0.9751731867598278, 0.89634531203501, 0.09837041179154955, 0.5826555159961012, 0.24970950685547194, 0.06810259277876507, 0.30723139629861357, 0.4106265777452624, 0.17134058639730373, 0.10930347752931445, 0.9523014676997266, 0.9699106024108962, 0.015900173810014694, 0.9189224074606874, 0.3048460247515712, 0.2948510731203721, 0.1949015568083816, 0.19989903262398112, 0.9318040348748778, 0.8785687936668795, 0.07986989033335268, 0.06849493156797032, 0.5555700004957592, 0.07610547951996702, 0.29681137012787134, 0.22520096611178747, 0.050044659135952775, 0.1501339774078583, 0.5755135800634569, 0.9812868914615129, 0.913901831695564, 0.9319738546965187, 0.056381664470430005, 0.77054941442921, 0.01879388815681, 0.15035110525448, 0.98570301332656, 0.1783500507101926, 0.23036881550066546, 0.02972500845169877, 0.5573439084693519, 0.98448115165238, 0.8384841886045021, 0.20474266070812136, 0.728883872120912, 0.06551765142659884, 0.008189706428324854, 0.9427377763641029, 0.8315067955945807, 0.9733208262204468, 0.8889382858545041, 0.5490083531275918, 0.2338368911469372, 0.020333642708429325, 0.19316960573007858, 0.4213743330434902, 0.2106871665217451, 0.2317558831739196, 0.13694665823913432, 0.26904739737705063, 0.23610281810639136, 0.44475182015389997, 0.049416868905988884, 0.45855464023188536, 0.09406249030397648, 0.01175781128799706, 0.43503901765589126, 0.9844821887584769, 0.03416280710310362, 0.7117251479813254, 0.2049768426186217, 0.051244210654655425, 0.06217256160957469, 0.45593211847021436, 0.28323055844361805, 0.19342574722978792, 0.8312592047437369, 0.873523247044597, 0.9321131585023122, 0.8891762904408197, 0.428312203314973, 0.3302648314717864, 0.17029280372763989, 0.07482562588032661, 0.07620543812460692, 0.914465257495283, 0.9844875625855365, 0.11104330155266962, 0.2647955652409814, 0.6107381585396829, 0.01281268864069265, 0.22176948636488994, 0.7761932022771149, 0.8941602877259777, 0.92244684790636, 0.036897873916254396, 0.8164257074127794, 0.9844800221775379, 0.8517445203780806, 0.053234032523630036, 0.053234032523630036, 0.24127019208647846, 0.018559245545113727, 0.11135547327068238, 0.612455102988753, 0.358337078130351, 0.0496159031257409, 0.2425666375036222, 0.35282420000526865, 0.9671176867261566, 0.9192730495754391, 0.06566236068395993, 0.9142653381976878, 0.8055237683587884, 0.013205307678012923, 0.05282123071205169, 0.13205307678012923, 0.837491736262627, 0.015801730872879755, 0.1422155778559178, 0.17882417301341483, 0.31421961829500034, 0.30016914755823204, 0.20564779896542706, 0.259337688889228, 0.5914719220280638, 0.011374460039001227, 0.13649352046801472, 0.16652735590338247, 0.13877279658615208, 0.16652735590338247, 0.541213906685993, 0.8945480121557325, 0.09221558666813856, 0.1092925471622383, 0.5020626385265321, 0.29713911259733533, 0.05041299551770501, 0.4033039641416401, 0.18484765023158503, 0.3612931345435526, 0.9861831596736498, 0.9142171427900322, 0.852373176627629, 0.10654664707845363, 0.9058747398359279, 0.7755691695367335, 0.7594567718250175, 0.1467132400116511, 0.04315095294460326, 0.04315095294460326, 0.8785845114104675, 0.0798713192191334, 0.0399356596095667, 0.888906893591434, 0.17872210667685398, 0.804249480045843, 0.7764448949508262, 0.10587884931147631, 0.10587884931147631, 0.42274578864100965, 0.34496056353106386, 0.1623343828381477, 0.0744032588008177, 0.9319736834794162, 0.22343866984443334, 0.6926598765177433, 0.011171933492221666, 0.06703160095333, 0.9464450217548892, 0.049812895881836274, 0.8939890096047348, 0.32176902477169794, 0.0851741536160377, 0.5110449216962262, 0.0851741536160377, 0.6650902750625067, 0.10688950849218858, 0.04750644821875048, 0.1781491808203143, 0.8304306404564631, 0.10905025463544175, 0.27698764677402204, 0.501631171323032, 0.11341226482085942, 0.9779130313381711, 0.6717954411749792, 0.05791340010129131, 0.26640164046594006, 0.3645908936717067, 0.5845028612832124, 0.0057871570424080435, 0.040510099296856304, 0.942773311940405, 0.24038198487170304, 0.09615279394868122, 0.6730695576407685, 0.9157684364042985, 0.9751695591044743, 0.3514771170678891, 0.6248482081206916, 0.9844800810521228, 0.953209156959064, 0.8382145288151506, 0.8888909973532894, 0.9623113136756706, 0.9530918283767775, 0.8509026736615165, 0.1458690297705457, 0.28016464924264, 0.08847304712925473, 0.21135227925321964, 0.4227045585064393, 0.9869076073343889, 0.3249169533741373, 0.2278153351243951, 0.3809371177489886, 0.06348951962483143, 0.9812280689328894, 0.9000383876541921, 0.09310741941250263, 0.9136007653768989, 0.9856959963663637, 0.7757653270286942, 0.3339648346511502, 0.08905728924030672, 0.46755076851161026, 0.10018945039534506, 0.2178126258586702, 0.036302104309778364, 0.7260420861955673, 0.49982241098337243, 0.08479130186325068, 0.20528420451102797, 0.2097469046090938, 0.975177339897527, 0.9857052169622943, 0.2521238181812749, 0.40900086060517926, 0.29134307878725096, 0.044822012121115536, 0.45723395502822384, 0.27315275235452335, 0.10094775630493254, 0.1722049960495908, 0.8694833727625729, 0.6190106664292471, 0.09219307797882403, 0.1536551299647067, 0.13609454368302595, 0.45562869766641995, 0.20140109099747547, 0.23441766329214359, 0.10565303134293795, 0.5277737343064461, 0.1271743938087822, 0.17804415133229506, 0.17168543164185596, 0.9861719769124819, 0.1763494341256714, 0.7289109943861084, 0.03526988682513428, 0.05878314470855713, 0.2201444696869427, 0.2751805871086784, 0.35022983813831793, 0.15510178546125508, 0.6346461299362504, 0.12340341415427089, 0.0881452958244792, 0.14984700290161465, 0.22023098812255434, 0.2079959332268569, 0.04894021958278985, 0.526107360514991, 0.1454714556803839, 0.8728287340823033, 0.9716870281043893, 0.8573708521923161, 0.16729759034585306, 0.2932871336927301, 0.22203075261949634, 0.3180719618921157, 0.4069683376213523, 0.2210259075012517, 0.1988063718265227, 0.17307848841367857, 0.4286475988524584, 0.2515137920453432, 0.20449429184025084, 0.11531937765817911, 0.2090156286062907, 0.31797058394361244, 0.24459275687970186, 0.22902776326008448, 0.2858765584804597, 0.6908683496611109, 0.023823046540038306, 0.04968690916203006, 0.894364364916541, 0.04968690916203006, 0.9750134723875903, 0.3383616932256273, 0.35171807585295467, 0.2404148872918931, 0.07123404067907943, 0.032697170045053965, 0.882823591216457, 0.0980915101351619, 0.596682792329946, 0.1207572317810605, 0.127860598356417, 0.15627406465784302, 0.5303827705020926, 0.19093779738075334, 0.12729186492050223, 0.15557894601394717, 0.9751722307726637, 0.831261114822585, 0.8944656935609087, 0.07453880779674239, 0.6046505538192126, 0.2645346172959055, 0.11337197884110235, 0.02267439576822047, 0.8781276722608737, 0.40291118678094673, 0.17587393073771485, 0.26540975002236966, 0.15668768374814596, 0.167530564672931, 0.14519315604987354, 0.18986797329598848, 0.49142298970726433, 0.2348435860857882, 0.240571478429344, 0.15465309327600688, 0.3665851099875718, 0.8731339404696927, 0.12916085621007278, 0.9041259934705095, 0.16643910653256663, 0.24209324586555148, 0.43122859419801357, 0.15887369259926815], \"Term\": [\"1b\", \"1st_shoot\", \"60plus_weeks\", \"administer\", \"administer\", \"administer\", \"aldi\", \"alligator\", \"alligator\", \"allocation\", \"als_wait\", \"amazon_offer\", \"announcement\", \"announcement\", \"antivaxxer\", \"apple\", \"appointment\", \"appointment\", \"appointment\", \"appointment\", \"appointments\", \"appointments\", \"appointments\", \"appointments\", \"approval_weeks\", \"argentina_major\", \"arnold\", \"astrazeneca\", \"astrazeneca\", \"astrazeneca\", \"astrazeneca\", \"backfire\", \"batch\", \"batch\", \"batch\", \"begin_commercial\", \"belief_stay\", \"beneficiaries\", \"beneficiaries\", \"benefit\", \"benefit\", \"benefit\", \"best_way\", \"biden_inherit\", \"bidenhelpsbrazil_oxigene\", \"bidens\", \"bidens\", \"bidens\", \"blog\", \"body_stupid\", \"bolsonaro_sleep\", \"book\", \"book\", \"book\", \"book\", \"brazil\", \"brazil\", \"brazil\", \"brazil\", \"brazilian\", \"brazilian\", \"brazilian\", \"brazilian\", \"break\", \"break\", \"break\", \"break\", \"btw\", \"budweiser\", \"bye\", \"calazans\", \"care\", \"care\", \"care\", \"care\", \"care_brink\", \"case\", \"case\", \"case\", \"case\", \"case_positivity\", \"china\", \"china\", \"china\", \"china\", \"clinics\", \"clinics\", \"cnnpolitics\", \"collapse_state\", \"collier\", \"colombia\", \"colombia\", \"colombia\", \"come\", \"come\", \"come\", \"come\", \"communists\", \"compare\", \"compare\", \"contain\", \"contain\", \"contain\", \"coronavac\", \"coronavac\", \"coronavac\", \"coronavac\", \"coronavirus\", \"coronavirus\", \"coronavirus\", \"coronavirus\", \"countries\", \"countries\", \"countries\", \"countries\", \"country\", \"country\", \"country\", \"country\", \"country_outside\", \"covid\", \"covid\", \"covid\", \"covid\", \"covid19\", \"covid19\", \"covid19\", \"covid19\", \"covidvaccination\", \"credit\", \"credit\", \"credit\", \"crimes_humanity\", \"dallas\", \"data\", \"data\", \"data\", \"data\", \"deaths\", \"deaths\", \"deaths\", \"deaths\", \"deliver\", \"deliver\", \"deliver\", \"deny\", \"deny\", \"deny\", \"department\", \"department\", \"die\", \"die\", \"die\", \"die\", \"distribution\", \"distribution\", \"distribution\", \"distribution\", \"dose\", \"dose\", \"dose\", \"dose\", \"efforts_combat\", \"exact\", \"export_shipments\", \"facial\", \"faqs\", \"faqs\", \"father\", \"fauci\", \"fauci\", \"fauci\", \"fda\", \"fda\", \"fda\", \"fda\", \"feedbro\", \"feel\", \"feel\", \"feel\", \"feel\", \"fight_sickness\", \"florida\", \"florida\", \"florida\", \"flu\", \"flu\", \"flu\", \"flu\", \"flushot\", \"get\", \"get\", \"get\", \"get\", \"give\", \"give\", \"give\", \"give\", \"go\", \"go\", \"go\", \"go\", \"good\", \"good\", \"good\", \"good\", \"google\", \"google\", \"governaded_genocidal\", \"government\", \"government\", \"government\", \"government\", \"government_chaos\", \"government_dire\", \"grade\", \"group\", \"group\", \"group\", \"group\", \"health\", \"health\", \"health\", \"health\", \"health_connection\", \"healthy\", \"healthy\", \"heart\", \"help\", \"help\", \"help\", \"help\", \"highrisk\", \"hoosiers\", \"hoosiers\", \"hope\", \"hope\", \"hope\", \"hope\", \"hospital\", \"hospital\", \"hospital\", \"hospital\", \"hospitalizations_age\", \"hour\", \"hours_aroundtheclock\", \"immune\", \"immune\", \"immune\", \"immune\", \"impechment\", \"india\", \"india\", \"india\", \"india\", \"inject_healthy\", \"investment\", \"israel\", \"israel\", \"israel\", \"israel\", \"israeli\", \"jeopardy\", \"johnson_johnson\", \"killd\", \"know\", \"know\", \"know\", \"know\", \"like\", \"like\", \"like\", \"like\", \"live\", \"live\", \"live\", \"live\", \"mask\", \"mask\", \"mask\", \"mask\", \"mask_swab\", \"million\", \"million\", \"million\", \"million\", \"moderna\", \"moderna\", \"moderna\", \"moderna\", \"moral_failure\", \"morocco\", \"mum_group\", \"murderd\", \"need\", \"need\", \"need\", \"need\", \"needle\", \"needle\", \"needle_believe\", \"new\", \"new\", \"new\", \"new\", \"new_york\", \"new_york\", \"nightmare\", \"nonexistent\", \"nonexistent\", \"normally\", \"nose_test\", \"note\", \"note\", \"note\", \"nurse\", \"nurse\", \"nurse\", \"nurse\", \"pandemic\", \"pandemic\", \"pandemic\", \"pandemic\", \"paraguay\", \"partnership\", \"partnership\", \"past_hours\", \"pay\", \"pay\", \"pay\", \"pay\", \"pence\", \"pence\", \"pence\", \"people\", \"people\", \"people\", \"people\", \"pfizer\", \"pfizer\", \"pfizer\", \"pfizer\", \"phase\", \"phase\", \"phase\", \"phase\", \"phoenix_municipal\", \"plan\", \"plan\", \"plan\", \"plan\", \"population\", \"population\", \"population\", \"population\", \"portugus_ingls\", \"post_fauci\", \"practice\", \"practice\", \"president_bidensavebrazil\", \"prison\", \"public\", \"public\", \"public\", \"public\", \"publix\", \"publix\", \"publix\", \"punish_guilty\", \"purchase_order\", \"purchase_order\", \"push\", \"push\", \"push\", \"receive\", \"receive\", \"receive\", \"receive\", \"reopen_school\", \"report\", \"report\", \"report\", \"report\", \"reserve\", \"reserve\", \"residency\", \"rollout\", \"rollout\", \"rollout\", \"rollout\", \"safe\", \"safe\", \"safe\", \"safe\", \"saudi\", \"say\", \"say\", \"say\", \"say\", \"sceptical\", \"schedule\", \"schedule\", \"schedule\", \"second\", \"second\", \"second\", \"second\", \"see_drop\", \"shingle\", \"shingle\", \"shingle\", \"ship_fewer\", \"shortage_oxygen\", \"shots\", \"shots\", \"sick_wear\", \"sit_pilot\", \"sleep\", \"sofia_hit\", \"source_cnnpolitics\", \"sputnikv\", \"stadium\", \"stadium\", \"start\", \"start\", \"start\", \"start\", \"start_scratch\", \"state\", \"state\", \"state\", \"state\", \"state_amazonas\", \"state_farm\", \"state_farm\", \"stimulus_check\", \"stock_oxygen\", \"sue\", \"sure\", \"sure\", \"sure\", \"sure\", \"syringe\", \"syringe\", \"syringe\", \"take\", \"take\", \"take\", \"take\", \"tank_northern\", \"terror_brazil\", \"test\", \"test\", \"test\", \"test\", \"thank\", \"thank\", \"thank\", \"thank\", \"thankful\", \"think\", \"think\", \"think\", \"think\", \"time\", \"time\", \"time\", \"time\", \"today\", \"today\", \"today\", \"today\", \"today_revolt\", \"total\", \"total\", \"total\", \"total\", \"trump\", \"trump\", \"trump\", \"trump\", \"try\", \"try\", \"try\", \"try\", \"turn\", \"turn\", \"turn\", \"turn\", \"uae\", \"uae\", \"uchealth\", \"universal\", \"vaccinate\", \"vaccinate\", \"vaccinate\", \"vaccinate\", \"vaccination\", \"vaccination\", \"vaccination\", \"vaccination\", \"vaccine\", \"vaccine\", \"vaccine\", \"vaccine\", \"vaccines\", \"vaccines\", \"vaccines\", \"vaccines\", \"variant\", \"variant\", \"variant\", \"variants\", \"variants\", \"variants\", \"vials\", \"virus\", \"virus\", \"virus\", \"virus\", \"vulnerable\", \"vulnerable\", \"vulnerable\", \"wait\", \"wait\", \"wait\", \"wait\", \"want\", \"want\", \"want\", \"want\", \"war_governor\", \"warn_catastrophic\", \"ways\", \"ways\", \"week\", \"week\", \"week\", \"week\", \"weekend\", \"work\", \"work\", \"work\", \"work\", \"workers\", \"workers\", \"workers\", \"workers\", \"world\", \"world\", \"world\", \"world\", \"worlds_biggest\", \"worlds_largest\", \"worlds_largest\", \"year\", \"year\", \"year\", \"year\"]}, \"R\": 30, \"lambda.step\": 0.01, \"plot.opts\": {\"xlab\": \"PC1\", \"ylab\": \"PC2\"}, \"topic.order\": [4, 2, 3, 1]};\n",
              "\n",
              "function LDAvis_load_lib(url, callback){\n",
              "  var s = document.createElement('script');\n",
              "  s.src = url;\n",
              "  s.async = true;\n",
              "  s.onreadystatechange = s.onload = callback;\n",
              "  s.onerror = function(){console.warn(\"failed to load library \" + url);};\n",
              "  document.getElementsByTagName(\"head\")[0].appendChild(s);\n",
              "}\n",
              "\n",
              "if(typeof(LDAvis) !== \"undefined\"){\n",
              "   // already loaded: just create the visualization\n",
              "   !function(LDAvis){\n",
              "       new LDAvis(\"#\" + \"ldavis_el621398707138800328201765652\", ldavis_el621398707138800328201765652_data);\n",
              "   }(LDAvis);\n",
              "}else if(typeof define === \"function\" && define.amd){\n",
              "   // require.js is available: use it to load d3/LDAvis\n",
              "   require.config({paths: {d3: \"https://cdnjs.cloudflare.com/ajax/libs/d3/3.5.5/d3.min\"}});\n",
              "   require([\"d3\"], function(d3){\n",
              "      window.d3 = d3;\n",
              "      LDAvis_load_lib(\"https://cdn.rawgit.com/bmabey/pyLDAvis/files/ldavis.v1.0.0.js\", function(){\n",
              "        new LDAvis(\"#\" + \"ldavis_el621398707138800328201765652\", ldavis_el621398707138800328201765652_data);\n",
              "      });\n",
              "    });\n",
              "}else{\n",
              "    // require.js not available: dynamically load d3 & LDAvis\n",
              "    LDAvis_load_lib(\"https://cdnjs.cloudflare.com/ajax/libs/d3/3.5.5/d3.min.js\", function(){\n",
              "         LDAvis_load_lib(\"https://cdn.rawgit.com/bmabey/pyLDAvis/files/ldavis.v1.0.0.js\", function(){\n",
              "                 new LDAvis(\"#\" + \"ldavis_el621398707138800328201765652\", ldavis_el621398707138800328201765652_data);\n",
              "            })\n",
              "         });\n",
              "}\n",
              "</script>"
            ],
            "text/plain": [
              "PreparedData(topic_coordinates=              x         y  topics  cluster       Freq\n",
              "topic                                                \n",
              "3      0.015071  0.012885       1        1  34.106574\n",
              "1      0.071629  0.053200       2        1  27.676889\n",
              "2      0.009831 -0.097629       3        1  21.711097\n",
              "0     -0.096531  0.031544       4        1  16.505441, topic_info=          Term        Freq       Total Category  logprob  loglift\n",
              "144  vaccinate  968.000000  968.000000  Default  30.0000  30.0000\n",
              "4         dose  586.000000  586.000000  Default  29.0000  29.0000\n",
              "482     brazil  446.000000  446.000000  Default  28.0000  28.0000\n",
              "289        say  458.000000  458.000000  Default  27.0000  27.0000\n",
              "708       plan  292.000000  292.000000  Default  26.0000  26.0000\n",
              "..         ...         ...         ...      ...      ...      ...\n",
              "289        say   52.053155  458.504202   Topic4  -5.6340  -0.3742\n",
              "224       help   40.421502  200.101018   Topic4  -5.8869   0.2020\n",
              "76       covid   53.922208  687.092977   Topic4  -5.5987  -0.7434\n",
              "437       want   43.605284  282.814617   Topic4  -5.8111  -0.0681\n",
              "122         go   40.993447  288.307607   Topic4  -5.8728  -0.1491\n",
              "\n",
              "[319 rows x 6 columns], token_table=      Topic      Freq            Term\n",
              "term                                 \n",
              "1109      1  0.930568              1b\n",
              "495       2  0.942802       1st_shoot\n",
              "1302      2  0.981282    60plus_weeks\n",
              "171       1  0.031773      administer\n",
              "171       2  0.942598      administer\n",
              "...     ...       ...             ...\n",
              "4774      4  0.904126  worlds_largest\n",
              "133       1  0.166439            year\n",
              "133       2  0.242093            year\n",
              "133       3  0.431229            year\n",
              "133       4  0.158874            year\n",
              "\n",
              "[559 rows x 3 columns], R=30, lambda_step=0.01, plot_opts={'xlab': 'PC1', 'ylab': 'PC2'}, topic_order=[4, 2, 3, 1])"
            ]
          },
          "metadata": {
            "tags": []
          }
        }
      ]
    },
    {
      "cell_type": "markdown",
      "metadata": {
        "id": "gWs8bPP0HpN-"
      },
      "source": [
        "Germany"
      ]
    },
    {
      "cell_type": "code",
      "metadata": {
        "colab": {
          "base_uri": "https://localhost:8080/",
          "height": 912
        },
        "id": "4gTT5V8dHo84",
        "outputId": "da2ebd06-46b8-4f6b-ea39-34f9b7375cf6"
      },
      "source": [
        "germany_topics = get_topic_model(country_name=\"Germany\", num_topics=3)"
      ],
      "execution_count": null,
      "outputs": [
        {
          "output_type": "stream",
          "text": [
            "100%|██████████| 7038/7038 [00:00<00:00, 7590.16it/s]\n"
          ],
          "name": "stderr"
        },
        {
          "output_type": "stream",
          "text": [
            "\n",
            "\n"
          ],
          "name": "stdout"
        },
        {
          "output_type": "display_data",
          "data": {
            "text/html": [
              "\n",
              "<link rel=\"stylesheet\" type=\"text/css\" href=\"https://cdn.rawgit.com/bmabey/pyLDAvis/files/ldavis.v1.0.0.css\">\n",
              "\n",
              "\n",
              "<div id=\"ldavis_el621398707060794488623623298\"></div>\n",
              "<script type=\"text/javascript\">\n",
              "\n",
              "var ldavis_el621398707060794488623623298_data = {\"mdsDat\": {\"x\": [-0.05109958117297355, -0.041566108347820395, 0.09266568952079395], \"y\": [0.060590708443556525, -0.06489400975945497, 0.004303301315898462], \"topics\": [1, 2, 3], \"cluster\": [1, 1, 1], \"Freq\": [42.961853158912064, 31.788625572548867, 25.249521268539066]}, \"tinfo\": {\"Term\": [\"vaccinate\", \"people\", \"pfizer\", \"dose\", \"moderna\", \"astrazeneca\", \"biontech\", \"go\", \"german\", \"effective\", \"vaccines\", \"get\", \"vaccination\", \"freeworldnews_today\", \"hashtag_fwn\", \"research\", \"mrna\", \"variants\", \"covid19\", \"news\", \"covid\", \"variant\", \"coronavirus\", \"take\", \"die\", \"company\", \"know\", \"sarscov2\", \"distribution\", \"countries\", \"passport\", \"trade\", \"light\", \"outbreak\", \"appointment\", \"digital\", \"launch\", \"weird\", \"hi\", \"smart\", \"block\", \"grandparents\", \"fuckeu\", \"prophylaxis_healthcare\", \"protocols_additionally\", \"pass_treat\", \"especially_icus\", \"sdcollins\", \"heart\", \"ridiculous\", \"deserve\", \"drkory\", \"workers_background\", \"thread_listen\", \"wearamask\", \"stan\", \"june\", \"annual\", \"wow\", \"manipulate\", \"center\", \"az\", \"depend\", \"apply\", \"biotech\", \"spring\", \"mom\", \"go\", \"hopefully\", \"steal\", \"get\", \"england\", \"affect\", \"come\", \"vaccination\", \"covid\", \"family\", \"sound\", \"shit\", \"week\", \"program\", \"vaccine\", \"flu\", \"rollout\", \"turn\", \"let\", \"know\", \"want\", \"wait\", \"year\", \"today\", \"thank\", \"work\", \"hope\", \"try\", \"months\", \"germany\", \"good\", \"soon\", \"start\", \"covid19\", \"need\", \"think\", \"like\", \"say\", \"vaccinate\", \"time\", \"people\", \"eu\", \"virus\", \"dose\", \"pfizer\", \"uk\", \"vaccines\", \"biden_inherit\", \"kensche\", \"unlikely\", \"nonexistent\", \"adult_population\", \"care_home\", \"mexico\", \"allergic_reactions\", \"admin\", \"stupid\", \"feature\", \"poorest\", \"harm\", \"professionals\", \"technically\", \"en\", \"coincidence\", \"source_cnnpolitics\", \"startup_found\", \"ahin_zlem\", \"immigrants_youur\", \"children_turkish\", \"firm_invent\", \"immense\", \"clever\", \"palestinian_authority\", \"essential_antiinfectious\", \"explanation\", \"ship_fewer\", \"vials_account\", \"regime\", \"brexit\", \"herdimmunity\", \"older\", \"member_state\", \"truly\", \"economic\", \"select\", \"younger\", \"mutate\", \"vulnerable\", \"similar\", \"people\", \"vaccinate\", \"age\", \"take\", \"die\", \"perfect\", \"question\", \"life\", \"choose\", \"distribution\", \"infection\", \"fully\", \"elderly\", \"number\", \"vaccines\", \"live\", \"deaths\", \"help\", \"infect\", \"long\", \"stop\", \"give\", \"plan\", \"vaccine\", \"end\", \"countries\", \"reason\", \"time\", \"eu\", \"lot\", \"covid19\", \"virus\", \"coronavirus\", \"days\", \"risk\", \"germany\", \"like\", \"dose\", \"new\", \"vaccination\", \"need\", \"think\", \"know\", \"covid\", \"uk\", \"test\", \"pfizer\", \"deliveries\", \"boris_johnson\", \"south_african\", \"call_ivermectin\", \"dr_lawrie\", \"news_solid\", \"debt\", \"interval\", \"gate_foundation\", \"concern_raise\", \"shipments\", \"et\", \"colorado\", \"cnn\", \"republic_south\", \"induce\", \"dollars\", \"proteins\", \"chancellor\", \"pa\", \"mild\", \"astrazeneca\", \"louisa_power\", \"rascal\", \"lefty_rowley\", \"femme_bold\", \"azn\", \"vaccineelicited\", \"c19\", \"covid19vaccine\", \"freeworldnews_today\", \"hashtag_fwn\", \"bntx_pfe\", \"bidens\", \"variant\", \"2021\", \"review\", \"variants\", \"moderna\", \"effective\", \"research\", \"biontech\", \"emerge\", \"pfizer\", \"sarscov2\", \"team\", \"german\", \"dose\", \"pfizerbiontech\", \"mrna\", \"company\", \"fund\", \"news\", \"covid19\", \"study\", \"vaccine\", \"delay\", \"use\", \"money\", \"coronavirus\", \"new\", \"vaccines\", \"produce\", \"uk\", \"say\", \"vaccination\", \"health\", \"report\", \"countries\", \"government\", \"eu\", \"vaccinate\", \"need\", \"people\", \"think\"], \"Freq\": [1146.0, 909.0, 468.0, 539.0, 162.0, 107.0, 186.0, 267.0, 193.0, 121.0, 475.0, 486.0, 1221.0, 65.0, 65.0, 94.0, 195.0, 80.0, 944.0, 167.0, 558.0, 59.0, 314.0, 154.0, 136.0, 117.0, 275.0, 63.0, 87.0, 233.0, 19.602240173642954, 16.89465132595452, 21.93860540182972, 15.17477895987475, 36.21631437315002, 21.853104025082583, 13.401660361798928, 11.675082291365166, 11.668296930827617, 10.833653829903934, 11.624256036664006, 9.942874436014502, 9.094960727101666, 9.092166590127663, 9.090993063817763, 9.090678926755839, 9.090515126716408, 9.078375412150178, 9.072622777203701, 10.711883085521562, 9.86655034914785, 8.21513013173835, 8.214444078833472, 8.213520740255031, 9.030994567867472, 8.204524640144195, 14.751342394927141, 9.817473164730757, 12.268327888971735, 8.168875693206257, 48.212517666476195, 53.72570388133707, 19.54732228371024, 22.723797719616236, 21.90917524679979, 14.663263972354155, 16.235834104343713, 230.0165778486167, 24.7880147918778, 18.53774971601824, 378.5202964472407, 29.646196062757927, 22.13062168093052, 130.74668138150565, 843.7313643608162, 400.4462376378026, 33.28380451104236, 27.56500661380786, 30.211653993401193, 78.23650842292038, 37.40039120065865, 2019.1186581173483, 53.50171966851323, 106.68738155135281, 51.58596377171676, 85.25900654084403, 177.01695242152059, 165.69927620660476, 108.29726219095427, 99.33987722916301, 84.06314957351326, 74.78912342864763, 174.82278582208585, 97.12948320664376, 77.24828707817649, 59.807523055002804, 200.5577017158838, 124.954676085826, 91.94543185457718, 121.52404805997071, 388.4143573495865, 178.09586064836952, 168.31244779457782, 167.37678606796607, 164.39368667587175, 351.83228870756653, 145.19777606031852, 264.52238001821416, 153.32021163755073, 100.59051970009325, 126.76032694241825, 117.34253372732712, 98.3818579190869, 105.90871655294583, 13.375337053616752, 15.023946422353243, 13.972849907423436, 12.294488420416219, 9.009822187975928, 24.51488875346006, 8.15198078971206, 8.904689458667995, 7.260623430983282, 20.908493706591155, 6.409154581154269, 6.395093716777327, 6.374060944886526, 6.372637674608201, 6.362416194913238, 6.350197820115032, 6.344416329386894, 5.548079798385253, 5.53914793687482, 5.537696026862111, 5.537629200815214, 5.536170234636062, 5.535753920815951, 5.533466477682721, 5.528685302314968, 5.523438419962006, 5.516524622054145, 8.66981458191218, 5.5082120429162, 5.50701581516988, 8.655218279022831, 14.765478215425206, 10.165608138933631, 25.041497926303034, 19.82702745129259, 10.84473925491274, 20.64519908181641, 6.280062016087716, 16.24550829661399, 16.897652481430626, 58.63757327486457, 16.81674730713751, 572.4572667913382, 687.4994637360664, 51.50363957673984, 106.5302620116253, 92.24866746616478, 10.554635348342428, 64.87569592802942, 43.02961203004064, 26.566375341126243, 58.588628383870095, 38.70677534945607, 35.161275849123655, 52.07844651707161, 93.26415773508822, 232.3025471284961, 85.39221211750156, 65.40899600693439, 76.60706906084057, 47.20010192644428, 62.99999089850573, 63.56573274030188, 94.6562779440495, 95.72971843262259, 1019.7837121050397, 85.6665757920816, 111.58927766867119, 53.47290107191954, 138.29912230645638, 141.27215585344152, 60.026890940542316, 250.57892804511727, 102.74189424316349, 117.28362059055803, 65.04121200920383, 77.20589021091943, 120.69189840701347, 113.07470530211992, 147.61289010915124, 92.9636214939669, 201.2217311330669, 107.05038615243895, 101.79193832760959, 91.24284663567933, 113.697148837174, 90.01614289142502, 79.67911473534764, 79.5838614691965, 27.492531077192858, 9.847160396701314, 10.640088313575466, 9.001698239263696, 9.001665929977142, 9.001554495907191, 8.116609071554302, 8.92201826363619, 8.879782113631887, 7.230606012596669, 7.994261056479783, 7.985361496467168, 7.183679081683295, 11.965344695085065, 6.351667478050029, 10.320916081053687, 7.934434807753059, 6.337742834918488, 10.289998731314373, 14.221237107120341, 7.102112639344957, 97.06988337294794, 6.308814154735227, 6.308698105052911, 6.305064958748583, 6.301697539841832, 12.590543896113546, 5.506188836282536, 5.497108278327899, 17.272039511853876, 58.611372077427816, 58.59437607395407, 11.773010809095602, 11.685486929940641, 49.821521214485756, 9.339095546894661, 17.387293990096822, 63.50023396925671, 122.01147099580243, 87.94718619616665, 69.43470349875359, 127.17930049896252, 22.150033614683146, 271.9569656227198, 45.577489382446224, 33.289906369482736, 113.86065825850504, 265.6248940566513, 33.51858226848659, 104.53319669226256, 68.71917280750593, 25.11701518012471, 89.27086997260623, 305.39507798649134, 49.2947611564819, 901.6429849686178, 61.10876651585566, 70.9815244393592, 41.24162005181019, 118.97005147163343, 91.78023335326931, 137.59225914367636, 49.39183671573931, 93.8450948007484, 100.79912936420442, 176.88752557359442, 68.73880630375959, 49.049680052387, 72.13338611115869, 64.53635718288814, 78.33340368872258, 106.93422241949801, 65.17972079669187, 72.3151832134924, 61.781459049372], \"Total\": [1146.0, 909.0, 468.0, 539.0, 162.0, 107.0, 186.0, 267.0, 193.0, 121.0, 475.0, 486.0, 1221.0, 65.0, 65.0, 94.0, 195.0, 80.0, 944.0, 167.0, 558.0, 59.0, 314.0, 154.0, 136.0, 117.0, 275.0, 63.0, 87.0, 233.0, 20.25511310994464, 17.609241471547016, 22.894724724429008, 15.849188835169281, 37.87238237638133, 22.89444307398714, 14.085516750689608, 12.325055732433055, 12.324900320541468, 11.444816711487062, 12.323463637883416, 10.563423921063384, 9.682973888083264, 9.682910488645009, 9.682907206171725, 9.682880236278736, 9.682842195927334, 9.682706143712792, 9.6826832823373, 11.443126872960125, 10.561536758188089, 8.801835565155066, 8.801774097535707, 8.80173039743083, 9.681514741707694, 8.801615781538661, 15.842517985624092, 10.560761299587009, 13.20368337986796, 8.800313573459908, 51.944260116684724, 58.12003485544011, 21.12555396518554, 24.651921621922693, 23.76448904984116, 15.842455347137559, 17.603692237799528, 267.66229952276075, 27.282608412501805, 20.242031450243086, 486.37035478155593, 33.4358755656011, 24.646618671141002, 160.1145982346728, 1221.8406210674775, 558.4772558118102, 38.732856723881035, 31.67188748189948, 35.20176632098614, 100.28892552978242, 44.877170421607794, 3940.545355191006, 66.89162777068952, 148.52474611784143, 65.12169823589907, 117.89305198375669, 275.27077643040104, 257.4151728594629, 158.3502816825296, 144.19055759423082, 118.734020210398, 103.74076369862915, 291.63633850388226, 144.14795135330934, 109.90177791772793, 80.90128413443064, 366.3445971261577, 204.53677316445922, 140.62420809766974, 201.26926992483604, 944.3883633811952, 350.3259675975003, 331.8858451715594, 330.2035673996767, 338.6392803868695, 1146.2659748631309, 324.01646784518545, 909.2948300230448, 372.92577117971484, 249.23062772272573, 539.9981111082209, 468.8833608192434, 282.2430956112603, 475.80352282511825, 14.025753772773172, 15.776594834836859, 14.901314824730107, 13.148775916755191, 9.641875958950132, 26.30538084498884, 8.764187609912051, 9.641313955593871, 7.886413894776801, 22.797510785012516, 7.010466063505225, 7.010480427966995, 7.009450919423335, 7.010782985218642, 7.010793738138518, 7.0096992440953025, 7.010290187291069, 6.134314168407843, 6.134073838323672, 6.134088775863393, 6.134088548972429, 6.134088111934742, 6.13404097105902, 6.134182438965919, 6.133221171656053, 6.134199863591743, 6.133297020193462, 9.639855912889567, 6.132274596781762, 6.132243652339659, 9.640618018836525, 16.65834705966706, 11.395889431422152, 28.917337545534735, 22.803089411578895, 12.264990693216344, 24.533439809804847, 7.009221918086263, 19.293951078652757, 20.15879159521819, 77.21742363492862, 20.168930260881467, 909.2948300230448, 1146.2659748631309, 68.43728258119765, 154.28841049408484, 136.0690914678313, 12.274129160197445, 92.87757832071387, 60.57368647974171, 35.03088378433024, 87.53087317596174, 54.398135919611576, 49.0817460197225, 78.98057690071295, 158.90215115537282, 475.80352282511825, 144.74877760506882, 105.33770587670121, 129.0467214232562, 71.09176468020367, 101.8906967887897, 103.53603688935995, 176.41475505815964, 179.78288927555425, 3940.545355191006, 157.08617609374588, 233.03658637446102, 87.78803648490766, 324.01646784518545, 372.92577117971484, 108.7988995207107, 944.3883633811952, 249.23062772272573, 314.4362655899411, 124.55172878821764, 166.70286282410243, 366.3445971261577, 330.2035673996767, 539.9981111082209, 247.0050082518057, 1221.8406210674775, 350.3259675975003, 331.8858451715594, 275.27077643040104, 558.4772558118102, 282.2430956112603, 195.72226331600996, 468.8833608192434, 28.76412100197923, 10.459018890827034, 11.331846546387425, 9.588534908791935, 9.588556053461584, 9.588528544798029, 8.71714424455909, 9.587474326404376, 9.587514168664535, 7.8453740201272915, 8.71704283256307, 8.71671673578211, 7.845427987933718, 13.073480234602483, 6.974277787881162, 11.332883916301318, 8.715564930952954, 6.973166857195236, 11.331418334883216, 15.695770993694621, 7.843968704983678, 107.26804037125473, 6.973904296647964, 6.973912716550393, 6.9739215097420155, 6.973937519260813, 13.948197693410021, 6.1024738202735636, 6.102282544240996, 19.18054200604572, 65.40230603633854, 65.40238449978584, 13.07663098380271, 13.077053282861744, 59.33234733504944, 10.459959424843138, 20.059078138662453, 80.29904990572928, 162.3764718125837, 121.33996114838376, 94.35514469948858, 186.06673213538784, 27.050840901060468, 468.8833608192434, 63.79311702543785, 44.520280114352005, 193.41417293626336, 539.9981111082209, 48.07303054814562, 195.95761475444246, 117.22646243109853, 34.068289756379876, 167.10789705154514, 944.3883633811952, 85.7112942926739, 3940.545355191006, 115.52887748716654, 143.55810342131656, 70.81516566867636, 314.4362655899411, 247.0050082518057, 475.80352282511825, 98.02621703821808, 282.2430956112603, 338.6392803868695, 1221.8406210674775, 191.88807380293667, 99.75631760664325, 233.03658637446102, 184.1512129402738, 372.92577117971484, 1146.2659748631309, 350.3259675975003, 909.2948300230448, 331.8858451715594], \"Category\": [\"Default\", \"Default\", \"Default\", \"Default\", \"Default\", \"Default\", \"Default\", \"Default\", \"Default\", \"Default\", \"Default\", \"Default\", \"Default\", \"Default\", \"Default\", \"Default\", \"Default\", \"Default\", \"Default\", \"Default\", \"Default\", \"Default\", \"Default\", \"Default\", \"Default\", \"Default\", \"Default\", \"Default\", \"Default\", \"Default\", \"Topic1\", \"Topic1\", \"Topic1\", \"Topic1\", \"Topic1\", \"Topic1\", \"Topic1\", \"Topic1\", \"Topic1\", \"Topic1\", \"Topic1\", \"Topic1\", \"Topic1\", \"Topic1\", \"Topic1\", \"Topic1\", \"Topic1\", \"Topic1\", \"Topic1\", \"Topic1\", \"Topic1\", \"Topic1\", \"Topic1\", \"Topic1\", \"Topic1\", \"Topic1\", \"Topic1\", \"Topic1\", \"Topic1\", \"Topic1\", \"Topic1\", \"Topic1\", \"Topic1\", \"Topic1\", \"Topic1\", \"Topic1\", \"Topic1\", \"Topic1\", \"Topic1\", \"Topic1\", \"Topic1\", \"Topic1\", \"Topic1\", \"Topic1\", \"Topic1\", \"Topic1\", \"Topic1\", \"Topic1\", \"Topic1\", \"Topic1\", \"Topic1\", \"Topic1\", \"Topic1\", \"Topic1\", \"Topic1\", \"Topic1\", \"Topic1\", \"Topic1\", \"Topic1\", \"Topic1\", \"Topic1\", \"Topic1\", \"Topic1\", \"Topic1\", \"Topic1\", \"Topic1\", \"Topic1\", \"Topic1\", \"Topic1\", \"Topic1\", \"Topic1\", \"Topic1\", \"Topic1\", \"Topic1\", \"Topic1\", \"Topic1\", \"Topic1\", \"Topic1\", \"Topic1\", \"Topic1\", \"Topic1\", \"Topic1\", \"Topic1\", \"Topic1\", \"Topic2\", \"Topic2\", \"Topic2\", \"Topic2\", \"Topic2\", \"Topic2\", \"Topic2\", \"Topic2\", \"Topic2\", \"Topic2\", \"Topic2\", \"Topic2\", \"Topic2\", \"Topic2\", \"Topic2\", \"Topic2\", \"Topic2\", \"Topic2\", \"Topic2\", \"Topic2\", \"Topic2\", \"Topic2\", \"Topic2\", \"Topic2\", \"Topic2\", \"Topic2\", \"Topic2\", \"Topic2\", \"Topic2\", \"Topic2\", \"Topic2\", \"Topic2\", \"Topic2\", \"Topic2\", \"Topic2\", \"Topic2\", \"Topic2\", \"Topic2\", \"Topic2\", \"Topic2\", \"Topic2\", \"Topic2\", \"Topic2\", \"Topic2\", \"Topic2\", \"Topic2\", \"Topic2\", \"Topic2\", \"Topic2\", \"Topic2\", \"Topic2\", \"Topic2\", \"Topic2\", \"Topic2\", \"Topic2\", \"Topic2\", \"Topic2\", \"Topic2\", \"Topic2\", \"Topic2\", \"Topic2\", \"Topic2\", \"Topic2\", \"Topic2\", \"Topic2\", \"Topic2\", \"Topic2\", \"Topic2\", \"Topic2\", \"Topic2\", \"Topic2\", \"Topic2\", \"Topic2\", \"Topic2\", \"Topic2\", \"Topic2\", \"Topic2\", \"Topic2\", \"Topic2\", \"Topic2\", \"Topic2\", \"Topic2\", \"Topic2\", \"Topic2\", \"Topic2\", \"Topic2\", \"Topic2\", \"Topic2\", \"Topic2\", \"Topic3\", \"Topic3\", \"Topic3\", \"Topic3\", \"Topic3\", \"Topic3\", \"Topic3\", \"Topic3\", \"Topic3\", \"Topic3\", \"Topic3\", \"Topic3\", \"Topic3\", \"Topic3\", \"Topic3\", \"Topic3\", \"Topic3\", \"Topic3\", \"Topic3\", \"Topic3\", \"Topic3\", \"Topic3\", \"Topic3\", \"Topic3\", \"Topic3\", \"Topic3\", \"Topic3\", \"Topic3\", \"Topic3\", \"Topic3\", \"Topic3\", \"Topic3\", \"Topic3\", \"Topic3\", \"Topic3\", \"Topic3\", \"Topic3\", \"Topic3\", \"Topic3\", \"Topic3\", \"Topic3\", \"Topic3\", \"Topic3\", \"Topic3\", \"Topic3\", \"Topic3\", \"Topic3\", \"Topic3\", \"Topic3\", \"Topic3\", \"Topic3\", \"Topic3\", \"Topic3\", \"Topic3\", \"Topic3\", \"Topic3\", \"Topic3\", \"Topic3\", \"Topic3\", \"Topic3\", \"Topic3\", \"Topic3\", \"Topic3\", \"Topic3\", \"Topic3\", \"Topic3\", \"Topic3\", \"Topic3\", \"Topic3\", \"Topic3\", \"Topic3\", \"Topic3\", \"Topic3\", \"Topic3\", \"Topic3\"], \"logprob\": [30.0, 29.0, 28.0, 27.0, 26.0, 25.0, 24.0, 23.0, 22.0, 21.0, 20.0, 19.0, 18.0, 17.0, 16.0, 15.0, 14.0, 13.0, 12.0, 11.0, 10.0, 9.0, 8.0, 7.0, 6.0, 5.0, 4.0, 3.0, 2.0, 1.0, -7.584000110626221, -7.732699871063232, -7.471399784088135, -7.840000152587891, -6.970200061798096, -7.475299835205078, -7.964300155639648, -8.10219955444336, -8.102800369262695, -8.177000045776367, -8.106599807739258, -8.262800216674805, -8.35200023651123, -8.352299690246582, -8.352399826049805, -8.352399826049805, -8.352399826049805, -8.353799819946289, -8.354399681091309, -8.188300132751465, -8.270500183105469, -8.453700065612793, -8.453800201416016, -8.453900337219238, -8.359000205993652, -8.454999923706055, -7.868299961090088, -8.275500297546387, -8.05270004272461, -8.459400177001953, -6.684100151062012, -6.575799942016602, -7.5868000984191895, -7.436299800872803, -7.472799777984619, -7.874300003051758, -7.772500038146973, -5.121500015258789, -7.349299907684326, -7.639900207519531, -4.6234002113342285, -7.170300006866455, -7.462699890136719, -5.686399936676025, -3.8217999935150146, -4.5671000480651855, -7.054599761962891, -7.243100166320801, -7.151500225067139, -6.199900150299072, -6.938000202178955, -2.9493000507354736, -6.579999923706055, -5.889800071716309, -6.616399765014648, -6.113999843597412, -5.383399963378906, -5.44950008392334, -5.874800205230713, -5.961100101470947, -6.1280999183654785, -6.244999885559082, -5.395899772644043, -5.98360013961792, -6.212699890136719, -6.468500137329102, -5.258600234985352, -5.7316999435424805, -6.03849983215332, -5.7596001625061035, -4.597599983215332, -5.377399921417236, -5.433899879455566, -5.4394001960754395, -5.457399845123291, -4.696499824523926, -5.581600189208984, -4.981800079345703, -5.527200222015381, -5.948599815368652, -5.717400074005127, -5.794600009918213, -5.970799922943115, -5.89709997177124, -7.66510009765625, -7.548799991607666, -7.621399879455566, -7.749300003051758, -8.060199737548828, -7.059199810028076, -8.160200119018555, -8.071900367736816, -8.276000022888184, -7.218299865722656, -8.400699615478516, -8.402899742126465, -8.406200408935547, -8.406499862670898, -8.408100128173828, -8.40999984741211, -8.410900115966797, -8.545000076293945, -8.546600341796875, -8.546899795532227, -8.546899795532227, -8.547200202941895, -8.547200202941895, -8.547699928283691, -8.548500061035156, -8.549500465393066, -8.550700187683105, -8.098600387573242, -8.552200317382812, -8.552499771118164, -8.100299835205078, -7.566199779510498, -7.939499855041504, -7.037899971008301, -7.271399974822998, -7.874800205230713, -7.230999946594238, -8.421099662780762, -7.470699787139893, -7.431300163269043, -6.187099933624268, -7.436100006103516, -3.9084999561309814, -3.725399971008301, -6.316800117492676, -5.590000152587891, -5.734000205993652, -7.901899814605713, -6.085999965667725, -6.496600151062012, -6.978799819946289, -6.187900066375732, -6.602499961853027, -6.698500156402588, -6.305699825286865, -5.7230000495910645, -4.810400009155273, -5.811200141906738, -6.0777997970581055, -5.9197998046875, -6.404099941253662, -6.115300178527832, -6.106400012969971, -5.708199977874756, -5.696899890899658, -3.3310999870300293, -5.808000087738037, -5.543700218200684, -6.279300212860107, -5.329100131988525, -5.307799816131592, -6.163700103759766, -4.7347002029418945, -5.626299858093262, -5.493899822235107, -6.083499908447266, -5.9120001792907715, -5.465199947357178, -5.530399799346924, -5.263899803161621, -5.72629976272583, -4.954100131988525, -5.58519983291626, -5.635499954223633, -5.744999885559082, -5.524899959564209, -5.758500099182129, -5.880499839782715, -5.881700038909912, -6.714300155639648, -7.741000175476074, -7.66349983215332, -7.8308000564575195, -7.8308000564575195, -7.8308000564575195, -7.934299945831299, -7.839700222015381, -7.844399929046631, -8.04990005493164, -7.94950008392334, -7.9506001472473145, -8.056400299072266, -7.546199798583984, -8.179499626159668, -7.693999767303467, -7.956999778747559, -8.181699752807617, -7.697000026702881, -7.3734002113342285, -8.06779956817627, -5.452700138092041, -8.186200141906738, -8.186200141906738, -8.186800003051758, -8.187399864196777, -7.495200157165527, -8.32229995727539, -8.324000358581543, -7.179100036621094, -5.957200050354004, -5.957499980926514, -7.562399864196777, -7.569799900054932, -6.119699954986572, -7.794000148773193, -7.172399997711182, -5.877099990844727, -5.224100112915039, -5.551400184631348, -5.787799835205078, -5.182600021362305, -6.930300235748291, -4.422500133514404, -6.208799839019775, -6.522900104522705, -5.2932000160217285, -4.446100234985352, -6.51609992980957, -5.378699779510498, -5.798099994659424, -6.804599761962891, -5.536499977111816, -4.306600093841553, -6.13040018081665, -3.2239999771118164, -5.915500164031982, -5.7657999992370605, -6.308700084686279, -5.249300003051758, -5.508800029754639, -5.103899955749512, -6.128399848937988, -5.486499786376953, -5.414999961853027, -4.852700233459473, -5.797900199890137, -6.135300159454346, -5.74970006942749, -5.860899925231934, -5.667200088500977, -5.355999946594238, -5.85099983215332, -5.747099876403809, -5.904600143432617], \"loglift\": [30.0, 29.0, 28.0, 27.0, 26.0, 25.0, 24.0, 23.0, 22.0, 21.0, 20.0, 19.0, 18.0, 17.0, 16.0, 15.0, 14.0, 13.0, 12.0, 11.0, 10.0, 9.0, 8.0, 7.0, 6.0, 5.0, 4.0, 3.0, 2.0, 1.0, 0.8121, 0.8034, 0.8022, 0.8014, 0.8001, 0.7983, 0.7951, 0.7907, 0.7901, 0.79, 0.7864, 0.7843, 0.7822, 0.7819, 0.7818, 0.7817, 0.7817, 0.7804, 0.7798, 0.7788, 0.7768, 0.7759, 0.7758, 0.7757, 0.7753, 0.7746, 0.7735, 0.7719, 0.7714, 0.7704, 0.7703, 0.7662, 0.7672, 0.7634, 0.7636, 0.7675, 0.764, 0.6933, 0.749, 0.7569, 0.5942, 0.7246, 0.7372, 0.6422, 0.4746, 0.5122, 0.6932, 0.706, 0.692, 0.5965, 0.6626, 0.1762, 0.6215, 0.514, 0.6118, 0.5208, 0.4033, 0.4043, 0.4649, 0.4723, 0.4995, 0.5176, 0.3331, 0.4501, 0.4923, 0.5428, 0.2424, 0.3521, 0.42, 0.3403, -0.0436, 0.1683, 0.1659, 0.1654, 0.1222, -0.3363, 0.0422, -0.3899, -0.044, -0.0625, -0.6044, -0.5404, -0.2091, -0.6576, 1.0986, 1.0972, 1.0817, 1.0789, 1.0783, 1.0756, 1.0736, 1.0666, 1.0634, 1.0596, 1.0564, 1.0542, 1.051, 1.0506, 1.049, 1.0473, 1.0463, 1.0456, 1.044, 1.0438, 1.0438, 1.0435, 1.0434, 1.043, 1.0423, 1.0412, 1.0401, 1.04, 1.0387, 1.0385, 1.0382, 1.0254, 1.0318, 1.0022, 1.0062, 1.023, 0.9735, 1.0362, 0.9741, 0.9696, 0.8708, 0.9643, 0.6833, 0.6349, 0.8618, 0.7757, 0.7574, 0.9951, 0.7873, 0.8041, 0.8695, 0.7446, 0.8057, 0.8125, 0.7296, 0.6132, 0.4291, 0.6183, 0.6696, 0.6246, 0.7365, 0.6653, 0.6582, 0.5235, 0.5158, -0.2057, 0.5397, 0.4097, 0.6503, 0.2947, 0.1754, 0.5514, -0.1807, 0.2599, 0.1599, 0.4964, 0.3763, 0.0357, 0.0744, -0.1509, 0.1689, -0.6576, -0.0395, -0.0358, 0.0418, -0.4456, 0.0033, 0.2474, -0.6275, 1.3311, 1.3161, 1.3134, 1.3132, 1.3132, 1.3132, 1.305, 1.3044, 1.2997, 1.2948, 1.2898, 1.2887, 1.2882, 1.2878, 1.2829, 1.2828, 1.2825, 1.2808, 1.28, 1.2777, 1.277, 1.2765, 1.2761, 1.2761, 1.2755, 1.275, 1.274, 1.2735, 1.2719, 1.2716, 1.2667, 1.2664, 1.2713, 1.2639, 1.2017, 1.263, 1.2334, 1.1416, 1.0906, 1.0545, 1.0697, 0.9959, 1.1765, 0.8317, 1.0401, 1.0857, 0.8465, 0.6669, 1.0157, 0.748, 0.8423, 1.0715, 0.7494, 0.2474, 0.8232, -0.0985, 0.7395, 0.672, 0.8357, 0.4045, 0.3864, 0.1357, 0.6909, 0.2752, 0.1646, -0.5562, 0.3498, 0.6665, 0.2037, 0.3278, -0.184, -0.9957, -0.3054, -1.1553, -0.3048]}, \"token.table\": {\"Topic\": [1, 2, 3, 2, 2, 1, 2, 3, 1, 2, 3, 2, 2, 1, 1, 2, 1, 2, 1, 2, 3, 1, 2, 3, 2, 3, 2, 2, 3, 1, 2, 3, 1, 3, 1, 2, 3, 3, 1, 2, 3, 3, 1, 2, 1, 2, 3, 2, 3, 2, 1, 2, 3, 2, 2, 3, 2, 3, 1, 2, 3, 1, 2, 3, 3, 1, 2, 3, 1, 2, 3, 1, 2, 3, 1, 2, 3, 1, 2, 3, 1, 2, 3, 1, 2, 3, 3, 1, 2, 3, 2, 3, 1, 2, 3, 1, 1, 2, 3, 1, 2, 1, 2, 3, 3, 1, 2, 3, 3, 1, 1, 2, 3, 1, 2, 3, 1, 2, 3, 1, 2, 3, 2, 1, 2, 3, 1, 3, 1, 2, 3, 1, 2, 3, 1, 2, 1, 2, 2, 3, 2, 1, 2, 1, 2, 3, 1, 1, 2, 3, 1, 2, 3, 3, 1, 2, 3, 1, 2, 3, 1, 2, 3, 1, 2, 3, 1, 2, 3, 1, 2, 3, 1, 2, 3, 1, 2, 1, 2, 3, 1, 2, 3, 1, 1, 2, 3, 1, 2, 1, 1, 2, 3, 1, 3, 2, 2, 1, 3, 1, 2, 3, 1, 2, 3, 3, 1, 3, 2, 1, 2, 3, 1, 3, 1, 2, 3, 1, 2, 3, 1, 3, 1, 2, 3, 1, 2, 3, 1, 2, 3, 1, 2, 3, 3, 1, 1, 2, 2, 3, 1, 2, 3, 1, 2, 3, 1, 2, 3, 1, 2, 3, 1, 2, 3, 1, 2, 3, 1, 2, 3, 1, 2, 3, 1, 2, 3, 3, 1, 2, 1, 2, 3, 1, 2, 3, 1, 1, 3, 2, 1, 1, 1, 2, 3, 1, 2, 1, 2, 3, 1, 2, 3, 1, 2, 3, 2, 1, 2, 3, 2, 1, 2, 3, 1, 3, 1, 1, 2, 3, 3, 1, 2, 3, 1, 2, 1, 2, 3, 3, 1, 2, 3, 1, 2, 3, 1, 1, 2, 3, 1, 2, 3, 1, 2, 3, 1, 2, 3, 1, 2, 2, 3, 1, 2, 3, 1, 2, 3, 1, 1, 2, 3, 1, 2, 3, 2, 3, 1, 2, 3, 1, 1, 2, 3, 2, 1, 3, 1, 2, 3, 1, 2, 3, 1, 2, 1, 2, 3, 1, 2, 3, 2, 1, 2, 3, 1, 2, 3, 1, 2, 3, 1, 1, 2, 3, 1, 2, 3, 1, 2, 3, 1, 2, 3, 1, 2, 3, 1, 2, 3, 1, 2, 1, 2, 3, 1, 2, 3, 1, 2, 3, 1, 2, 3, 3, 1, 2, 3, 1, 2, 3, 1, 2, 3, 2, 1, 2, 3, 1, 2, 3, 1, 2, 3, 1, 2, 3, 1, 1, 2, 3, 1, 1, 2, 3, 1, 1, 2, 1, 2, 3, 1, 2], \"Freq\": [0.09560266530527163, 0.09560266530527163, 0.8604239877474447, 0.8876024126296648, 0.9334283119091252, 0.8926173725307011, 0.08114703386642737, 0.040573516933213684, 0.20456685993324839, 0.7598197654663512, 0.0438357556999818, 0.9781403920349164, 0.9334827225264476, 0.9469014322282866, 0.9329901478976934, 0.0811295780780603, 0.9505607448252577, 0.026404465134034934, 0.037289764837280505, 0.055934647255920754, 0.9042767973040522, 0.9291116244908021, 0.06882308329561497, 0.017205770823903743, 0.07169385048739745, 0.9320200563361668, 0.926866406655137, 0.07646982683098488, 0.9176379219718186, 0.09673948584695222, 0.22035105109583558, 0.6825508168090517, 0.9257510209396674, 0.08415918372178795, 0.9737522138752404, 0.07647229636124503, 0.9176675563349403, 0.9561126243657891, 0.1200599310865824, 0.900449483149368, 0.8193655347405586, 0.9386209765735645, 0.038015036006996246, 0.9503759001749061, 0.9240674502279067, 0.01925140521308139, 0.05775421563924417, 0.08825020579476349, 0.8825020579476349, 0.9781404979048387, 0.028546239545555303, 0.7707484677299932, 0.19982367681888713, 0.9782787595738894, 0.07649072642135725, 0.917888717056287, 0.8558846837577964, 0.8922394050096454, 0.8181639990627161, 0.08119184723523137, 0.0999284273664386, 0.2815064049160078, 0.12795745678000356, 0.5886043011880163, 0.8922455426652081, 0.24806298934271287, 0.3720944840140693, 0.3784550734843953, 0.21026741235070723, 0.480611228230188, 0.3089643610051208, 0.7162332858453734, 0.20412648646593143, 0.07878566144299108, 0.41084792554076266, 0.2657804879142563, 0.3229603538400325, 0.052136170066768676, 0.052136170066768676, 0.8863148911350675, 0.29706532667172525, 0.5218715198287065, 0.17663343748048527, 0.3132781345990847, 0.6170629923921366, 0.06645293764223009, 0.9177317451174787, 0.3029545578670403, 0.16446104569925044, 0.5280065151396988, 0.034765533072649464, 0.9386693929615355, 0.9467207360791378, 0.047336036803956885, 0.047336036803956885, 0.9468319079841536, 0.28661909607311636, 0.67612709842889, 0.036746037958091844, 0.9609318701880364, 0.043678721372183475, 0.034273621308097246, 0.6740478857259125, 0.2970380513368428, 0.9178980437158288, 0.23518600785354962, 0.2740750327742153, 0.49259431566176537, 0.9386189067279731, 0.908901324136366, 0.04076069266081259, 0.8559745458770646, 0.12228207798243779, 0.008241308061547208, 0.26372185796951064, 0.7252351094161542, 0.2658881566084184, 0.6583897211256076, 0.0759680447452624, 0.11090228251952018, 0.07393485501301346, 0.813283405143148, 0.8559568379562313, 0.33102849208683677, 0.547470198451307, 0.12095271826249804, 0.8972398506849351, 0.08972398506849351, 0.9294791568311893, 0.9782666615109964, 0.9177767549976714, 0.4102693131558036, 0.3780913278102504, 0.20915690474609597, 0.10373599035467822, 0.933623913192104, 0.8519898295974023, 0.12908936812081853, 0.855863211610785, 0.8603461076944028, 0.9781480150374872, 0.8072759147843857, 0.1943442017073521, 0.015289980745394274, 0.09173988447236564, 0.9021088639782622, 0.9294665155584285, 0.12224503988894408, 0.7130960660188406, 0.1426192132037681, 0.20546966255296478, 0.058705617872275656, 0.7338202234034457, 0.9387209073875745, 0.3619176347695441, 0.05170251925279201, 0.5894087194818289, 0.5486637487676169, 0.3302901174173216, 0.1228351676345411, 0.779241572340939, 0.10074627188576785, 0.12130673553592454, 0.34577606606595795, 0.5385037094469837, 0.11903766208828061, 0.8592917284581644, 0.13076178476537284, 0.007472101986592734, 0.6111370491774253, 0.09778192786838805, 0.29334578360516417, 0.46700751315655237, 0.18463087729445093, 0.3529707948276268, 0.9466627558191695, 0.8559871620434455, 0.015289962401956072, 0.09173977441173643, 0.9021077817154082, 0.30747090650662967, 0.3335277629902424, 0.35958461947385506, 0.9294944115767353, 0.3332126498507907, 0.5966831171746717, 0.06974218252690968, 0.08775093914501107, 0.8775093914501106, 0.9736387060266956, 0.6729197264985832, 0.19424486950474568, 0.13874633536053263, 0.9163346708646877, 0.07330677366917501, 0.978125456766079, 0.978140428214899, 0.08823879317792988, 0.8823879317792988, 0.2813265374684001, 0.6611173630507402, 0.05626530749368002, 0.22059579427010786, 0.7169363313778505, 0.055148948567526966, 0.9387248083902094, 0.946819187051666, 0.06312127913677773, 0.9507755099901513, 0.6430032359237827, 0.3305835845709843, 0.02542950650546033, 0.922933835520343, 0.8603480827276986, 0.7209924467110352, 0.25446792236860066, 0.01696452815790671, 0.2806499156310304, 0.7098791983608417, 0.016508818566531202, 0.9609200488235474, 0.043678184037433974, 0.5057486244473672, 0.3422131410931287, 0.15142174384651713, 0.27634084834302103, 0.5872243027289197, 0.13817042417151051, 0.37294867144515265, 0.6183096395011741, 0.009814438722240859, 0.3125031608755182, 0.5514761662509146, 0.13786904156272864, 0.8603502062516006, 0.9090585162927031, 0.13156112076974394, 0.8770741384649595, 0.9128056536526242, 0.892405396206201, 0.049268221625320616, 0.19707288650128246, 0.7513403797861394, 0.9089002343294778, 0.05680626464559236, 0.05680626464559236, 0.15533395842729245, 0.26830411001077786, 0.5789720268653628, 0.7416445936791343, 0.1606896619638124, 0.09888594582388456, 0.20412577510766614, 0.2602603632622743, 0.5358301596576236, 0.09921229606215158, 0.8433045165282884, 0.09921229606215158, 0.5080982184127137, 0.30542982792224926, 0.18554148425183367, 0.251007056248815, 0.3765105843732225, 0.37246208346598353, 0.23338214822947767, 0.23338214822947767, 0.5325900305749618, 0.938621599544873, 0.07605270683225519, 0.9126324819870623, 0.33983177450630847, 0.5852658338719757, 0.06922499110313692, 0.03458133026338778, 0.8645332565846945, 0.10374399079016333, 0.9464206752786657, 0.06371142904682571, 0.89196000665556, 0.9781226783319764, 0.9294755052613172, 0.9874050019587701, 0.2914346274170325, 0.6290588938963873, 0.07918223839255224, 0.08147217508862467, 0.8961939259748715, 0.24952900822834703, 0.17061812528433984, 0.5801016259667555, 0.27042189460014115, 0.04160336840002172, 0.7072572628003692, 0.27811322980444886, 0.5339774012245417, 0.18911699626702522, 0.855861457948606, 0.27543651908420935, 0.22442975629083722, 0.4998662753750466, 0.8558245224035959, 0.8244726584228885, 0.11141522411120115, 0.044566089644480465, 0.9294726012962893, 0.8604411916242795, 0.9294729163844045, 0.10766861260603913, 0.6998459819392544, 0.19380350269087043, 0.860349167514082, 0.330341139421493, 0.6037269099772115, 0.05695536886577466, 0.10372778986224004, 0.9335501087601604, 0.22053741084098433, 0.2907084051994793, 0.4911969605094651, 0.8603041321964385, 0.20136686834102205, 0.06358953737084906, 0.7312796797647643, 0.049852739646722384, 0.09970547929344477, 0.8474965739942806, 0.961275717915247, 0.35992183327594907, 0.46189968603746795, 0.17996091663797453, 0.7204186695939869, 0.09426038667584875, 0.1885207733516975, 0.23513508509105566, 0.04702701701821113, 0.7210809276125707, 0.48429113070593155, 0.21556861305812805, 0.2982524646420676, 0.9294922169918283, 0.8560151283722214, 0.9784297661994491, 0.9177424217895878, 0.8522299627366989, 0.08522299627366989, 0.05681533084911326, 0.1487436349471956, 0.8428805980341085, 0.04958121164906521, 0.9611337846030681, 0.6542259063681406, 0.22044568584143867, 0.12800072081115793, 0.8840647724579734, 0.03157374187349905, 0.09472122562049716, 0.9781044523119519, 0.9707155806400134, 0.9468229306204247, 0.06312152870802831, 0.06312152870802831, 0.9089240201532035, 0.6061531402462028, 0.3030765701231014, 0.09440089889080208, 0.9781427739773815, 0.9386409682597262, 0.049402156224196116, 0.28009571228798147, 0.6181422616010626, 0.10624320121268263, 0.2216744030853354, 0.1983402553921422, 0.5716866184832333, 0.0877288761418126, 0.9211531994890323, 0.1490714689868542, 0.693506399199713, 0.15555283720367397, 0.06738502076569122, 0.17969338870850993, 0.7412352284226035, 0.8558232097686986, 0.4189610247231003, 0.40874246314448814, 0.17371554683640744, 0.7229559271211636, 0.15423059778584824, 0.1253123607010017, 0.5061981474779587, 0.3073345895401892, 0.18681122109305617, 0.9089121841695071, 0.44750811884438163, 0.425904278624308, 0.12653677843185962, 0.70746362206174, 0.2358212073539133, 0.05895530183847832, 0.9654021740498347, 0.8968616670931516, 0.08153287882665015, 0.7006256082375839, 0.19107971133752288, 0.10918840647858451, 0.7985049746650251, 0.18427037876885194, 0.015355864897404328, 0.34721841392704106, 0.31887405360646626, 0.3330462337667537, 0.06710817211514837, 0.9395144096120771, 0.2855986462824224, 0.21594043987207548, 0.49457326551346315, 0.3070840517987375, 0.599337339732195, 0.09334657256382077, 0.690761123380092, 0.16450590734525886, 0.14486341094582497, 0.5123656291229606, 0.2588474203592966, 0.2289023266314564, 0.9832078230416775, 0.22278103232741372, 0.4875962216977357, 0.2900356835960669, 0.06741685066683814, 0.08427106333354767, 0.8427106333354767, 0.07472068482807671, 0.1369879221848073, 0.7970206381661515, 0.978434703538043, 0.4052471436711406, 0.41327183958542063, 0.18456800602844028, 0.20720712045050077, 0.7640762566612216, 0.0388513350844689, 0.6820322569209257, 0.30944056101042, 0.006315113490008572, 0.6448726318499823, 0.1670453202984894, 0.19035396964246468, 0.9296065998049099, 0.7777528733901595, 0.14956786026733837, 0.06979833479142457, 0.973626429000424, 0.6000623958515047, 0.219451390482836, 0.17830425476730424, 0.9089076714931612, 0.9088373035585471, 0.07573644196321226, 0.6865914221553788, 0.20805800671375116, 0.09709373646641721, 0.15548914723429896, 0.8292754519162612], \"Term\": [\"2021\", \"2021\", \"2021\", \"admin\", \"adult_population\", \"affect\", \"affect\", \"affect\", \"age\", \"age\", \"age\", \"ahin_zlem\", \"allergic_reactions\", \"annual\", \"apply\", \"apply\", \"appointment\", \"appointment\", \"astrazeneca\", \"astrazeneca\", \"astrazeneca\", \"az\", \"az\", \"az\", \"azn\", \"azn\", \"biden_inherit\", \"bidens\", \"bidens\", \"biontech\", \"biontech\", \"biontech\", \"biotech\", \"biotech\", \"block\", \"bntx_pfe\", \"bntx_pfe\", \"boris_johnson\", \"brexit\", \"brexit\", \"c19\", \"call_ivermectin\", \"care_home\", \"care_home\", \"center\", \"center\", \"center\", \"chancellor\", \"chancellor\", \"children_turkish\", \"choose\", \"choose\", \"choose\", \"clever\", \"cnn\", \"cnn\", \"coincidence\", \"colorado\", \"come\", \"come\", \"come\", \"company\", \"company\", \"company\", \"concern_raise\", \"coronavirus\", \"coronavirus\", \"coronavirus\", \"countries\", \"countries\", \"countries\", \"covid\", \"covid\", \"covid\", \"covid19\", \"covid19\", \"covid19\", \"covid19vaccine\", \"covid19vaccine\", \"covid19vaccine\", \"days\", \"days\", \"days\", \"deaths\", \"deaths\", \"deaths\", \"debt\", \"delay\", \"delay\", \"delay\", \"deliveries\", \"deliveries\", \"depend\", \"depend\", \"depend\", \"deserve\", \"die\", \"die\", \"die\", \"digital\", \"digital\", \"distribution\", \"distribution\", \"distribution\", \"dollars\", \"dose\", \"dose\", \"dose\", \"dr_lawrie\", \"drkory\", \"economic\", \"economic\", \"economic\", \"effective\", \"effective\", \"effective\", \"elderly\", \"elderly\", \"elderly\", \"emerge\", \"emerge\", \"emerge\", \"en\", \"end\", \"end\", \"end\", \"england\", \"england\", \"especially_icus\", \"essential_antiinfectious\", \"et\", \"eu\", \"eu\", \"eu\", \"explanation\", \"explanation\", \"family\", \"family\", \"feature\", \"femme_bold\", \"firm_invent\", \"flu\", \"flu\", \"freeworldnews_today\", \"freeworldnews_today\", \"freeworldnews_today\", \"fuckeu\", \"fully\", \"fully\", \"fully\", \"fund\", \"fund\", \"fund\", \"gate_foundation\", \"german\", \"german\", \"german\", \"germany\", \"germany\", \"germany\", \"get\", \"get\", \"get\", \"give\", \"give\", \"give\", \"go\", \"go\", \"go\", \"good\", \"good\", \"good\", \"government\", \"government\", \"government\", \"grandparents\", \"harm\", \"hashtag_fwn\", \"hashtag_fwn\", \"hashtag_fwn\", \"health\", \"health\", \"health\", \"heart\", \"help\", \"help\", \"help\", \"herdimmunity\", \"herdimmunity\", \"hi\", \"hope\", \"hope\", \"hope\", \"hopefully\", \"hopefully\", \"immense\", \"immigrants_youur\", \"induce\", \"induce\", \"infect\", \"infect\", \"infect\", \"infection\", \"infection\", \"infection\", \"interval\", \"june\", \"june\", \"kensche\", \"know\", \"know\", \"know\", \"launch\", \"lefty_rowley\", \"let\", \"let\", \"let\", \"life\", \"life\", \"life\", \"light\", \"light\", \"like\", \"like\", \"like\", \"live\", \"live\", \"live\", \"long\", \"long\", \"long\", \"lot\", \"lot\", \"lot\", \"louisa_power\", \"manipulate\", \"member_state\", \"member_state\", \"mexico\", \"mild\", \"moderna\", \"moderna\", \"moderna\", \"mom\", \"mom\", \"mom\", \"money\", \"money\", \"money\", \"months\", \"months\", \"months\", \"mrna\", \"mrna\", \"mrna\", \"mutate\", \"mutate\", \"mutate\", \"need\", \"need\", \"need\", \"new\", \"new\", \"new\", \"news\", \"news\", \"news\", \"news_solid\", \"nonexistent\", \"nonexistent\", \"number\", \"number\", \"number\", \"older\", \"older\", \"older\", \"outbreak\", \"pa\", \"pa\", \"palestinian_authority\", \"pass_treat\", \"passport\", \"people\", \"people\", \"people\", \"perfect\", \"perfect\", \"pfizer\", \"pfizer\", \"pfizer\", \"pfizerbiontech\", \"pfizerbiontech\", \"pfizerbiontech\", \"plan\", \"plan\", \"plan\", \"poorest\", \"produce\", \"produce\", \"produce\", \"professionals\", \"program\", \"program\", \"program\", \"prophylaxis_healthcare\", \"proteins\", \"protocols_additionally\", \"question\", \"question\", \"question\", \"rascal\", \"reason\", \"reason\", \"reason\", \"regime\", \"regime\", \"report\", \"report\", \"report\", \"republic_south\", \"research\", \"research\", \"research\", \"review\", \"review\", \"review\", \"ridiculous\", \"risk\", \"risk\", \"risk\", \"rollout\", \"rollout\", \"rollout\", \"sarscov2\", \"sarscov2\", \"sarscov2\", \"say\", \"say\", \"say\", \"sdcollins\", \"select\", \"ship_fewer\", \"shipments\", \"shit\", \"shit\", \"shit\", \"similar\", \"similar\", \"similar\", \"smart\", \"soon\", \"soon\", \"soon\", \"sound\", \"sound\", \"sound\", \"source_cnnpolitics\", \"south_african\", \"spring\", \"spring\", \"spring\", \"stan\", \"start\", \"start\", \"start\", \"startup_found\", \"steal\", \"steal\", \"stop\", \"stop\", \"stop\", \"study\", \"study\", \"study\", \"stupid\", \"stupid\", \"take\", \"take\", \"take\", \"team\", \"team\", \"team\", \"technically\", \"test\", \"test\", \"test\", \"thank\", \"thank\", \"thank\", \"think\", \"think\", \"think\", \"thread_listen\", \"time\", \"time\", \"time\", \"today\", \"today\", \"today\", \"trade\", \"truly\", \"truly\", \"try\", \"try\", \"try\", \"turn\", \"turn\", \"turn\", \"uk\", \"uk\", \"uk\", \"unlikely\", \"unlikely\", \"use\", \"use\", \"use\", \"vaccinate\", \"vaccinate\", \"vaccinate\", \"vaccination\", \"vaccination\", \"vaccination\", \"vaccine\", \"vaccine\", \"vaccine\", \"vaccineelicited\", \"vaccines\", \"vaccines\", \"vaccines\", \"variant\", \"variant\", \"variant\", \"variants\", \"variants\", \"variants\", \"vials_account\", \"virus\", \"virus\", \"virus\", \"vulnerable\", \"vulnerable\", \"vulnerable\", \"wait\", \"wait\", \"wait\", \"want\", \"want\", \"want\", \"wearamask\", \"week\", \"week\", \"week\", \"weird\", \"work\", \"work\", \"work\", \"workers_background\", \"wow\", \"wow\", \"year\", \"year\", \"year\", \"younger\", \"younger\"]}, \"R\": 30, \"lambda.step\": 0.01, \"plot.opts\": {\"xlab\": \"PC1\", \"ylab\": \"PC2\"}, \"topic.order\": [1, 2, 3]};\n",
              "\n",
              "function LDAvis_load_lib(url, callback){\n",
              "  var s = document.createElement('script');\n",
              "  s.src = url;\n",
              "  s.async = true;\n",
              "  s.onreadystatechange = s.onload = callback;\n",
              "  s.onerror = function(){console.warn(\"failed to load library \" + url);};\n",
              "  document.getElementsByTagName(\"head\")[0].appendChild(s);\n",
              "}\n",
              "\n",
              "if(typeof(LDAvis) !== \"undefined\"){\n",
              "   // already loaded: just create the visualization\n",
              "   !function(LDAvis){\n",
              "       new LDAvis(\"#\" + \"ldavis_el621398707060794488623623298\", ldavis_el621398707060794488623623298_data);\n",
              "   }(LDAvis);\n",
              "}else if(typeof define === \"function\" && define.amd){\n",
              "   // require.js is available: use it to load d3/LDAvis\n",
              "   require.config({paths: {d3: \"https://cdnjs.cloudflare.com/ajax/libs/d3/3.5.5/d3.min\"}});\n",
              "   require([\"d3\"], function(d3){\n",
              "      window.d3 = d3;\n",
              "      LDAvis_load_lib(\"https://cdn.rawgit.com/bmabey/pyLDAvis/files/ldavis.v1.0.0.js\", function(){\n",
              "        new LDAvis(\"#\" + \"ldavis_el621398707060794488623623298\", ldavis_el621398707060794488623623298_data);\n",
              "      });\n",
              "    });\n",
              "}else{\n",
              "    // require.js not available: dynamically load d3 & LDAvis\n",
              "    LDAvis_load_lib(\"https://cdnjs.cloudflare.com/ajax/libs/d3/3.5.5/d3.min.js\", function(){\n",
              "         LDAvis_load_lib(\"https://cdn.rawgit.com/bmabey/pyLDAvis/files/ldavis.v1.0.0.js\", function(){\n",
              "                 new LDAvis(\"#\" + \"ldavis_el621398707060794488623623298\", ldavis_el621398707060794488623623298_data);\n",
              "            })\n",
              "         });\n",
              "}\n",
              "</script>"
            ],
            "text/plain": [
              "PreparedData(topic_coordinates=              x         y  topics  cluster       Freq\n",
              "topic                                                \n",
              "0     -0.051100  0.060591       1        1  42.961853\n",
              "1     -0.041566 -0.064894       2        1  31.788626\n",
              "2      0.092666  0.004303       3        1  25.249521, topic_info=          Term         Freq        Total Category  logprob  loglift\n",
              "11   vaccinate  1146.000000  1146.000000  Default  30.0000  30.0000\n",
              "68      people   909.000000   909.000000  Default  29.0000  29.0000\n",
              "339     pfizer   468.000000   468.000000  Default  28.0000  28.0000\n",
              "267       dose   539.000000   539.000000  Default  27.0000  27.0000\n",
              "19     moderna   162.000000   162.000000  Default  26.0000  26.0000\n",
              "..         ...          ...          ...      ...      ...      ...\n",
              "213         eu    78.333404   372.925771   Topic3  -5.6672  -0.1840\n",
              "11   vaccinate   106.934222  1146.265975   Topic3  -5.3560  -0.9957\n",
              "151       need    65.179721   350.325968   Topic3  -5.8510  -0.3054\n",
              "68      people    72.315183   909.294830   Topic3  -5.7471  -1.1553\n",
              "279      think    61.781459   331.885845   Topic3  -5.9046  -0.3048\n",
              "\n",
              "[278 rows x 6 columns], token_table=      Topic      Freq              Term\n",
              "term                                   \n",
              "1435      1  0.095603              2021\n",
              "1435      2  0.095603              2021\n",
              "1435      3  0.860424              2021\n",
              "3837      2  0.887602             admin\n",
              "5791      2  0.933428  adult_population\n",
              "...     ...       ...               ...\n",
              "601       1  0.686591              year\n",
              "601       2  0.208058              year\n",
              "601       3  0.097094              year\n",
              "140       1  0.155489           younger\n",
              "140       2  0.829275           younger\n",
              "\n",
              "[464 rows x 3 columns], R=30, lambda_step=0.01, plot_opts={'xlab': 'PC1', 'ylab': 'PC2'}, topic_order=[1, 2, 3])"
            ]
          },
          "metadata": {
            "tags": []
          }
        }
      ]
    },
    {
      "cell_type": "markdown",
      "metadata": {
        "id": "hfrZvVMyui7E"
      },
      "source": [
        "Italy"
      ]
    },
    {
      "cell_type": "code",
      "metadata": {
        "colab": {
          "base_uri": "https://localhost:8080/",
          "height": 912
        },
        "id": "fR1IsGoNHosM",
        "outputId": "889b070a-5c96-461d-e114-4f917517517c"
      },
      "source": [
        "italy_topics = get_topic_model(country_name=\"Italy\", num_topics=5)"
      ],
      "execution_count": null,
      "outputs": [
        {
          "output_type": "stream",
          "text": [
            "100%|██████████| 2498/2498 [00:00<00:00, 7393.39it/s]\n"
          ],
          "name": "stderr"
        },
        {
          "output_type": "stream",
          "text": [
            "\n",
            "\n"
          ],
          "name": "stdout"
        },
        {
          "output_type": "display_data",
          "data": {
            "text/html": [
              "\n",
              "<link rel=\"stylesheet\" type=\"text/css\" href=\"https://cdn.rawgit.com/bmabey/pyLDAvis/files/ldavis.v1.0.0.css\">\n",
              "\n",
              "\n",
              "<div id=\"ldavis_el631400078314171444115890008\"></div>\n",
              "<script type=\"text/javascript\">\n",
              "\n",
              "var ldavis_el631400078314171444115890008_data = {\"mdsDat\": {\"x\": [0.02057729988637334, -0.12810497870548662, 0.04346232142027218, 0.0006963533698267059, 0.0633690040290144], \"y\": [0.10207523583506557, -0.029812598564853403, -0.02086274185106581, 0.02801336233020532, -0.07941325774935168], \"topics\": [1, 2, 3, 4, 5], \"cluster\": [1, 1, 1, 1, 1], \"Freq\": [36.67162296972417, 20.28838478724422, 18.155165821398764, 13.900479550406136, 10.984346871226716]}, \"tinfo\": {\"Term\": [\"care_home\", \"england\", \"scotland\", \"vaccinate\", \"dose\", \"residents\", \"vaccination\", \"people\", \"covid19\", \"italy\", \"vulnerable\", \"second\", \"coronavirus\", \"biden\", \"trump\", \"good\", \"priority\", \"effective\", \"go\", \"get\", \"today\", \"ask\", \"day\", \"soon\", \"thank\", \"want\", \"wait\", \"france\", \"help\", \"vaccine\", \"biden\", \"newsbygatfil\", \"parole_chiave\", \"ultime_news\", \"modernas\", \"election\", \"influence\", \"variants\", \"effective\", \"finally\", \"inauguration\", \"joe\", \"inherit\", \"serum_institute\", \"exchange\", \"promise\", \"2021\", \"raise\", \"matt\", \"biggest\", \"bidens\", \"trump\", \"vatican\", \"growth\", \"recommend\", \"antibiotic\", \"lard\", \"fastest\", \"legal\", \"compulsory\", \"dad\", \"fauci\", \"german\", \"gennaio\", \"new_post\", \"days\", \"dose\", \"say\", \"covid\", \"president\", \"single\", \"news\", \"pfizer\", \"receive\", \"covid19\", \"vaccine\", \"uk\", \"coronavirus\", \"work\", \"data\", \"number\", \"new\", \"delay\", \"plan\", \"get\", \"moderna\", \"need\", \"second\", \"italy\", \"protect\", \"vaccination\", \"think\", \"vaccinate\", \"people\", \"vaccines\", \"like\", \"good\", \"risk\", \"care_home\", \"residents\", \"england\", \"scotland\", \"bivalent\", \"ameri_donate\", \"oliver_receive\", \"raise_pay\", \"oh_dear\", \"option\", \"concentrate\", \"consume\", \"address\", \"rd\", \"davidson\", \"continually\", \"covidrelated\", \"general\", \"vaccinators\", \"advice\", \"john\", \"saw\", \"tray\", \"coordination\", \"innovation\", \"dread\", \"tragedy\", \"clarity\", \"ruth\", \"insist\", \"experts\", \"priority\", \"vulnerable\", \"russian\", \"independent\", \"lie\", \"ignore\", \"thank\", \"look\", \"phase\", \"thing\", \"scottish\", \"mass\", \"english\", \"vaccinate\", \"go\", \"research\", \"vaccination\", \"right\", \"vaccine\", \"want\", \"know\", \"world\", \"way\", \"people\", \"ask\", \"like\", \"help\", \"new\", \"vaccines\", \"time\", \"countries\", \"say\", \"covid19\", \"hope\", \"croatia\", \"agency\", \"theories\", \"false\", \"vaccin\", \"reduction\", \"reservations\", \"arrival\", \"normality\", \"curb\", \"zonaarancione_vaccino\", \"hill\", \"easyjet\", \"ppe\", \"modernavaccine\", \"viruses\", \"inevitable\", \"hong\", \"kong\", \"agreements\", \"queue\", \"determine\", \"chinas\", \"trap\", \"ko\", \"hay\", \"rare\", \"originate\", \"bourla\", \"israels\", \"information\", \"struggle\", \"assume\", \"corporate_media\", \"flight\", \"simple\", \"italy_time4stream\", \"livenews_direttatv\", \"direttalive_journalism\", \"israeli\", \"die\", \"push\", \"adverse\", \"exist\", \"answer\", \"live_broadcast\", \"infection\", \"infect\", \"troupetv_liveu\", \"vaccine\", \"vaccination\", \"covid19\", \"people\", \"vaccines\", \"doubt\", \"skytg24_milan\", \"crisis_skytg24\", \"high\", \"health\", \"long\", \"know\", \"vaccinate\", \"population\", \"time\", \"right\", \"rollout\", \"pfizer\", \"eu\", \"get\", \"come\", \"covid\", \"want\", \"mean\", \"virus\", \"pandemic\", \"test\", \"world\", \"risk\", \"think\", \"need\", \"effect\", \"moderna\", \"hours\", \"nero\", \"grant\", \"law\", \"fortunately\", \"jj\", \"spirit\", \"options\", \"combine\", \"generate\", \"ideas\", \"bharat\", \"idea\", \"discovery\", \"sage\", \"side\", \"richest\", \"church\", \"period\", \"reveal\", \"resistant\", \"epidemic\", \"usd\", \"la7\", \"alt\", \"iffy\", \"petizione\", \"sustainable\", \"shark\", \"firma\", \"sanofi\", \"vaxd\", \"closer\", \"winter\", \"gp\", \"anaphylaxis\", \"obviously\", \"pain\", \"speed\", \"better\", \"far\", \"immunity\", \"italy\", \"russias\", \"today\", \"vials\", \"vaccinate\", \"day\", \"good\", \"info\", \"vaccine\", \"get\", \"people\", \"give\", \"live\", \"need\", \"astrazeneca\", \"vaccines\", \"like\", \"go\", \"covid19\", \"dose\", \"approve\", \"vax\", \"want\", \"years\", \"trial\", \"covid\", \"pfizer\", \"know\", \"vaccination\", \"time\", \"think\", \"second\", \"hope\", \"iorestoacasa\", \"covidagenparl\", \"stanley\", \"recipient\", \"pa\", \"academics\", \"kitten\", \"trasporti\", \"approvals\", \"younger\", \"consumer\", \"enforce\", \"dirty\", \"tech\", \"passengers\", \"aspects\", \"zonarossa\", \"adults\", \"r4today\", \"brainstem\", \"supervise\", \"northern\", \"compensate\", \"socially\", \"injuries\", \"neuter\", \"responsibility\", \"brazilian\", \"privates\", \"woah\", \"200k\", \"west\", \"bank\", \"older\", \"aim\", \"sell\", \"buy\", \"month\", \"france\", \"man\", \"vaccino\", \"soon\", \"people\", \"vaccination\", \"vaccinate\", \"million\", \"wait\", \"coronavirus\", \"thousands\", \"ask\", \"palestinians\", \"covid19\", \"second\", \"vaccine\", \"dose\", \"test\", \"shoot\", \"report\", \"sarscov2\", \"countries\", \"end\", \"virus\", \"time\", \"covid\", \"go\", \"help\", \"pfizer\", \"italy\", \"like\", \"come\"], \"Freq\": [74.0, 74.0, 62.0, 328.0, 208.0, 51.0, 290.0, 241.0, 452.0, 93.0, 45.0, 55.0, 118.0, 48.0, 59.0, 67.0, 33.0, 57.0, 95.0, 128.0, 56.0, 34.0, 48.0, 27.0, 39.0, 78.0, 49.0, 16.0, 38.0, 1478.0, 46.29939067258324, 11.557962689905423, 11.557782713089198, 11.557678930837506, 11.515727254565151, 8.91071522884482, 8.039314777863858, 22.406288616732205, 52.5557263663873, 7.134615331632895, 6.301725321376112, 14.130500066742037, 7.025636085160499, 5.423032525089586, 5.420463257510527, 8.496003978484401, 11.552100963233936, 9.908873220122748, 4.547875222282362, 4.545865590642804, 4.530014493821164, 52.32768917173394, 15.053496061206332, 4.499851627436359, 10.42251260293415, 4.438231572344232, 3.6777244278447094, 3.6776406795086922, 3.6776196603184763, 3.677092866863688, 5.878540709959869, 13.802364233482537, 5.100684851335817, 29.655639168708205, 29.65391034031294, 39.85401363677406, 153.40657347798643, 107.40651709326922, 173.4280457920017, 19.042248672023803, 13.852895680461184, 52.44885954853161, 130.8456046404547, 52.659997314251314, 261.4849269481296, 747.8463088400816, 50.426046249309714, 73.23661271585887, 57.952461257117896, 30.644321446296885, 22.86891311118999, 48.644076086380274, 29.12461034709123, 29.628387788593166, 61.86599275464925, 36.01515806728259, 51.11546517879934, 32.67620715349576, 44.28173232976182, 26.134149724889316, 77.7559960973786, 37.97559429213974, 65.1478240190241, 56.86676753448606, 41.9925980083069, 37.370577920962454, 31.883292358781336, 30.53768058473602, 73.47578822653841, 50.05461544805117, 71.76092439624048, 59.5429142563331, 7.547327593107021, 6.748487173772088, 6.748439205146459, 6.748401411683842, 5.853068467908916, 5.02058023808715, 6.356631471006881, 4.20255382209524, 3.4544780178258385, 3.448239916101964, 3.4483133226351237, 3.444038663973937, 3.4397789046585894, 3.4240662725755833, 4.105189504224303, 12.194408122503084, 3.376788104436468, 6.6269288620487465, 2.6359206763638956, 2.6359057770180563, 2.6358892423781612, 2.6358807025092044, 2.6357996646037853, 2.635245481618296, 2.634320268581538, 2.6342750254460015, 16.19479381109977, 25.34703169619687, 33.18564004686912, 14.743194880607513, 7.544879739605214, 10.747350221903726, 10.237321629508829, 25.233721080892323, 19.942906683133454, 14.7538889769334, 16.31441593466135, 6.437260916310758, 14.881606169468592, 10.279775316785416, 102.22759517643566, 38.0920513219719, 15.498705095052088, 84.27992167242942, 23.57788337122852, 247.6946327891601, 30.649259719666066, 34.61907049700562, 29.23714478244553, 20.486491509548078, 46.79704863843334, 15.758594747927127, 26.49989801581214, 16.050539071480223, 23.123485302211087, 26.518739510521414, 21.06508616469846, 18.164852183339946, 20.277391909646102, 22.102138778908166, 16.05252758905176, 4.185689806129134, 4.1792042330601005, 4.134024399086318, 3.377346241429305, 3.376059793020706, 3.3758032187551894, 3.37474277682889, 3.368116396843546, 3.356594944084026, 3.3537768546227222, 6.59633900860317, 2.577536616463263, 2.57752604781481, 2.5775205195986963, 2.5774948296532263, 2.576875669448481, 2.5745910528421585, 2.573766860857428, 2.573438419782432, 2.5731064016264207, 2.5725921149332462, 2.572380091585823, 2.571411515603767, 2.5701881538967024, 2.5686278961958786, 2.5680342633420117, 2.565607051278872, 2.5660263827305623, 2.5657317613306154, 2.5372152714805503, 9.14376961048906, 4.11831971267457, 4.997147707636131, 4.096568783780243, 4.1159490835293004, 9.008950727797604, 8.208009119284966, 7.39975010377276, 7.397458170409816, 4.104105043100081, 18.540258043539346, 11.647938344203471, 4.996532449701584, 7.356861552783554, 10.063240725130076, 8.205094773825445, 10.099315261975251, 8.293465584728777, 6.592568765213561, 262.923685777138, 70.70940134167189, 92.42180442309086, 58.655720551363814, 38.01648860163021, 7.410439072223379, 6.592257233976089, 6.590912901892887, 9.024246976595299, 18.774076870775048, 14.158552327528204, 27.50209211058824, 50.53907138195383, 15.046889829773045, 20.539056771481402, 16.230011326556546, 13.797579326648233, 33.49090358190628, 16.199764830252047, 24.325782049650638, 15.64163873291654, 32.630666327357055, 18.134362108140294, 12.333145772806214, 15.737641083570377, 13.053869063237457, 15.423371753176498, 16.225669400582934, 13.604876118975122, 13.577928341744643, 13.564907766850736, 11.28435602531779, 11.823778541594402, 6.23470337877431, 4.022677074203511, 4.004010992380823, 3.9308089286427577, 3.2273986615734898, 6.895433875083522, 2.4874275730155326, 2.485846047715577, 2.482158643796756, 2.4814087139788295, 2.4790979242576565, 2.475052735097016, 7.483290713175864, 2.4684706817548183, 2.4595305323616317, 2.455520200496645, 2.44689426472571, 5.464170409309707, 3.011079762320142, 2.377958733975687, 4.725922765041155, 4.023873924347857, 1.7119641635710217, 1.7119611758028228, 1.7119579390539406, 1.7119507186141265, 1.7119535818919838, 1.7119502206527601, 1.7119473573749027, 1.7119411328578218, 4.035480905839254, 6.135195260948262, 3.264853572695703, 3.258380323912082, 3.258520002075381, 4.276159577179677, 3.264533383537053, 3.199514567915117, 7.452472382165479, 13.372269474427025, 8.6322877661259, 12.661782180417273, 30.63086050697641, 5.184001907722931, 19.24846357555505, 6.082971562638156, 66.05262723935888, 16.62927343312214, 19.955873468319925, 4.999112338076646, 153.46700833011633, 28.692016057039922, 40.353673706476954, 15.641484401112468, 13.800002353473843, 20.479386228441918, 12.535769072937333, 22.755446132071064, 18.753229045513002, 17.976174276031546, 37.5395466279062, 24.701421388775618, 9.62002102646253, 8.31282762291663, 13.832797093147807, 9.113504683701398, 9.804966865743227, 17.57243317562197, 16.434488873162437, 12.817578357226678, 15.513190630574027, 11.302935244325894, 11.210970743240727, 10.278569954025171, 9.968998327631558, 3.889223991081544, 3.8892003813332985, 3.122436424960198, 3.118687393686719, 4.315366568054979, 2.4084687843615247, 2.408426286814683, 2.4084249095793684, 2.406458217550521, 2.4011285136320075, 2.397710018833965, 2.3965476322286796, 2.3805313692626573, 5.933259194206727, 2.3373949819828654, 2.24388837730877, 3.9172944077621943, 4.463723930096662, 3.887812915128073, 1.6556514997728289, 1.6556471713189838, 1.6556452038399634, 1.6556420558735305, 1.6556381209154898, 1.6556341859574488, 1.6556251355539546, 1.6556217908396198, 1.655617462385775, 1.65560447702424, 1.6555987713350806, 3.16249016611074, 3.9240302689366273, 3.9006585856526304, 4.650088658359709, 4.593796329113834, 6.865528272772195, 7.600932581038248, 5.321290584726044, 8.068147463051115, 4.558123573498142, 7.517690904657578, 10.252042879824433, 38.881972031303484, 42.35628184818133, 44.40501932616541, 8.61850013855237, 12.698109598023168, 20.95050989735677, 4.654335658573266, 9.601588806720416, 4.538301615862851, 38.95589572704328, 11.819061220456836, 66.4244086338898, 22.707245157007275, 12.965646608233168, 9.124343716661263, 7.792130618262948, 7.274087096244012, 9.01854056485722, 7.971180653023744, 9.042142443186611, 9.719058322124155, 13.83350553911436, 9.720711004501338, 7.37340622418824, 11.232306248119103, 8.919767609089071, 8.667687114063773, 7.2504065187538025], \"Total\": [74.0, 74.0, 62.0, 328.0, 208.0, 51.0, 290.0, 241.0, 452.0, 93.0, 45.0, 55.0, 118.0, 48.0, 59.0, 67.0, 33.0, 57.0, 95.0, 128.0, 56.0, 34.0, 48.0, 27.0, 39.0, 78.0, 49.0, 16.0, 38.0, 1478.0, 48.74160685485652, 12.19382238104085, 12.193780893148285, 12.193775125468239, 12.190228282878042, 9.563760604601265, 8.688168855672757, 24.314562489492797, 57.250524169371026, 7.8106663948403945, 6.9378001010740995, 15.641575745611865, 7.800517549085088, 6.061425811947481, 6.061433063781144, 9.529387292212856, 13.015699844692682, 11.267788293019917, 5.185513441472514, 5.185442735251336, 5.184311471553886, 59.906168942880406, 17.325321369720022, 5.182131343399294, 12.120896797404555, 5.178789022836264, 4.309964351702612, 4.309914548323275, 4.3099037683074695, 4.309711169028092, 6.890279548573196, 16.37074155714052, 6.015250812319167, 36.298356425428715, 36.29815831791579, 50.366214978831266, 208.18501858136347, 148.7512735780588, 251.9442523024911, 24.16308773060323, 17.17503427027722, 73.23920648401925, 205.21310987987047, 75.62993685514542, 452.50431250507813, 1478.356044370386, 72.20522816709992, 118.75416115629457, 98.52454884080659, 46.694351085133356, 32.28084729222095, 85.30717728878443, 45.31108940049408, 46.395280658674224, 128.95181883018387, 61.63564788988091, 103.99395315437835, 55.422051988838994, 93.9130494002784, 42.418919447389484, 290.61479159023526, 82.24109217427437, 328.37213714293785, 241.55518246206364, 134.90017734707075, 94.9739092000188, 67.2975163982901, 60.969858333409626, 74.92813963815314, 51.93150415862046, 74.88735743600391, 62.45765846610252, 8.223173280472114, 7.398347667579209, 7.3983508240375935, 7.398340483103631, 6.570175088446715, 5.753065669604021, 7.373319009586265, 4.920076276084246, 4.102104065165072, 4.101809101934177, 4.103036310413251, 4.10164687667614, 4.101404953881676, 4.104505772964693, 4.922782027507232, 14.79314274108174, 4.0996585265995575, 8.157752794497782, 3.2785508233915754, 3.2785529815931653, 3.2785350247410125, 3.2785280661391925, 3.278485544850619, 3.278389940895317, 3.278478058091528, 3.278501375209706, 20.716763884554496, 33.52146637909178, 45.375085439694686, 19.81965152249157, 9.974963590290338, 14.821562589249984, 14.599349628553867, 39.899809800365084, 32.50184408536754, 24.04703446163213, 28.308754099108707, 9.03041187338289, 26.491964241390598, 16.556096992749847, 328.37213714293785, 95.72439891306287, 29.070701949610758, 290.61479159023526, 52.87272045157417, 1478.356044370386, 78.42834578734379, 107.43303966592816, 85.1118005336268, 51.30912349405791, 241.55518246206364, 34.671881649708766, 94.9739092000188, 38.86101714911843, 85.30717728878443, 134.90017734707075, 78.84012832964926, 54.50876385821324, 148.7512735780588, 452.50431250507813, 47.450481477226035, 4.835108356804369, 4.834929403619403, 4.831735861111613, 4.029722204998645, 4.029312060531908, 4.02949000691571, 4.028992413868308, 4.030192538193309, 4.027052290693113, 4.031367780403008, 8.031404197671433, 3.2238354251597325, 3.223826637002512, 3.2238315672790443, 3.2238100933278773, 3.223857451564436, 3.2238905131540228, 3.2237280050351083, 3.223765098888924, 3.2235316600111386, 3.2234553973530784, 3.2233801619958924, 3.2239443889212716, 3.223456287668335, 3.224610572304251, 3.224654867485764, 3.222641218944535, 3.2243391010748876, 3.2241183414073564, 3.2263967011205548, 12.16220719379698, 5.59303744205442, 7.171208211111818, 5.659024832305114, 5.715878672357506, 14.923913212403711, 13.406232732459774, 11.82273178195977, 11.822778839371779, 5.716718911742857, 37.13242774140255, 20.966112634103098, 7.33824186532629, 11.997329321340692, 17.855139474181705, 14.184834051560273, 18.724942421237227, 14.575872346651266, 11.017131268682594, 1478.356044370386, 290.61479159023526, 452.50431250507813, 241.55518246206364, 134.90017734707075, 13.048030603888474, 11.017186663572435, 11.017220606693503, 17.805260448298966, 55.46632319321326, 37.316934176467136, 107.43303966592816, 328.37213714293785, 44.621714546333145, 78.84012832964926, 52.87272045157417, 41.12153615864709, 205.21310987987047, 58.90038461202366, 128.95181883018387, 55.70290609136603, 251.9442523024911, 78.42834578734379, 35.774085046940115, 62.70396405064182, 41.276189314426695, 71.00632911371058, 85.1118005336268, 60.969858333409626, 82.24109217427437, 103.99395315437835, 37.828750160395536, 61.63564788988091, 7.042374466278035, 4.70031730482818, 4.699254253495262, 4.701463081312992, 3.9226408615389463, 8.597425477152743, 3.142275539812218, 3.142418828383019, 3.1418999597633137, 3.141823728302778, 3.142277942807522, 3.1439558150414135, 9.515663262747758, 3.1442992891022086, 3.1434717992383625, 3.144960623438305, 3.1459364051512404, 7.08570673388577, 3.952153179368439, 3.142460659794564, 6.307223803671614, 5.452584715123644, 2.363696150315561, 2.363692889250559, 2.3636909869749165, 2.363686512225808, 2.3636908128198844, 2.3636863154103906, 2.3636854532015072, 2.363682960996778, 5.573331425876142, 8.624024312180456, 4.674676325130641, 4.672752696032824, 4.678400237615792, 6.304544819519139, 4.793844592336579, 4.803501111357409, 13.568060974382954, 29.072859763997574, 16.953711144608015, 28.15433992623157, 93.9130494002784, 8.737109483809776, 56.109152863997295, 11.22321179807136, 328.37213714293785, 48.11596004453476, 67.2975163982901, 8.84972073085779, 1478.356044370386, 128.95181883018387, 241.55518246206364, 62.30607889913911, 52.03403622014579, 103.99395315437835, 45.337100651707864, 134.90017734707075, 94.9739092000188, 95.72439891306287, 452.50431250507813, 208.18501858136347, 32.28157923006925, 23.75778822790425, 78.42834578734379, 30.00591238066533, 39.92141110259325, 251.9442523024911, 205.21310987987047, 107.43303966592816, 290.61479159023526, 78.84012832964926, 82.24109217427437, 55.422051988838994, 47.450481477226035, 4.572628272421612, 4.572622056441802, 3.8217346231340175, 3.8207002707594766, 5.358445077199569, 3.0653375376337553, 3.065318598694365, 3.0653216277209245, 3.0655425501458895, 3.0660340336352476, 3.0664082970743913, 3.066242808769818, 3.0670260893831616, 7.732075038494653, 3.0751840911253656, 3.076257733211664, 5.375497493368037, 6.164684898374967, 5.39537360981729, 2.31251465307742, 2.312511129183245, 2.3125114551903083, 2.3125104909652308, 2.312506777577344, 2.312507108742628, 2.3125017632330076, 2.312502239099216, 2.312496889227899, 2.31249422487314, 2.3124920412004153, 4.595803310514548, 6.22061912710897, 6.208797220763392, 7.686717965587451, 7.735091777302451, 12.507768082423503, 14.213732696634226, 9.52332734118773, 16.147633752948373, 8.728389158530758, 17.123263869814338, 27.333000192563173, 241.55518246206364, 290.61479159023526, 328.37213714293785, 24.191549576528885, 49.278762727910966, 118.75416115629457, 9.629106516111097, 34.671881649708766, 9.381379850980316, 452.50431250507813, 55.422051988838994, 1478.356044370386, 208.18501858136347, 71.00632911371058, 35.644553733267394, 26.492146351075032, 28.50413666718434, 54.50876385821324, 41.316018391394664, 62.70396405064182, 78.84012832964926, 251.9442523024911, 95.72439891306287, 38.86101714911843, 205.21310987987047, 93.9130494002784, 94.9739092000188, 55.70290609136603], \"Category\": [\"Default\", \"Default\", \"Default\", \"Default\", \"Default\", \"Default\", \"Default\", \"Default\", \"Default\", \"Default\", \"Default\", \"Default\", \"Default\", \"Default\", \"Default\", \"Default\", \"Default\", \"Default\", \"Default\", \"Default\", \"Default\", \"Default\", \"Default\", \"Default\", \"Default\", \"Default\", \"Default\", \"Default\", \"Default\", \"Default\", \"Topic1\", \"Topic1\", \"Topic1\", \"Topic1\", \"Topic1\", \"Topic1\", \"Topic1\", \"Topic1\", \"Topic1\", \"Topic1\", \"Topic1\", \"Topic1\", \"Topic1\", \"Topic1\", \"Topic1\", \"Topic1\", \"Topic1\", \"Topic1\", \"Topic1\", \"Topic1\", \"Topic1\", \"Topic1\", \"Topic1\", \"Topic1\", \"Topic1\", \"Topic1\", \"Topic1\", \"Topic1\", \"Topic1\", \"Topic1\", \"Topic1\", \"Topic1\", \"Topic1\", \"Topic1\", \"Topic1\", \"Topic1\", \"Topic1\", \"Topic1\", \"Topic1\", \"Topic1\", \"Topic1\", \"Topic1\", \"Topic1\", \"Topic1\", \"Topic1\", \"Topic1\", \"Topic1\", \"Topic1\", \"Topic1\", \"Topic1\", \"Topic1\", \"Topic1\", \"Topic1\", \"Topic1\", \"Topic1\", \"Topic1\", \"Topic1\", \"Topic1\", \"Topic1\", \"Topic1\", \"Topic1\", \"Topic1\", \"Topic1\", \"Topic1\", \"Topic1\", \"Topic1\", \"Topic1\", \"Topic1\", \"Topic2\", \"Topic2\", \"Topic2\", \"Topic2\", \"Topic2\", \"Topic2\", \"Topic2\", \"Topic2\", \"Topic2\", \"Topic2\", \"Topic2\", \"Topic2\", \"Topic2\", \"Topic2\", \"Topic2\", \"Topic2\", \"Topic2\", \"Topic2\", \"Topic2\", \"Topic2\", \"Topic2\", \"Topic2\", \"Topic2\", \"Topic2\", \"Topic2\", \"Topic2\", \"Topic2\", \"Topic2\", \"Topic2\", \"Topic2\", \"Topic2\", \"Topic2\", \"Topic2\", \"Topic2\", \"Topic2\", \"Topic2\", \"Topic2\", \"Topic2\", \"Topic2\", \"Topic2\", \"Topic2\", \"Topic2\", \"Topic2\", \"Topic2\", \"Topic2\", \"Topic2\", \"Topic2\", \"Topic2\", \"Topic2\", \"Topic2\", \"Topic2\", \"Topic2\", \"Topic2\", \"Topic2\", \"Topic2\", \"Topic2\", \"Topic2\", \"Topic2\", \"Topic2\", \"Topic2\", \"Topic2\", \"Topic2\", \"Topic2\", \"Topic2\", \"Topic2\", \"Topic3\", \"Topic3\", \"Topic3\", \"Topic3\", \"Topic3\", \"Topic3\", \"Topic3\", \"Topic3\", \"Topic3\", \"Topic3\", \"Topic3\", \"Topic3\", \"Topic3\", \"Topic3\", \"Topic3\", \"Topic3\", \"Topic3\", \"Topic3\", \"Topic3\", \"Topic3\", \"Topic3\", \"Topic3\", \"Topic3\", \"Topic3\", \"Topic3\", \"Topic3\", \"Topic3\", \"Topic3\", \"Topic3\", \"Topic3\", \"Topic3\", \"Topic3\", \"Topic3\", \"Topic3\", \"Topic3\", \"Topic3\", \"Topic3\", \"Topic3\", \"Topic3\", \"Topic3\", \"Topic3\", \"Topic3\", \"Topic3\", \"Topic3\", \"Topic3\", \"Topic3\", \"Topic3\", \"Topic3\", \"Topic3\", \"Topic3\", \"Topic3\", \"Topic3\", \"Topic3\", \"Topic3\", \"Topic3\", \"Topic3\", \"Topic3\", \"Topic3\", \"Topic3\", \"Topic3\", \"Topic3\", \"Topic3\", \"Topic3\", \"Topic3\", \"Topic3\", \"Topic3\", \"Topic3\", \"Topic3\", \"Topic3\", \"Topic3\", \"Topic3\", \"Topic3\", \"Topic3\", \"Topic3\", \"Topic3\", \"Topic3\", \"Topic3\", \"Topic3\", \"Topic3\", \"Topic3\", \"Topic3\", \"Topic3\", \"Topic4\", \"Topic4\", \"Topic4\", \"Topic4\", \"Topic4\", \"Topic4\", \"Topic4\", \"Topic4\", \"Topic4\", \"Topic4\", \"Topic4\", \"Topic4\", \"Topic4\", \"Topic4\", \"Topic4\", \"Topic4\", \"Topic4\", \"Topic4\", \"Topic4\", \"Topic4\", \"Topic4\", \"Topic4\", \"Topic4\", \"Topic4\", \"Topic4\", \"Topic4\", \"Topic4\", \"Topic4\", \"Topic4\", \"Topic4\", \"Topic4\", \"Topic4\", \"Topic4\", \"Topic4\", \"Topic4\", \"Topic4\", \"Topic4\", \"Topic4\", \"Topic4\", \"Topic4\", \"Topic4\", \"Topic4\", \"Topic4\", \"Topic4\", \"Topic4\", \"Topic4\", \"Topic4\", \"Topic4\", \"Topic4\", \"Topic4\", \"Topic4\", \"Topic4\", \"Topic4\", \"Topic4\", \"Topic4\", \"Topic4\", \"Topic4\", \"Topic4\", \"Topic4\", \"Topic4\", \"Topic4\", \"Topic4\", \"Topic4\", \"Topic4\", \"Topic4\", \"Topic4\", \"Topic4\", \"Topic4\", \"Topic4\", \"Topic4\", \"Topic4\", \"Topic4\", \"Topic4\", \"Topic4\", \"Topic4\", \"Topic5\", \"Topic5\", \"Topic5\", \"Topic5\", \"Topic5\", \"Topic5\", \"Topic5\", \"Topic5\", \"Topic5\", \"Topic5\", \"Topic5\", \"Topic5\", \"Topic5\", \"Topic5\", \"Topic5\", \"Topic5\", \"Topic5\", \"Topic5\", \"Topic5\", \"Topic5\", \"Topic5\", \"Topic5\", \"Topic5\", \"Topic5\", \"Topic5\", \"Topic5\", \"Topic5\", \"Topic5\", \"Topic5\", \"Topic5\", \"Topic5\", \"Topic5\", \"Topic5\", \"Topic5\", \"Topic5\", \"Topic5\", \"Topic5\", \"Topic5\", \"Topic5\", \"Topic5\", \"Topic5\", \"Topic5\", \"Topic5\", \"Topic5\", \"Topic5\", \"Topic5\", \"Topic5\", \"Topic5\", \"Topic5\", \"Topic5\", \"Topic5\", \"Topic5\", \"Topic5\", \"Topic5\", \"Topic5\", \"Topic5\", \"Topic5\", \"Topic5\", \"Topic5\", \"Topic5\", \"Topic5\", \"Topic5\", \"Topic5\", \"Topic5\", \"Topic5\", \"Topic5\", \"Topic5\", \"Topic5\", \"Topic5\", \"Topic5\"], \"logprob\": [30.0, 29.0, 28.0, 27.0, 26.0, 25.0, 24.0, 23.0, 22.0, 21.0, 20.0, 19.0, 18.0, 17.0, 16.0, 15.0, 14.0, 13.0, 12.0, 11.0, 10.0, 9.0, 8.0, 7.0, 6.0, 5.0, 4.0, 3.0, 2.0, 1.0, -5.496099948883057, -6.883800029754639, -6.883800029754639, -6.883800029754639, -6.887499809265137, -7.143899917602539, -7.246799945831299, -6.22189998626709, -5.36929988861084, -7.366199970245361, -7.4903998374938965, -6.6828999519348145, -7.3815999031066895, -7.640500068664551, -7.640999794006348, -7.1915998458862305, -6.884300231933594, -7.037799835205078, -7.816500186920166, -7.816999912261963, -7.820499897003174, -5.373700141906738, -6.61959981918335, -7.827099800109863, -6.987199783325195, -7.84089994430542, -8.028900146484375, -8.028900146484375, -8.028900146484375, -8.02910041809082, -7.559899806976318, -6.706399917602539, -7.7017998695373535, -5.941500186920166, -5.9415998458862305, -5.645999908447266, -4.298099994659424, -4.654600143432617, -4.1753997802734375, -6.384500026702881, -6.702700138092041, -5.371399879455566, -4.457200050354004, -5.367300033569336, -3.7648000717163086, -2.7139999866485596, -5.410699844360352, -5.037499904632568, -5.271599769592285, -5.908699989318848, -6.201399803161621, -5.446700096130371, -5.95959997177124, -5.942500114440918, -5.206200122833252, -5.747300148010254, -5.39709997177124, -5.8445000648498535, -5.540599822998047, -6.067999839782715, -4.97760009765625, -5.694200038909912, -5.1545000076293945, -5.290500164031982, -5.593699932098389, -5.710299968719482, -5.869100093841553, -5.912199974060059, -4.442299842834473, -4.826099872589111, -4.46589994430542, -4.652500152587891, -6.7179999351501465, -6.829899787902832, -6.829899787902832, -6.829899787902832, -6.972300052642822, -7.125699996948242, -6.889699935913086, -7.303500175476074, -7.499599933624268, -7.501399993896484, -7.501399993896484, -7.502600193023682, -7.503799915313721, -7.508399963378906, -7.327000141143799, -6.23829984664917, -7.522299766540527, -6.848100185394287, -7.769999980926514, -7.769999980926514, -7.769999980926514, -7.769999980926514, -7.770100116729736, -7.770299911499023, -7.770599842071533, -7.770599842071533, -5.954500198364258, -5.5065999031066895, -5.237100124359131, -6.048500061035156, -6.718400001525879, -6.36460018157959, -6.4131999015808105, -5.511099815368652, -5.746399879455566, -6.047699928283691, -5.947199821472168, -6.877099990844727, -6.039100170135498, -6.40910005569458, -4.111999988555908, -5.0991997718811035, -5.998499870300293, -4.305099964141846, -5.57889986038208, -3.2269999980926514, -5.3165998458862305, -5.194799900054932, -5.363800048828125, -5.7195000648498535, -4.893400192260742, -5.981900215148926, -5.462100028991699, -5.963500022888184, -5.598400115966797, -5.461400032043457, -5.6915998458862305, -5.839799880981445, -5.729700088500977, -5.643599987030029, -5.963399887084961, -7.196499824523926, -7.197999954223633, -7.208899974822998, -7.411099910736084, -7.411399841308594, -7.411499977111816, -7.411799907684326, -7.41379976272583, -7.417200088500977, -7.418099880218506, -6.741600036621094, -7.681300163269043, -7.681300163269043, -7.681300163269043, -7.681300163269043, -7.681600093841553, -7.682499885559082, -7.682799816131592, -7.6828999519348145, -7.683000087738037, -7.683199882507324, -7.683300018310547, -7.683700084686279, -7.684199810028076, -7.684800148010254, -7.684999942779541, -7.685999870300293, -7.685800075531006, -7.6859002113342285, -7.6971001625061035, -6.41510009765625, -7.212699890136719, -7.0192999839782715, -7.2179999351501465, -7.2133002281188965, -6.429900169372559, -6.5229997634887695, -6.626699924468994, -6.626999855041504, -7.21619987487793, -5.708199977874756, -6.172999858856201, -7.019400119781494, -6.632500171661377, -6.319300174713135, -6.523399829864502, -6.315700054168701, -6.512700080871582, -6.742199897766113, -3.056299924850464, -4.36959981918335, -4.101799964904785, -4.55649995803833, -4.990099906921387, -6.62529993057251, -6.742199897766113, -6.742499828338623, -6.428199768066406, -5.695700168609619, -5.977799892425537, -5.313899993896484, -4.705399990081787, -5.916999816894531, -5.605800151824951, -5.841300010681152, -6.003699779510498, -5.1168999671936035, -5.843100070953369, -5.436600208282471, -5.878200054168701, -5.142899990081787, -5.730299949645996, -6.115900039672852, -5.872099876403809, -6.059100151062012, -5.892300128936768, -5.841599941253662, -6.0177001953125, -6.019700050354004, -6.020699977874756, -6.204699993133545, -6.1579999923706055, -6.531000137329102, -6.969200134277344, -6.973800182342529, -6.992300033569336, -7.1894001960754395, -6.430300235748291, -7.449900150299072, -7.450500011444092, -7.452000141143799, -7.452300071716309, -7.453199863433838, -7.454899787902832, -6.348400115966797, -7.457499980926514, -7.461100101470947, -7.462800025939941, -7.466300010681152, -6.662899971008301, -7.258800029754639, -7.494900226593018, -6.80810022354126, -6.968900203704834, -7.823500156402588, -7.823500156402588, -7.823500156402588, -7.823500156402588, -7.823500156402588, -7.823500156402588, -7.823500156402588, -7.823500156402588, -6.966000080108643, -6.547100067138672, -7.1778998374938965, -7.179900169372559, -7.179800033569336, -6.908100128173828, -7.177999973297119, -7.1981000900268555, -6.35260009765625, -5.767899990081787, -6.205599784851074, -5.822500228881836, -4.9390997886657715, -6.7154998779296875, -5.40369987487793, -6.555600166320801, -4.1707000732421875, -5.549900054931641, -5.367599964141846, -6.7519001960754395, -3.3276000022888184, -5.004499912261963, -4.663400173187256, -5.611199855804443, -5.736400127410889, -5.341700077056885, -5.832499980926514, -5.236299991607666, -5.429699897766113, -5.472099781036377, -4.7357001304626465, -5.154300212860107, -6.097300052642822, -6.243299961090088, -5.734099864959717, -6.151400089263916, -6.078199863433838, -5.494800090789795, -5.561699867248535, -5.810299873352051, -5.6194000244140625, -5.936100006103516, -5.944200038909912, -6.031099796295166, -6.061600208282471, -6.767499923706055, -6.767499923706055, -6.986999988555908, -6.9882001876831055, -6.66349983215332, -7.246699810028076, -7.246699810028076, -7.246699810028076, -7.247499942779541, -7.24970006942749, -7.251100063323975, -7.2515997886657715, -7.258299827575684, -6.345099925994873, -7.276599884033203, -7.317500114440918, -6.760300159454346, -6.629700183868408, -6.7677998542785645, -7.621500015258789, -7.621500015258789, -7.621500015258789, -7.621500015258789, -7.621500015258789, -7.621500015258789, -7.621500015258789, -7.621500015258789, -7.621500015258789, -7.621500015258789, -7.621500015258789, -6.974299907684326, -6.758500099182129, -6.764500141143799, -6.588799953460693, -6.60099983215332, -6.199100017547607, -6.097400188446045, -6.45389986038208, -6.037700176239014, -6.608799934387207, -6.108399868011475, -5.7982001304626465, -4.465099811553955, -4.379499912261963, -4.332300186157227, -5.971799850463867, -5.584199905395508, -5.083499908447266, -6.587900161743164, -5.863699913024902, -6.613100051879883, -4.463200092315674, -5.655900001525879, -3.9296000003814697, -5.002999782562256, -5.563399791717529, -5.914700031280518, -6.072500228881836, -6.141300201416016, -5.926400184631348, -6.049799919128418, -5.923799991607666, -5.851600170135498, -5.498600006103516, -5.851399898529053, -6.127799987792969, -5.706900119781494, -5.937399864196777, -5.966100215911865, -6.144599914550781], \"loglift\": [30.0, 29.0, 28.0, 27.0, 26.0, 25.0, 24.0, 23.0, 22.0, 21.0, 20.0, 19.0, 18.0, 17.0, 16.0, 15.0, 14.0, 13.0, 12.0, 11.0, 10.0, 9.0, 8.0, 7.0, 6.0, 5.0, 4.0, 3.0, 2.0, 1.0, 0.9518, 0.9496, 0.9496, 0.9496, 0.9462, 0.9324, 0.9255, 0.9214, 0.9176, 0.9126, 0.907, 0.9016, 0.8985, 0.8919, 0.8914, 0.8884, 0.8839, 0.8746, 0.872, 0.8715, 0.8683, 0.8679, 0.8626, 0.862, 0.8522, 0.8489, 0.8445, 0.8445, 0.8445, 0.8444, 0.8444, 0.8325, 0.8382, 0.801, 0.801, 0.7691, 0.6978, 0.6775, 0.6297, 0.765, 0.7882, 0.6693, 0.5531, 0.6412, 0.4547, 0.3217, 0.6442, 0.5198, 0.4725, 0.582, 0.6585, 0.4414, 0.5612, 0.5547, 0.2687, 0.4659, 0.2929, 0.4748, 0.2514, 0.5188, -0.3153, 0.2305, -0.6143, -0.4432, -0.1639, 0.0704, 0.2561, 0.3117, 1.5755, 1.5583, 1.5525, 1.5473, 1.5094, 1.5032, 1.5032, 1.5032, 1.4795, 1.4589, 1.4468, 1.4375, 1.4233, 1.4216, 1.4213, 1.4204, 1.4192, 1.4139, 1.4135, 1.4019, 1.4011, 1.3873, 1.377, 1.3769, 1.3769, 1.3769, 1.3769, 1.3767, 1.3764, 1.3763, 1.3489, 1.3156, 1.2823, 1.2992, 1.3159, 1.2737, 1.2402, 1.1369, 1.1067, 1.1066, 1.044, 1.2566, 1.0184, 1.1185, 0.4282, 0.6737, 0.9661, 0.3573, 0.7875, -0.1914, 0.6555, 0.4627, 0.5266, 0.677, -0.0462, 0.8066, 0.3187, 0.7109, 0.2897, -0.0316, 0.2753, 0.4962, -0.3976, -1.424, 0.5113, 1.562, 1.5605, 1.5503, 1.5296, 1.5293, 1.5292, 1.529, 1.5268, 1.5241, 1.5222, 1.5094, 1.4825, 1.4825, 1.4825, 1.4825, 1.4822, 1.4813, 1.481, 1.4809, 1.4809, 1.4807, 1.4806, 1.4801, 1.4797, 1.4788, 1.4785, 1.4782, 1.4778, 1.4778, 1.4659, 1.421, 1.4001, 1.345, 1.3831, 1.3778, 1.2015, 1.2156, 1.2376, 1.2373, 1.3748, 1.0117, 1.1184, 1.3219, 1.2172, 1.1328, 1.1588, 1.0888, 1.1423, 1.1927, -0.0206, 0.2928, 0.1178, 0.2908, 0.4397, 1.1405, 1.1927, 1.1924, 1.0266, 0.6229, 0.7371, 0.3436, -0.1652, 0.6192, 0.3611, 0.5252, 0.6142, -0.1066, 0.4154, 0.0383, 0.4361, -0.3377, 0.2418, 0.6413, 0.3238, 0.555, 0.1793, 0.0488, 0.2063, -0.095, -0.3306, 0.4966, 0.0551, 1.8514, 1.8176, 1.8131, 1.7942, 1.7782, 1.7526, 1.7395, 1.7389, 1.7375, 1.7373, 1.7362, 1.734, 1.733, 1.7313, 1.7279, 1.7258, 1.722, 1.7134, 1.7013, 1.6945, 1.6846, 1.6694, 1.6507, 1.6507, 1.6507, 1.6507, 1.6507, 1.6507, 1.6507, 1.6507, 1.6504, 1.6327, 1.6143, 1.6127, 1.6116, 1.585, 1.589, 1.5669, 1.3741, 1.1966, 1.2983, 1.1741, 0.8529, 1.4512, 0.9034, 1.3608, 0.3696, 0.9108, 0.7576, 1.4021, -0.292, 0.4704, 0.1838, 0.5911, 0.646, 0.3483, 0.6877, 0.1935, 0.351, 0.3008, -0.5162, -0.1583, 0.7626, 0.9231, 0.2381, 0.7816, 0.5692, -0.6896, -0.5514, -0.1528, -0.9571, 0.0309, -0.0195, 0.2883, 0.413, 2.0468, 2.0468, 2.0066, 2.0057, 1.9922, 1.9675, 1.9675, 1.9675, 1.9666, 1.9643, 1.9627, 1.9623, 1.9553, 1.9439, 1.9344, 1.8932, 1.8922, 1.8858, 1.881, 1.8746, 1.8746, 1.8746, 1.8746, 1.8746, 1.8746, 1.8745, 1.8745, 1.8745, 1.8745, 1.8745, 1.8349, 1.7479, 1.7439, 1.7061, 1.6876, 1.6089, 1.5828, 1.6267, 1.5148, 1.559, 1.3855, 1.2281, 0.3821, 0.2828, 0.2079, 1.1766, 0.8527, 0.4738, 1.4817, 0.9247, 1.4825, -0.2437, 0.6634, -0.8939, -0.007, 0.5082, 0.846, 0.985, 0.843, 0.4096, 0.5633, 0.2722, 0.1154, -0.6934, -0.0785, 0.5466, -0.6966, -0.1454, -0.1853, 0.1697]}, \"token.table\": {\"Topic\": [4, 5, 1, 2, 5, 2, 2, 5, 1, 2, 3, 1, 2, 4, 5, 3, 3, 2, 3, 4, 5, 4, 2, 2, 3, 4, 1, 2, 3, 5, 1, 5, 1, 2, 3, 4, 3, 1, 2, 4, 5, 5, 3, 4, 5, 1, 2, 3, 4, 5, 2, 3, 5, 1, 2, 3, 4, 5, 4, 1, 4, 5, 1, 1, 2, 3, 5, 5, 1, 2, 4, 5, 2, 4, 3, 2, 4, 2, 4, 5, 4, 1, 2, 3, 4, 5, 5, 1, 2, 2, 5, 2, 2, 1, 2, 3, 4, 5, 2, 3, 1, 2, 3, 4, 5, 1, 2, 3, 4, 5, 1, 2, 3, 4, 5, 5, 2, 3, 5, 3, 3, 1, 4, 1, 2, 3, 4, 5, 2, 1, 2, 3, 4, 5, 1, 2, 3, 4, 5, 1, 2, 4, 5, 3, 1, 3, 4, 5, 3, 5, 5, 4, 1, 2, 3, 4, 5, 1, 2, 3, 2, 3, 1, 2, 3, 4, 5, 1, 3, 4, 5, 1, 1, 2, 3, 5, 5, 1, 2, 4, 1, 2, 4, 4, 5, 1, 2, 3, 4, 5, 1, 2, 3, 4, 1, 2, 4, 3, 1, 2, 3, 4, 1, 1, 2, 5, 1, 4, 1, 3, 4, 1, 5, 2, 4, 1, 2, 3, 4, 1, 1, 2, 3, 4, 5, 1, 2, 3, 4, 5, 1, 2, 3, 4, 5, 1, 2, 4, 5, 4, 5, 4, 1, 3, 1, 2, 3, 4, 5, 1, 2, 5, 1, 3, 5, 3, 3, 1, 2, 3, 4, 5, 4, 1, 4, 4, 4, 2, 3, 4, 5, 1, 3, 4, 5, 1, 1, 2, 3, 1, 2, 3, 4, 5, 1, 2, 3, 4, 5, 1, 1, 2, 4, 1, 2, 3, 1, 5, 2, 2, 5, 1, 3, 3, 1, 2, 3, 4, 5, 3, 4, 5, 4, 5, 1, 2, 2, 5, 1, 2, 3, 4, 5, 3, 3, 4, 1, 4, 1, 1, 2, 3, 1, 2, 3, 4, 5, 1, 2, 3, 4, 5, 3, 4, 5, 3, 5, 1, 2, 3, 4, 5, 1, 2, 3, 4, 5, 1, 2, 5, 2, 3, 4, 5, 1, 1, 2, 3, 4, 5, 1, 3, 4, 5, 1, 2, 3, 4, 1, 3, 1, 3, 5, 1, 2, 3, 4, 5, 4, 5, 1, 2, 3, 4, 5, 1, 2, 3, 4, 1, 2, 3, 4, 5, 1, 3, 5, 1, 2, 3, 4, 5, 1, 4, 2, 3, 4, 5, 2, 2, 4, 3, 2, 5, 1, 4, 2, 3, 5, 1, 2, 3, 4, 5, 1, 5, 1, 2, 3, 4, 5, 4, 4, 1, 2, 3, 4, 5, 1, 2, 3, 4, 1, 2, 3, 4, 5, 1, 2, 3, 4, 5, 3, 1, 2, 2, 3, 4, 5, 1, 3, 1, 2, 3, 4, 1, 2, 3, 4, 3, 2, 5, 1, 2, 2, 3, 2, 1, 2, 3, 4, 5, 5, 1, 2, 3, 1, 2, 3, 4, 5, 1, 2, 3, 5, 3, 1, 2, 2, 4, 5, 4, 4, 1, 2, 3, 4, 5, 1, 2, 3, 4, 5, 1, 2, 3, 4, 5, 1, 2, 3, 1, 3, 4, 5, 2, 4, 1, 4, 1, 2, 3, 4, 5, 2, 5, 1, 2, 3, 4, 5, 2, 4, 5, 1, 2, 3, 1, 4, 5, 1, 3, 4, 5, 1, 4, 1, 2, 3, 4, 5, 4, 1, 3, 1, 2, 3, 5, 3, 5, 5, 2, 3, 4, 5, 1, 3, 4, 5, 4, 5, 3, 5, 5, 4, 1, 5, 1, 2, 3, 4, 5, 1, 2, 3, 4, 5, 3, 1, 2, 3, 4, 1, 2, 3, 4, 5, 1, 3, 5, 1, 2, 3, 4, 5, 1, 2, 3, 4, 2, 3, 5, 2, 1, 2, 3, 4, 5, 3, 5, 1, 2, 4, 1, 2, 3, 4, 5, 1, 4, 3, 1, 2, 3, 4, 5, 1, 2, 3, 4, 5, 2, 1, 2, 3, 4, 5, 1, 2, 3, 4, 5, 2, 3, 4, 5, 1, 3, 4, 1, 2, 3, 1, 2, 3, 4, 5, 3, 4, 5, 1, 2, 3, 4, 1, 2, 3, 4, 5, 3, 1, 2, 3, 4, 1, 2, 3, 4, 5, 1, 2, 3, 4, 5, 1, 2, 3, 4, 5, 1, 4, 5, 4, 5, 5, 1, 2, 3, 4, 5, 1, 2, 3, 4, 5, 1, 2, 3, 4, 5, 5, 3, 4, 3, 5], \"Freq\": [0.21758981671651206, 0.6527694501495362, 0.9219634858814875, 0.07683029049012395, 0.6524566953706091, 0.7313320072681475, 0.16221429261755188, 0.6488571704702075, 0.13627242306158788, 0.13627242306158788, 0.6813621153079394, 0.06759888804580517, 0.811186656549662, 0.06759888804580517, 0.06759888804580517, 0.8273130104041687, 0.930656285221543, 0.1292809482796779, 0.1292809482796779, 0.1292809482796779, 0.6464047413983895, 0.846134292096966, 0.9461572116535109, 0.15861573335222512, 0.15861573335222512, 0.6344629334089005, 0.2240251332555507, 0.05600628331388768, 0.5600628331388767, 0.16801884994166302, 0.7723813390276562, 0.6524130614024, 0.4336838634882971, 0.15488709410296325, 0.12390967528237061, 0.3097741882059265, 0.7443813097189811, 0.17305089065018767, 0.4614690417338338, 0.08652544532509383, 0.2884181510836461, 0.6501405842585131, 0.6972325796164276, 0.13944651592328552, 0.13944651592328552, 0.485253791789865, 0.08822796214361181, 0.044113981071805905, 0.2867408769667384, 0.11028495267951477, 0.1610617909465316, 0.1610617909465316, 0.6442471637861265, 0.2407743874122924, 0.17198170529449458, 0.06879268211779783, 0.4471524337656859, 0.06879268211779783, 0.6361412556854446, 0.943752226654724, 0.020516352753363564, 0.020516352753363564, 0.9644482256582777, 0.9642378202365111, 0.9728604429384831, 0.9304869369932846, 0.8648593847128556, 0.8648660282815618, 0.21106348796825145, 0.1407089919788343, 0.07035449598941715, 0.5628359679153372, 0.9742668155453397, 0.013346120760895063, 0.9305371427339654, 0.14112918267104238, 0.705645913355212, 0.9150833348337784, 0.6417556620706055, 0.21391855402353518, 0.6365575052079839, 0.48471438735554606, 0.08976192358436037, 0.28723815546995324, 0.017952384716872077, 0.12566669301810454, 0.8648609413076477, 0.9281364442114257, 0.813744799621341, 0.812995525992839, 0.652228863947494, 0.7314135249085889, 0.9150378282257294, 0.6147153016720259, 0.07578681801435937, 0.06736606045720832, 0.06736606045720832, 0.17683590870017185, 0.17670889060097406, 0.7068355624038962, 0.22014808538337216, 0.33022212807505824, 0.16511106403752912, 0.11007404269168608, 0.16511106403752912, 0.686659840099434, 0.055567848331746106, 0.13098135678197298, 0.0714443764265307, 0.055567848331746106, 0.5767900830714646, 0.04861832117843763, 0.20331297947346647, 0.08397710021730136, 0.08618702390723035, 0.874771619133686, 0.7314566675891689, 0.6353689600939058, 0.36306797719651757, 0.8272823905530194, 0.7441643043791196, 0.8707919552033921, 0.1451319925338987, 0.6638918687076443, 0.17132693386003722, 0.06424760019751397, 0.06424760019751397, 0.042831733465009306, 0.7311658423266172, 0.39487937022173397, 0.04156624949702463, 0.08313249899404926, 0.35331312072470933, 0.12469874849107389, 0.7941831645838754, 0.019854579114596885, 0.019854579114596885, 0.11912747468758131, 0.03970915822919377, 0.6400199241222343, 0.06620895766781734, 0.17655722044751293, 0.11034826277969557, 0.9307000258208523, 0.2154451105571, 0.5116821375731125, 0.161583832917825, 0.1346531940981875, 0.5920773868059563, 0.33832993531768935, 0.6520974852229701, 0.6360717654746727, 0.7349231997700358, 0.02882051763804062, 0.004803419606340104, 0.12008549015850259, 0.11047865094582238, 0.07663991834154556, 0.30655967336618223, 0.5364794283908189, 0.9150447821338348, 0.9305711310796091, 0.555133328776634, 0.07930476125380485, 0.2907841245972845, 0.02643492041793495, 0.0528698408358699, 0.9257557161084465, 0.017467088983178235, 0.03493417796635647, 0.017467088983178235, 0.9410524135944984, 0.45987006347052395, 0.09681475020432084, 0.24203687551080208, 0.19362950040864169, 0.6522640654157469, 0.013353388799365295, 0.9614439935543013, 0.02670677759873059, 0.24160283681302772, 0.6040070920325693, 0.12080141840651386, 0.7335970386494574, 0.18339925966236434, 0.4584010813825542, 0.08488908914491744, 0.2716450852637358, 0.06791127131593395, 0.11884472480288442, 0.8248874395522866, 0.08335188384144904, 0.5834631868901433, 0.2500556515243471, 0.1448102617145078, 0.7723213958107084, 0.04827008723816927, 0.7444681909533782, 0.23593654308969197, 0.058984135772422994, 0.176952407317269, 0.530857221951807, 0.9280926466526248, 0.8551842292014891, 0.061084587800106366, 0.061084587800106366, 0.8962103418760904, 0.8461371651791191, 0.17495122925475803, 0.6998049170190321, 0.7647908911097785, 0.495428625791026, 0.495428625791026, 0.7309040761399865, 0.6365729502846442, 0.8264837021376423, 0.13774728368960704, 0.02754945673792141, 0.02754945673792141, 0.8312205352701264, 0.4807997325082134, 0.09305801274352518, 0.18611602548705036, 0.22489019746351918, 0.015509668790587528, 0.46544415107465054, 0.2086473780679468, 0.06419919325167593, 0.2567967730067037, 0.032099596625837966, 0.2507197775333837, 0.3969729810945242, 0.06267994438334593, 0.18803983315003778, 0.10446657397224321, 0.4755004599369295, 0.19317206184937763, 0.29718778746058094, 0.029718778746058095, 0.6412448374722342, 0.21374827915741137, 0.8511988890630544, 0.7718831760401006, 0.9303321202678272, 0.2884633247504988, 0.09014478898453086, 0.3425501981412173, 0.18028957796906173, 0.10817374678143704, 0.3859909261366381, 0.41172365454574733, 0.18012909886376446, 0.22465270932794143, 0.5054685959878682, 0.22465270932794143, 0.9305685943479444, 0.9305996024833144, 0.2739698227559478, 0.33719362800732033, 0.08429840700183008, 0.21074601750457522, 0.08429840700183008, 0.8519853678231143, 0.10508988941578398, 0.7356292259104878, 0.6364809340236357, 0.8461358939331866, 0.6849620191602018, 0.13699240383204037, 0.06849620191602018, 0.13699240383204037, 0.24862951922655652, 0.17759251373325466, 0.46174053570646206, 0.10655550823995279, 0.8648274543210158, 0.20050198498436692, 0.8020079399374677, 0.9305526933248783, 0.20581958517832621, 0.06860652839277541, 0.5488522271422033, 0.06860652839277541, 0.13721305678555082, 0.2136188144142611, 0.05340470360356527, 0.5340470360356527, 0.10680940720713054, 0.05340470360356527, 0.9207924170093182, 0.2259958320522215, 0.2259958320522215, 0.5649895801305538, 0.08222191778726021, 0.16444383557452041, 0.7399972600853418, 0.8973763543190824, 0.8648622062344508, 0.9150428399760605, 0.9150522316947658, 0.8747704299789156, 0.17492551504428083, 0.6997020601771233, 0.9298298621983077, 0.46851848897443604, 0.10648147476691729, 0.010648147476691728, 0.33009257177744356, 0.09583332729022555, 0.5967373653472419, 0.07459217066840523, 0.29836868267362093, 0.8141972289963051, 0.11631388985661502, 0.8950504877315575, 0.06393217769511125, 0.7317682632676082, 0.6524607265462962, 0.24201121071179899, 0.3257843221120371, 0.2606274576896297, 0.12100560535589949, 0.06515686442240742, 0.9303448998668549, 0.9305888946542523, 0.8461336111368205, 0.9280819221671374, 0.8507989812573212, 0.9280949680161488, 0.06746926944972022, 0.7421619639469224, 0.20240780834916064, 0.38958067864803314, 0.273759395806726, 0.04211683012411169, 0.20005494308953053, 0.0947628677792513, 0.46123656251574857, 0.019218190104822855, 0.19218190104822858, 0.26905466146752, 0.05765457031446857, 0.563982628976899, 0.14099565724422475, 0.2819913144884495, 0.5920797434211655, 0.3383312819549517, 0.34836731062966264, 0.16078491259830582, 0.3751647960627136, 0.08039245629915291, 0.02679748543305097, 0.27690736489785317, 0.6153496997730071, 0.030767484988650354, 0.030767484988650354, 0.030767484988650354, 0.22913735440465377, 0.22913735440465377, 0.5728433860116344, 0.5662094310305709, 0.15098918160815225, 0.07549459080407613, 0.1887364770101903, 0.9642246725292772, 0.2515787612231274, 0.139765978457293, 0.33543834829750324, 0.139765978457293, 0.11181278276583441, 0.37203073625064415, 0.08267349694458759, 0.16534699388917518, 0.37203073625064415, 0.5840775790061961, 0.11357064036231591, 0.1946925263353987, 0.09734626316769936, 0.9843950188246081, 0.9305759065054473, 0.3150159489977004, 0.10500531633256681, 0.525026581662834, 0.49041312935080783, 0.1250072682658922, 0.13462321197865312, 0.19231887425521876, 0.057695662276565626, 0.8510063769293167, 0.8648642054239507, 0.5743948112844447, 0.26961389101106586, 0.023444686174875294, 0.10550108778693883, 0.023444686174875294, 0.826488212907287, 0.13774803548454784, 0.027549607096909567, 0.027549607096909567, 0.7100022309955852, 0.06826944528803704, 0.09557722340325187, 0.08192333434564446, 0.027307778115214818, 0.984104870894117, 0.7449617694146348, 0.864860580695117, 0.712496787701807, 0.06195624240885279, 0.06195624240885279, 0.12391248481770557, 0.030978121204426393, 0.20860083816621758, 0.6258025144986528, 0.9132176721668597, 0.13009453507685395, 0.2601890701537079, 0.6504726753842697, 0.9461568079816745, 0.8691018471103504, 0.6364523983676394, 0.9304232296782616, 0.18662130255940218, 0.7464852102376087, 0.20818148613218757, 0.6245444583965627, 0.10659412750412234, 0.319782382512367, 0.5329706375206117, 0.33917859745610707, 0.21804338407892598, 0.31495155478067083, 0.07268112802630866, 0.07268112802630866, 0.9841082191941656, 0.6503675684885905, 0.23597092564533106, 0.19457251763737826, 0.24425060724692163, 0.16559363203181127, 0.161453791231016, 0.7590798898334719, 0.8461343544395297, 0.6383607756672367, 0.06334877926468761, 0.16080843967189934, 0.07796772832576937, 0.05360281322396644, 0.2495110159871566, 0.6237775399678915, 0.041585169331192766, 0.1247555079935783, 0.6466174915657309, 0.06466174915657309, 0.15087741469867055, 0.06466174915657309, 0.08621566554209746, 0.44821227071480896, 0.044821227071480896, 0.3361592030361067, 0.022410613535740448, 0.15687429475018314, 0.930569707936708, 0.7863233462475065, 0.1655417571047382, 0.745790763365685, 0.149158152673137, 0.0894948916038822, 0.8648670247423934, 0.8395083287817856, 0.1049385410977232, 0.6129340477955073, 0.14144631872204014, 0.18859509162938687, 0.04714877290734672, 0.095392027835758, 0.095392027835758, 0.5723521670145479, 0.23848006958939497, 0.9306783033087513, 0.18534397658401716, 0.7413759063360686, 0.8874856129658314, 0.08874856129658314, 0.9461581304600183, 0.9309134328588234, 0.7313845977340517, 0.7007806988059675, 0.11900049602365485, 0.0793336640157699, 0.0264445546719233, 0.0793336640157699, 0.7851963743294791, 0.825021462284977, 0.08250214622849769, 0.7445110906966335, 0.22648221553994716, 0.1509881436932981, 0.22648221553994716, 0.11324110776997358, 0.3019762873865962, 0.24079225923520317, 0.515983412646864, 0.17199447088228798, 0.0343988941764576, 0.7446030401232863, 0.019256133944158118, 0.9628066972079059, 0.15854836154979496, 0.7927418077489747, 0.8648640274523824, 0.6364439261208599, 0.635740759643185, 0.09456672471732322, 0.4539202786431515, 0.3026135190954343, 0.056740034830393936, 0.09456672471732322, 0.5084479585056366, 0.11481082933998246, 0.22962165867996492, 0.09840928229141353, 0.049204641145706766, 0.2918178920579217, 0.17022710370045432, 0.34045420740090865, 0.17022710370045432, 0.024318157671493475, 0.10090994777230956, 0.7568246082923218, 0.15136492165846435, 0.11445432861440516, 0.11445432861440516, 0.5722716430720258, 0.11445432861440516, 0.9150587397087429, 0.6362392054812083, 0.17942589872856834, 0.7177035949142734, 0.38590889906389814, 0.07016525437525421, 0.1754131359381355, 0.10524788156288131, 0.24557839031338974, 0.8580794461829415, 0.1225827780261345, 0.7193215723551477, 0.13445263034675659, 0.07394894669071612, 0.033613157586689146, 0.033613157586689146, 0.9606508068592363, 0.03202169356197455, 0.016010846780987274, 0.11073692031118722, 0.6644215218671233, 0.11073692031118722, 0.5954308585803645, 0.18043359350920135, 0.21652031221104162, 0.15990063029794205, 0.15990063029794205, 0.15990063029794205, 0.5596522060427971, 0.8248884264399742, 0.8461362730354365, 0.33665732189544256, 0.08416433047386064, 0.1963834377723415, 0.14027388412310107, 0.25249299142158194, 0.6359380098735389, 0.3350327711531015, 0.6030589880755827, 0.8151366558975739, 0.058224046849826704, 0.058224046849826704, 0.058224046849826704, 0.635370917617745, 0.36306909578156854, 0.8648623300880718, 0.1829290588217393, 0.14634324705739143, 0.29268649411478287, 0.3658581176434786, 0.14740499794156886, 0.2211074969123533, 0.515917492795491, 0.07370249897078443, 0.6364814207602939, 0.784983860951561, 0.7151749011947844, 0.1787937252986961, 0.864860702619139, 0.846135964387793, 0.12933138840756628, 0.7759883304453977, 0.32391478741518187, 0.18308227114771147, 0.21124877440120557, 0.09858276138722925, 0.18308227114771147, 0.25062776113555557, 0.626569402838889, 0.07518832834066667, 0.02506277611355556, 0.02506277611355556, 0.8278598240839556, 0.28259809569831534, 0.5651961913966307, 0.10597428588686826, 0.07064952392457884, 0.4620561205519433, 0.1580718307151385, 0.1702312023086107, 0.13375308752819412, 0.08511560115430535, 0.4154071816847528, 0.1038517954211882, 0.519258977105941, 0.20294233836226405, 0.2663618191004716, 0.2663618191004716, 0.13952285762405653, 0.12683896147641502, 0.39209289174844064, 0.19604644587422032, 0.053467212511151, 0.33862567923728965, 0.915056650077953, 0.930678046256377, 0.6524600818110581, 0.9150384305760367, 0.5260335098384301, 0.1252460737710548, 0.02504921475421096, 0.2504921475421096, 0.07514764426263289, 0.6353741123061926, 0.3630709213178243, 0.8680241270240664, 0.11684940171477816, 0.016692771673539736, 0.6924706322413138, 0.09694588851378393, 0.08309647586895766, 0.06924706322413138, 0.055397650579305104, 0.9841086846793233, 0.8461324437715878, 0.7445439705168854, 0.19794614904158572, 0.31062318772679604, 0.15531159386339802, 0.20099147441145626, 0.13399431627430416, 0.26839652439294776, 0.28904241088471294, 0.24430965681922165, 0.05505569731137389, 0.14452120544235647, 0.8125486722038545, 0.5059674243213611, 0.16775390538996998, 0.17790031095791173, 0.10349333679300568, 0.044644184498943626, 0.31134132531154896, 0.2001479948431386, 0.28168977051997285, 0.1704964400515625, 0.04447733218736413, 0.058400081176278845, 0.29200040588139425, 0.17520024352883654, 0.46720064941023076, 0.9048075617032796, 0.04112761644105816, 0.04112761644105816, 0.865784805943972, 0.057718987062931465, 0.057718987062931465, 0.08418292059910437, 0.16836584119820874, 0.16836584119820874, 0.3367316823964175, 0.21045730149776093, 0.11595514620565406, 0.6957308772339243, 0.11595514620565406, 0.1782021079156403, 0.08910105395782016, 0.1782021079156403, 0.534606323746921, 0.39869887619559685, 0.15947955047823875, 0.25516728076518197, 0.04784386514347162, 0.14353159543041488, 0.9305622364115991, 0.1322311559715792, 0.7272713578436856, 0.022038525995263198, 0.11019262997631599, 0.4261470629031403, 0.20292717281101919, 0.10146358640550959, 0.020292717281101918, 0.26380532465432494, 0.16575639674014198, 0.39526525376495397, 0.22950885702481197, 0.178506888797076, 0.038251476170802, 0.19489711222913594, 0.3897942244582719, 0.11693826733748157, 0.15591768978330875, 0.11693826733748157, 0.16075570285955598, 0.16075570285955598, 0.6430228114382239, 0.6420198532113641, 0.2140066177371214, 0.8648678414312723, 0.5886857710327088, 0.15224632009466607, 0.11164730140275511, 0.0811980373838219, 0.060898528037866426, 0.3172298063337595, 0.34072831050663055, 0.1879880333829686, 0.08224476460504876, 0.07049551251861322, 0.2666141225272289, 0.16663382657951806, 0.13330706126361444, 0.2999408878431325, 0.13330706126361444, 0.6523084799644893, 0.8715785966829473, 0.1245112280975639, 0.18602929333215007, 0.7441171733286003], \"Term\": [\"200k\", \"200k\", \"2021\", \"2021\", \"academics\", \"address\", \"adults\", \"adults\", \"adverse\", \"adverse\", \"adverse\", \"advice\", \"advice\", \"advice\", \"advice\", \"agency\", \"agreements\", \"aim\", \"aim\", \"aim\", \"aim\", \"alt\", \"ameri_donate\", \"anaphylaxis\", \"anaphylaxis\", \"anaphylaxis\", \"answer\", \"answer\", \"answer\", \"answer\", \"antibiotic\", \"approvals\", \"approve\", \"approve\", \"approve\", \"approve\", \"arrival\", \"ask\", \"ask\", \"ask\", \"ask\", \"aspects\", \"assume\", \"assume\", \"assume\", \"astrazeneca\", \"astrazeneca\", \"astrazeneca\", \"astrazeneca\", \"astrazeneca\", \"bank\", \"bank\", \"bank\", \"better\", \"better\", \"better\", \"better\", \"better\", \"bharat\", \"biden\", \"biden\", \"biden\", \"bidens\", \"biggest\", \"bivalent\", \"bourla\", \"brainstem\", \"brazilian\", \"buy\", \"buy\", \"buy\", \"buy\", \"care_home\", \"care_home\", \"chinas\", \"church\", \"church\", \"clarity\", \"closer\", \"closer\", \"combine\", \"come\", \"come\", \"come\", \"come\", \"come\", \"compensate\", \"compulsory\", \"concentrate\", \"consume\", \"consumer\", \"continually\", \"coordination\", \"coronavirus\", \"coronavirus\", \"coronavirus\", \"coronavirus\", \"coronavirus\", \"corporate_media\", \"corporate_media\", \"countries\", \"countries\", \"countries\", \"countries\", \"countries\", \"covid\", \"covid\", \"covid\", \"covid\", \"covid\", \"covid19\", \"covid19\", \"covid19\", \"covid19\", \"covid19\", \"covidagenparl\", \"covidrelated\", \"crisis_skytg24\", \"crisis_skytg24\", \"croatia\", \"curb\", \"dad\", \"dad\", \"data\", \"data\", \"data\", \"data\", \"data\", \"davidson\", \"day\", \"day\", \"day\", \"day\", \"day\", \"days\", \"days\", \"days\", \"days\", \"days\", \"delay\", \"delay\", \"delay\", \"delay\", \"determine\", \"die\", \"die\", \"die\", \"die\", \"direttalive_journalism\", \"direttalive_journalism\", \"dirty\", \"discovery\", \"dose\", \"dose\", \"dose\", \"dose\", \"dose\", \"doubt\", \"doubt\", \"doubt\", \"dread\", \"easyjet\", \"effect\", \"effect\", \"effect\", \"effect\", \"effect\", \"effective\", \"effective\", \"effective\", \"effective\", \"election\", \"end\", \"end\", \"end\", \"end\", \"enforce\", \"england\", \"england\", \"england\", \"english\", \"english\", \"english\", \"epidemic\", \"epidemic\", \"eu\", \"eu\", \"eu\", \"eu\", \"eu\", \"exchange\", \"exist\", \"exist\", \"exist\", \"experts\", \"experts\", \"experts\", \"false\", \"far\", \"far\", \"far\", \"far\", \"fastest\", \"fauci\", \"fauci\", \"fauci\", \"finally\", \"firma\", \"flight\", \"flight\", \"fortunately\", \"france\", \"france\", \"general\", \"generate\", \"gennaio\", \"gennaio\", \"gennaio\", \"gennaio\", \"german\", \"get\", \"get\", \"get\", \"get\", \"get\", \"give\", \"give\", \"give\", \"give\", \"give\", \"go\", \"go\", \"go\", \"go\", \"go\", \"good\", \"good\", \"good\", \"good\", \"gp\", \"gp\", \"grant\", \"growth\", \"hay\", \"health\", \"health\", \"health\", \"health\", \"health\", \"help\", \"help\", \"help\", \"high\", \"high\", \"high\", \"hill\", \"hong\", \"hope\", \"hope\", \"hope\", \"hope\", \"hope\", \"hours\", \"idea\", \"idea\", \"ideas\", \"iffy\", \"ignore\", \"ignore\", \"ignore\", \"ignore\", \"immunity\", \"immunity\", \"immunity\", \"immunity\", \"inauguration\", \"independent\", \"independent\", \"inevitable\", \"infect\", \"infect\", \"infect\", \"infect\", \"infect\", \"infection\", \"infection\", \"infection\", \"infection\", \"infection\", \"influence\", \"info\", \"info\", \"info\", \"information\", \"information\", \"information\", \"inherit\", \"injuries\", \"innovation\", \"insist\", \"iorestoacasa\", \"israeli\", \"israeli\", \"israels\", \"italy\", \"italy\", \"italy\", \"italy\", \"italy\", \"italy_time4stream\", \"italy_time4stream\", \"italy_time4stream\", \"jj\", \"jj\", \"joe\", \"joe\", \"john\", \"kitten\", \"know\", \"know\", \"know\", \"know\", \"know\", \"ko\", \"kong\", \"la7\", \"lard\", \"law\", \"legal\", \"lie\", \"lie\", \"lie\", \"like\", \"like\", \"like\", \"like\", \"like\", \"live\", \"live\", \"live\", \"live\", \"live\", \"live_broadcast\", \"live_broadcast\", \"live_broadcast\", \"livenews_direttatv\", \"livenews_direttatv\", \"long\", \"long\", \"long\", \"long\", \"long\", \"look\", \"look\", \"look\", \"look\", \"look\", \"man\", \"man\", \"man\", \"mass\", \"mass\", \"mass\", \"mass\", \"matt\", \"mean\", \"mean\", \"mean\", \"mean\", \"mean\", \"million\", \"million\", \"million\", \"million\", \"moderna\", \"moderna\", \"moderna\", \"moderna\", \"modernas\", \"modernavaccine\", \"month\", \"month\", \"month\", \"need\", \"need\", \"need\", \"need\", \"need\", \"nero\", \"neuter\", \"new\", \"new\", \"new\", \"new\", \"new\", \"new_post\", \"new_post\", \"new_post\", \"new_post\", \"news\", \"news\", \"news\", \"news\", \"news\", \"newsbygatfil\", \"normality\", \"northern\", \"number\", \"number\", \"number\", \"number\", \"number\", \"obviously\", \"obviously\", \"oh_dear\", \"older\", \"older\", \"older\", \"oliver_receive\", \"option\", \"options\", \"originate\", \"pa\", \"pa\", \"pain\", \"pain\", \"palestinians\", \"palestinians\", \"palestinians\", \"pandemic\", \"pandemic\", \"pandemic\", \"pandemic\", \"pandemic\", \"parole_chiave\", \"passengers\", \"people\", \"people\", \"people\", \"people\", \"people\", \"period\", \"petizione\", \"pfizer\", \"pfizer\", \"pfizer\", \"pfizer\", \"pfizer\", \"phase\", \"phase\", \"phase\", \"phase\", \"plan\", \"plan\", \"plan\", \"plan\", \"plan\", \"population\", \"population\", \"population\", \"population\", \"population\", \"ppe\", \"president\", \"president\", \"priority\", \"priority\", \"priority\", \"privates\", \"promise\", \"promise\", \"protect\", \"protect\", \"protect\", \"protect\", \"push\", \"push\", \"push\", \"push\", \"queue\", \"r4today\", \"r4today\", \"raise\", \"raise\", \"raise_pay\", \"rare\", \"rd\", \"receive\", \"receive\", \"receive\", \"receive\", \"receive\", \"recipient\", \"recommend\", \"recommend\", \"reduction\", \"report\", \"report\", \"report\", \"report\", \"report\", \"research\", \"research\", \"research\", \"research\", \"reservations\", \"residents\", \"residents\", \"resistant\", \"resistant\", \"responsibility\", \"reveal\", \"richest\", \"right\", \"right\", \"right\", \"right\", \"right\", \"risk\", \"risk\", \"risk\", \"risk\", \"risk\", \"rollout\", \"rollout\", \"rollout\", \"rollout\", \"rollout\", \"russian\", \"russian\", \"russian\", \"russias\", \"russias\", \"russias\", \"russias\", \"ruth\", \"sage\", \"sanofi\", \"sanofi\", \"sarscov2\", \"sarscov2\", \"sarscov2\", \"sarscov2\", \"sarscov2\", \"saw\", \"saw\", \"say\", \"say\", \"say\", \"say\", \"say\", \"scotland\", \"scotland\", \"scotland\", \"scottish\", \"scottish\", \"scottish\", \"second\", \"second\", \"second\", \"sell\", \"sell\", \"sell\", \"sell\", \"serum_institute\", \"shark\", \"shoot\", \"shoot\", \"shoot\", \"shoot\", \"shoot\", \"side\", \"simple\", \"simple\", \"single\", \"single\", \"single\", \"single\", \"skytg24_milan\", \"skytg24_milan\", \"socially\", \"soon\", \"soon\", \"soon\", \"soon\", \"speed\", \"speed\", \"speed\", \"speed\", \"spirit\", \"stanley\", \"struggle\", \"struggle\", \"supervise\", \"sustainable\", \"tech\", \"tech\", \"test\", \"test\", \"test\", \"test\", \"test\", \"thank\", \"thank\", \"thank\", \"thank\", \"thank\", \"theories\", \"thing\", \"thing\", \"thing\", \"thing\", \"think\", \"think\", \"think\", \"think\", \"think\", \"thousands\", \"thousands\", \"thousands\", \"time\", \"time\", \"time\", \"time\", \"time\", \"today\", \"today\", \"today\", \"today\", \"tragedy\", \"trap\", \"trasporti\", \"tray\", \"trial\", \"trial\", \"trial\", \"trial\", \"trial\", \"troupetv_liveu\", \"troupetv_liveu\", \"trump\", \"trump\", \"trump\", \"uk\", \"uk\", \"uk\", \"uk\", \"uk\", \"ultime_news\", \"usd\", \"vaccin\", \"vaccinate\", \"vaccinate\", \"vaccinate\", \"vaccinate\", \"vaccinate\", \"vaccination\", \"vaccination\", \"vaccination\", \"vaccination\", \"vaccination\", \"vaccinators\", \"vaccine\", \"vaccine\", \"vaccine\", \"vaccine\", \"vaccine\", \"vaccines\", \"vaccines\", \"vaccines\", \"vaccines\", \"vaccines\", \"vaccino\", \"vaccino\", \"vaccino\", \"vaccino\", \"variants\", \"variants\", \"variants\", \"vatican\", \"vatican\", \"vatican\", \"vax\", \"vax\", \"vax\", \"vax\", \"vax\", \"vaxd\", \"vaxd\", \"vaxd\", \"vials\", \"vials\", \"vials\", \"vials\", \"virus\", \"virus\", \"virus\", \"virus\", \"virus\", \"viruses\", \"vulnerable\", \"vulnerable\", \"vulnerable\", \"vulnerable\", \"wait\", \"wait\", \"wait\", \"wait\", \"wait\", \"want\", \"want\", \"want\", \"want\", \"want\", \"way\", \"way\", \"way\", \"way\", \"way\", \"west\", \"west\", \"west\", \"winter\", \"winter\", \"woah\", \"work\", \"work\", \"work\", \"work\", \"work\", \"world\", \"world\", \"world\", \"world\", \"world\", \"years\", \"years\", \"years\", \"years\", \"years\", \"younger\", \"zonaarancione_vaccino\", \"zonaarancione_vaccino\", \"zonarossa\", \"zonarossa\"]}, \"R\": 30, \"lambda.step\": 0.01, \"plot.opts\": {\"xlab\": \"PC1\", \"ylab\": \"PC2\"}, \"topic.order\": [3, 4, 1, 2, 5]};\n",
              "\n",
              "function LDAvis_load_lib(url, callback){\n",
              "  var s = document.createElement('script');\n",
              "  s.src = url;\n",
              "  s.async = true;\n",
              "  s.onreadystatechange = s.onload = callback;\n",
              "  s.onerror = function(){console.warn(\"failed to load library \" + url);};\n",
              "  document.getElementsByTagName(\"head\")[0].appendChild(s);\n",
              "}\n",
              "\n",
              "if(typeof(LDAvis) !== \"undefined\"){\n",
              "   // already loaded: just create the visualization\n",
              "   !function(LDAvis){\n",
              "       new LDAvis(\"#\" + \"ldavis_el631400078314171444115890008\", ldavis_el631400078314171444115890008_data);\n",
              "   }(LDAvis);\n",
              "}else if(typeof define === \"function\" && define.amd){\n",
              "   // require.js is available: use it to load d3/LDAvis\n",
              "   require.config({paths: {d3: \"https://cdnjs.cloudflare.com/ajax/libs/d3/3.5.5/d3.min\"}});\n",
              "   require([\"d3\"], function(d3){\n",
              "      window.d3 = d3;\n",
              "      LDAvis_load_lib(\"https://cdn.rawgit.com/bmabey/pyLDAvis/files/ldavis.v1.0.0.js\", function(){\n",
              "        new LDAvis(\"#\" + \"ldavis_el631400078314171444115890008\", ldavis_el631400078314171444115890008_data);\n",
              "      });\n",
              "    });\n",
              "}else{\n",
              "    // require.js not available: dynamically load d3 & LDAvis\n",
              "    LDAvis_load_lib(\"https://cdnjs.cloudflare.com/ajax/libs/d3/3.5.5/d3.min.js\", function(){\n",
              "         LDAvis_load_lib(\"https://cdn.rawgit.com/bmabey/pyLDAvis/files/ldavis.v1.0.0.js\", function(){\n",
              "                 new LDAvis(\"#\" + \"ldavis_el631400078314171444115890008\", ldavis_el631400078314171444115890008_data);\n",
              "            })\n",
              "         });\n",
              "}\n",
              "</script>"
            ],
            "text/plain": [
              "PreparedData(topic_coordinates=              x         y  topics  cluster       Freq\n",
              "topic                                                \n",
              "2      0.020577  0.102075       1        1  36.671623\n",
              "3     -0.128105 -0.029813       2        1  20.288385\n",
              "0      0.043462 -0.020863       3        1  18.155166\n",
              "1      0.000696  0.028013       4        1  13.900480\n",
              "4      0.063369 -0.079413       5        1  10.984347, topic_info=           Term        Freq       Total Category  logprob  loglift\n",
              "371   care_home   74.000000   74.000000  Default  30.0000  30.0000\n",
              "1082    england   74.000000   74.000000  Default  29.0000  29.0000\n",
              "377    scotland   62.000000   62.000000  Default  28.0000  28.0000\n",
              "53    vaccinate  328.000000  328.000000  Default  27.0000  27.0000\n",
              "24         dose  208.000000  208.000000  Default  26.0000  26.0000\n",
              "...         ...         ...         ...      ...      ...      ...\n",
              "835        help    7.373406   38.861017   Topic5  -6.1278   0.5466\n",
              "189      pfizer   11.232306  205.213110   Topic5  -5.7069  -0.6966\n",
              "16        italy    8.919768   93.913049   Topic5  -5.9374  -0.1454\n",
              "45         like    8.667687   94.973909   Topic5  -5.9661  -0.1853\n",
              "38         come    7.250407   55.702906   Topic5  -6.1446   0.1697\n",
              "\n",
              "[390 rows x 6 columns], token_table=      Topic      Freq                   Term\n",
              "term                                        \n",
              "2541      4  0.217590                   200k\n",
              "2541      5  0.652769                   200k\n",
              "521       1  0.921963                   2021\n",
              "521       2  0.076830                   2021\n",
              "3031      5  0.652457              academics\n",
              "...     ...       ...                    ...\n",
              "2816      5  0.652308                younger\n",
              "4015      3  0.871579  zonaarancione_vaccino\n",
              "4015      4  0.124511  zonaarancione_vaccino\n",
              "956       3  0.186029              zonarossa\n",
              "956       5  0.744117              zonarossa\n",
              "\n",
              "[745 rows x 3 columns], R=30, lambda_step=0.01, plot_opts={'xlab': 'PC1', 'ylab': 'PC2'}, topic_order=[3, 4, 1, 2, 5])"
            ]
          },
          "metadata": {
            "tags": []
          }
        }
      ]
    },
    {
      "cell_type": "code",
      "metadata": {
        "id": "RekfOoNwHorL"
      },
      "source": [],
      "execution_count": null,
      "outputs": []
    }
  ]
}